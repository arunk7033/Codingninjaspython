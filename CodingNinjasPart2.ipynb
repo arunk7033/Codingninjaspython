{
 "cells": [
  {
   "cell_type": "code",
   "execution_count": 4,
   "id": "b1579872",
   "metadata": {},
   "outputs": [
    {
     "name": "stdout",
     "output_type": "stream",
     "text": [
      "2\n"
     ]
    }
   ],
   "source": [
    "def row_with_max_ones(mat,n,m):\n",
    "    max_count=0\n",
    "    row=0\n",
    "    for i in range(n):\n",
    "        count=0\n",
    "        for j in range(m):\n",
    "            if mat[i][j]==1:\n",
    "                count+=1\n",
    "        # we are done with the row\n",
    "        # update result if needed\n",
    "        if count>max_count:\n",
    "            max_count=count\n",
    "            row=i\n",
    "    return row\n",
    "if __name__==\"__main__\":\n",
    "    print(row_with_max_ones([[1,0,0,0],[0,1,0,1],[1,0,1,1],[0,0,0,1]],4,4))"
   ]
  },
  {
   "cell_type": "code",
   "execution_count": 5,
   "id": "f5620a0e",
   "metadata": {},
   "outputs": [
    {
     "name": "stdout",
     "output_type": "stream",
     "text": [
      "1 0 \n",
      "2 3 \n",
      "2 3 \n",
      "6 2 \n",
      "5 1 \n",
      "3 3 \n"
     ]
    }
   ],
   "source": [
    "def reshape(mat,r,c):\n",
    "    n=len(mat)\n",
    "    m=len(mat[0])\n",
    "    row=0\n",
    "    col=0\n",
    "    if (n*m)!=(r*c):\n",
    "        return mat\n",
    "    else:\n",
    "        ans=[[0 for _ in range(c)] for _ in range(r)]\n",
    "        for i in range(n):\n",
    "            for j in range(m):\n",
    "                ans[row][col]=mat[i][j]\n",
    "                col+=1\n",
    "                if col==c:\n",
    "                    row+=1\n",
    "                    col=0\n",
    "    return ans \n",
    "if __name__==\"__main__\":\n",
    "    mat=[[1,0,2,3],[2,3,6,2],[5,1,3,3]]\n",
    "    reshaped=reshape(mat,6,2)\n",
    "    for i in range(len(reshaped)):\n",
    "        for j in range(len(reshaped[0])):\n",
    "            print(reshaped[i][j],end=\" \")\n",
    "        print(\"\")\n",
    "            "
   ]
  },
  {
   "cell_type": "code",
   "execution_count": 16,
   "id": "6b9059d8",
   "metadata": {},
   "outputs": [
    {
     "name": "stdout",
     "output_type": "stream",
     "text": [
      "1 2\n",
      "[[7, 19, 0], [0, 0, 0]]\n"
     ]
    }
   ],
   "source": [
    "matrix=[[7,19,3],[4,21,0]]\n",
    "for i in range(len(matrix)):\n",
    "    for j in range(len(matrix[0])):\n",
    "        if matrix[i][j]!=0:\n",
    "            matrix[i][j]=matrix[i][j]\n",
    "        else:\n",
    "            k,l=i,j\n",
    "            for m in range(len(matrix)):\n",
    "                for n in range(len(matrix[0])):\n",
    "                    if (m==k or n==l) and matrix[m][n]!=0:\n",
    "                        matrix[m][n]=-1\n",
    "for i in range(len(matrix)):\n",
    "    for j in range(len(matrix[0])):\n",
    "        if matrix[i][j]==-1:\n",
    "            matrix[i][j]=0\n",
    "print(matrix)"
   ]
  },
  {
   "cell_type": "code",
   "execution_count": 19,
   "id": "4efda08a",
   "metadata": {},
   "outputs": [
    {
     "name": "stdout",
     "output_type": "stream",
     "text": [
      "[[0, 0, 1], [0, 0, 0], [0, 0, 0]]\n"
     ]
    }
   ],
   "source": [
    "matrix=[[1,2,1],[2,0,3],[0,2,1]]\n",
    "for i in range(len(matrix)):\n",
    "    for j in range(len(matrix[0])):\n",
    "        if matrix[i][j]==0:\n",
    "            k,l=i,j\n",
    "            for m in range(len(matrix)):\n",
    "                for n in range(len(matrix[0])):\n",
    "                    if (m==k or n==l) and matrix[m][n]!=0:\n",
    "                        matrix[m][n]=-1\n",
    "for i in range(len(matrix)):\n",
    "    for j in range(len(matrix[0])):\n",
    "        if matrix[i][j]==-1:\n",
    "            matrix[i][j]=0\n",
    "print(matrix)"
   ]
  },
  {
   "cell_type": "code",
   "execution_count": 1,
   "id": "c4c61709",
   "metadata": {},
   "outputs": [
    {
     "data": {
      "text/plain": [
       "[5, 7, 8, 5, 4, 3, 6, 7, 8]"
      ]
     },
     "execution_count": 1,
     "metadata": {},
     "output_type": "execute_result"
    }
   ],
   "source": [
    "def print_sine_wave(matrix,n,m):\n",
    "    ans=[]\n",
    "    for i in range(0,m):\n",
    "        if i%2==0:\n",
    "            for j in range(0,n):\n",
    "                ans.append(matrix[j][i])\n",
    "        else:\n",
    "            for j in range(n-1,-1,-1):\n",
    "                ans.append(matrix[j][i])\n",
    "    return ans\n",
    "print_sine_wave([[5,3,6],[7,4,7],[8,5,8]],3,3)"
   ]
  },
  {
   "cell_type": "code",
   "execution_count": 8,
   "id": "ab93653b-7d5b-4c02-b8bb-ea7591b35dad",
   "metadata": {},
   "outputs": [],
   "source": [
    "ans=[[j for j in range(3)] for i in range(3)]"
   ]
  },
  {
   "cell_type": "code",
   "execution_count": 9,
   "id": "ef68b8b1-2d3f-46df-976c-741302ef55fb",
   "metadata": {},
   "outputs": [
    {
     "data": {
      "text/plain": [
       "[[0, 1, 2], [0, 1, 2], [0, 1, 2]]"
      ]
     },
     "execution_count": 9,
     "metadata": {},
     "output_type": "execute_result"
    }
   ],
   "source": [
    "ans"
   ]
  },
  {
   "cell_type": "code",
   "execution_count": 17,
   "id": "da725e67-873e-4b4d-a15a-e0c90cb1903d",
   "metadata": {},
   "outputs": [],
   "source": [
    "grid=[[5,7,0],[0,3,1],[0,5,0]]"
   ]
  },
  {
   "cell_type": "code",
   "execution_count": 18,
   "id": "d82522de-782b-4782-9757-f055ea3c1396",
   "metadata": {},
   "outputs": [
    {
     "name": "stdout",
     "output_type": "stream",
     "text": [
      "false\n"
     ]
    }
   ],
   "source": [
    "flag1=False\n",
    "flag2=False\n",
    "for i in range(len(grid)):\n",
    "    for j in range(len(grid[0])):\n",
    "        if i==j:\n",
    "            if grid[i][j]==0:\n",
    "                flag1=True\n",
    "                break\n",
    "        elif (i+j)==len(grid)-1:\n",
    "            if grid[i][j]==0:\n",
    "                flag1=True\n",
    "                break\n",
    "        else:\n",
    "            if grid[i][j]!=0:\n",
    "                flag2=True\n",
    "if flag1==True or flag2==True:\n",
    "    print(\"false\")\n",
    "else:\n",
    "    print(\"true\")"
   ]
  },
  {
   "cell_type": "code",
   "execution_count": 2,
   "id": "d411ccd4-c8ac-4dd2-a86b-70a873829818",
   "metadata": {},
   "outputs": [],
   "source": [
    "a=[[6,9],[8,5],[9,2]]"
   ]
  },
  {
   "cell_type": "code",
   "execution_count": 17,
   "id": "63ee54df-fa6e-4f94-84d2-196c72323cf0",
   "metadata": {},
   "outputs": [
    {
     "name": "stdout",
     "output_type": "stream",
     "text": [
      "col 0 23\n"
     ]
    }
   ],
   "source": [
    "sum_row_a=[]\n",
    "for i in range(len(a)):\n",
    "    sum=0\n",
    "    for j in range(len(a[0])):\n",
    "        sum+=a[i][j]\n",
    "    sum_row_a.append(sum)\n",
    "for i in range(len(sum_row_a)):\n",
    "    if sum_row_a[i]==max(sum_row_a):\n",
    "        k=i\n",
    "#         print(\"row\",i,max(sum_row_a))\n",
    "sum_col_a=[]\n",
    "for i in range(len(a[0])):\n",
    "    sum=0\n",
    "    for j in range(len(a)):\n",
    "        sum+=a[j][i]\n",
    "    sum_col_a.append(sum)\n",
    "for i in range(len(sum_col_a)):\n",
    "    if sum_col_a[i]==max(sum_col_a):\n",
    "        l=i\n",
    "#         print(\"col\",i, max(sum_col_a))\n",
    "if(max(sum_row_a)>max(sum_col_a)):\n",
    "    print(\"row\",k,max(sum_row_a))\n",
    "else:\n",
    "    print(\"col\",l, max(sum_col_a))"
   ]
  },
  {
   "cell_type": "code",
   "execution_count": 1,
   "id": "353e2f72",
   "metadata": {},
   "outputs": [],
   "source": [
    "arr=[[1,2,3,4],[5,6,7,8],[9,10,11,12]]"
   ]
  },
  {
   "cell_type": "code",
   "execution_count": 10,
   "id": "6a855235",
   "metadata": {},
   "outputs": [
    {
     "data": {
      "text/plain": [
       "[[4], [8], [12], [3], [7], [11], [2], [6], [10], [1], [5], [9]]"
      ]
     },
     "execution_count": 10,
     "metadata": {},
     "output_type": "execute_result"
    }
   ],
   "source": [
    "arr2=[]\n",
    "j=len(arr[0])-1\n",
    "while j>=0:\n",
    "    i=0\n",
    "    while i<=len(arr)-1:\n",
    "        arr2.append([arr[i][j]])\n",
    "        i+=1\n",
    "    j-=1\n",
    "arr2"
   ]
  },
  {
   "cell_type": "code",
   "execution_count": 20,
   "id": "250fc738",
   "metadata": {},
   "outputs": [
    {
     "name": "stdout",
     "output_type": "stream",
     "text": [
      "3\n",
      "2\n",
      "1\n",
      "0\n"
     ]
    }
   ],
   "source": [
    "for i in range(len(arr[0])-1,-1,-1):\n",
    "    print(i)"
   ]
  },
  {
   "cell_type": "code",
   "execution_count": 19,
   "id": "43c10a4d",
   "metadata": {},
   "outputs": [
    {
     "name": "stdout",
     "output_type": "stream",
     "text": [
      "0\n",
      "1\n",
      "2\n"
     ]
    }
   ],
   "source": [
    "for j in range(len(arr)):\n",
    "    print(j)"
   ]
  },
  {
   "cell_type": "code",
   "execution_count": 22,
   "id": "492ba0fe",
   "metadata": {},
   "outputs": [],
   "source": [
    "arr2=[[arr[j][i] for j in range(len(arr))] for i in range(len(arr[0])-1,-1,-1)]"
   ]
  },
  {
   "cell_type": "code",
   "execution_count": 23,
   "id": "e34b5ff9",
   "metadata": {},
   "outputs": [
    {
     "data": {
      "text/plain": [
       "[[4, 8, 12], [3, 7, 11], [2, 6, 10], [1, 5, 9]]"
      ]
     },
     "execution_count": 23,
     "metadata": {},
     "output_type": "execute_result"
    }
   ],
   "source": [
    "arr2"
   ]
  },
  {
   "cell_type": "code",
   "execution_count": 24,
   "id": "16fae406",
   "metadata": {},
   "outputs": [],
   "source": [
    "arr1=[2,6,1,2]\n",
    "arr2=[1,2,3,4,2]"
   ]
  },
  {
   "cell_type": "code",
   "execution_count": 25,
   "id": "eca72ece",
   "metadata": {},
   "outputs": [
    {
     "data": {
      "text/plain": [
       "[1, 3, 4, 2]"
      ]
     },
     "execution_count": 25,
     "metadata": {},
     "output_type": "execute_result"
    }
   ],
   "source": [
    "arr2.remove(2)\n",
    "arr2"
   ]
  },
  {
   "cell_type": "code",
   "execution_count": 26,
   "id": "51160a5c",
   "metadata": {},
   "outputs": [
    {
     "data": {
      "text/plain": [
       "[1, [], 5, [], 9, [], 2, 1, 2]"
      ]
     },
     "execution_count": 26,
     "metadata": {},
     "output_type": "execute_result"
    }
   ],
   "source": [
    "arr1=[2,6,1,2]\n",
    "arr2=[1,2,3,4,2]\n",
    "for item in arr1:\n",
    "    if item in arr2:\n",
    "        arr3.append(item)\n",
    "        arr2.remove(item)\n",
    "arr3"
   ]
  },
  {
   "cell_type": "code",
   "execution_count": 27,
   "id": "c404d817",
   "metadata": {},
   "outputs": [
    {
     "data": {
      "text/plain": [
       "[2, 1, 2]"
      ]
     },
     "execution_count": 27,
     "metadata": {},
     "output_type": "execute_result"
    }
   ],
   "source": [
    "arr3=[]\n",
    "arr1=[2,6,1,2]\n",
    "arr2=[1,2,3,4,2]\n",
    "for item in arr1:\n",
    "    if item in arr2:\n",
    "        arr3.append(item)\n",
    "        arr2.remove(item)\n",
    "arr3"
   ]
  },
  {
   "cell_type": "code",
   "execution_count": 34,
   "id": "ff75f77f",
   "metadata": {},
   "outputs": [],
   "source": [
    "arr4=[[3,5,9],[6,8,5]]"
   ]
  },
  {
   "cell_type": "code",
   "execution_count": 36,
   "id": "f9a86242",
   "metadata": {},
   "outputs": [
    {
     "name": "stdout",
     "output_type": "stream",
     "text": [
      "[3, 5, 9, 6, 8, 5]\n",
      "[3, 5, 5, 6, 8, 9]\n"
     ]
    }
   ],
   "source": [
    "arr5=[]\n",
    "for i in range(len(arr4)):\n",
    "    for j in range(len(arr4[0])):\n",
    "        if (i==0 or j==0 or i==len(arr4)-1 or j==len(arr4)-1):\n",
    "            arr5.append(arr4[i][j])\n",
    "print(arr5)\n",
    "arr5.sort()\n",
    "print(arr5)"
   ]
  },
  {
   "cell_type": "code",
   "execution_count": null,
   "id": "046142f1",
   "metadata": {},
   "outputs": [],
   "source": [
    "4\n",
    "9 9\n",
    "6 1 4 5 4 8 1 4 1 \n",
    "7 2 7 7 9 6 1 9 5 \n",
    "8 1 5 7 6 2 7 8 2 \n",
    "1 4 3 6 9 1 7 3 4 \n",
    "5 1 6 3 7 7 8 4 6 \n",
    "4 4 5 6 9 6 1 6 9 \n",
    "2 4 8 1 2 9 3 7 8 \n",
    "1 4 1 3 6 9 8 7 6 \n",
    "5 5 1 1 8 2 5 3 9 \n",
    "6 7\n",
    "3 8 3 4 4 3 6 \n",
    "3 4 1 1 2 3 9 \n",
    "4 8 6 2 5 2 4 \n",
    "9 9 4 6 2 7 8 \n",
    "8 3 8 1 1 8 5 \n",
    "4 2 1 6 3 1 5 \n",
    "8 8\n",
    "2 6 9 7 5 2 6 9 \n",
    "9 6 1 5 5 7 1 3 \n",
    "1 8 3 8 7 5 1 6 \n",
    "3 6 8 2 8 9 2 7 \n",
    "5 1 2 1 3 8 7 2 \n",
    "2 7 4 4 5 4 6 3 \n",
    "9 6 8 4 2 8 9 2 \n",
    "5 5 3 1 3 5 6 5 \n",
    "6 5\n",
    "3 5 3 9 4 \n",
    "2 7 5 5 9 \n",
    "6 8 9 6 3 \n",
    "7 9 2 6 7 \n",
    "3 8 2 6 6 \n",
    "4 1 2 7 3 \n"
   ]
  },
  {
   "cell_type": "code",
   "execution_count": null,
   "id": "9b413d2d",
   "metadata": {},
   "outputs": [],
   "source": [
    "def matrixBoundaryTraversal(mat: [[]], m: int, n: int) -> []:\n",
    "    arr5=[]\n",
    "    if ((len(mat)==len(mat[0])) or (len(mat)>len(mat[0]))):\n",
    "        for i in range(len(mat)):\n",
    "            for j in range(len(mat[0])):\n",
    "                if (i==0 or j==0 or i==len(mat[0])-1 or j==len(mat[0])-1):\n",
    "                    arr5.append(mat[i][j])\n",
    "        return arr5\n",
    "    else:\n",
    "        for i in range(len(mat)):\n",
    "            for j in range(len(mat[0])):\n",
    "                if (i==0 or j==0 or i==len(mat)-1 or j==len(mat)-1):\n",
    "                    arr5.append(mat[i][j])\n",
    "        return arr5"
   ]
  },
  {
   "cell_type": "code",
   "execution_count": 40,
   "id": "8f2bff86",
   "metadata": {},
   "outputs": [],
   "source": [
    "input1=[\"pandas 1.0.4 pypi\",\"numpy 1.19.5 pypi\",\"cherry red\"]"
   ]
  },
  {
   "cell_type": "code",
   "execution_count": 54,
   "id": "3469761a",
   "metadata": {},
   "outputs": [
    {
     "name": "stdout",
     "output_type": "stream",
     "text": [
      "pandas==1.0.4\n",
      "numpy==1.19.5\n"
     ]
    }
   ],
   "source": [
    "for item in input1:\n",
    "#     print(item)\n",
    "    item2=list(map(str,item.split(\" \")))\n",
    "#     print(item2)\n",
    "    if \"pypi\" in item2:\n",
    "        print(item2[0]+\"==\"+item2[1])"
   ]
  },
  {
   "cell_type": "code",
   "execution_count": null,
   "id": "c77c2548",
   "metadata": {},
   "outputs": [],
   "source": []
  }
 ],
 "metadata": {
  "kernelspec": {
   "display_name": "Python 3 (ipykernel)",
   "language": "python",
   "name": "python3"
  },
  "language_info": {
   "codemirror_mode": {
    "name": "ipython",
    "version": 3
   },
   "file_extension": ".py",
   "mimetype": "text/x-python",
   "name": "python",
   "nbconvert_exporter": "python",
   "pygments_lexer": "ipython3",
   "version": "3.9.13"
  }
 },
 "nbformat": 4,
 "nbformat_minor": 5
}
