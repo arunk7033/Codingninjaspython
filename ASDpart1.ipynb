{
  "cells": [
    {
      "cell_type": "markdown",
      "metadata": {
        "id": "KRYHF1VQq7H7"
      },
      "source": [
        "# Recursion Part 1\n",
        "\n"
      ]
    },
    {
      "cell_type": "markdown",
      "metadata": {
        "id": "cUzO89g2r2pa"
      },
      "source": [
        "## Introduction to Recursion"
      ]
    },
    {
      "cell_type": "code",
      "execution_count": null,
      "metadata": {
        "id": "eqaUGrtTpSC1"
      },
      "outputs": [],
      "source": [
        "def fact(n):\n",
        "  if n==0:\n",
        "    return 1\n",
        "  else:\n",
        "    return n*fact(n-1)"
      ]
    },
    {
      "cell_type": "code",
      "execution_count": null,
      "metadata": {
        "colab": {
          "base_uri": "https://localhost:8080/"
        },
        "id": "NXQUFUjRq49U",
        "outputId": "1e5b8685-b0d6-4c91-ee33-2f913d2541c7"
      },
      "outputs": [
        {
          "name": "stdout",
          "output_type": "stream",
          "text": [
            "5\n"
          ]
        },
        {
          "data": {
            "text/plain": [
              "120"
            ]
          },
          "execution_count": 2,
          "metadata": {},
          "output_type": "execute_result"
        }
      ],
      "source": [
        "n=int(input())\n",
        "fact(n)"
      ]
    },
    {
      "cell_type": "code",
      "execution_count": null,
      "metadata": {
        "id": "pUBKYimdrOCH"
      },
      "outputs": [],
      "source": [
        "def fact1(n):\n",
        "  if n==0:\n",
        "    return 1\n",
        "  smalloutput=fact1(n-1)\n",
        "  return n*smalloutput"
      ]
    },
    {
      "cell_type": "code",
      "execution_count": null,
      "metadata": {
        "colab": {
          "base_uri": "https://localhost:8080/"
        },
        "id": "xi1OQQKDrj-G",
        "outputId": "1a1ff0fd-f7d5-4919-c428-45e184b96d3b"
      },
      "outputs": [
        {
          "data": {
            "text/plain": [
              "120"
            ]
          },
          "execution_count": 5,
          "metadata": {},
          "output_type": "execute_result"
        }
      ],
      "source": [
        "fact1(5)"
      ]
    },
    {
      "cell_type": "markdown",
      "metadata": {
        "id": "AmKjsCExr7Jy"
      },
      "source": [
        "## Recursion and PMI"
      ]
    },
    {
      "cell_type": "markdown",
      "metadata": {
        "id": "t9ylNbpTuqzE"
      },
      "source": [
        " ## Problem Solving through recursion"
      ]
    },
    {
      "cell_type": "code",
      "execution_count": null,
      "metadata": {
        "id": "bZlbw8swsUKz"
      },
      "outputs": [],
      "source": [
        "def sum_n(n):\n",
        "  if n==0:\n",
        "    return 0\n",
        "  else:\n",
        "    return n+sum_n(n-1)"
      ]
    },
    {
      "cell_type": "code",
      "execution_count": null,
      "metadata": {
        "colab": {
          "base_uri": "https://localhost:8080/"
        },
        "id": "cqOWrBNpwmzh",
        "outputId": "0701cf4e-fab4-456a-bdd2-d55701cb2865"
      },
      "outputs": [
        {
          "name": "stdout",
          "output_type": "stream",
          "text": [
            "15\n"
          ]
        }
      ],
      "source": [
        "print(sum_n(5))"
      ]
    },
    {
      "cell_type": "code",
      "execution_count": null,
      "metadata": {
        "id": "-JhCEQdqyh9e"
      },
      "outputs": [],
      "source": [
        " Problem statement\n",
        "\n",
        "What will be the output of this code?\n",
        "\n",
        "def printNumbers(n):\n",
        "    if(n<0):\n",
        "        return\n",
        "    print(n,end=\" \")\n",
        "    printNumbers(n-2)\n",
        "num = 5\n",
        "printNumbers(num)\n"
      ]
    },
    {
      "cell_type": "markdown",
      "metadata": {
        "id": "oWoMhjjFYnAD"
      },
      "source": [
        "# Print First N natural numbers"
      ]
    },
    {
      "cell_type": "code",
      "execution_count": null,
      "metadata": {
        "colab": {
          "base_uri": "https://localhost:8080/"
        },
        "id": "onu_blG1T4Cj",
        "outputId": "432a7713-1dd7-41bd-efbd-296c50c7dec2"
      },
      "outputs": [
        {
          "name": "stdout",
          "output_type": "stream",
          "text": [
            "5\n",
            "120\n",
            "15\n",
            "1\n",
            "2\n",
            "3\n",
            "4\n",
            "5\n",
            "5\n",
            "4\n",
            "3\n",
            "2\n",
            "1\n"
          ]
        }
      ],
      "source": [
        "def fact(n):\n",
        "    if n==0:\n",
        "        return 1\n",
        "    return n*fact(n-1)\n",
        "\n",
        "\n",
        "def fact1(n):\n",
        "    if n==0:\n",
        "        return 1\n",
        "    smallOutput=fact(n-1)\n",
        "    return n*smalloutput\n",
        "\n",
        "def sum_n(n):\n",
        "    if n==0:\n",
        "        return 0\n",
        "    smallOutput=sum_n(n-1)\n",
        "    output=smallOutput+n\n",
        "    return output\n",
        "\n",
        "def print_1_to_n(n):\n",
        "    if n==0:\n",
        "        return\n",
        "    print_1_to_n(n-1)\n",
        "    print(n)\n",
        "    return\n",
        "\n",
        "def print_n_to_1(n):\n",
        "    if n==0:\n",
        "        return\n",
        "    print(n)\n",
        "    print_n_to_1(n-1)\n",
        "\n",
        "n=int(input())\n",
        "print(fact(n))\n",
        "print(sum_n(n))\n",
        "print_1_to_n(n)\n",
        "print_n_to_1(n)"
      ]
    },
    {
      "cell_type": "markdown",
      "metadata": {
        "id": "snVEefEzSSGz"
      },
      "source": [
        "# Fibonacci Number"
      ]
    },
    {
      "cell_type": "code",
      "execution_count": null,
      "metadata": {
        "colab": {
          "base_uri": "https://localhost:8080/"
        },
        "id": "C-Le2gFwHtDP",
        "outputId": "7dc42830-3802-4340-a954-70ac511d6388"
      },
      "outputs": [
        {
          "data": {
            "text/plain": [
              "3"
            ]
          },
          "execution_count": 1,
          "metadata": {},
          "output_type": "execute_result"
        }
      ],
      "source": [
        "def fib(n):\n",
        "    if n==1 or n==2:\n",
        "        return 1\n",
        "    fib_n_1=fib(n-1)\n",
        "    fib_n_2=fib(n-2)\n",
        "    output=fib_n_1+fib_n_2\n",
        "    return output\n",
        "\n",
        "n=4\n",
        "fib(n)"
      ]
    },
    {
      "cell_type": "markdown",
      "metadata": {
        "id": "IwD-sbGWSiqp"
      },
      "source": [
        "# Python and Recursion"
      ]
    },
    {
      "cell_type": "code",
      "execution_count": null,
      "metadata": {
        "id": "iWHZzmd3Ux7y"
      },
      "outputs": [],
      "source": [
        "import sys\n",
        "sys.setrecursionlimit(3000)"
      ]
    },
    {
      "cell_type": "code",
      "execution_count": null,
      "metadata": {
        "colab": {
          "base_uri": "https://localhost:8080/"
        },
        "id": "RcIwux80UL9g",
        "outputId": "bce888e5-6077-42ba-d3ed-ce68949b9c83"
      },
      "outputs": [
        {
          "name": "stdout",
          "output_type": "stream",
          "text": [
            "1000\n"
          ]
        },
        {
          "data": {
            "text/plain": [
              "402387260077093773543702433923003985719374864210714632543799910429938512398629020592044208486969404800479988610197196058631666872994808558901323829669944590997424504087073759918823627727188732519779505950995276120874975462497043601418278094646496291056393887437886487337119181045825783647849977012476632889835955735432513185323958463075557409114262417474349347553428646576611667797396668820291207379143853719588249808126867838374559731746136085379534524221586593201928090878297308431392844403281231558611036976801357304216168747609675871348312025478589320767169132448426236131412508780208000261683151027341827977704784635868170164365024153691398281264810213092761244896359928705114964975419909342221566832572080821333186116811553615836546984046708975602900950537616475847728421889679646244945160765353408198901385442487984959953319101723355556602139450399736280750137837615307127761926849034352625200015888535147331611702103968175921510907788019393178114194545257223865541461062892187960223838971476088506276862967146674697562911234082439208160153780889893964518263243671616762179168909779911903754031274622289988005195444414282012187361745992642956581746628302955570299024324153181617210465832036786906117260158783520751516284225540265170483304226143974286933061690897968482590125458327168226458066526769958652682272807075781391858178889652208164348344825993266043367660176999612831860788386150279465955131156552036093988180612138558600301435694527224206344631797460594682573103790084024432438465657245014402821885252470935190620929023136493273497565513958720559654228749774011413346962715422845862377387538230483865688976461927383814900140767310446640259899490222221765904339901886018566526485061799702356193897017860040811889729918311021171229845901641921068884387121855646124960798722908519296819372388642614839657382291123125024186649353143970137428531926649875337218940694281434118520158014123344828015051399694290153483077644569099073152433278288269864602789864321139083506217095002597389863554277196742822248757586765752344220207573630569498825087968928162753848863396909959826280956121450994871701244516461260379029309120889086942028510640182154399457156805941872748998094254742173582401063677404595741785160829230135358081840096996372524230560855903700624271243416909004153690105933983835777939410970027753472000000000000000000000000000000000000000000000000000000000000000000000000000000000000000000000000000000000000000000000000000000000000000000000000000000000000000000000000000000000000000000000000000000000000000000000000000000000000000000000000000000000"
            ]
          },
          "execution_count": 6,
          "metadata": {},
          "output_type": "execute_result"
        }
      ],
      "source": [
        "def fact(n):\n",
        "    if n==0:\n",
        "        return 1\n",
        "    return n*fact(n-1)\n",
        "\n",
        "\n",
        "def fact1(n):\n",
        "    if n==0:\n",
        "        return 1\n",
        "    smalloutput=fact(n-1)\n",
        "    return n*smalloutput\n",
        "\n",
        "\n",
        "n=int(input())\n",
        "fact(n)"
      ]
    },
    {
      "cell_type": "code",
      "execution_count": null,
      "metadata": {
        "id": "kdl3_5PEUvWd"
      },
      "outputs": [],
      "source": [
        "import sys\n",
        "sys.setrecursionlimit(3000)"
      ]
    },
    {
      "cell_type": "markdown",
      "metadata": {
        "id": "xDGgxyE1nfxt"
      },
      "source": [
        "# Sum off array problem with recursion"
      ]
    },
    {
      "cell_type": "code",
      "execution_count": null,
      "metadata": {
        "colab": {
          "base_uri": "https://localhost:8080/"
        },
        "id": "1C_-1TYpnlWJ",
        "outputId": "733f877e-a674-44ed-b728-21328fa38bf3"
      },
      "outputs": [
        {
          "data": {
            "text/plain": [
              "15"
            ]
          },
          "execution_count": 10,
          "metadata": {},
          "output_type": "execute_result"
        }
      ],
      "source": [
        "def sumArray(arr):\n",
        "    n = len(arr)\n",
        "    if n==0:\n",
        "        return 0\n",
        "    else:\n",
        "        sum = arr[n-1] +sumArray(arr[:n-1])\n",
        "        return sum\n",
        "\n",
        "arr= [1,2,5,7]\n",
        "sumArray(arr)"
      ]
    },
    {
      "cell_type": "markdown",
      "metadata": {
        "id": "ZqyOYrCvU163"
      },
      "source": [
        "# Check if List is sorted or not?"
      ]
    },
    {
      "cell_type": "code",
      "execution_count": null,
      "metadata": {
        "colab": {
          "base_uri": "https://localhost:8080/"
        },
        "id": "FRfSKN6iZ-jp",
        "outputId": "f47ce054-829e-495f-ebf3-6f5261697801"
      },
      "outputs": [
        {
          "data": {
            "text/plain": [
              "True"
            ]
          },
          "execution_count": 9,
          "metadata": {},
          "output_type": "execute_result"
        }
      ],
      "source": [
        "def isSorted(a):\n",
        "  l = len(a)\n",
        "\n",
        "  if l==0 or l==1:\n",
        "    return True\n",
        "  if a[0]>a[1]:\n",
        "    return False\n",
        "  smallerList = a[1:]\n",
        "  isSmallerListSorted = isSorted(smallerList)\n",
        "  if isSmallerListSorted:\n",
        "    return True\n",
        "  else:\n",
        "    return False\n",
        "a=[1,2,3,4,5,6,7,8,9]\n",
        "isSorted(a)"
      ]
    },
    {
      "cell_type": "code",
      "execution_count": null,
      "metadata": {
        "colab": {
          "base_uri": "https://localhost:8080/"
        },
        "id": "-dEF9eezVZVc",
        "outputId": "83ca347d-0747-4635-913a-f913edbe857b"
      },
      "outputs": [
        {
          "name": "stdout",
          "output_type": "stream",
          "text": [
            "false\n"
          ]
        }
      ],
      "source": [
        "def checkNumber(arr, x):\n",
        "    if arr == []:\n",
        "      return \"false\"\n",
        "    else:\n",
        "      if arr[0] == x:\n",
        "        return \"true\"\n",
        "      else:\n",
        "        return checkNumber(arr[1:], x)\n",
        "arr= [15, 24, 58, 61, 79, 3, 97, 81, 81, 45, 62, 21, 72, 72, 68, 45, 11, 50, 87, 20, 28, 77, 51, 89, 58, 66]\n",
        "\n",
        "x=23\n",
        "print(checkNumber(arr, x))"
      ]
    },
    {
      "cell_type": "code",
      "execution_count": null,
      "metadata": {
        "id": "5fxyKbU0ds5N"
      },
      "outputs": [],
      "source": [
        "def checkNumber(arr, x):\n",
        "  size = len(arr)\n",
        "  if size == 1:\n",
        "    return x == arr[0]\n",
        "  smallAns = checkNumber(arr[:size-1], x)\n",
        "  return smallAns or (x == arr[size-1])\n"
      ]
    },
    {
      "cell_type": "markdown",
      "metadata": {
        "id": "_dTgaqPkXshY"
      },
      "source": [
        "# Check if list is sorted or not? -2"
      ]
    },
    {
      "cell_type": "code",
      "execution_count": null,
      "metadata": {
        "colab": {
          "base_uri": "https://localhost:8080/"
        },
        "id": "ySVziFxwX32t",
        "outputId": "a11b3273-997f-4394-ec93-92427d3cb766"
      },
      "outputs": [
        {
          "data": {
            "text/plain": [
              "False"
            ]
          },
          "execution_count": 2,
          "metadata": {},
          "output_type": "execute_result"
        }
      ],
      "source": [
        "def isSortedsmall(a, si):\n",
        "  l = len(a)\n",
        "  if si == l-1 or si==l:\n",
        "    return True\n",
        "  if a[si] > a[si+1]:\n",
        "    return False\n",
        "  isSmallerPartSorted = isSortedsmall(a, si+1)\n",
        "  return isSmallerPartSorted\n",
        "\n",
        "a=[1,2,3,8,5,6,7,8,9]\n",
        "isSortedsmall(a, 0)"
      ]
    },
    {
      "cell_type": "markdown",
      "metadata": {
        "id": "bIFJ32MhYtjW"
      },
      "source": [
        "# First Index of Number"
      ]
    },
    {
      "cell_type": "code",
      "execution_count": null,
      "metadata": {
        "colab": {
          "base_uri": "https://localhost:8080/"
        },
        "id": "WHvfb81FaAzc",
        "outputId": "68aa81af-a40f-465c-ca88-c0da26ae1fd6"
      },
      "outputs": [
        {
          "data": {
            "text/plain": [
              "1"
            ]
          },
          "execution_count": 5,
          "metadata": {},
          "output_type": "execute_result"
        }
      ],
      "source": [
        "def firstindexnumber(arr, x):\n",
        "  l = len(arr)\n",
        "  if l==0:\n",
        "    return -1\n",
        "  if arr[0] == x:\n",
        "    return 0\n",
        "  smallerlist = arr[1:]\n",
        "  smallerlistoutput = firstindexnumber(smallerlist, x)\n",
        "  if smallerlistoutput == -1:\n",
        "    return -1\n",
        "  else:\n",
        "    return smallerlistoutput + 1\n",
        "\n",
        "arr= [1,5,3,4,5,6,7,8,9]\n",
        "x=5\n",
        "firstindexnumber(arr, x)"
      ]
    },
    {
      "cell_type": "code",
      "execution_count": null,
      "metadata": {
        "colab": {
          "base_uri": "https://localhost:8080/"
        },
        "id": "336-pNiVgaWf",
        "outputId": "ccf90d2d-7f1a-4f95-fc7b-64fe03a2ff69"
      },
      "outputs": [
        {
          "data": {
            "text/plain": [
              "1"
            ]
          },
          "execution_count": 9,
          "metadata": {},
          "output_type": "execute_result"
        }
      ],
      "source": [
        "def firstIndex(arr, x, si):\n",
        "  l = len(arr)\n",
        "  if si==l:\n",
        "    return -1\n",
        "  if arr[si] ==x:\n",
        "    return si\n",
        "  smallerlistoutput = firstIndex(arr, x, si+1)\n",
        "  return smallerlistoutput\n",
        "\n",
        "arr= [1,5,3,4,5,6,7,8,9]\n",
        "x=5\n",
        "firstIndex(arr, x, 0)"
      ]
    },
    {
      "cell_type": "markdown",
      "metadata": {
        "id": "uSGz9byLAIyx"
      },
      "source": [
        "# Last Index of Number"
      ]
    },
    {
      "cell_type": "code",
      "execution_count": null,
      "metadata": {
        "colab": {
          "base_uri": "https://localhost:8080/"
        },
        "id": "DVsb_sqvAH3l",
        "outputId": "cf85e7bd-729f-4f65-cf12-53bebb8a750a"
      },
      "outputs": [
        {
          "data": {
            "text/plain": [
              "4"
            ]
          },
          "execution_count": 1,
          "metadata": {},
          "output_type": "execute_result"
        }
      ],
      "source": [
        "def Lastindexnumber(arr, x):\n",
        "  l=len(arr)\n",
        "  if l==0:\n",
        "    return -1\n",
        "  if arr[l-1] == x:\n",
        "    return l-1\n",
        "  smallerlist = arr[:l-1]\n",
        "  smallerlistoutput = Lastindexnumber(smallerlist, x)\n",
        "  if smallerlistoutput == -1:\n",
        "    return -1\n",
        "  else:\n",
        "    return smallerlistoutput\n",
        "\n",
        "arr= [1,5,3,4,5,6,7,8,9]\n",
        "x=5\n",
        "Lastindexnumber(arr, x)"
      ]
    },
    {
      "cell_type": "code",
      "execution_count": null,
      "metadata": {
        "colab": {
          "base_uri": "https://localhost:8080/"
        },
        "id": "L8MIig-QBivu",
        "outputId": "dc705b4d-a704-4387-cd78-b5864f37d2c9"
      },
      "outputs": [
        {
          "data": {
            "text/plain": [
              "4"
            ]
          },
          "execution_count": 2,
          "metadata": {},
          "output_type": "execute_result"
        }
      ],
      "source": [
        "def lastindexnumber(arr, x, si):\n",
        "  l=len(arr)\n",
        "  if si==0:\n",
        "    return -1\n",
        "  if arr[si] == x:\n",
        "    return si\n",
        "  smallerlistoutput = lastindexnumber(arr, x, si-1)\n",
        "  if smallerlistoutput == -1:\n",
        "    return -1\n",
        "  else:\n",
        "    return smallerlistoutput\n",
        "\n",
        "arr= [1,5,3,4,5,6,7,8,9]\n",
        "x=5\n",
        "lastindexnumber(arr, x, len(arr)-1)"
      ]
    },
    {
      "cell_type": "code",
      "execution_count": null,
      "metadata": {
        "colab": {
          "base_uri": "https://localhost:8080/"
        },
        "id": "mcRIlw4_EL0C",
        "outputId": "b44ab51d-1a67-42f8-832f-b791a36421f2"
      },
      "outputs": [
        {
          "data": {
            "text/plain": [
              "4"
            ]
          },
          "execution_count": 3,
          "metadata": {},
          "output_type": "execute_result"
        }
      ],
      "source": [
        "def Lastindexnumber(arr, x):\n",
        "  l = len(arr)\n",
        "  if l==0:\n",
        "    return -1\n",
        "  smallerlist = arr[1:]\n",
        "  smallerlistoutput = Lastindexnumber(smallerlist, x)\n",
        "  if smallerlistoutput != -1:\n",
        "    return smallerlistoutput + 1\n",
        "  else:\n",
        "    if arr[0] == x:\n",
        "      return 0\n",
        "    else:\n",
        "      return -1\n",
        "\n",
        "arr= [1,5,3,4,5,6,7,8,9]\n",
        "x=5\n",
        "Lastindexnumber(arr, x)"
      ]
    },
    {
      "cell_type": "code",
      "execution_count": null,
      "metadata": {
        "id": "jMalTurEU2od"
      },
      "outputs": [],
      "source": [
        "def lastIndex(a,x):\n",
        "    l=len(a)\n",
        "    if l==0:\n",
        "        return -1\n",
        "    smallerList=a[1:]\n",
        "    smallerListOutput=lastIndex(smallerList,x)\n",
        "    if smallerListOutput!=-1:\n",
        "        return smallerListOutput+1\n",
        "    else:\n",
        "        if a[0]==x:\n",
        "            return 0\n",
        "        else:\n",
        "            return -1\n",
        "\n",
        "def lastIndexB(a,x,si):\n",
        "    l=len(a)\n",
        "    if si==l:\n",
        "        return -1\n",
        "    smallerListOutput=lastIndexB(a,x,si+1)\n",
        "    if smallerListOutput!=-1:\n",
        "        return smallerListOutput\n",
        "    else:\n",
        "        if a[si]==x:\n",
        "            return si\n",
        "        else:\n",
        "            return -1\n",
        "\n",
        "a=[1,4,5,4,8]\n",
        "x=4\n",
        "print(lastIndex(a,x))\n",
        "print(lastIndexB(a,x,0))"
      ]
    },
    {
      "cell_type": "markdown",
      "metadata": {
        "id": "R1nkGx1NQFdn"
      },
      "source": [
        "# Explaination of above code using backtracking\n",
        "\n",
        "```python\n",
        "def Lastindexnumber(arr, x):\n",
        "```\n",
        "\n",
        "- This line defines a function named `Lastindexnumber` that takes two arguments:\n",
        "  - `arr`: a list of numbers\n",
        "  - `x`: the number we are looking for in the list\n",
        "\n",
        "# Step 2: Check Length of the List\n",
        "\n",
        "```python\n",
        "l = len(arr)\n",
        "if l == 0:\n",
        "    return -1\n",
        "```\n",
        "\n",
        "- Here, we calculate the length of the list `arr` and store it in `l`.\n",
        "- If the length is `0` (meaning the list is empty), we return `-1`. This indicates that there is no index to return since the list has no elements.\n",
        "\n",
        "# Step 3: Create a Smaller List\n",
        "\n",
        "```python\n",
        "smallerlist = arr[1:]\n",
        "```\n",
        "\n",
        "- This line creates a new list called `smallerlist` that contains all elements of `arr` except the first one.\n",
        "- For example, if `arr` was `[1, 5, 3]`, then `smallerlist` would be `[5, 3]`.\n",
        "\n",
        "# Step 4: Recursive Call\n",
        "\n",
        "```python\n",
        "smallerlistoutput = Lastindexnumber(smallerlist, x)\n",
        "```\n",
        "\n",
        "- Here, we call the same function (`Lastindexnumber`) again, but now with `smallerlist` and `x` as arguments.\n",
        "- This is a recursive call, meaning the function is calling itself with a smaller portion of the original list.\n",
        "\n",
        "# Step 5: Check the Result of the Recursive Call\n",
        "\n",
        "```python\n",
        "if smallerlistoutput != -1:\n",
        "    return smallerlistoutput + 1\n",
        "```\n",
        "\n",
        "- After the recursive call, we check if `smallerlistoutput` is not `-1`.\n",
        "- If it is not `-1`, it means `x` was found in the `smallerlist`, and we return `smallerlistoutput + 1`.\n",
        "- We add `1` because `smallerlist` is missing the first element of the original list, so we need to adjust the index accordingly.\n",
        "\n",
        "# Step 6: Final Check for the First Element\n",
        "\n",
        "```python\n",
        "else:\n",
        "    if arr[0] == x:\n",
        "        return 0\n",
        "    else:\n",
        "        return -1\n",
        "```\n",
        "\n",
        "- If `smallerlistoutput` was `-1`, it means `x` was not found in `smallerlist`.\n",
        "- We then check if the first element of the original `arr` (`arr[0]`) is equal to `x`.\n",
        "  - If it is, we return `0` because `x` is located at index `0`.\n",
        "  - If it is not, we return `-1`, indicating that `x` is not in the list at all.\n",
        "\n",
        "# Example Walkthrough\n",
        "\n",
        "Let’s walk through an example to clarify:\n",
        "\n",
        "1. **Initial Call**:\n",
        "   ```python\n",
        "   arr = [1, 5, 3, 4, 5, 6, 7, 8, 9]\n",
        "   x = 5\n",
        "   Lastindexnumber(arr, x)\n",
        "   ```\n",
        "\n",
        "2. **First Execution**:\n",
        "   - Length is `9`, not empty.\n",
        "   - `smallerlist = [5, 3, 4, 5, 6, 7, 8, 9]`\n",
        "   - Recursive call: `Lastindexnumber([5, 3, 4, 5, 6, 7, 8, 9], 5)`\n",
        "\n",
        "3. **Second Execution**:\n",
        "   - Length is `8`, not empty.\n",
        "   - `smallerlist = [3, 4, 5, 6, 7, 8, 9]`\n",
        "   - Recursive call: `Lastindexnumber([3, 4, 5, 6, 7, 8, 9], 5)`\n",
        "\n",
        "4. **Third Execution**:\n",
        "   - Length is `7`, not empty.\n",
        "   - `smallerlist = [4, 5, 6, 7, 8, 9]`\n",
        "   - Recursive call: `Lastindexnumber([4, 5, 6, 7, 8, 9], 5)`\n",
        "\n",
        "5. **Fourth Execution**:\n",
        "   - Length is `6`, not empty.\n",
        "   - `smallerlist = [5, 6, 7, 8, 9]`\n",
        "   - Recursive call: `Lastindexnumber([5, 6, 7, 8, 9], 5)`\n",
        "\n",
        "6. **Fifth Execution**:\n",
        "   - Length is `5`, not empty.\n",
        "   - `smallerlist = [6, 7, 8, 9]`\n",
        "   - Recursive call: `Lastindexnumber([6, 7, 8, 9], 5)`\n",
        "\n",
        "7. **Sixth Execution**:\n",
        "   - Length is `4`, not empty.\n",
        "   - `smallerlist = [7, 8, 9]`\n",
        "   - Recursive call: `Lastindexnumber([7, 8, 9], 5)`\n",
        "\n",
        "8. **Seventh Execution**:\n",
        "   - Length is `3`, not empty.\n",
        "   - `smallerlist = [8, 9]`\n",
        "   - Recursive call: `Lastindexnumber([8, 9], 5)`\n",
        "\n",
        "9. **Eighth Execution**:\n",
        "   - Length is `2`, not empty.\n",
        "   - `smallerlist = [9]`\n",
        "   - Recursive call: `Lastindexnumber([9], 5)`\n",
        "\n",
        "10. **Ninth Execution**:\n",
        "    - Length is `1`, not empty.\n",
        "    - `smallerlist = []`\n",
        "    - Recursive call: `Lastindexnumber([], 5)`\n",
        "\n",
        "11. **Tenth Execution**:\n",
        "    - Length is `0` (empty), so it returns `-1`.\n",
        "\n",
        "# Backtracking\n",
        "\n",
        "Now, the function starts returning back through the recursive calls:\n",
        "\n",
        "- **Ninth Call**: `smallerlistoutput` is `-1`, checks `arr[0]` (which is `9`), returns `-1`.\n",
        "- **Eighth Call**: `smallerlistoutput` is `-1`, checks `arr[0]` (which is `8`), returns `-1`.\n",
        "- **Seventh Call**: `smallerlistoutput` is `-1`, checks `arr[0]` (which is `7`), returns `-1`.\n",
        "- **Sixth Call**: `smallerlistoutput` is `-1`, checks `arr[0]` (which is `6`), returns `-1`.\n",
        "- **Fifth Call**: `smallerlistoutput` is `-1`, checks `arr[0]` (which is `5`), returns `0` (found at index `0` in the smaller list).\n",
        "- **Fourth Call**: `smallerlistoutput` is `0`, returns `0 + 1 = 1`.\n",
        "- **Third Call**: `smallerlistoutput` is `1`, returns `1 + 1 = 2`.\n",
        "- **Second Call**: `smallerlistoutput` is `2`, returns `2 + 1 = 3`.\n",
        "- **First Call**: `smallerlistoutput` is `3`, returns `3 + 1 = 4`.\n",
        "\n",
        "Finally, the original call to `Lastindexnumber(arr, x)` returns `4`, which is the last index of `5` in the list.\n",
        "\n",
        "# Summary\n",
        "\n",
        "- The function works recursively by checking smaller portions of the list.\n",
        "- It adjusts indices based on how deep it has gone into recursion.\n",
        "- Ultimately, it finds and returns the last index of `x`, or `-1` if `x` isn’t found.\n",
        "\n",
        "If you have any more questions or need further clarification on any part, feel free to ask!"
      ]
    },
    {
      "cell_type": "markdown",
      "metadata": {
        "id": "8rodnUJ4ZjKQ"
      },
      "source": [
        "# Recursion with strings"
      ]
    },
    {
      "cell_type": "code",
      "execution_count": null,
      "metadata": {
        "colab": {
          "base_uri": "https://localhost:8080/",
          "height": 55
        },
        "id": "_Lrdy0TxZooy",
        "outputId": "eac9180a-437a-40cb-8cc6-0138fa7b30b6"
      },
      "outputs": [
        {
          "data": {
            "application/vnd.google.colaboratory.intrinsic+json": {
              "type": "string"
            },
            "text/plain": [
              "'xxxabxx'"
            ]
          },
          "execution_count": 17,
          "metadata": {},
          "output_type": "execute_result"
        }
      ],
      "source": [
        "# Replacing c with x\n",
        "\n",
        "def replacechar(s, c, x):\n",
        "  if len(s)==0:\n",
        "    return s\n",
        "  smalloutput = replacechar(s[1:], c, x)\n",
        "  if s[0]=='c':\n",
        "    return 'x'+ smalloutput\n",
        "  else:\n",
        "    return s[0]+smalloutput\n",
        "\n",
        "s='cxxabcx'\n",
        "replacechar(s, 'c', 'x')"
      ]
    },
    {
      "cell_type": "code",
      "execution_count": null,
      "metadata": {
        "colab": {
          "base_uri": "https://localhost:8080/",
          "height": 55
        },
        "id": "VAWOQaLUeNsL",
        "outputId": "22c406d2-29ce-484e-c7f6-c6887c232182"
      },
      "outputs": [
        {
          "data": {
            "application/vnd.google.colaboratory.intrinsic+json": {
              "type": "string"
            },
            "text/plain": [
              "'3.14ppxxp3.14'"
            ]
          },
          "execution_count": 18,
          "metadata": {},
          "output_type": "execute_result"
        }
      ],
      "source": [
        "# Replacing pi with 3.14\n",
        "\n",
        "def replacepi(s):\n",
        "  if len(s)==0 or len(s)==1:\n",
        "    return s\n",
        "  if s[0]=='p' and s[1]=='i':\n",
        "    smalloutput = replacepi(s[2:])\n",
        "    return '3.14'+smalloutput\n",
        "  else:\n",
        "    smalloutput = replacepi(s[1:])\n",
        "    return s[0]+smalloutput\n",
        "\n",
        "s='pippxxppi'\n",
        "replacepi(s)"
      ]
    },
    {
      "cell_type": "code",
      "execution_count": null,
      "metadata": {
        "colab": {
          "base_uri": "https://localhost:8080/",
          "height": 55
        },
        "id": "j2PQajV-jfWm",
        "outputId": "630929bc-bc30-41c4-998a-7773eeb4699f"
      },
      "outputs": [
        {
          "data": {
            "application/vnd.google.colaboratory.intrinsic+json": {
              "type": "string"
            },
            "text/plain": [
              "'xyzwz'"
            ]
          },
          "execution_count": 19,
          "metadata": {},
          "output_type": "execute_result"
        }
      ],
      "source": [
        "def removeConsecutiveDuplicates(string):\n",
        "  if len(string)==0 or len(string)==1:\n",
        "    return string\n",
        "  if string[0]==string[1]:\n",
        "    smalloutput = removeConsecutiveDuplicates(string[1:])\n",
        "    return \"\" + smalloutput\n",
        "  else:\n",
        "    smalloutput = removeConsecutiveDuplicates(string[1:])\n",
        "    return string[0] + smalloutput\n",
        "\n",
        "string='xxxyyyzwwzzz'\n",
        "removeConsecutiveDuplicates(string)\n"
      ]
    },
    {
      "cell_type": "markdown",
      "metadata": {
        "id": "ztemnpjwdruD"
      },
      "source": [
        "# Binary Search using Recursion"
      ]
    },
    {
      "cell_type": "code",
      "execution_count": null,
      "metadata": {
        "colab": {
          "base_uri": "https://localhost:8080/"
        },
        "id": "R4ycV4l8dw2K",
        "outputId": "256b0d51-e0b1-4b5a-ce6a-d2a98c2295fe"
      },
      "outputs": [
        {
          "data": {
            "text/plain": [
              "6"
            ]
          },
          "execution_count": 1,
          "metadata": {},
          "output_type": "execute_result"
        }
      ],
      "source": [
        "def binarysearch(arr, x, si, ei):\n",
        "  if si>ei:\n",
        "    return -1\n",
        "  mid = (si+ei)//2\n",
        "  if arr[mid]==x:\n",
        "    return mid\n",
        "  elif arr[mid]>x:\n",
        "    return binarysearch(arr, x, si, mid-1)\n",
        "  else:\n",
        "    return binarysearch(arr, x, mid+1, ei)\n",
        "\n",
        "arr=[1,3,5,7,9,11,13,15,17,19]\n",
        "x=13\n",
        "binarysearch(arr, x, 0, len(arr)-1)"
      ]
    },
    {
      "cell_type": "markdown",
      "metadata": {
        "id": "mob21Uf5hFOs"
      },
      "source": [
        "# Merge Sort\n",
        "\n"
      ]
    },
    {
      "cell_type": "code",
      "execution_count": null,
      "metadata": {
        "colab": {
          "base_uri": "https://localhost:8080/"
        },
        "id": "NgwS4PSU8sR-",
        "outputId": "370a5d26-7e6a-4904-c2b6-72ffd58ee79b"
      },
      "outputs": [
        {
          "name": "stdout",
          "output_type": "stream",
          "text": [
            "[1, 3, 4, 5, 7, 9, 10]\n"
          ]
        }
      ],
      "source": [
        "def merge_two_sorted_array(a1, a2, arr):\n",
        "  i=0\n",
        "  j=0\n",
        "  k=0\n",
        "  while i<len(a1) and j<len(a2):\n",
        "    if a1[i]<a2[j]:\n",
        "      arr[k]=a1[i]\n",
        "      k=k+1\n",
        "      i=i+1\n",
        "    else:\n",
        "      arr[k]=a2[j]\n",
        "      k=k+1\n",
        "      j=j+1\n",
        "  while i<len(a1):\n",
        "    arr[k]=a1[i]\n",
        "    k=k+1\n",
        "    i=i+1\n",
        "  while j<len(a2):\n",
        "    arr[k]=a2[j]\n",
        "    k=k+1\n",
        "    j=j+1\n",
        "  return arr\n",
        "\n",
        "\n",
        "def merge_sort(arr):\n",
        "  if len(arr)==0 or len(arr)==1:\n",
        "    return\n",
        "  mid = len(arr)//2\n",
        "  a1 = arr[0:mid]\n",
        "  a2 = arr[mid:]\n",
        "  merge_sort(a1)\n",
        "  merge_sort(a2)\n",
        "  merge_two_sorted_array(a1, a2, arr)\n",
        "\n",
        "arr=[10,5,3,1,7,9,4]\n",
        "merge_sort(arr)\n",
        "print(arr)"
      ]
    },
    {
      "cell_type": "code",
      "execution_count": null,
      "metadata": {
        "id": "3EMq48L4KJyg"
      },
      "outputs": [],
      "source": [
        "16\n",
        "760 337 720 182 724 719 278 612 647 370 216 96 36 458 532 177\n"
      ]
    },
    {
      "cell_type": "code",
      "execution_count": null,
      "metadata": {
        "colab": {
          "base_uri": "https://localhost:8080/"
        },
        "id": "F8FtKNBFMmRB",
        "outputId": "1a24984d-bf9b-4b62-85e9-6a61598a85c0"
      },
      "outputs": [
        {
          "name": "stdout",
          "output_type": "stream",
          "text": [
            "760 337 720 182 724 719 278 612 647 370 216 96 36 458 532 177\n",
            "[760, 337, 720, 182, 724, 719, 278, 612, 647, 370, 216, 96, 36, 458, 532, 177]\n"
          ]
        }
      ],
      "source": [
        "arr = list(map(int, input().split())) # Apply int to each element after splitting\n",
        "print(arr)"
      ]
    },
    {
      "cell_type": "markdown",
      "metadata": {
        "id": "__FyCgvLQtVV"
      },
      "source": [
        "## QuickSort"
      ]
    },
    {
      "cell_type": "code",
      "execution_count": null,
      "metadata": {
        "colab": {
          "base_uri": "https://localhost:8080/"
        },
        "id": "lRnLAnERQsUk",
        "outputId": "0d6cd433-2221-4889-b267-456880c30a87"
      },
      "outputs": [
        {
          "name": "stdout",
          "output_type": "stream",
          "text": [
            "[36, 96, 177, 182, 216, 278, 337, 370, 458, 532, 612, 647, 719, 720, 724, 760]\n"
          ]
        }
      ],
      "source": [
        "from typing import List\n",
        "\n",
        "def get_pivot_point(a, si, ei):\n",
        "    pivot=a[si]\n",
        "    #find number of elements smaller than pivot\n",
        "    c=0\n",
        "    for i in range(si,ei+1):\n",
        "        if a[i]<pivot:\n",
        "            c=c+1\n",
        "    a[si+c],a[si]=a[si],a[si+c]\n",
        "    pivot_index=si+c\n",
        "\n",
        "    i=si\n",
        "    j=ei\n",
        "    while i<j:\n",
        "        if a[i]<pivot:\n",
        "            i=i+1\n",
        "        elif a[j]>=pivot:\n",
        "            j=j-1\n",
        "        else:\n",
        "            a[i],a[j]=a[j],a[i]\n",
        "            i=i+1\n",
        "            j=j-1\n",
        "    return pivot_index\n",
        "\n",
        "def quickSort(arr: List[int], startIndex: int, endIndex: int):\n",
        "    if startIndex >= endIndex:\n",
        "        return\n",
        "    pivot_point = get_pivot_point(arr, startIndex, endIndex)\n",
        "    quickSort(arr, startIndex, pivot_point-1)\n",
        "    quickSort(arr, pivot_point+1, endIndex)\n",
        "\n",
        "\n",
        "# arr = list(map(int, input().split()))\n",
        "\n",
        "quickSort(arr, 0, len(arr)-1)\n",
        "print(arr)"
      ]
    },
    {
      "cell_type": "markdown",
      "metadata": {
        "id": "KGxPcQq5etGh"
      },
      "source": [
        "## Tower of Hanoi"
      ]
    },
    {
      "cell_type": "code",
      "execution_count": null,
      "metadata": {
        "colab": {
          "base_uri": "https://localhost:8080/"
        },
        "id": "xbT6sQbZexSl",
        "outputId": "033e34bd-34a7-4796-d7d3-bfb66c89e970"
      },
      "outputs": [
        {
          "name": "stdout",
          "output_type": "stream",
          "text": [
            "move 1st disk from a to c\n",
            "move 2 th disk from a to b\n",
            "move 1st disk from c to b\n",
            "move 3 th disk from a to c\n",
            "move 1st disk from b to a\n",
            "move 2 th disk from b to c\n",
            "move 1st disk from a to c\n"
          ]
        }
      ],
      "source": [
        "def tower_of_hanoi(n, source, aux, dest):\n",
        "  if n==0:\n",
        "    return\n",
        "  if n==1:\n",
        "    print(\"move 1st disk from\", source, \"to\", dest)\n",
        "    return\n",
        "  tower_of_hanoi(n-1, source, dest, aux)\n",
        "  print(\"move\", n, \"th disk from\", source, \"to\", dest)\n",
        "  tower_of_hanoi(n-1, aux, source, dest)\n",
        "\n",
        "tower_of_hanoi(3, 'a', 'b', 'c')"
      ]
    },
    {
      "cell_type": "code",
      "execution_count": null,
      "metadata": {
        "colab": {
          "base_uri": "https://localhost:8080/"
        },
        "id": "oE-s6-wuLrYe",
        "outputId": "f563d5a9-7c17-461b-d53c-2df689057839"
      },
      "outputs": [
        {
          "data": {
            "text/plain": [
              "['1', '5', '7']"
            ]
          },
          "execution_count": 8,
          "metadata": {},
          "output_type": "execute_result"
        }
      ],
      "source": [
        "arr"
      ]
    },
    {
      "cell_type": "markdown",
      "source": [
        "### Time Complexity"
      ],
      "metadata": {
        "id": "zSSaApJiT0M8"
      }
    },
    {
      "cell_type": "markdown",
      "source": [
        "### Experimental Analysis"
      ],
      "metadata": {
        "id": "QrhEJtzyTi1L"
      }
    },
    {
      "cell_type": "code",
      "source": [
        "def merge(a1,a2,a):\n",
        "    i=0\n",
        "    j=0\n",
        "    k=0\n",
        "    while i<len(a1) and j<len(a2):\n",
        "        if(a1[i]<a2[j]):\n",
        "            a[k]=a1[i]\n",
        "            k=k+1\n",
        "            i=i+1\n",
        "        else:\n",
        "            a[k]=a2[j]\n",
        "            k=k+1\n",
        "            j=j+1\n",
        "    while i<len(a1):\n",
        "        a[k]=a1[i]\n",
        "        k=k+1\n",
        "        i=i+1\n",
        "    while j<len(a2):\n",
        "        a2[k]=a2[j]\n",
        "        k=k+1\n",
        "        j=j+1\n",
        "def merge_sort(a):\n",
        "    if len(a)==0 or len(a)==1:\n",
        "        return\n",
        "    mid=len(a)//2\n",
        "    a1=a[0:mid]\n",
        "    a2=a[mid:]\n",
        "\n",
        "    merge_sort(a1)\n",
        "    merge_sort(a2)\n",
        "    merge(a1,a2,a)\n",
        "\n",
        "def selection_sort(a):\n",
        "    for i in range(len(a)):\n",
        "        min_idx=i\n",
        "        for j in range(i+1,len(a)):\n",
        "            if a[min_idx]>a[j]:\n",
        "                min_idx=j\n",
        "                a[i],a[min_idx]=a[min_idx],a[i]\n",
        "\n",
        "def create_rev_array(n):\n",
        "    a=[]\n",
        "    for i in range(n,0,-1):\n",
        "        a.append(i)\n",
        "    return a\n",
        "\n",
        "import time\n",
        "\n",
        "n=100000\n",
        "\n",
        "a=create_rev_array(n)\n",
        "start=time.time()\n",
        "merge_sort(a)\n",
        "end=time.time()\n",
        "print(n,end-start)\n",
        "\n",
        "a=create_rev_array(n)\n",
        "start=time.time()\n",
        "selection_sort(a)\n",
        "end=time.time()\n",
        "print(n,end-start)"
      ],
      "metadata": {
        "colab": {
          "base_uri": "https://localhost:8080/"
        },
        "id": "vJpGWD46TnSP",
        "outputId": "d0f9d9d0-99ec-4a1c-8078-e99796b5074d"
      },
      "execution_count": null,
      "outputs": [
        {
          "output_type": "stream",
          "name": "stdout",
          "text": [
            "100000 0.7059836387634277\n",
            "100000 1028.6595406532288\n"
          ]
        }
      ]
    },
    {
      "cell_type": "markdown",
      "source": [
        "Big O Notation - Iterative Linear"
      ],
      "metadata": {
        "id": "AToMDgCjZIyE"
      }
    },
    {
      "cell_type": "code",
      "source": [],
      "metadata": {
        "id": "ko-YW61EZQh4"
      },
      "execution_count": null,
      "outputs": []
    },
    {
      "cell_type": "code",
      "source": [],
      "metadata": {
        "id": "pWs8-0yLZRNR"
      },
      "execution_count": null,
      "outputs": []
    },
    {
      "cell_type": "markdown",
      "metadata": {
        "id": "u9ac4x_lx61-"
      },
      "source": [
        "## Know your code editor"
      ]
    },
    {
      "cell_type": "code",
      "execution_count": null,
      "metadata": {
        "colab": {
          "base_uri": "https://localhost:8080/"
        },
        "id": "bKjDpzYmOmMi",
        "outputId": "f5a2b4ec-fcb7-4018-fafe-a04543b9a13d"
      },
      "outputs": [
        {
          "name": "stdout",
          "output_type": "stream",
          "text": [
            "false\n"
          ]
        }
      ],
      "source": [
        "# To check whether a matrix is cross-matrix or not\n",
        "grid=[[2,0,0,1],[0,3,1,0],[0,5,2,0],[4,0,0,2]]\n",
        "grid=[[5,7,0],[0,3,1],[0,5,0]]\n",
        "flag1=False\n",
        "flag2=False\n",
        "for i in range(len(grid)):\n",
        "  for j in range(len(grid[0])):\n",
        "    if (i==j and grid[i][j]==0) or (i+j==len(grid)-1 and grid[i][j]==0):\n",
        "      flag1=True\n",
        "      break\n",
        "    elif (i!=j and i+j!=len(grid)-1) and grid[i][j]!=0:\n",
        "      flag2=True\n",
        "      break\n",
        "if flag1==True or flag2==True:\n",
        "  print(\"false\")\n",
        "else:\n",
        "  print(\"true\")"
      ]
    },
    {
      "cell_type": "code",
      "execution_count": null,
      "metadata": {
        "colab": {
          "base_uri": "https://localhost:8080/"
        },
        "id": "use-lvsoQ_1c",
        "outputId": "0707ec41-f48e-4676-d159-0744db160c9c"
      },
      "outputs": [
        {
          "name": "stdout",
          "output_type": "stream",
          "text": [
            "[5, 3, 5, 5, 5, 7]\n"
          ]
        }
      ],
      "source": [
        "# Matrix Boundary Traversal\n",
        "mat2=[]\n",
        "# mat = [[1, 2, 3, 4], [5, 6, 7, 8], [9, 10, 11, 12], [13, 14, 15, 16]]\n",
        "# mat = [[5, 3 ], [5, 5], [5, 7]]\n",
        "for i in range(len(mat)):\n",
        "  for j in range(len(mat[0])):\n",
        "    if i==0 and j<=len(mat[0])-1:\n",
        "      mat2.append(mat[i][j])\n",
        "    elif i==len(mat)-1 and j<=len(mat)-1:\n",
        "      mat2.append(mat[i][j])\n",
        "    elif j==0 and i<=len(mat)-1:\n",
        "      mat2.append(mat[i][j])\n",
        "    elif j==len(mat[0])-1 and i<=len(mat)-1:\n",
        "      mat2.append(mat[i][j])\n",
        "print(mat2)"
      ]
    },
    {
      "cell_type": "code",
      "execution_count": null,
      "metadata": {
        "id": "h1JTMKCrdPP-"
      },
      "outputs": [],
      "source": [
        "5\n",
        "9 6\n",
        "9 4 8 4 3 5\n",
        "1 8 1 2 3 4\n",
        "2 1 8 8 4 1\n",
        "7 3 2 3 7 9\n",
        "5 1 7 8 5 3\n",
        "6 5 6 4 6 7\n",
        "8 4 5 6 6 5\n",
        "9 5 3 5 2 6\n",
        "5 8 8 7 1 4\n",
        "8 10\n",
        "4 8 1 9 1 4 4 5 5 7\n",
        "2 1 9 4 6 5 9 6 7 2\n",
        "1 8 6 4 4 4 1 2 7 2\n",
        "5 2 1 3 8 1 7 2 3 2\n",
        "6 4 3 5 8 6 7 5 2 3\n",
        "4 1 8 9 4 3 2 2 2 8\n",
        "1 4 7 1 7 5 9 4 4 2\n",
        "3 8 4 3 3 2 9 8 4 8\n",
        "5 9\n",
        "8 8 5 9 8 6 8 1 2\n",
        "7 4 7 7 1 9 4 2 4\n",
        "4 3 2 7 5 2 6 4 9\n",
        "7 1 7 2 8 6 4 6 2\n",
        "9 2 2 9 8 4 6 4 2\n",
        "7 6\n",
        "2 6 8 4 5 3\n",
        "6 7 6 8 4 3\n",
        "8 2 5 4 5 8\n",
        "9 6 6 2 6 3\n",
        "7 9 6 1 8 8\n",
        "6 9 3 2 3 7\n",
        "3 9 2 8 7 6\n",
        "6 6\n",
        "5 4 8 9 9 6\n",
        "3 3 5 8 5 2\n",
        "5 8 1 4 7 4\n",
        "3 9 3 4 6 5\n",
        "3 8 4 7 2 3\n",
        "9 6 4 5 3 3\n"
      ]
    },
    {
      "cell_type": "code",
      "execution_count": null,
      "metadata": {
        "colab": {
          "base_uri": "https://localhost:8080/"
        },
        "id": "DLxpvEG00_Wd",
        "outputId": "ab03864c-712d-439a-84b5-d0588528c30b"
      },
      "outputs": [
        {
          "name": "stdout",
          "output_type": "stream",
          "text": [
            "[1, 1, 2, 3, 3, 3, 4, 4, 4, 4, 5, 5, 7, 8, 8, 8, 9, 9]\n",
            "18\n"
          ]
        }
      ],
      "source": [
        "# Matrix Boundary Traversal\n",
        "mat2=[]\n",
        "# mat = [[1, 2, 3, 4], [5, 6, 7, 8], [9, 10, 11, 12], [13, 14, 15, 16]]\n",
        "# mat = [[5, 3 ], [5, 5], [5, 7]]\n",
        "# mat = [[9, 4, 8, 4, 3, 5], [1, 8, 1, 2, 3, 4], [2, 1, 8, 8, 4, 1], [7, 3, 2, 3, 7, 9], [5, 1, 7, 8, 5, 3], [6, 5, 6, 4, 6, 7], [8, 4, 5, 6, 6, 5], [9, 5, 3, 5, 2, 6], [5, 8, 8, 7, 1, 4]]\n",
        "mat = [[4, 8, 1, 9, 1, 4, 4, 5, 5, 7],[2, 1, 9, 4, 6, 5, 9, 6, 7, 2], [1, 8, 6, 4, 4, 4, 1, 2, 7, 2], [5, 2, 1, 3, 8, 1, 7, 2, 3, 2], [6, 4, 3, 5, 8, 6, 7, 5, 2, 3], [4, 1, 8, 9, 4, 3, 2, 2, 2, 8], [1, 4, 7, 1, 7, 5, 9, 4, 4, 2], [3, 8, 4, 3, 3, 2, 9, 8, 4, 8]]\n",
        "for i in range(len(mat)):\n",
        "  for j in range(len(mat[0])):\n",
        "    if i==0 and j<=len(mat[0])-1:\n",
        "      mat2.append(mat[i][j])\n",
        "    elif i==len(mat)-1 and j<=len(mat)-1:\n",
        "      mat2.append(mat[i][j])\n",
        "    # elif j==0 and i<=len(mat)-1:\n",
        "    #   mat2.append(mat[i][j])\n",
        "    # elif j==len(mat[0])-1 and i<=len(mat)-1:\n",
        "    #   mat2.append(mat[i][j])\n",
        "    mat2.sort()\n",
        "print(mat2)\n",
        "print(len(mat2))"
      ]
    },
    {
      "cell_type": "code",
      "execution_count": null,
      "metadata": {
        "id": "gIxZkuSG9MgY"
      },
      "outputs": [],
      "source": []
    },
    {
      "cell_type": "code",
      "execution_count": null,
      "metadata": {
        "id": "U_UoNYxo35nM"
      },
      "outputs": [],
      "source": [
        "def print_1_to_n(n):\n",
        "  if n==0:\n",
        "    return\n",
        "  print_1_to_n(n-1)\n",
        "  print(n)\n",
        "  return"
      ]
    },
    {
      "cell_type": "code",
      "execution_count": null,
      "metadata": {
        "colab": {
          "base_uri": "https://localhost:8080/"
        },
        "id": "Z69saJcl4Eyp",
        "outputId": "67a6810a-c2d6-4624-f97c-a58b252672e9"
      },
      "outputs": [
        {
          "name": "stdout",
          "output_type": "stream",
          "text": [
            "1\n",
            "2\n",
            "3\n",
            "4\n",
            "5\n"
          ]
        }
      ],
      "source": [
        "print_1_to_n(5)"
      ]
    },
    {
      "cell_type": "code",
      "execution_count": null,
      "metadata": {
        "id": "kf5Iu8Kg4E8W"
      },
      "outputs": [],
      "source": [
        "1. Two Sum\n",
        "Easy\n",
        "Topics\n",
        "Companies\n",
        "Hint\n",
        "\n",
        "Given an array of integers nums and an integer target, return indices of the two numbers such that they add up to target.\n",
        "\n",
        "You may assume that each input would have exactly one solution, and you may not use the same element twice.\n",
        "\n",
        "You can return the answer in any order.\n",
        "\n",
        "\n",
        "\n",
        "Example 1:\n",
        "\n",
        "Input: nums = [2,7,11,15], target = 9\n",
        "Output: [0,1]\n",
        "Explanation: Because nums[0] + nums[1] == 9, we return [0, 1].\n",
        "\n",
        "Example 2:\n",
        "\n",
        "Input: nums = [3,2,4], target = 6\n",
        "Output: [1,2]\n",
        "\n",
        "Example 3:\n",
        "\n",
        "Input: nums = [3,3], target = 6\n",
        "Output: [0,1]\n",
        "\n",
        "\n",
        "\n",
        "Constraints:\n",
        "\n",
        "    2 <= nums.length <= 104\n",
        "    -109 <= nums[i] <= 109\n",
        "    -109 <= target <= 109\n",
        "    Only one valid answer exists.\n",
        "\n",
        "\n",
        "Follow-up: Can you come up with an algorithm that is less than O(n2) time complexity?"
      ]
    },
    {
      "cell_type": "code",
      "execution_count": null,
      "metadata": {
        "id": "Cxux1oQ_sPHl"
      },
      "outputs": [],
      "source": [
        "class Solution(object):\n",
        "    def twoSum(self, nums, target):\n",
        "        \"\"\"\n",
        "        :type nums: List[int]\n",
        "        :type target: int\n",
        "        :rtype: List[int]\n",
        "        \"\"\""
      ]
    },
    {
      "cell_type": "code",
      "execution_count": null,
      "metadata": {
        "id": "hdc0eZ5_sam7"
      },
      "outputs": [],
      "source": [
        "nums = [2,7,11,15]\n",
        "target = 9\n",
        "output =[]"
      ]
    },
    {
      "cell_type": "code",
      "execution_count": null,
      "metadata": {
        "colab": {
          "base_uri": "https://localhost:8080/"
        },
        "id": "bKLmPj3dskAL",
        "outputId": "a0b40133-f5e9-4402-b735-59c222c42e44"
      },
      "outputs": [
        {
          "name": "stdout",
          "output_type": "stream",
          "text": [
            "[0, 1]\n"
          ]
        }
      ],
      "source": [
        "nums = [2,7,11,15]\n",
        "target = 9\n",
        "output =[]\n",
        "for i in range(len(nums)):\n",
        "  for j in range(len(nums)):\n",
        "    if nums[i]+nums[j]==target:\n",
        "      output.append(i)\n",
        "      output.append(j)\n",
        "      break\n",
        "print(list(set(output)))"
      ]
    },
    {
      "cell_type": "code",
      "execution_count": null,
      "metadata": {
        "colab": {
          "base_uri": "https://localhost:8080/"
        },
        "id": "h3cDcL7zwjsO",
        "outputId": "ab6d7fb5-1792-4a29-c7e4-cdc33f0550cd"
      },
      "outputs": [
        {
          "name": "stdout",
          "output_type": "stream",
          "text": [
            "[0, 1]\n"
          ]
        }
      ],
      "source": [
        "nums = [3,3]\n",
        "target = 6\n",
        "\n",
        "output =[]\n",
        "\n",
        "index_map = {}\n",
        "\n",
        "for i, num in enumerate(nums):\n",
        "  complement = target - num\n",
        "  if complement in index_map:\n",
        "    output.append(index_map[complement])\n",
        "    output.append(i)\n",
        "    break\n",
        "  index_map[num]=i\n",
        "print(output)"
      ]
    },
    {
      "cell_type": "code",
      "execution_count": null,
      "metadata": {
        "colab": {
          "base_uri": "https://localhost:8080/"
        },
        "id": "b7Vxaw58alIU",
        "outputId": "a093d2ea-b05a-4538-c7cf-3c50a9957cfa"
      },
      "outputs": [
        {
          "name": "stdout",
          "output_type": "stream",
          "text": [
            "[3, 8, 0]\n"
          ]
        }
      ],
      "source": [
        "def sumOfTwoArrays(arr1, n, arr2, m, output) :\n",
        "  pass\n",
        "output =[]\n",
        "arr1= [6, 2, 4]\n",
        "arr2=[ 7, 5, 6]\n",
        "for i in range(len(arr1)):\n",
        "  for j in range(len(arr2)):\n",
        "    if i==j:\n",
        "      sum = arr1[i]+arr2[j]\n",
        "      if sum<10:\n",
        "        output.append(arr1[i]+arr2[j]+carry)\n",
        "      else:\n",
        "        output.append(sum%10)\n",
        "        carry=1\n",
        "print(output)"
      ]
    },
    {
      "cell_type": "code",
      "source": [
        "mat = [[1, 2, 3, 4], [14, 15, 16, 5], [13, 20, 17, 6], [12, 19, 18, 7], [11, 10, 9, 8]]"
      ],
      "metadata": {
        "id": "fXxzLAQHY-gb"
      },
      "execution_count": null,
      "outputs": []
    },
    {
      "cell_type": "code",
      "source": [
        "i=0\n",
        "j=0\n",
        "output=[]\n",
        "\n",
        "while i==0 and j<=len(mat[0])-1:\n",
        "  output.append(mat[i][j])\n",
        "  j+=1\n",
        "\n",
        "j=len(mat[0])-1\n",
        "i+=1\n",
        "while j==len(mat[0])-1 and i<=len(mat)-1:\n",
        "  output.append(mat[i][j])\n",
        "  i+=1\n",
        "\n",
        "i-=1\n",
        "j-=1\n",
        "while i==len(mat)-1 and j>=0:\n",
        "  output.append(mat[i][j])\n",
        "  j-=1\n",
        "\n",
        "j+=1\n",
        "i-=1\n",
        "\n",
        "while i>0 and j==0:\n",
        "  output.append(mat[i][j])\n",
        "  i-=1\n",
        "print(output)\n",
        "\n",
        "i+=1\n",
        "j+=1\n",
        "\n",
        "while i==1 and j<=len(mat[0])-1-1:\n",
        "  output.append(mat[i][j])\n",
        "  j+=1\n",
        "\n",
        "j-=1\n",
        "i+=1\n",
        "while j==len(mat[0])-1-1 and i<=len(mat)-1-1:\n",
        "  output.append(mat[i][j])\n",
        "  i+=1\n",
        "\n",
        "i-=1\n",
        "j-=1\n",
        "while i==len(mat)-1-1 and j>0:\n",
        "  output.append(mat[i][j])\n",
        "  j-=1\n",
        "\n",
        "j+=1\n",
        "i-=1\n",
        "\n",
        "while i>1 and j==1:\n",
        "  output.append(mat[i][j])\n",
        "  i-=1\n",
        "print(output)\n"
      ],
      "metadata": {
        "colab": {
          "base_uri": "https://localhost:8080/"
        },
        "id": "nUesTxpwZWBI",
        "outputId": "2e6c0371-69e2-4fff-ecf8-7b7b09fc9e06"
      },
      "execution_count": null,
      "outputs": [
        {
          "output_type": "stream",
          "name": "stdout",
          "text": [
            "[1, 2, 3, 4, 5, 6, 7, 8, 9, 10, 11, 12, 13, 14]\n",
            "[1, 2, 3, 4, 5, 6, 7, 8, 9, 10, 11, 12, 13, 14, 15, 16, 17, 18, 19, 20]\n"
          ]
        }
      ]
    },
    {
      "cell_type": "code",
      "source": [
        "i=0\n",
        "j=0\n",
        "k=0\n",
        "output =[]\n",
        "\n",
        "while (len(mat[0])*len(mat))!=(len(output)):\n",
        "  while i==k and j<=len(mat[0])-1-k:\n",
        "    output.append(mat[i][j])\n",
        "    j+=1\n",
        "\n",
        "  j-=1\n",
        "  i+=1\n",
        "  while j==len(mat[0])-1-k and i<=len(mat)-1-k:\n",
        "    output.append(mat[i][j])\n",
        "    i+=1\n",
        "  i-=1\n",
        "  j-=1\n",
        "  while i==len(mat)-1-k and j>=k:\n",
        "    output.append(mat[i][j])\n",
        "    j-=1\n",
        "  j+=1\n",
        "  i-=1\n",
        "  while i>k and j==k:\n",
        "    output.append(mat[i][j])\n",
        "    i-=1\n",
        "  i+=1\n",
        "  j+=1\n",
        "  k+=1\n",
        "print(output)"
      ],
      "metadata": {
        "colab": {
          "base_uri": "https://localhost:8080/"
        },
        "id": "hYfBUQJrg3Lx",
        "outputId": "91d98a3b-9e1a-4dfe-c0ae-8160fbc14b3c"
      },
      "execution_count": null,
      "outputs": [
        {
          "output_type": "stream",
          "name": "stdout",
          "text": [
            "[1, 2, 3, 4, 5, 6, 7, 8, 9, 10, 11, 12, 13, 14, 15, 16, 17, 18, 19, 20]\n"
          ]
        }
      ]
    },
    {
      "cell_type": "code",
      "execution_count": null,
      "metadata": {
        "colab": {
          "background_save": true
        },
        "id": "jegwFN5ZfYQz"
      },
      "outputs": [],
      "source": [
        "arr1= [6, 2, 4]\n",
        "arr2=[ 7, 5, 6]\n",
        "\n",
        "for i in range(len(arr1),0):\n",
        "  print(arr1[i])"
      ]
    },
    {
      "cell_type": "code",
      "source": [
        "def spiralPrint(mat, nRows, mCols):\n",
        "    i=0\n",
        "    j=0\n",
        "    k=0\n",
        "    output =[]\n",
        "    while (len(mat[0])*len(mat))!=(len(output)):\n",
        "        while i==k and j<=len(mat[0])-1-k:\n",
        "            output.append(mat[i][j])\n",
        "            j+=1\n",
        "        j-=1\n",
        "        i+=1\n",
        "        while j==len(mat[0])-1-k and i<=len(mat)-1-k:\n",
        "            output.append(mat[i][j])\n",
        "            i+=1\n",
        "        i-=1\n",
        "        j-=1\n",
        "        while i==len(mat)-1-k and j>=k:\n",
        "            output.append(mat[i][j])\n",
        "            j-=1\n",
        "        j+=1\n",
        "        i-=1\n",
        "        while i>k and j==k:\n",
        "            output.append(mat[i][j])\n",
        "            i-=1\n",
        "        i+=1\n",
        "        j+=1\n",
        "        k+=1\n",
        "        return output"
      ],
      "metadata": {
        "id": "ZtoyVCGao9cq"
      },
      "execution_count": null,
      "outputs": []
    },
    {
      "cell_type": "code",
      "execution_count": null,
      "metadata": {
        "id": "acJNLbzJf9Lg"
      },
      "outputs": [],
      "source": [
        "a"
      ]
    },
    {
      "cell_type": "code",
      "source": [
        "str1= \"sinrtg\"\n",
        "str2 = \"string\"\n",
        "\n",
        "a = sum(ord(char) for char in str1)\n",
        "b = sum(ord(char) for char in str2)\n",
        "\n",
        "print(a)\n",
        "print(b)"
      ],
      "metadata": {
        "colab": {
          "base_uri": "https://localhost:8080/"
        },
        "id": "y042_AjaSa9D",
        "outputId": "9ec8dd9e-5a0a-4934-90b3-6f9e71d09919"
      },
      "execution_count": null,
      "outputs": [
        {
          "output_type": "stream",
          "name": "stdout",
          "text": [
            "663\n",
            "663\n"
          ]
        }
      ]
    },
    {
      "cell_type": "code",
      "source": [
        "def isPalindrome(string: str) -> bool:\n",
        "    if len(string)==1 or len(string)==0:\n",
        "        return True\n",
        "    elif (string[0]!=string[-1]) and len(string)>1:\n",
        "        return False\n",
        "    else:\n",
        "        output=isPalindrome(string[1: len(string)-1])\n",
        "        return output\n",
        "print(isPalindrome(\"sucuhhucus\"))"
      ],
      "metadata": {
        "colab": {
          "base_uri": "https://localhost:8080/"
        },
        "id": "mgXst_kLxwSQ",
        "outputId": "c538b7be-050e-4daf-ce24-5da41f48f714"
      },
      "execution_count": null,
      "outputs": [
        {
          "output_type": "stream",
          "name": "stdout",
          "text": [
            "True\n"
          ]
        }
      ]
    },
    {
      "cell_type": "code",
      "source": [
        "\n",
        "def sum_intno(int_no):\n",
        "  if len(int_no)==1:\n",
        "    return int_no\n",
        "  else:\n",
        "    return int(int(int_no[0]) + sum_intno(str(int_no[1:])))\n",
        "int_no = input()\n",
        "print(sum_intno(int_no))"
      ],
      "metadata": {
        "colab": {
          "base_uri": "https://localhost:8080/",
          "height": 359
        },
        "id": "onh9QqZkzbr1",
        "outputId": "af42bfe3-962a-48c7-c7a6-f28fa2f9b7de"
      },
      "execution_count": null,
      "outputs": [
        {
          "name": "stdout",
          "output_type": "stream",
          "text": [
            "12345\n"
          ]
        },
        {
          "output_type": "error",
          "ename": "TypeError",
          "evalue": "unsupported operand type(s) for +: 'int' and 'str'",
          "traceback": [
            "\u001b[0;31m---------------------------------------------------------------------------\u001b[0m",
            "\u001b[0;31mTypeError\u001b[0m                                 Traceback (most recent call last)",
            "\u001b[0;32m<ipython-input-7-a816662a10e3>\u001b[0m in \u001b[0;36m<cell line: 7>\u001b[0;34m()\u001b[0m\n\u001b[1;32m      5\u001b[0m     \u001b[0;32mreturn\u001b[0m \u001b[0mint\u001b[0m\u001b[0;34m(\u001b[0m\u001b[0mint\u001b[0m\u001b[0;34m(\u001b[0m\u001b[0mint_no\u001b[0m\u001b[0;34m[\u001b[0m\u001b[0;36m0\u001b[0m\u001b[0;34m]\u001b[0m\u001b[0;34m)\u001b[0m \u001b[0;34m+\u001b[0m \u001b[0msum_intno\u001b[0m\u001b[0;34m(\u001b[0m\u001b[0mstr\u001b[0m\u001b[0;34m(\u001b[0m\u001b[0mint_no\u001b[0m\u001b[0;34m[\u001b[0m\u001b[0;36m1\u001b[0m\u001b[0;34m:\u001b[0m\u001b[0;34m]\u001b[0m\u001b[0;34m)\u001b[0m\u001b[0;34m)\u001b[0m\u001b[0;34m)\u001b[0m\u001b[0;34m\u001b[0m\u001b[0;34m\u001b[0m\u001b[0m\n\u001b[1;32m      6\u001b[0m \u001b[0mint_no\u001b[0m \u001b[0;34m=\u001b[0m \u001b[0minput\u001b[0m\u001b[0;34m(\u001b[0m\u001b[0;34m)\u001b[0m\u001b[0;34m\u001b[0m\u001b[0;34m\u001b[0m\u001b[0m\n\u001b[0;32m----> 7\u001b[0;31m \u001b[0mprint\u001b[0m\u001b[0;34m(\u001b[0m\u001b[0msum_intno\u001b[0m\u001b[0;34m(\u001b[0m\u001b[0mint_no\u001b[0m\u001b[0;34m)\u001b[0m\u001b[0;34m)\u001b[0m\u001b[0;34m\u001b[0m\u001b[0;34m\u001b[0m\u001b[0m\n\u001b[0m",
            "\u001b[0;32m<ipython-input-7-a816662a10e3>\u001b[0m in \u001b[0;36msum_intno\u001b[0;34m(int_no)\u001b[0m\n\u001b[1;32m      3\u001b[0m     \u001b[0;32mreturn\u001b[0m \u001b[0mint_no\u001b[0m\u001b[0;34m\u001b[0m\u001b[0;34m\u001b[0m\u001b[0m\n\u001b[1;32m      4\u001b[0m   \u001b[0;32melse\u001b[0m\u001b[0;34m:\u001b[0m\u001b[0;34m\u001b[0m\u001b[0;34m\u001b[0m\u001b[0m\n\u001b[0;32m----> 5\u001b[0;31m     \u001b[0;32mreturn\u001b[0m \u001b[0mint\u001b[0m\u001b[0;34m(\u001b[0m\u001b[0mint\u001b[0m\u001b[0;34m(\u001b[0m\u001b[0mint_no\u001b[0m\u001b[0;34m[\u001b[0m\u001b[0;36m0\u001b[0m\u001b[0;34m]\u001b[0m\u001b[0;34m)\u001b[0m \u001b[0;34m+\u001b[0m \u001b[0msum_intno\u001b[0m\u001b[0;34m(\u001b[0m\u001b[0mstr\u001b[0m\u001b[0;34m(\u001b[0m\u001b[0mint_no\u001b[0m\u001b[0;34m[\u001b[0m\u001b[0;36m1\u001b[0m\u001b[0;34m:\u001b[0m\u001b[0;34m]\u001b[0m\u001b[0;34m)\u001b[0m\u001b[0;34m)\u001b[0m\u001b[0;34m)\u001b[0m\u001b[0;34m\u001b[0m\u001b[0;34m\u001b[0m\u001b[0m\n\u001b[0m\u001b[1;32m      6\u001b[0m \u001b[0mint_no\u001b[0m \u001b[0;34m=\u001b[0m \u001b[0minput\u001b[0m\u001b[0;34m(\u001b[0m\u001b[0;34m)\u001b[0m\u001b[0;34m\u001b[0m\u001b[0;34m\u001b[0m\u001b[0m\n\u001b[1;32m      7\u001b[0m \u001b[0mprint\u001b[0m\u001b[0;34m(\u001b[0m\u001b[0msum_intno\u001b[0m\u001b[0;34m(\u001b[0m\u001b[0mint_no\u001b[0m\u001b[0;34m)\u001b[0m\u001b[0;34m)\u001b[0m\u001b[0;34m\u001b[0m\u001b[0;34m\u001b[0m\u001b[0m\n",
            "\u001b[0;32m<ipython-input-7-a816662a10e3>\u001b[0m in \u001b[0;36msum_intno\u001b[0;34m(int_no)\u001b[0m\n\u001b[1;32m      3\u001b[0m     \u001b[0;32mreturn\u001b[0m \u001b[0mint_no\u001b[0m\u001b[0;34m\u001b[0m\u001b[0;34m\u001b[0m\u001b[0m\n\u001b[1;32m      4\u001b[0m   \u001b[0;32melse\u001b[0m\u001b[0;34m:\u001b[0m\u001b[0;34m\u001b[0m\u001b[0;34m\u001b[0m\u001b[0m\n\u001b[0;32m----> 5\u001b[0;31m     \u001b[0;32mreturn\u001b[0m \u001b[0mint\u001b[0m\u001b[0;34m(\u001b[0m\u001b[0mint\u001b[0m\u001b[0;34m(\u001b[0m\u001b[0mint_no\u001b[0m\u001b[0;34m[\u001b[0m\u001b[0;36m0\u001b[0m\u001b[0;34m]\u001b[0m\u001b[0;34m)\u001b[0m \u001b[0;34m+\u001b[0m \u001b[0msum_intno\u001b[0m\u001b[0;34m(\u001b[0m\u001b[0mstr\u001b[0m\u001b[0;34m(\u001b[0m\u001b[0mint_no\u001b[0m\u001b[0;34m[\u001b[0m\u001b[0;36m1\u001b[0m\u001b[0;34m:\u001b[0m\u001b[0;34m]\u001b[0m\u001b[0;34m)\u001b[0m\u001b[0;34m)\u001b[0m\u001b[0;34m)\u001b[0m\u001b[0;34m\u001b[0m\u001b[0;34m\u001b[0m\u001b[0m\n\u001b[0m\u001b[1;32m      6\u001b[0m \u001b[0mint_no\u001b[0m \u001b[0;34m=\u001b[0m \u001b[0minput\u001b[0m\u001b[0;34m(\u001b[0m\u001b[0;34m)\u001b[0m\u001b[0;34m\u001b[0m\u001b[0;34m\u001b[0m\u001b[0m\n\u001b[1;32m      7\u001b[0m \u001b[0mprint\u001b[0m\u001b[0;34m(\u001b[0m\u001b[0msum_intno\u001b[0m\u001b[0;34m(\u001b[0m\u001b[0mint_no\u001b[0m\u001b[0;34m)\u001b[0m\u001b[0;34m)\u001b[0m\u001b[0;34m\u001b[0m\u001b[0;34m\u001b[0m\u001b[0m\n",
            "\u001b[0;32m<ipython-input-7-a816662a10e3>\u001b[0m in \u001b[0;36msum_intno\u001b[0;34m(int_no)\u001b[0m\n\u001b[1;32m      3\u001b[0m     \u001b[0;32mreturn\u001b[0m \u001b[0mint_no\u001b[0m\u001b[0;34m\u001b[0m\u001b[0;34m\u001b[0m\u001b[0m\n\u001b[1;32m      4\u001b[0m   \u001b[0;32melse\u001b[0m\u001b[0;34m:\u001b[0m\u001b[0;34m\u001b[0m\u001b[0;34m\u001b[0m\u001b[0m\n\u001b[0;32m----> 5\u001b[0;31m     \u001b[0;32mreturn\u001b[0m \u001b[0mint\u001b[0m\u001b[0;34m(\u001b[0m\u001b[0mint\u001b[0m\u001b[0;34m(\u001b[0m\u001b[0mint_no\u001b[0m\u001b[0;34m[\u001b[0m\u001b[0;36m0\u001b[0m\u001b[0;34m]\u001b[0m\u001b[0;34m)\u001b[0m \u001b[0;34m+\u001b[0m \u001b[0msum_intno\u001b[0m\u001b[0;34m(\u001b[0m\u001b[0mstr\u001b[0m\u001b[0;34m(\u001b[0m\u001b[0mint_no\u001b[0m\u001b[0;34m[\u001b[0m\u001b[0;36m1\u001b[0m\u001b[0;34m:\u001b[0m\u001b[0;34m]\u001b[0m\u001b[0;34m)\u001b[0m\u001b[0;34m)\u001b[0m\u001b[0;34m)\u001b[0m\u001b[0;34m\u001b[0m\u001b[0;34m\u001b[0m\u001b[0m\n\u001b[0m\u001b[1;32m      6\u001b[0m \u001b[0mint_no\u001b[0m \u001b[0;34m=\u001b[0m \u001b[0minput\u001b[0m\u001b[0;34m(\u001b[0m\u001b[0;34m)\u001b[0m\u001b[0;34m\u001b[0m\u001b[0;34m\u001b[0m\u001b[0m\n\u001b[1;32m      7\u001b[0m \u001b[0mprint\u001b[0m\u001b[0;34m(\u001b[0m\u001b[0msum_intno\u001b[0m\u001b[0;34m(\u001b[0m\u001b[0mint_no\u001b[0m\u001b[0;34m)\u001b[0m\u001b[0;34m)\u001b[0m\u001b[0;34m\u001b[0m\u001b[0;34m\u001b[0m\u001b[0m\n",
            "\u001b[0;32m<ipython-input-7-a816662a10e3>\u001b[0m in \u001b[0;36msum_intno\u001b[0;34m(int_no)\u001b[0m\n\u001b[1;32m      3\u001b[0m     \u001b[0;32mreturn\u001b[0m \u001b[0mint_no\u001b[0m\u001b[0;34m\u001b[0m\u001b[0;34m\u001b[0m\u001b[0m\n\u001b[1;32m      4\u001b[0m   \u001b[0;32melse\u001b[0m\u001b[0;34m:\u001b[0m\u001b[0;34m\u001b[0m\u001b[0;34m\u001b[0m\u001b[0m\n\u001b[0;32m----> 5\u001b[0;31m     \u001b[0;32mreturn\u001b[0m \u001b[0mint\u001b[0m\u001b[0;34m(\u001b[0m\u001b[0mint\u001b[0m\u001b[0;34m(\u001b[0m\u001b[0mint_no\u001b[0m\u001b[0;34m[\u001b[0m\u001b[0;36m0\u001b[0m\u001b[0;34m]\u001b[0m\u001b[0;34m)\u001b[0m \u001b[0;34m+\u001b[0m \u001b[0msum_intno\u001b[0m\u001b[0;34m(\u001b[0m\u001b[0mstr\u001b[0m\u001b[0;34m(\u001b[0m\u001b[0mint_no\u001b[0m\u001b[0;34m[\u001b[0m\u001b[0;36m1\u001b[0m\u001b[0;34m:\u001b[0m\u001b[0;34m]\u001b[0m\u001b[0;34m)\u001b[0m\u001b[0;34m)\u001b[0m\u001b[0;34m)\u001b[0m\u001b[0;34m\u001b[0m\u001b[0;34m\u001b[0m\u001b[0m\n\u001b[0m\u001b[1;32m      6\u001b[0m \u001b[0mint_no\u001b[0m \u001b[0;34m=\u001b[0m \u001b[0minput\u001b[0m\u001b[0;34m(\u001b[0m\u001b[0;34m)\u001b[0m\u001b[0;34m\u001b[0m\u001b[0;34m\u001b[0m\u001b[0m\n\u001b[1;32m      7\u001b[0m \u001b[0mprint\u001b[0m\u001b[0;34m(\u001b[0m\u001b[0msum_intno\u001b[0m\u001b[0;34m(\u001b[0m\u001b[0mint_no\u001b[0m\u001b[0;34m)\u001b[0m\u001b[0;34m)\u001b[0m\u001b[0;34m\u001b[0m\u001b[0;34m\u001b[0m\u001b[0m\n",
            "\u001b[0;31mTypeError\u001b[0m: unsupported operand type(s) for +: 'int' and 'str'"
          ]
        }
      ]
    },
    {
      "cell_type": "code",
      "source": [
        "def sum_intstr(int_str):\n",
        "  if len(int_str)==1:\n",
        "    return int(int_str)\n",
        "  else:\n",
        "    return int(int_str[0]) + sum_intstr(int_str[1:])\n",
        "\n",
        "\n",
        "int_str = \"12345\"\n",
        "sum_intstr(int_str)"
      ],
      "metadata": {
        "colab": {
          "base_uri": "https://localhost:8080/"
        },
        "id": "gqWzGNzN67i-",
        "outputId": "c02e5c4f-aca7-485e-e486-ca1f6f14ebde"
      },
      "execution_count": null,
      "outputs": [
        {
          "output_type": "execute_result",
          "data": {
            "text/plain": [
              "15"
            ]
          },
          "metadata": {},
          "execution_count": 8
        }
      ]
    },
    {
      "cell_type": "code",
      "source": [
        "def sum_multiplication(x,n):\n",
        "    if n==0:\n",
        "        return 0\n",
        "    else:\n",
        "        return int(x) + sum_multiplication(x, n-1)\n",
        "\n",
        "x=int(input())\n",
        "n=int(input())\n",
        "print(sum_multiplication(x,n))"
      ],
      "metadata": {
        "colab": {
          "base_uri": "https://localhost:8080/"
        },
        "id": "jar7tp9REPNF",
        "outputId": "bff8d500-0899-44fc-fe56-5d4bef6dd060"
      },
      "execution_count": null,
      "outputs": [
        {
          "output_type": "stream",
          "name": "stdout",
          "text": [
            "3\n",
            "5\n",
            "15\n"
          ]
        }
      ]
    },
    {
      "cell_type": "code",
      "source": [
        "number = \"001234\"\n",
        "print(int(number))"
      ],
      "metadata": {
        "colab": {
          "base_uri": "https://localhost:8080/"
        },
        "id": "gv5xn-zBS0qd",
        "outputId": "cfe6e9ac-e0f4-4a95-a660-9f2829987ea8"
      },
      "execution_count": null,
      "outputs": [
        {
          "output_type": "stream",
          "name": "stdout",
          "text": [
            "1234\n"
          ]
        }
      ]
    },
    {
      "cell_type": "code",
      "source": [
        "number=\"102004\"\n",
        "\n",
        "def count_zeroes(number):\n",
        "  if len(number)==0:\n",
        "    return 0\n",
        "  elif number[0]==0:\n",
        "    return 1 + count_zeroes(number[1:])\n",
        "  else:\n",
        "    return count_zeroes(number[1:])\n",
        "\n",
        "print(count_zeroes(number))\n"
      ],
      "metadata": {
        "colab": {
          "base_uri": "https://localhost:8080/"
        },
        "id": "wAK3EblqS9Lf",
        "outputId": "bfa30a80-7ac7-4d87-ae51-3c041b795e82"
      },
      "execution_count": null,
      "outputs": [
        {
          "output_type": "stream",
          "name": "stdout",
          "text": [
            "0\n"
          ]
        }
      ]
    },
    {
      "cell_type": "markdown",
      "source": [
        "## Creating classes in python"
      ],
      "metadata": {
        "id": "gZIWRlbBxSjc"
      }
    },
    {
      "cell_type": "code",
      "source": [
        "class student:\n",
        "  def __init__(self) -> None:\n",
        "    self.name = \"\"\n",
        "    self.marks = []\n",
        "    self.address = \"\"\n",
        "\n",
        "  def setName(self, name):\n",
        "    self.name = name\n",
        "\n",
        "  def addMarks(self, marks):\n",
        "    self.marks.append(marks)\n",
        "\n",
        "  def setAddress(self, address):\n",
        "    self.address = address\n",
        "\n",
        "  def calculateAverage(self):\n",
        "    tot=0\n",
        "    for i in self.marks:\n",
        "      tot+=i\n",
        "    return tot/len(self.marks)\n",
        "\n",
        "studentA = student()\n",
        "studentB = student()\n",
        "\n",
        "studentA.setName(\"Soham\")\n",
        "studentA.addMarks(90)\n",
        "studentA.addMarks(92)\n",
        "studentB.setName(\"Rohan\")\n",
        "studentB.addMarks(94)\n",
        "studentB.addMarks(86)\n",
        "\n",
        "\n",
        "print(studentA.calculateAverage())\n",
        "print(studentB.calculateAverage())\n",
        "\n"
      ],
      "metadata": {
        "colab": {
          "base_uri": "https://localhost:8080/"
        },
        "id": "YCSmmqNLxXMN",
        "outputId": "3ea691dd-cd82-4862-fc90-2962c350559f"
      },
      "execution_count": null,
      "outputs": [
        {
          "output_type": "stream",
          "name": "stdout",
          "text": [
            "91.0\n",
            "90.0\n"
          ]
        }
      ]
    },
    {
      "cell_type": "markdown",
      "source": [
        "## Class Attributes and Object attributes"
      ],
      "metadata": {
        "id": "RJdVDerb2NDy"
      }
    },
    {
      "cell_type": "code",
      "source": [
        "class Vehicle:\n",
        "  stopping_mechanism = \"brake\"\n",
        "  count = 0\n",
        "  def __init__(self, num_of_wheels) -> None:\n",
        "    self.num_of_wheels = num_of_wheels\n",
        "  def print_stopping_mechanism(self):\n",
        "    print(Vehicle.stopping_mechanism)\n",
        "  def increment_count(self):\n",
        "    Vehicle.count+=1\n",
        "  def get_count(self):\n",
        "    return Vehicle.count\n",
        "\n",
        "car = Vehicle(4)\n",
        "truck = Vehicle(8)\n",
        "bike = Vehicle(2)\n",
        "# print(car.num_of_wheels)\n",
        "# print(truck.num_of_wheels)\n",
        "# print(bike.num_of_wheels)\n",
        "\n",
        "# car.print_stopping_mechanism()\n",
        "# truck.print_stopping_mechanism()\n",
        "# bike.print_stopping_mechanism()\n",
        "\n",
        "# car.increment_count()\n",
        "# print(car.get_count())\n",
        "# print(bike.get_count())   # count is being affected\n",
        "print(car.__dict__)\n",
        "\n",
        "\n"
      ],
      "metadata": {
        "colab": {
          "base_uri": "https://localhost:8080/"
        },
        "id": "K0FbXEio2SrH",
        "outputId": "f519c883-41f1-49ce-8133-c35c07f0bc23"
      },
      "execution_count": null,
      "outputs": [
        {
          "output_type": "stream",
          "name": "stdout",
          "text": [
            "{'num_of_wheels': 4}\n"
          ]
        }
      ]
    },
    {
      "cell_type": "markdown",
      "source": [
        "## Access Modifiers"
      ],
      "metadata": {
        "id": "yRSxzRauJpmV"
      }
    },
    {
      "cell_type": "code",
      "source": [
        "class student:\n",
        "  def __init__(self, name, marks, adhar_card_number) -> None:\n",
        "    self.name = name\n",
        "    self.marks = marks\n",
        "    self.aadhar_card_number = adhar_card_number\n",
        "\n",
        "student1 = student(\"soham\", [92,85,70], \"XYZA\")\n",
        "\n",
        "print(student1.aadhar_card_number)\n",
        "\n"
      ],
      "metadata": {
        "colab": {
          "base_uri": "https://localhost:8080/"
        },
        "id": "S8X31Vlj6uUL",
        "outputId": "ab9e0e92-1cdc-4d26-f2a2-acfd4d3bb9e4"
      },
      "execution_count": null,
      "outputs": [
        {
          "output_type": "stream",
          "name": "stdout",
          "text": [
            "XYZA\n"
          ]
        }
      ]
    },
    {
      "cell_type": "code",
      "source": [
        "\n",
        "class student:\n",
        "## A private member is accessible only within the class not outside class\n",
        "  __aadhar_card_number = \"\"\n",
        "  __internal_details = \"\"\n",
        "  def __init__(self, name, marks, adhar_card_number) -> None:\n",
        "    self.name = name\n",
        "    self.marks = marks\n",
        "    self.__aadhar_card_number = adhar_card_number\n",
        "    self.__internal_details = f\"{name} is a very good student\"\n",
        "  def get_aadhar_card_number(self):\n",
        "    return self.__aadhar_card_number\n",
        "  def print_internal_details(self):\n",
        "    return self.__internal_details\n",
        "\n",
        "student1 = student(\"soham\", [92,85,70], \"XYZA\")\n",
        "\n",
        "# print(student1.aadhar_card_number)\n",
        "print(student1.get_aadhar_card_number())\n",
        "\n",
        "student1 = student(\"soham\", [92,85,70], \"XYZA\")\n",
        "\n",
        "# print(student1.aadhar_card_number)\n",
        "print(student1.get_aadhar_card_number())\n",
        "print(student1.print_internal_details())"
      ],
      "metadata": {
        "colab": {
          "base_uri": "https://localhost:8080/"
        },
        "id": "utmnMm1jKehz",
        "outputId": "75022215-45f1-42b0-8fb3-b06726105a3d"
      },
      "execution_count": null,
      "outputs": [
        {
          "output_type": "stream",
          "name": "stdout",
          "text": [
            "XYZA\n",
            "XYZA\n",
            "soham is a very good student\n"
          ]
        }
      ]
    },
    {
      "cell_type": "code",
      "source": [
        "class student:\n",
        "## A private member is accessible only within the class not outside class\n",
        "  __aadhar_card_number = \"\"\n",
        "  __internal_details = \"\"\n",
        "  def __init__(self, name, marks, adhar_card_number) -> None:\n",
        "    self.name = name\n",
        "    self.marks = marks\n",
        "    self.__aadhar_card_number = adhar_card_number\n",
        "    self.__internal_details = f\"{name} is a very good student\"\n",
        "  def get_aadhar_card_number(self):\n",
        "    return self.__aadhar_card_number\n",
        "  def print_internal_details(self):\n",
        "    return self.__internal_details\n",
        "  def __internal_feedback(self):\n",
        "    return f\"Here is the internal feedback for {self.name}\"\n",
        "\n",
        "student1 = student(\"soham\", [92,85,70], \"XYZA\")\n",
        "\n",
        "print(student1.__internal_feedback())"
      ],
      "metadata": {
        "colab": {
          "base_uri": "https://localhost:8080/",
          "height": 196
        },
        "id": "NwDhAfl0N3io",
        "outputId": "6c92d39a-849f-4b17-95e4-fb26b4caa8c7"
      },
      "execution_count": null,
      "outputs": [
        {
          "output_type": "error",
          "ename": "AttributeError",
          "evalue": "'student' object has no attribute '__internal_feedback'",
          "traceback": [
            "\u001b[0;31m---------------------------------------------------------------------------\u001b[0m",
            "\u001b[0;31mAttributeError\u001b[0m                            Traceback (most recent call last)",
            "\u001b[0;32m<ipython-input-18-380bc13df966>\u001b[0m in \u001b[0;36m<cell line: 27>\u001b[0;34m()\u001b[0m\n\u001b[1;32m     25\u001b[0m \u001b[0;31m# print(student1.get_aadhar_card_number())\u001b[0m\u001b[0;34m\u001b[0m\u001b[0;34m\u001b[0m\u001b[0m\n\u001b[1;32m     26\u001b[0m \u001b[0;31m# print(student1.print_internal_details())\u001b[0m\u001b[0;34m\u001b[0m\u001b[0;34m\u001b[0m\u001b[0m\n\u001b[0;32m---> 27\u001b[0;31m \u001b[0mprint\u001b[0m\u001b[0;34m(\u001b[0m\u001b[0mstudent1\u001b[0m\u001b[0;34m.\u001b[0m\u001b[0m__internal_feedback\u001b[0m\u001b[0;34m(\u001b[0m\u001b[0;34m)\u001b[0m\u001b[0;34m)\u001b[0m\u001b[0;34m\u001b[0m\u001b[0;34m\u001b[0m\u001b[0m\n\u001b[0m",
            "\u001b[0;31mAttributeError\u001b[0m: 'student' object has no attribute '__internal_feedback'"
          ]
        }
      ]
    },
    {
      "cell_type": "code",
      "source": [
        "class student:\n",
        "## A private member is accessible only within the class not outside class\n",
        "  __aadhar_card_number = \"\"\n",
        "  __internal_details = \"\"\n",
        "  def __init__(self, name, marks, adhar_card_number) -> None:\n",
        "    self.name = name\n",
        "    self.marks = marks\n",
        "    self.__aadhar_card_number = adhar_card_number\n",
        "    self.__internal_details = f\"{name} is a very good student\"\n",
        "  def get_aadhar_card_number(self):\n",
        "    return self.__aadhar_card_number\n",
        "  def print_internal_details(self):\n",
        "    return self.__internal_details\n",
        "  def __internal_feedback(self):\n",
        "    print(f\"Here is the internal feedback for {self.name}\")\n",
        "  def compute_result(self):\n",
        "    tot =0\n",
        "    for i in self.marks:\n",
        "      tot +=i\n",
        "    self.__internal_feedback()   ### __internal_feedback can be used internally within the function\n",
        "    return tot/len(self.marks)\n",
        "student1 = student(\"soham\", [92,85,70], \"XYZA\")\n",
        "\n",
        "print(student1.compute_result())"
      ],
      "metadata": {
        "colab": {
          "base_uri": "https://localhost:8080/"
        },
        "id": "-AHm8rsMOU4v",
        "outputId": "45099e5d-5669-4ab9-997f-a427a2614339"
      },
      "execution_count": null,
      "outputs": [
        {
          "output_type": "stream",
          "name": "stdout",
          "text": [
            "Here is the internal feedback for soham\n",
            "82.33333333333333\n"
          ]
        }
      ]
    },
    {
      "cell_type": "markdown",
      "source": [
        "## Constructor"
      ],
      "metadata": {
        "id": "D8cGcygYSDNU"
      }
    },
    {
      "cell_type": "code",
      "source": [
        "class student:\n",
        "  def __init__(self, name):\n",
        "    print(\"constructor called\")\n",
        "    self.name = name\n",
        "\n",
        "s = student(\"soham\")\n"
      ],
      "metadata": {
        "colab": {
          "base_uri": "https://localhost:8080/"
        },
        "id": "4Zl7xFxYPYIi",
        "outputId": "c96ad0ce-e214-4d06-fae0-d79de14406a0"
      },
      "execution_count": null,
      "outputs": [
        {
          "output_type": "stream",
          "name": "stdout",
          "text": [
            "constructor called\n"
          ]
        }
      ]
    },
    {
      "cell_type": "code",
      "source": [
        "class student:\n",
        "  pass\n",
        "\n",
        "s = student()\n"
      ],
      "metadata": {
        "id": "YNhP8dAqVZfK"
      },
      "execution_count": null,
      "outputs": []
    },
    {
      "cell_type": "code",
      "source": [
        "class student:\n",
        "  def __init__(self):\n",
        "    self.name = \"\"\n",
        "  def SetName(self, name):\n",
        "    self.name = name\n",
        "\n",
        "s = student()\n",
        "s.SetName(\"Soham\")\n",
        "\n",
        "print(s.__dict__)"
      ],
      "metadata": {
        "colab": {
          "base_uri": "https://localhost:8080/"
        },
        "id": "IJyY6hGbXkvs",
        "outputId": "10fdf806-6247-43bc-d00a-79f06fb3f2ba"
      },
      "execution_count": null,
      "outputs": [
        {
          "output_type": "stream",
          "name": "stdout",
          "text": [
            "{'name': 'Soham'}\n"
          ]
        }
      ]
    },
    {
      "cell_type": "code",
      "source": [
        "class student:\n",
        "  # Default constructor is created in absence of constructor\n",
        "  # def __init__(self):\n",
        "  #   self.name = \"\"\n",
        "  def SetName(self, name):\n",
        "    self.name = name\n",
        "\n",
        "s = student()\n",
        "s.SetName(\"Soham\")\n",
        "\n",
        "print(s.__dict__)"
      ],
      "metadata": {
        "colab": {
          "base_uri": "https://localhost:8080/"
        },
        "id": "hA1_itNqYeWm",
        "outputId": "f01e2652-8db6-4a9b-ed3c-bf983125ec27"
      },
      "execution_count": null,
      "outputs": [
        {
          "output_type": "stream",
          "name": "stdout",
          "text": [
            "{'name': 'Soham'}\n"
          ]
        }
      ]
    },
    {
      "cell_type": "markdown",
      "source": [
        "## Destructors"
      ],
      "metadata": {
        "id": "Iq9lQ9N4aGFp"
      }
    },
    {
      "cell_type": "code",
      "source": [
        "class student:\n",
        "  def __init__(self,name, age):\n",
        "    self.name = name\n",
        "    self.age = age\n",
        "  def __del__(self):\n",
        "    print(\"Destructor called\")\n",
        "s = student(\"Soham\", 24)\n",
        "del s"
      ],
      "metadata": {
        "colab": {
          "base_uri": "https://localhost:8080/"
        },
        "id": "UR6IrHv1aIVk",
        "outputId": "0e9aef94-078d-4519-fed8-3f8d42f6a84b"
      },
      "execution_count": null,
      "outputs": [
        {
          "output_type": "stream",
          "name": "stdout",
          "text": [
            "Destructor called\n"
          ]
        }
      ]
    },
    {
      "cell_type": "markdown",
      "source": [
        "## Decorator in python"
      ],
      "metadata": {
        "id": "TaUjVXmEimmR"
      }
    },
    {
      "cell_type": "code",
      "source": [
        "def welcome_message(intro_message_generator, name):\n",
        "  return intro_message_generator() + name\n",
        "def intro_message():\n",
        "  return \"Greetings!\"\n",
        "print(welcome_message(intro_message, \"Soham\"))"
      ],
      "metadata": {
        "colab": {
          "base_uri": "https://localhost:8080/"
        },
        "id": "xvT9x4ayip-C",
        "outputId": "ce363447-f3f3-46b7-861d-b160dd3a565b"
      },
      "execution_count": null,
      "outputs": [
        {
          "output_type": "stream",
          "name": "stdout",
          "text": [
            "Greetings!Soham\n"
          ]
        }
      ]
    },
    {
      "cell_type": "code",
      "source": [
        "def welcome_message(intro_message_generator, name):\n",
        "  def printer():\n",
        "    return intro_message_generator() + name\n",
        "  return printer\n",
        "def intro_message():\n",
        "  return \"Greetings!\"\n",
        "fn = welcome_message(intro_message, \"Soham\")\n",
        "fn()"
      ],
      "metadata": {
        "colab": {
          "base_uri": "https://localhost:8080/",
          "height": 55
        },
        "id": "f4hKA1fLlNEn",
        "outputId": "6f6e1a78-7b5f-44ec-879a-09a737b1a0d5"
      },
      "execution_count": null,
      "outputs": [
        {
          "output_type": "execute_result",
          "data": {
            "text/plain": [
              "'Greetings!Soham'"
            ],
            "application/vnd.google.colaboratory.intrinsic+json": {
              "type": "string"
            }
          },
          "metadata": {},
          "execution_count": 4
        }
      ]
    },
    {
      "cell_type": "code",
      "source": [
        "# Compute Execution time of function\n",
        "\n",
        "import time\n",
        "\n",
        "def execution_time_check(func):\n",
        "  def inner(*args, **kwargs):\n",
        "    print(\"Calculating execution time\")\n",
        "    start_time = time.time()\n",
        "    val = func(*args, **kwargs)\n",
        "    end_time = time.time()\n",
        "    print(f\"Execution time is: {end_time - start_time}\")\n",
        "    return val\n",
        "  return inner\n",
        "\n",
        "@execution_time_check\n",
        "def calculator(n):\n",
        "  tot=0\n",
        "  for i in range(1,n):\n",
        "    tot+=i\n",
        "  return tot\n",
        "\n",
        "print(calculator(100000))"
      ],
      "metadata": {
        "colab": {
          "base_uri": "https://localhost:8080/"
        },
        "id": "oE4lgm0ImDkj",
        "outputId": "7daa0f0a-5dcb-42a5-ed5f-e394cd1ba2fe"
      },
      "execution_count": null,
      "outputs": [
        {
          "output_type": "stream",
          "name": "stdout",
          "text": [
            "Calculating execution time\n",
            "Execution time is: 0.007508516311645508\n",
            "4999950000\n"
          ]
        }
      ]
    },
    {
      "cell_type": "markdown",
      "source": [
        "## Static Method\n"
      ],
      "metadata": {
        "id": "GNAHV32ymEK9"
      }
    },
    {
      "cell_type": "code",
      "source": [
        "class Student:\n",
        "  def __init__(self, name, marks):\n",
        "    self.name = name\n",
        "    self.marks = marks\n",
        "\n",
        "  @staticmethod\n",
        "  def calculate_sum(arr):\n",
        "    tot=0\n",
        "    for el in arr:\n",
        "      tot+=el\n",
        "    return tot\n",
        "\n",
        "  @staticmethod\n",
        "  def calculate_average(arr):\n",
        "    total = Student.calculate_sum(arr)\n",
        "    return total / len(arr)\n",
        "\n",
        "  @staticmethod\n",
        "  def calculateCGPAfromTotal(total_marks):\n",
        "    if total_marks >= 90:\n",
        "      return \"A\"\n",
        "    elif total_marks >= 80:\n",
        "      return \"B\"\n",
        "    elif total_marks >= 70:\n",
        "      return \"C\"\n",
        "    elif total_marks >= 60:\n",
        "      return \"D\"\n",
        "    else:\n",
        "      return \"E\"\n",
        "\n",
        "  def calculateCGPA(self):\n",
        "    #computations\n",
        "    avg = Student.calculate_average(self.marks)\n",
        "    self.cgpa = Student.calculateCGPAfromTotal(avg)\n",
        "\n",
        "\n",
        "student = Student(\"Soham\", [90,92,94,88])\n",
        "student.calculateCGPA()\n",
        "print(student.cgpa)\n"
      ],
      "metadata": {
        "colab": {
          "base_uri": "https://localhost:8080/"
        },
        "id": "MOQgw2kCwmEo",
        "outputId": "e9e94112-44ac-41b1-899a-411a300a58d3"
      },
      "execution_count": null,
      "outputs": [
        {
          "output_type": "stream",
          "name": "stdout",
          "text": [
            "A\n"
          ]
        }
      ]
    },
    {
      "cell_type": "markdown",
      "source": [
        "## Class Methods"
      ],
      "metadata": {
        "id": "UeVJuIjb4y4G"
      }
    },
    {
      "cell_type": "code",
      "source": [
        "class Student:\n",
        "  def __init__(self, name, age):\n",
        "    self.name = name\n",
        "    self.age = age\n",
        "\n",
        "  @classmethod\n",
        "  def fromBirthYear(cls, name, birth_year):\n",
        "    return cls(name, (2023-birth_year))\n",
        "\n",
        "  def print_data(self):\n",
        "    print(f\"Student data:\\n Name: {self.name}, Age: {self.age}\")\n",
        "\n",
        "student = Student(\"Soham\", 24)\n",
        "student.print_data()\n",
        "student2 = Student.fromBirthYear(\"Rohan\", 2001)\n",
        "student2.print_data()"
      ],
      "metadata": {
        "colab": {
          "base_uri": "https://localhost:8080/"
        },
        "id": "PvllTsYS4x-S",
        "outputId": "e0a75770-b11e-4a1c-ab80-2a0606969861"
      },
      "execution_count": null,
      "outputs": [
        {
          "output_type": "stream",
          "name": "stdout",
          "text": [
            "Student data:\n",
            " Name: Soham, Age: 24\n",
            "Student data:\n",
            " Name: Rohan, Age: 22\n"
          ]
        }
      ]
    },
    {
      "cell_type": "markdown",
      "source": [
        "## Inheritance"
      ],
      "metadata": {
        "id": "6zMl3HIL70Pl"
      }
    },
    {
      "cell_type": "code",
      "source": [],
      "metadata": {
        "id": "NLLQLVaP72r4"
      },
      "execution_count": null,
      "outputs": []
    },
    {
      "cell_type": "markdown",
      "source": [
        "## Inheritance in python"
      ],
      "metadata": {
        "id": "LFBD9PNmrkCl"
      }
    },
    {
      "cell_type": "code",
      "source": [
        "class Person:\n",
        "  def print_person(self):\n",
        "    print(\"person here\")\n",
        "\n",
        "class Employee(Person):\n",
        "  def print_employee(self):\n",
        "    print(\"employee here\")\n",
        "\n",
        "emp = Employee()\n",
        "emp.print_person()\n",
        "emp.print_employee()"
      ],
      "metadata": {
        "colab": {
          "base_uri": "https://localhost:8080/"
        },
        "id": "ds8Ai0kBrncQ",
        "outputId": "ddb44c63-c7e7-456b-eb96-ab497cfd9e62"
      },
      "execution_count": null,
      "outputs": [
        {
          "output_type": "stream",
          "name": "stdout",
          "text": [
            "person here\n",
            "employee here\n"
          ]
        }
      ]
    },
    {
      "cell_type": "code",
      "source": [
        "class Vehicle:\n",
        "  def start(self):\n",
        "    print(\"vehicle started\")\n",
        "\n",
        "class Car(Vehicle):\n",
        "  def getwheels(self):\n",
        "    return 4\n",
        "\n",
        "class Bike(Vehicle):\n",
        "  def getwheels(self):\n",
        "    return 2\n",
        "\n",
        "car = Car()\n",
        "bike = Bike()\n",
        "\n",
        "print(f\"Car has {car.getwheels()} wheels\")\n",
        "car.start()\n",
        "print(f\"Bike has {bike.getwheels()} wheels\")\n",
        "bike.start()"
      ],
      "metadata": {
        "colab": {
          "base_uri": "https://localhost:8080/"
        },
        "id": "XIJzzgLrtT0J",
        "outputId": "b36ceeeb-0420-4f03-acc0-c62d7fb469c6"
      },
      "execution_count": null,
      "outputs": [
        {
          "output_type": "stream",
          "name": "stdout",
          "text": [
            "Car has 4 wheels\n",
            "vehicle started\n",
            "Bike has 2 wheels\n",
            "vehicle started\n"
          ]
        }
      ]
    },
    {
      "cell_type": "markdown",
      "source": [
        "## Initialize variables of Base class"
      ],
      "metadata": {
        "id": "OAyNdb70xAOk"
      }
    },
    {
      "cell_type": "code",
      "source": [
        "class Person(object):\n",
        "\n",
        "  def __init__(self, name, age,idNo):\n",
        "    print(\"init person\")\n",
        "    self.name = name\n",
        "    self.age = age\n",
        "    self.idNo = idNo\n",
        "\n",
        "  def walk(self):\n",
        "    print(f\"{self.name} is walking\")\n",
        "\n",
        "  def travel(self, destination):\n",
        "    print(f\"{self.name} is travelling to {destination}\")\n",
        "\n",
        "class Employee(Person):\n",
        "  def __init__(self, empNo, team, name, age, idNo):\n",
        "    print(\"init employee\")\n",
        "    self.empNo = empNo\n",
        "    self.team = team\n",
        "    super().__init__(name, age, idNo)\n",
        "\n",
        "  def work(self):\n",
        "    print(f\"Employee with {self.empNo} is working\")\n",
        "\n",
        "  def give_attendence(self):\n",
        "    print(f\"Attendence given to {self.empNo}\")\n",
        "\n",
        "emp = Employee(\"EMPID-123\", \"Engineering\", \"Arun\", \"28\", \"ID-254\")\n",
        "emp.travel(\"Bangalore\")\n",
        "\n"
      ],
      "metadata": {
        "colab": {
          "base_uri": "https://localhost:8080/"
        },
        "id": "IGNbyUx4xFvH",
        "outputId": "d5a78fc5-7609-4075-f748-5341f894c181"
      },
      "execution_count": null,
      "outputs": [
        {
          "output_type": "stream",
          "name": "stdout",
          "text": [
            "init employee\n",
            "init person\n",
            "Arun is travelling to Bangalore\n"
          ]
        }
      ]
    },
    {
      "cell_type": "markdown",
      "source": [
        "## Getters and Setters"
      ],
      "metadata": {
        "id": "jRRjAa9T1Ejr"
      }
    },
    {
      "cell_type": "code",
      "source": [
        "class Person:\n",
        "  def __init__(self, name, idNo):\n",
        "    self.name = name\n",
        "    self.idNo = idNo\n",
        "\n",
        "class Employee(Person):\n",
        "  def __init__(self, name, idNo, team, empCode):\n",
        "    super().__init__(name, idNo)\n",
        "    self.empCode = empCode\n",
        "    self.team = team\n",
        "\n",
        "  def print_emp_info(self):\n",
        "    print(\"Employee info:\")\n",
        "    print(f\"Name: {self.name}\")\n",
        "    print(f\"Employee Code: {self.empCode}\")\n",
        "\n",
        "emp = Employee(\"Arun\", \"ID-254\", \"Engineering\", \"EMPID-123\")\n",
        "emp.print_emp_info()"
      ],
      "metadata": {
        "id": "eeZ960D8zaby",
        "colab": {
          "base_uri": "https://localhost:8080/"
        },
        "outputId": "32b9586b-59e6-439d-d7cb-19b78811f931"
      },
      "execution_count": null,
      "outputs": [
        {
          "output_type": "stream",
          "name": "stdout",
          "text": [
            "Employee info:\n",
            "Name: Arun\n",
            "Employee Code: EMPID-123\n"
          ]
        }
      ]
    },
    {
      "cell_type": "code",
      "source": [
        "class Person:\n",
        "\n",
        "  def __init__(self, name, idNo):\n",
        "    self.name = name\n",
        "    self.idNo = idNo\n",
        "\n",
        "  def print_info(self):\n",
        "    print(f\"Name: {self.name}\")\n",
        "    print(f\"ID: {self.idNo}\")\n",
        "\n",
        "class Employee(Person):\n",
        "  def __init__(self, name, idNo, team, empCode):\n",
        "    super().__init__(name, idNo)\n",
        "    self.empCode = empCode\n",
        "    self.team = team\n",
        "\n",
        "  def print_info(self):\n",
        "    print(\"Employee info:\")\n",
        "    super().print_info()\n",
        "    print(f\"Team: {self.team}\")\n",
        "    print(f\"Employee Code: {self.empCode}\")\n",
        "\n",
        "emp = Employee(\"Arun\", \"ID-254\", \"Engineering\", \"EMPID-123\")\n",
        "emp.print_info()"
      ],
      "metadata": {
        "colab": {
          "base_uri": "https://localhost:8080/"
        },
        "id": "HxlH6dRb-UF0",
        "outputId": "6e63d806-ad9f-4e9f-c473-70ff135be779"
      },
      "execution_count": null,
      "outputs": [
        {
          "output_type": "stream",
          "name": "stdout",
          "text": [
            "Employee info:\n",
            "Name: Arun\n",
            "ID: ID-254\n",
            "Team: Engineering\n",
            "Employee Code: EMPID-123\n"
          ]
        }
      ]
    },
    {
      "cell_type": "code",
      "source": [
        "class Person:\n",
        "\n",
        "  def __init__(self, name, idNo):\n",
        "    self.name = name\n",
        "    self.idNo = idNo\n",
        "\n",
        "  def print_info(self):\n",
        "    print(f\"Name: {self.name}\")\n",
        "    print(f\"ID: {self.idNo}\")\n",
        "\n",
        "  def get_name(self):\n",
        "    return self.name\n",
        "\n",
        "class Employee(Person):\n",
        "  def __init__(self, name, idNo, team, empCode):\n",
        "    super().__init__(name, idNo)\n",
        "    self.empCode = empCode\n",
        "    self.team = team\n",
        "\n",
        "  def print_info(self):\n",
        "    print(\"Employee info:\")\n",
        "    super().print_info()\n",
        "    print(f\"Team: {self.team}\")\n",
        "    print(f\"Employee Code: {self.empCode}\")\n",
        "\n",
        "  def get_employee_name(self):\n",
        "    return super().get_name()\n",
        "\n",
        "emp = Employee(\"Arun\", \"ID-254\", \"Engineering\", \"EMPID-123\")\n",
        "emp.get_employee_name()"
      ],
      "metadata": {
        "colab": {
          "base_uri": "https://localhost:8080/",
          "height": 55
        },
        "id": "RtlYcI6X_hGE",
        "outputId": "da84fc12-f035-45fb-edad-8b254efe4815"
      },
      "execution_count": null,
      "outputs": [
        {
          "output_type": "execute_result",
          "data": {
            "text/plain": [
              "'Arun'"
            ],
            "application/vnd.google.colaboratory.intrinsic+json": {
              "type": "string"
            }
          },
          "metadata": {},
          "execution_count": 3
        }
      ]
    },
    {
      "cell_type": "code",
      "source": [
        "## Getters and Setters\n",
        "\n",
        "class Person:\n",
        "\n",
        "  def __init__(self):\n",
        "    self._name = \"\"\n",
        "\n",
        "  @property\n",
        "  def name(self):\n",
        "    print(\"Getter is called\")\n",
        "    return self._name\n",
        "\n",
        "  @name.setter\n",
        "  def name(self, name):\n",
        "    print(\"Setter is called\")\n",
        "    self._name = name\n",
        "\n",
        "person = Person()\n",
        "person.name = \"Arun\"\n",
        "print(person.name)"
      ],
      "metadata": {
        "colab": {
          "base_uri": "https://localhost:8080/"
        },
        "id": "BxidtTHzALhe",
        "outputId": "ac5e1919-f167-4485-efa5-fc26466a5eff"
      },
      "execution_count": null,
      "outputs": [
        {
          "output_type": "stream",
          "name": "stdout",
          "text": [
            "Setter is called\n",
            "Getter is called\n",
            "Arun\n"
          ]
        }
      ]
    },
    {
      "cell_type": "code",
      "source": [
        "## Getters and Setters\n",
        "\n",
        "class Person:\n",
        "\n",
        "  def __init__(self):\n",
        "    self._name = \"\"\n",
        "\n",
        "  @property\n",
        "  def name(self):\n",
        "    print(\"Getter is called\")\n",
        "    return self._name\n",
        "\n",
        "  @name.setter\n",
        "  def name(self, name):\n",
        "    print(\"Setter is called\")\n",
        "    self._name = name\n",
        "\n",
        "\n",
        "class Employee(Person):\n",
        "  def __init__(self, empCode):\n",
        "    super().__init__()\n",
        "    self.empCode = empCode\n",
        "\n",
        "  def populate_person_info(self, name):\n",
        "    self.name = name\n",
        "\n",
        "  def get_person_info(self):\n",
        "    return self.name\n",
        "\n",
        "emp = Employee(\"123\")\n",
        "emp.populate_person_info(\"Arun\")\n",
        "print(emp.get_person_info())"
      ],
      "metadata": {
        "colab": {
          "base_uri": "https://localhost:8080/"
        },
        "id": "zr-WrU2PHM7c",
        "outputId": "c16eafd9-cf4b-4ca9-f40f-59f36e610d6c"
      },
      "execution_count": null,
      "outputs": [
        {
          "output_type": "stream",
          "name": "stdout",
          "text": [
            "Setter is called\n",
            "Getter is called\n",
            "Arun\n"
          ]
        }
      ]
    },
    {
      "cell_type": "markdown",
      "source": [
        "## Protected Members"
      ],
      "metadata": {
        "id": "0oPICRXeKIaQ"
      }
    },
    {
      "cell_type": "code",
      "source": [
        "class Person:\n",
        "  _name = \"\"\n",
        "\n",
        "  def __init__(self, name):\n",
        "    self._name = name\n",
        "\n",
        "class Employee(Person):\n",
        "  def __init__(self, name):\n",
        "    super().__init__(name)\n",
        "  def print_info(self):\n",
        "    print(f\"Employee Name : {self._name}\")\n",
        "\n",
        "emp = Employee(\"Arun\")\n",
        "emp.print_info()\n",
        "emp._name"
      ],
      "metadata": {
        "colab": {
          "base_uri": "https://localhost:8080/",
          "height": 72
        },
        "id": "-MOVypJpB6HR",
        "outputId": "f1d9a0c3-4251-489c-aed9-ace1caaed910"
      },
      "execution_count": null,
      "outputs": [
        {
          "output_type": "stream",
          "name": "stdout",
          "text": [
            "Employee Name : Arun\n"
          ]
        },
        {
          "output_type": "execute_result",
          "data": {
            "text/plain": [
              "'Arun'"
            ],
            "application/vnd.google.colaboratory.intrinsic+json": {
              "type": "string"
            }
          },
          "metadata": {},
          "execution_count": 9
        }
      ]
    },
    {
      "cell_type": "markdown",
      "source": [
        "## Object class"
      ],
      "metadata": {
        "id": "2y28_w1pLWgS"
      }
    },
    {
      "cell_type": "code",
      "source": [
        "class Person:\n",
        "  def __init__(self, name):\n",
        "    self.name=name\n",
        "person = Person(\"Arun\")\n",
        "print(person)"
      ],
      "metadata": {
        "id": "UOfJ-cwBKyba",
        "colab": {
          "base_uri": "https://localhost:8080/"
        },
        "outputId": "138e3c41-7d2b-4957-98ee-e6ace8d91f85"
      },
      "execution_count": null,
      "outputs": [
        {
          "output_type": "stream",
          "name": "stdout",
          "text": [
            "<__main__.Person object at 0x79debda0dab0>\n"
          ]
        }
      ]
    },
    {
      "cell_type": "code",
      "source": [
        "class Person:\n",
        "  def __init__(self, name):\n",
        "    self.name=name\n",
        "  def __str__(self):\n",
        "    return f\"Object person with the name: {self.name}\"\n",
        "person = Person(\"Arun\")\n",
        "print(person)"
      ],
      "metadata": {
        "colab": {
          "base_uri": "https://localhost:8080/"
        },
        "id": "Zz7r3DTfZCMT",
        "outputId": "62dd1c34-e7ba-45dd-ddcd-474f93596c14"
      },
      "execution_count": null,
      "outputs": [
        {
          "output_type": "stream",
          "name": "stdout",
          "text": [
            "Object person with the name: Arun\n"
          ]
        }
      ]
    },
    {
      "cell_type": "code",
      "source": [
        "class Person:\n",
        "  def __init__(self, name):\n",
        "    self.name=name\n",
        "  def __str__(self):\n",
        "    return f\"Object person with the name: {self.name}\"\n",
        "\n",
        "class Employee(Person):\n",
        "  def __init__(self, name, empCode):\n",
        "    super().__init__(name)\n",
        "    self.empCode = empCode\n",
        "\n",
        "  def __str__(self):\n",
        "    return f\"Object employee with name {self.name} and Employeee code {self.empCode}\"\n",
        "\n",
        "emp = Employee(\"Arun\", \"123\")\n",
        "print(emp)"
      ],
      "metadata": {
        "colab": {
          "base_uri": "https://localhost:8080/"
        },
        "id": "SijvlETrZvyC",
        "outputId": "96f687d1-8656-4aa2-8b80-0add7472d751"
      },
      "execution_count": null,
      "outputs": [
        {
          "output_type": "stream",
          "name": "stdout",
          "text": [
            "Object employee with name Arun and Employeee code 123\n"
          ]
        }
      ]
    },
    {
      "cell_type": "code",
      "source": [
        "class Person:\n",
        "  def __init__(self, name):\n",
        "    self.name=name\n",
        "  def __str__(self):\n",
        "    return f\"Object person with the name: {self.name}\"\n",
        "\n",
        "class Employee(Person):\n",
        "  def __init__(self, name, empCode):\n",
        "    super().__init__(name)\n",
        "    self.empCode = empCode\n",
        "\n",
        "  def __str__(self):\n",
        "    rep = \"Employee Details \\n\"\n",
        "    rep += super().__str__() + \"\\n\"\n",
        "    rep+=f\"Employee Conde: {self.empCode}\"\n",
        "    return rep\n",
        "\n",
        "\n",
        "emp = Employee(\"Arun\", \"123\")\n",
        "print(emp)"
      ],
      "metadata": {
        "colab": {
          "base_uri": "https://localhost:8080/"
        },
        "id": "pS6pOBW8a1Vv",
        "outputId": "8b9a0303-6002-47e3-df67-f00a6caba7e0"
      },
      "execution_count": null,
      "outputs": [
        {
          "output_type": "stream",
          "name": "stdout",
          "text": [
            "Employee Details \n",
            "Object person with the name: Arun\n",
            "Employee Conde: 123\n"
          ]
        }
      ]
    },
    {
      "cell_type": "markdown",
      "source": [
        "## Types of Inheritance I"
      ],
      "metadata": {
        "id": "-_Zj3o3dcL5N"
      }
    },
    {
      "cell_type": "code",
      "source": [
        "# Single Inheritance\n",
        "\n",
        "class Person:\n",
        "  def __init__(self, name):\n",
        "    self.name = name\n",
        "class Employee(Person):\n",
        "  def __init__(self, name, empCode):\n",
        "    super().__init__(name)\n",
        "    self.empCode = empCode"
      ],
      "metadata": {
        "id": "aA1ezxO4cPVD"
      },
      "execution_count": null,
      "outputs": []
    },
    {
      "cell_type": "code",
      "source": [
        "# Multiple Inheritance\n",
        "\n",
        "class Father:\n",
        "  def __init__(self, name):\n",
        "    self.fatherName = name\n",
        "\n",
        "class Mother:\n",
        "  def __init__(self, name):\n",
        "    self.motherName = name\n",
        "\n",
        "class Son(Father, Mother):\n",
        "  def __init__(self, name, fatherName, motherName):\n",
        "    Father.__init__(self, fatherName)\n",
        "    Mother.__init__(self, motherName)\n",
        "    self.name = name\n",
        "\n",
        "son = Son(\"A\", \"B\", \"C\")\n",
        "print(son.name, son.fatherName, son.motherName)\n"
      ],
      "metadata": {
        "id": "qw9EWtn6ewui",
        "colab": {
          "base_uri": "https://localhost:8080/"
        },
        "outputId": "d673bf15-14a9-4dc5-975d-025424e0db26"
      },
      "execution_count": null,
      "outputs": [
        {
          "output_type": "stream",
          "name": "stdout",
          "text": [
            "A B C\n"
          ]
        }
      ]
    },
    {
      "cell_type": "code",
      "source": [
        "# Multilevel Inheritance\n",
        "\n",
        "class Person:\n",
        "  def __init__(self, name):\n",
        "    self.name = name\n",
        "\n",
        "class Cricketer(Person):\n",
        "  def __init__(self, name, matchesPlayed):\n",
        "    super().__init__(name)\n",
        "    self.matchesPlayed = matchesPlayed\n",
        "\n",
        "class Batsman(Cricketer):\n",
        "  def __init__(self, name, matchesPlayed, totalRuns):\n",
        "    super().__init__(name, matchesPlayed)\n",
        "    self.totalRuns = totalRuns\n",
        "\n",
        "batsman = Batsman(\"Sachin\", 400, 10000)\n",
        "print(\"Cricketer details: \")\n",
        "print(f\"{batsman.name} has played {batsman.matchesPlayed} matches and scored {batsman.totalRuns} runs\")"
      ],
      "metadata": {
        "colab": {
          "base_uri": "https://localhost:8080/"
        },
        "id": "oGJsGetmQfkc",
        "outputId": "ff3a4ba3-0a34-4846-bd98-e119382ae525"
      },
      "execution_count": null,
      "outputs": [
        {
          "output_type": "stream",
          "name": "stdout",
          "text": [
            "Cricketer details: \n",
            "Sachin has played 400 matches and scored 10000 runs\n"
          ]
        }
      ]
    },
    {
      "cell_type": "code",
      "source": [
        "# Hierarichal Inheritance\n",
        "\n",
        "class Person:\n",
        "  def __init__(self):\n",
        "    print(\"Person constructor is called\")\n",
        "\n",
        "class Student(Person):\n",
        "  def __init__(self):\n",
        "    super().__init__()\n",
        "    print(\"Student constructor is called\")\n",
        "\n",
        "class Employee(Person):\n",
        "  def __init__(self):\n",
        "    super().__init__()\n",
        "    print(\"Employee constructor is called\")\n",
        "\n",
        "student = Student()\n",
        "emp = Employee()\n"
      ],
      "metadata": {
        "colab": {
          "base_uri": "https://localhost:8080/"
        },
        "id": "WJ6abFCKT-oM",
        "outputId": "542b8ca1-d1b7-47f4-c5a2-42935176d142"
      },
      "execution_count": null,
      "outputs": [
        {
          "output_type": "stream",
          "name": "stdout",
          "text": [
            "Person constructor is called\n",
            "Student constructor is called\n",
            "Person constructor is called\n",
            "Employee constructor is called\n"
          ]
        }
      ]
    },
    {
      "cell_type": "code",
      "source": [
        "# Hybrid Inheritance\n",
        "\n",
        "class Person:\n",
        "  def __init__(self):\n",
        "    print(\"Person constructor is called\")\n",
        "\n",
        "class Cricketer(Person):\n",
        "  def __init__(self):\n",
        "    super().__init__()\n",
        "    print(\"Cricketer constructor is called\")\n",
        "\n",
        "class Batsman(Cricketer):\n",
        "  def __init__(self):\n",
        "    super().__init__()\n",
        "    print(\"Batsman constructor is called\")\n",
        "\n",
        "class SchoolMembers:\n",
        "  def __init__(self):\n",
        "    print(\"SchoolMembers constructor is called\")\n",
        "\n",
        "class Student(Person, SchoolMembers):\n",
        "  def __init__(self):\n",
        "    super().__init__()\n",
        "    print(\"Student constructor is called\")\n",
        "\n",
        "student = Student()\n",
        "batsman = Batsman()\n",
        "\n"
      ],
      "metadata": {
        "colab": {
          "base_uri": "https://localhost:8080/"
        },
        "id": "TS5w4zfXWAeL",
        "outputId": "56380894-7889-4e69-ded5-13dc98e0db9e"
      },
      "execution_count": null,
      "outputs": [
        {
          "output_type": "stream",
          "name": "stdout",
          "text": [
            "Person constructor is called\n",
            "Student constructor is called\n",
            "Person constructor is called\n",
            "Cricketer constructor is called\n",
            "Batsman constructor is called\n"
          ]
        }
      ]
    },
    {
      "cell_type": "markdown",
      "source": [
        "## Method Resolution Order II"
      ],
      "metadata": {
        "id": "4kdkeXL7dGm2"
      }
    },
    {
      "cell_type": "code",
      "source": [
        "class A:\n",
        "  def f(self):\n",
        "    print(f\"Inside A\")\n",
        "\n",
        "class B(A):\n",
        "  def f(self):\n",
        "    print(f\"Inside B\")\n",
        "\n",
        "class C(A):\n",
        "  pass\n",
        "\n",
        "class D(B, C):\n",
        "  pass\n",
        "\n",
        "d = D()\n",
        "d.f()"
      ],
      "metadata": {
        "colab": {
          "base_uri": "https://localhost:8080/"
        },
        "id": "EGkze17kdKnF",
        "outputId": "d513c12e-e2d2-411f-ad65-dabc35a17f84"
      },
      "execution_count": null,
      "outputs": [
        {
          "output_type": "stream",
          "name": "stdout",
          "text": [
            "Inside B\n"
          ]
        }
      ]
    },
    {
      "cell_type": "code",
      "source": [
        "class A:\n",
        "  def f(self):\n",
        "    print(f\"Inside A\")\n",
        "\n",
        "class B(A):\n",
        "  def f(self):\n",
        "    print(f\"Inside B\")\n",
        "\n",
        "class C(A):\n",
        "  pass\n",
        "\n",
        "class D(C, B):\n",
        "  pass\n",
        "\n",
        "\" The order will be D C A B A\"\n",
        "\" D -> C -> B -> A\"\n",
        "d = D()\n",
        "d.f()"
      ],
      "metadata": {
        "colab": {
          "base_uri": "https://localhost:8080/"
        },
        "id": "-wV-GoBNeBz_",
        "outputId": "b26de2a8-93a4-459d-f3d3-deb4ebe05cd8"
      },
      "execution_count": null,
      "outputs": [
        {
          "output_type": "stream",
          "name": "stdout",
          "text": [
            "Inside B\n"
          ]
        }
      ]
    },
    {
      "cell_type": "code",
      "source": [
        "class A:\n",
        "  def f(self):\n",
        "    print(f\"Inside A\")\n",
        "\n",
        "class B:\n",
        "  def f(self):\n",
        "    print(f\"Inside B\")\n",
        "\n",
        "class C(A):\n",
        "  pass\n",
        "\n",
        "class D(C, B):\n",
        "  pass\n",
        "\n",
        "\" The orde will be D C A B\"\n",
        "\"D -> C -> A -> B\"\n",
        "d = D()\n",
        "d.f()"
      ],
      "metadata": {
        "colab": {
          "base_uri": "https://localhost:8080/"
        },
        "id": "Hfl9NP4D_DPs",
        "outputId": "e65d11e3-2a39-4272-a90c-cfb19c1d26ea"
      },
      "execution_count": null,
      "outputs": [
        {
          "output_type": "stream",
          "name": "stdout",
          "text": [
            "Inside A\n"
          ]
        }
      ]
    },
    {
      "cell_type": "code",
      "source": [
        "class A:\n",
        "  def f(self):\n",
        "    print(f\"Inside A\")\n",
        "\n",
        "class B:\n",
        "  def f(self):\n",
        "    print(f\"Inside B\")\n",
        "\n",
        "class C(B, A):\n",
        "  pass\n",
        "\n",
        "class D(C, B):\n",
        "  pass\n",
        "\n",
        "class E(C, A):\n",
        "  pass\n",
        "\n",
        "class F(D, E):\n",
        "  pass\n",
        "\n",
        "f = F()\n",
        "f.f()"
      ],
      "metadata": {
        "colab": {
          "base_uri": "https://localhost:8080/"
        },
        "id": "DvroWx3sFgg4",
        "outputId": "2c299207-00fc-454f-d959-3df070c28f21"
      },
      "execution_count": null,
      "outputs": [
        {
          "output_type": "stream",
          "name": "stdout",
          "text": [
            "Inside B\n"
          ]
        }
      ]
    },
    {
      "cell_type": "markdown",
      "source": [
        "## Operator/Function Overloading"
      ],
      "metadata": {
        "id": "sVRGK-ChPKnp"
      }
    },
    {
      "cell_type": "code",
      "source": [
        "# Method Overloading\n",
        "# Function Overloading\n",
        "\n",
        "print(len(\"Arun\"))\n",
        "print(len([1, 2, 3]))"
      ],
      "metadata": {
        "colab": {
          "base_uri": "https://localhost:8080/"
        },
        "id": "MxGudtp-PPmf",
        "outputId": "ffe23894-5a7c-4d6f-9848-e40e87170481"
      },
      "execution_count": null,
      "outputs": [
        {
          "output_type": "stream",
          "name": "stdout",
          "text": [
            "4\n",
            "3\n"
          ]
        }
      ]
    },
    {
      "cell_type": "code",
      "source": [
        "from typing import overload\n",
        "\n",
        "class A:\n",
        "\n",
        "  @overload\n",
        "  def f(sef, x:int) -> str:\n",
        "    ...\n",
        "\n",
        "  @overload\n",
        "  def f(self, x:str) -> str:\n",
        "    ...\n",
        "\n",
        "  def f(self, x) -> str:\n",
        "    if isinstance(x, int):\n",
        "      return \"Integer is called\"\n",
        "\n",
        "    elif isinstance(x, str):\n",
        "      return \"String is called\"\n",
        "\n",
        "a = A()\n",
        "print(a.f(1))\n",
        "print(a.f(\"Arun\"))"
      ],
      "metadata": {
        "colab": {
          "base_uri": "https://localhost:8080/"
        },
        "id": "5-lUuOqZPedV",
        "outputId": "e7c52d4d-0da7-470b-8d6c-8ccfbb26d4d1"
      },
      "execution_count": null,
      "outputs": [
        {
          "output_type": "stream",
          "name": "stdout",
          "text": [
            "Integer is called\n",
            "String is called\n"
          ]
        }
      ]
    },
    {
      "cell_type": "code",
      "source": [
        "print(1+2)\n",
        "print(\"A\"+\"B\")"
      ],
      "metadata": {
        "colab": {
          "base_uri": "https://localhost:8080/"
        },
        "id": "9DjPFRTwSC1X",
        "outputId": "50f5bae8-2be8-4887-e87e-c80b3bdbc7f7"
      },
      "execution_count": null,
      "outputs": [
        {
          "output_type": "stream",
          "name": "stdout",
          "text": [
            "3\n",
            "AB\n"
          ]
        }
      ]
    },
    {
      "cell_type": "code",
      "source": [
        "class Student:\n",
        "\n",
        "  def __init__(self, marks) -> None:\n",
        "    self.marks = marks\n",
        "\n",
        "  def __add__(self, other) -> int:\n",
        "    return self.marks + other.marks\n",
        "\n",
        "  def __gt__(self, other) -> bool:\n",
        "    return self.marks > other.marks\n",
        "\n",
        "student1 = Student(100)\n",
        "student2 = Student(200)\n",
        "print(student1 + student2)\n",
        "print(student1 > student2)\n",
        "print(student1 < student2)"
      ],
      "metadata": {
        "colab": {
          "base_uri": "https://localhost:8080/"
        },
        "id": "TlWISwK7SGUt",
        "outputId": "7af23ad3-6ae8-4278-a750-9f0b1f7772e5"
      },
      "execution_count": null,
      "outputs": [
        {
          "output_type": "stream",
          "name": "stdout",
          "text": [
            "300\n",
            "False\n",
            "True\n"
          ]
        }
      ]
    },
    {
      "cell_type": "markdown",
      "source": [
        "## Function Overriding"
      ],
      "metadata": {
        "id": "Wh2iiuRZVVq4"
      }
    },
    {
      "cell_type": "code",
      "source": [
        "class Bird:\n",
        "  def fly(self):\n",
        "    print(\"Bird can fly\")\n",
        "\n",
        "class Pegion(Bird):\n",
        "  def fly(self):\n",
        "    print(\"Pegion can fly\")\n",
        "\n",
        "class Ostrich(Bird):\n",
        "  def fly(self):\n",
        "    print(\"Ostrich can not fly\")\n",
        "\n",
        "bird = Bird()\n",
        "pegion = Pegion()\n",
        "ostrich = Ostrich()\n",
        "\n",
        "bird.fly()\n",
        "pegion.fly()\n",
        "ostrich.fly()\n"
      ],
      "metadata": {
        "colab": {
          "base_uri": "https://localhost:8080/"
        },
        "id": "O-RP4CEITPQO",
        "outputId": "6f130dc6-3328-4d02-c7cf-d69e389ab377"
      },
      "execution_count": null,
      "outputs": [
        {
          "output_type": "stream",
          "name": "stdout",
          "text": [
            "Bird can fly\n",
            "Pegion can fly\n",
            "Ostrich can not fly\n"
          ]
        }
      ]
    },
    {
      "cell_type": "code",
      "source": [
        "class Bird:\n",
        "  def fly(self):\n",
        "    print(\"Bird can fly\")\n",
        "\n",
        "class Pegion(Bird):\n",
        "  def fly(self):\n",
        "    print(\"Pegion can fly\")\n",
        "\n",
        "class Ostrich(Bird):\n",
        "  def fly(self):\n",
        "    print(\"Ostrich can not fly\")\n",
        "\n",
        "\n",
        "pegion = Pegion()\n",
        "ostrich = Ostrich()\n",
        "\n",
        "birds = [pegion, ostrich]\n",
        "for bird in birds:\n",
        "  bird.fly()\n"
      ],
      "metadata": {
        "colab": {
          "base_uri": "https://localhost:8080/"
        },
        "id": "9zoKKUxKWpWh",
        "outputId": "aa1e8695-2b75-4ac4-c24d-058dfa8ab837"
      },
      "execution_count": null,
      "outputs": [
        {
          "output_type": "stream",
          "name": "stdout",
          "text": [
            "Pegion can fly\n",
            "Ostrich can not fly\n"
          ]
        }
      ]
    },
    {
      "cell_type": "markdown",
      "source": [
        "## Abstract class"
      ],
      "metadata": {
        "id": "MWa1OR_pgajl"
      }
    },
    {
      "cell_type": "code",
      "source": [
        "from abc import ABC, abstractmethod\n",
        "\n",
        "class Bird(ABC):\n",
        "  @abstractmethod\n",
        "  def fly(self):\n",
        "    pass\n",
        "\n",
        "class Pigeon(Bird):\n",
        "  pass\n",
        "\n",
        "pigeon = Pigeon()"
      ],
      "metadata": {
        "colab": {
          "base_uri": "https://localhost:8080/",
          "height": 196
        },
        "id": "EMynjA9Ugcrf",
        "outputId": "3b93d9f4-e74e-43ea-983c-87c8ca5574df"
      },
      "execution_count": null,
      "outputs": [
        {
          "output_type": "error",
          "ename": "TypeError",
          "evalue": "Can't instantiate abstract class Pigeon with abstract method fly",
          "traceback": [
            "\u001b[0;31m---------------------------------------------------------------------------\u001b[0m",
            "\u001b[0;31mTypeError\u001b[0m                                 Traceback (most recent call last)",
            "\u001b[0;32m<ipython-input-14-1e11695614b6>\u001b[0m in \u001b[0;36m<cell line: 11>\u001b[0;34m()\u001b[0m\n\u001b[1;32m      9\u001b[0m   \u001b[0;32mpass\u001b[0m\u001b[0;34m\u001b[0m\u001b[0;34m\u001b[0m\u001b[0m\n\u001b[1;32m     10\u001b[0m \u001b[0;34m\u001b[0m\u001b[0m\n\u001b[0;32m---> 11\u001b[0;31m \u001b[0mpigeon\u001b[0m \u001b[0;34m=\u001b[0m \u001b[0mPigeon\u001b[0m\u001b[0;34m(\u001b[0m\u001b[0;34m)\u001b[0m\u001b[0;34m\u001b[0m\u001b[0;34m\u001b[0m\u001b[0m\n\u001b[0m",
            "\u001b[0;31mTypeError\u001b[0m: Can't instantiate abstract class Pigeon with abstract method fly"
          ]
        }
      ]
    },
    {
      "cell_type": "code",
      "source": [
        "from abc import ABC, abstractmethod\n",
        "\n",
        "class Bird(ABC):\n",
        "  @abstractmethod\n",
        "  def fly(self):\n",
        "    pass\n",
        "\n",
        "class Pigeon(Bird):\n",
        "  def fly(self):\n",
        "    print(\"Pigeon can fly\")\n",
        "  pass\n",
        "\n",
        "class Ostrich(Bird):\n",
        "  def fly(self):\n",
        "    print(\"Ostrich can't fly\")\n",
        "  pass\n",
        "\n",
        "pigeon = Pigeon()\n",
        "pigeon.fly()\n",
        "\n",
        "ostrich = Ostrich()\n",
        "ostrich.fly()"
      ],
      "metadata": {
        "colab": {
          "base_uri": "https://localhost:8080/"
        },
        "id": "IytYokhticPp",
        "outputId": "71b24ba8-4273-4e36-9d44-ea455fcd16e2"
      },
      "execution_count": null,
      "outputs": [
        {
          "output_type": "stream",
          "name": "stdout",
          "text": [
            "Pigeon can fly\n",
            "Ostrich can't fly\n"
          ]
        }
      ]
    },
    {
      "cell_type": "code",
      "source": [
        "\"\"\"\n",
        "Implement a simple banking system where there is bank class and derived classes like SBI, HDFC\n",
        "write a method to calculate simple interest for each bank.\n",
        "SI = (P*R*T)/100\n",
        "Rate is varying per bank\n",
        "\"\"\"\n",
        "\n",
        "\n",
        "class Bank:\n",
        "\n",
        "  def __init__(self, name) -> None:\n",
        "    self.name = name\n",
        "\n",
        "class SBI(Bank):\n",
        "  def __init__(self, name) -> None:\n",
        "    super().__init__(name)\n",
        "\n",
        "  def get_rate(self) -> int:\n",
        "    return 10\n",
        "\n",
        "  def simple_interest(self, p, t) -> float:\n",
        "    return p*t*self.get_rate()/100\n",
        "\n",
        "class HDFC(Bank):\n",
        "  def __init__(self, name) -> None:\n",
        "    super().__init__(name)\n",
        "\n",
        "  def get_rate(self) -> int:\n",
        "    return 15\n",
        "\n",
        "  def simple_interest(self, p, t) -> float:\n",
        "    return p*t*self.get_rate()/100\n",
        "\n",
        "\n",
        "sbi = SBI(\"SBI\")\n",
        "print(sbi.simple_interest(1000, 2))\n",
        "\n",
        "hdfc = HDFC(\"HDFC\")\n",
        "print(hdfc.simple_interest(1000, 2))\n"
      ],
      "metadata": {
        "colab": {
          "base_uri": "https://localhost:8080/"
        },
        "id": "koJ-jVL7jbWE",
        "outputId": "a6f3cb4e-b384-4c56-91d0-3915de3dc76a"
      },
      "execution_count": null,
      "outputs": [
        {
          "output_type": "stream",
          "name": "stdout",
          "text": [
            "200.0\n",
            "300.0\n"
          ]
        }
      ]
    },
    {
      "cell_type": "code",
      "source": [
        "\"\"\"\n",
        "Implement a simple banking system where there is bank class and derived classes like SBI, HDFC\n",
        "write a method to calculate simple interest for each bank.\n",
        "SI = (P*R*T)/100\n",
        "Rate is varying per bank\n",
        "\"\"\"\n",
        "\n",
        "from abc import ABC, abstractmethod\n",
        "\n",
        "class Bank(ABC):\n",
        "\n",
        "  def __init__(self, name) -> None:\n",
        "    self.name = name\n",
        "\n",
        "  @abstractmethod\n",
        "  def get_rate(self) -> int:\n",
        "    pass\n",
        "\n",
        "  def simple_interest(self, p, t) -> float:\n",
        "    return p*t*self.get_rate()/100\n",
        "\n",
        "class SBI(Bank):\n",
        "  def __init__(self, name) -> None:\n",
        "    super().__init__(name)\n",
        "\n",
        "  def get_rate(self) -> int:\n",
        "    return 10\n",
        "\n",
        "\n",
        "class HDFC(Bank):\n",
        "  def __init__(self, name) -> None:\n",
        "    super().__init__(name)\n",
        "\n",
        "  def get_rate(self) -> int:\n",
        "    return 15\n",
        "\n",
        "\n",
        "sbi = SBI(\"SBI\")\n",
        "print(sbi.simple_interest(1000, 2))\n",
        "\n",
        "hdfc = HDFC(\"HDFC\")\n",
        "print(hdfc.simple_interest(1000, 2))\n"
      ],
      "metadata": {
        "colab": {
          "base_uri": "https://localhost:8080/"
        },
        "id": "zlg3bnzhvaOv",
        "outputId": "3f26db7d-d4ce-4fe9-afed-3a86177c2c92"
      },
      "execution_count": null,
      "outputs": [
        {
          "output_type": "stream",
          "name": "stdout",
          "text": [
            "200.0\n",
            "300.0\n"
          ]
        }
      ]
    },
    {
      "cell_type": "markdown",
      "source": [
        "## OOPS III"
      ],
      "metadata": {
        "id": "bojNaA9G2UTY"
      }
    },
    {
      "cell_type": "markdown",
      "source": [
        "### Implementing exception handling in python"
      ],
      "metadata": {
        "id": "OO9Z0urv2ZdS"
      }
    },
    {
      "cell_type": "code",
      "source": [
        "a=2\n",
        "b=0\n",
        "res = a/b\n",
        "print(\"Hello\")"
      ],
      "metadata": {
        "colab": {
          "base_uri": "https://localhost:8080/",
          "height": 213
        },
        "id": "nPrwRsFs2XjI",
        "outputId": "0c51c878-b17b-449f-984a-4a3cf669a329"
      },
      "execution_count": null,
      "outputs": [
        {
          "output_type": "error",
          "ename": "ZeroDivisionError",
          "evalue": "division by zero",
          "traceback": [
            "\u001b[0;31m---------------------------------------------------------------------------\u001b[0m",
            "\u001b[0;31mZeroDivisionError\u001b[0m                         Traceback (most recent call last)",
            "\u001b[0;32m<ipython-input-23-e35a854f2fd3>\u001b[0m in \u001b[0;36m<cell line: 3>\u001b[0;34m()\u001b[0m\n\u001b[1;32m      1\u001b[0m \u001b[0ma\u001b[0m\u001b[0;34m=\u001b[0m\u001b[0;36m2\u001b[0m\u001b[0;34m\u001b[0m\u001b[0;34m\u001b[0m\u001b[0m\n\u001b[1;32m      2\u001b[0m \u001b[0mb\u001b[0m\u001b[0;34m=\u001b[0m\u001b[0;36m0\u001b[0m\u001b[0;34m\u001b[0m\u001b[0;34m\u001b[0m\u001b[0m\n\u001b[0;32m----> 3\u001b[0;31m \u001b[0mres\u001b[0m \u001b[0;34m=\u001b[0m \u001b[0ma\u001b[0m\u001b[0;34m/\u001b[0m\u001b[0mb\u001b[0m\u001b[0;34m\u001b[0m\u001b[0;34m\u001b[0m\u001b[0m\n\u001b[0m\u001b[1;32m      4\u001b[0m \u001b[0mprint\u001b[0m\u001b[0;34m(\u001b[0m\u001b[0;34m\"Hello\"\u001b[0m\u001b[0;34m)\u001b[0m\u001b[0;34m\u001b[0m\u001b[0;34m\u001b[0m\u001b[0m\n",
            "\u001b[0;31mZeroDivisionError\u001b[0m: division by zero"
          ]
        }
      ]
    },
    {
      "cell_type": "code",
      "source": [
        "a=[1,2,3]\n",
        "\n",
        "res = a[4]\n",
        "print(\"Hello\")"
      ],
      "metadata": {
        "colab": {
          "base_uri": "https://localhost:8080/",
          "height": 213
        },
        "id": "4wdRIz_22634",
        "outputId": "68e195f6-1fd1-4b20-a6f7-0786fc0388e1"
      },
      "execution_count": null,
      "outputs": [
        {
          "output_type": "error",
          "ename": "IndexError",
          "evalue": "list index out of range",
          "traceback": [
            "\u001b[0;31m---------------------------------------------------------------------------\u001b[0m",
            "\u001b[0;31mIndexError\u001b[0m                                Traceback (most recent call last)",
            "\u001b[0;32m<ipython-input-24-496e3c82a23f>\u001b[0m in \u001b[0;36m<cell line: 3>\u001b[0;34m()\u001b[0m\n\u001b[1;32m      1\u001b[0m \u001b[0ma\u001b[0m\u001b[0;34m=\u001b[0m\u001b[0;34m[\u001b[0m\u001b[0;36m1\u001b[0m\u001b[0;34m,\u001b[0m\u001b[0;36m2\u001b[0m\u001b[0;34m,\u001b[0m\u001b[0;36m3\u001b[0m\u001b[0;34m]\u001b[0m\u001b[0;34m\u001b[0m\u001b[0;34m\u001b[0m\u001b[0m\n\u001b[1;32m      2\u001b[0m \u001b[0;34m\u001b[0m\u001b[0m\n\u001b[0;32m----> 3\u001b[0;31m \u001b[0mres\u001b[0m \u001b[0;34m=\u001b[0m \u001b[0ma\u001b[0m\u001b[0;34m[\u001b[0m\u001b[0;36m4\u001b[0m\u001b[0;34m]\u001b[0m\u001b[0;34m\u001b[0m\u001b[0;34m\u001b[0m\u001b[0m\n\u001b[0m\u001b[1;32m      4\u001b[0m \u001b[0mprint\u001b[0m\u001b[0;34m(\u001b[0m\u001b[0;34m\"Hello\"\u001b[0m\u001b[0;34m)\u001b[0m\u001b[0;34m\u001b[0m\u001b[0;34m\u001b[0m\u001b[0m\n",
            "\u001b[0;31mIndexError\u001b[0m: list index out of range"
          ]
        }
      ]
    },
    {
      "cell_type": "code",
      "source": [
        "\n",
        "try:\n",
        "  a=2\n",
        "  b=0\n",
        "  res = a/b\n",
        "except ZeroDivisionError as e:\n",
        "  print(\"There is a zero division error\")\n",
        "print(\"Hello\")"
      ],
      "metadata": {
        "colab": {
          "base_uri": "https://localhost:8080/"
        },
        "id": "K8II-B0B5Ypt",
        "outputId": "f51ad334-80ed-42ce-c0ac-91e7ea2edc95"
      },
      "execution_count": null,
      "outputs": [
        {
          "output_type": "stream",
          "name": "stdout",
          "text": [
            "There is a zero division error\n",
            "Hello\n"
          ]
        }
      ]
    },
    {
      "cell_type": "code",
      "source": [
        "\n",
        "try:\n",
        "  a=2\n",
        "  b=1\n",
        "  res = a/b\n",
        "except ZeroDivisionError as e:\n",
        "  print(\"There is a zero division error\")\n",
        "print(\"Hello\")"
      ],
      "metadata": {
        "colab": {
          "base_uri": "https://localhost:8080/"
        },
        "id": "Aihrn5_N21BL",
        "outputId": "858c22f4-853c-4cd3-b752-07dd3704f40e"
      },
      "execution_count": null,
      "outputs": [
        {
          "output_type": "stream",
          "name": "stdout",
          "text": [
            "Hello\n"
          ]
        }
      ]
    },
    {
      "cell_type": "code",
      "source": [
        "\n",
        "try:\n",
        "  a=2\n",
        "  b=0\n",
        "  res = a/b\n",
        "  print(\"xyz\")\n",
        "except ZeroDivisionError as e:\n",
        "  print(\"There is a zero division error\")\n",
        "print(\"Hello\")"
      ],
      "metadata": {
        "colab": {
          "base_uri": "https://localhost:8080/"
        },
        "id": "sMiYcS3Z6N09",
        "outputId": "c460af70-5e6e-496f-d93c-a7b573e57ecf"
      },
      "execution_count": null,
      "outputs": [
        {
          "output_type": "stream",
          "name": "stdout",
          "text": [
            "There is a zero division error\n",
            "Hello\n"
          ]
        }
      ]
    },
    {
      "cell_type": "code",
      "source": [
        "a = [1,2,3,4]\n",
        "\n",
        "try:\n",
        "  index = 6\n",
        "  res = a[index]\n",
        "  print(f\"Element at index {index} is {res}\")\n",
        "\n",
        "except IndexError as e:\n",
        "  print(\"Index out of bound\")\n",
        "\n",
        "a.append(10)\n",
        "a.append(5)\n",
        "\n",
        "print(a)"
      ],
      "metadata": {
        "colab": {
          "base_uri": "https://localhost:8080/"
        },
        "id": "gS42jube67S1",
        "outputId": "442b94ad-b3a0-4406-8245-d5fb9da642a2"
      },
      "execution_count": null,
      "outputs": [
        {
          "output_type": "stream",
          "name": "stdout",
          "text": [
            "Index out of bound\n",
            "[1, 2, 3, 4, 10, 5]\n"
          ]
        }
      ]
    },
    {
      "cell_type": "code",
      "source": [
        "try:\n",
        "  a=[1, 2, 3, 0]\n",
        "  res = a[2]/a[3]\n",
        "except (IndexError, ZeroDivisionError) as e:\n",
        "  print(\"Something went wrong\")\n",
        "print(\"Hello\")"
      ],
      "metadata": {
        "colab": {
          "base_uri": "https://localhost:8080/"
        },
        "id": "IJtyxSqQ7Zzf",
        "outputId": "5befb8f0-30bd-43dd-9446-9064c41dd0d8"
      },
      "execution_count": null,
      "outputs": [
        {
          "output_type": "stream",
          "name": "stdout",
          "text": [
            "Something went wrong\n",
            "Hello\n"
          ]
        }
      ]
    },
    {
      "cell_type": "code",
      "source": [
        "try:\n",
        "  a=[1, 2, 3, 0]\n",
        "  res = a[2]/a[3]\n",
        "except Exception as e:\n",
        "  print(\"Exception is raised\")\n",
        "  print(e)"
      ],
      "metadata": {
        "colab": {
          "base_uri": "https://localhost:8080/"
        },
        "id": "RxoQKKsW_BlO",
        "outputId": "a3b05fbf-bb22-4214-becb-cef6c9dddce2"
      },
      "execution_count": null,
      "outputs": [
        {
          "output_type": "stream",
          "name": "stdout",
          "text": [
            "Exception is raised\n",
            "division by zero\n"
          ]
        }
      ]
    },
    {
      "cell_type": "markdown",
      "source": [
        "## Working with multiple Exceptions"
      ],
      "metadata": {
        "id": "6BAcbAEFeM9o"
      }
    },
    {
      "cell_type": "code",
      "source": [
        "f = open(\"tmp.txt\")"
      ],
      "metadata": {
        "id": "ZNSwqRXR8FrN",
        "colab": {
          "base_uri": "https://localhost:8080/",
          "height": 161
        },
        "outputId": "5a1efe93-d01f-4873-b09c-66722661d743"
      },
      "execution_count": null,
      "outputs": [
        {
          "output_type": "error",
          "ename": "FileNotFoundError",
          "evalue": "[Errno 2] No such file or directory: 'tmp.txt'",
          "traceback": [
            "\u001b[0;31m---------------------------------------------------------------------------\u001b[0m",
            "\u001b[0;31mFileNotFoundError\u001b[0m                         Traceback (most recent call last)",
            "\u001b[0;32m<ipython-input-1-0a1aa09f9d42>\u001b[0m in \u001b[0;36m<cell line: 1>\u001b[0;34m()\u001b[0m\n\u001b[0;32m----> 1\u001b[0;31m \u001b[0mf\u001b[0m \u001b[0;34m=\u001b[0m \u001b[0mopen\u001b[0m\u001b[0;34m(\u001b[0m\u001b[0;34m\"tmp.txt\"\u001b[0m\u001b[0;34m)\u001b[0m\u001b[0;34m\u001b[0m\u001b[0;34m\u001b[0m\u001b[0m\n\u001b[0m",
            "\u001b[0;31mFileNotFoundError\u001b[0m: [Errno 2] No such file or directory: 'tmp.txt'"
          ]
        }
      ]
    },
    {
      "cell_type": "code",
      "source": [
        "try:\n",
        "  f = open(\"tmp.txt\")\n",
        "except FileNotFoundError as e:\n",
        "  print(e)\n",
        "  print(\"File not found\")\n",
        "except OSError as e:\n",
        "  print(e)\n",
        "  print(\"OS Error\")"
      ],
      "metadata": {
        "colab": {
          "base_uri": "https://localhost:8080/"
        },
        "id": "hOXvbW04edNh",
        "outputId": "0455e908-4f1c-44b8-9191-f8c8395aea88"
      },
      "execution_count": null,
      "outputs": [
        {
          "output_type": "stream",
          "name": "stdout",
          "text": [
            "[Errno 2] No such file or directory: 'tmp.txt'\n",
            "File not found\n"
          ]
        }
      ]
    },
    {
      "cell_type": "markdown",
      "source": [
        "## Custom Exceptions"
      ],
      "metadata": {
        "id": "5RBf9EgghFLP"
      }
    },
    {
      "cell_type": "code",
      "source": [
        "class CustomZeroDivisionException(Exception):\n",
        "  pass\n",
        "\n",
        "a=10\n",
        "b=2\n",
        "if b==0:\n",
        "  raise CustomZeroDivisionException(\"Zero Division Error\")\n",
        "res = a/b"
      ],
      "metadata": {
        "id": "xDi6hAQmhEPX"
      },
      "execution_count": null,
      "outputs": []
    },
    {
      "cell_type": "code",
      "source": [
        "class DataBaseConnectionException(Exception):\n",
        "  def __init__(self, message: str, host: str, port: int) -> None:\n",
        "    super().__init__(message)\n",
        "    self.host=host\n",
        "    self.port=port\n",
        "\n",
        "  def __str__(self) -> str:\n",
        "    return f\"{super().__str__()}. Host: {self.host}. Port: {self.port}\"\n",
        "\n",
        "\n",
        "def connect_to_db(host:str, port:int):\n",
        "  raise DataBaseConnectionException(\"Failed to connect to db\", host, port)\n",
        "\n",
        "try:\n",
        "  connect_to_db(\"localhost\", 3306)\n",
        "except DataBaseConnectionException as e:\n",
        "  print(e)"
      ],
      "metadata": {
        "colab": {
          "base_uri": "https://localhost:8080/"
        },
        "id": "lYgAWOzAl0Dm",
        "outputId": "a4dc9f09-c58a-46aa-dc66-0036d182f715"
      },
      "execution_count": null,
      "outputs": [
        {
          "output_type": "stream",
          "name": "stdout",
          "text": [
            "Failed to connect to db. Host: localhost. Port: 3306\n"
          ]
        }
      ]
    },
    {
      "cell_type": "code",
      "source": [
        "class AccountLimitReachedException(Exception):\n",
        "  def __init__(self, message: str, accountNo: str, amount: int) -> None:\n",
        "    super().__init__(message)\n",
        "    self.accountNo = accountNo\n",
        "    self.amount = amount\n",
        "\n",
        "  def print_error_dictionary(self):\n",
        "    message = super().__str__()\n",
        "    print({\"message\": message, \"accountNo\": self.accountNo, \"amount\": self.amount})\n",
        "\n",
        "def withdraw_amount(accNo: str, amount: int):\n",
        "  raise AccountLimitReachedException(\"Account limit reached\", accNo, amount)\n",
        "\n",
        "\n",
        "try:\n",
        "  withdraw_amount(\"123456788\", 1000)\n",
        "except AccountLimitReachedException as e:\n",
        "  e.print_error_dictionary()"
      ],
      "metadata": {
        "colab": {
          "base_uri": "https://localhost:8080/"
        },
        "id": "Zd_yp7AssLI0",
        "outputId": "6d7efe47-043f-46e1-8d35-35fb270e892f"
      },
      "execution_count": null,
      "outputs": [
        {
          "output_type": "stream",
          "name": "stdout",
          "text": [
            "{'message': 'Account limit reached', 'accountNo': '123456788', 'amount': 1000}\n"
          ]
        }
      ]
    },
    {
      "cell_type": "markdown",
      "source": [
        "## Use of Keywords else and finally"
      ],
      "metadata": {
        "id": "NTyZEw_KvdUV"
      }
    },
    {
      "cell_type": "code",
      "source": [
        "# else and finally\n",
        "\n",
        "def f(a):\n",
        "  try:\n",
        "    res = 10/a\n",
        "  except ZeroDivisionError as e:\n",
        "    print(\"Division by zero\")\n",
        "    return -1\n",
        "  else:\n",
        "    print(\"Inside else block\")\n",
        "    return res+10\n",
        "\n",
        "print(f(10))\n"
      ],
      "metadata": {
        "colab": {
          "base_uri": "https://localhost:8080/"
        },
        "id": "xi0PnKcqvgxr",
        "outputId": "7758b76d-2e72-464b-a88c-d704cd87aba3"
      },
      "execution_count": null,
      "outputs": [
        {
          "output_type": "stream",
          "name": "stdout",
          "text": [
            "Inside else block\n",
            "11.0\n"
          ]
        }
      ]
    },
    {
      "cell_type": "code",
      "source": [
        "try:\n",
        "  a=0\n",
        "  res=10/a\n",
        "except ZeroDivisionError as e:\n",
        "  print(\"Division by zero\")\n",
        "finally:\n",
        "  print(\"Inside finally block\")"
      ],
      "metadata": {
        "colab": {
          "base_uri": "https://localhost:8080/"
        },
        "id": "kKcaUAdK4SME",
        "outputId": "e7bb3e58-0bbd-4fc0-d106-9cc3782b7a73"
      },
      "execution_count": null,
      "outputs": [
        {
          "output_type": "stream",
          "name": "stdout",
          "text": [
            "Division by zero\n",
            "Inside finally block\n"
          ]
        }
      ]
    },
    {
      "cell_type": "markdown",
      "source": [
        "## Linked List - 1"
      ],
      "metadata": {
        "id": "5Wn2EgoKGRUc"
      }
    },
    {
      "cell_type": "code",
      "source": [
        "class Node:\n",
        "\n",
        "  def __init__(self, data):\n",
        "    self.data = data\n",
        "    self.next = None\n",
        "\n",
        "a=Node(13)\n",
        "b=Node(15)\n",
        "a.next = b\n",
        "\n",
        "print(a.data)\n",
        "print(b.data)\n",
        "print(a.next.data)\n",
        "\n",
        "print(a)\n",
        "print(a.next)\n",
        "print(b)\n"
      ],
      "metadata": {
        "id": "Icdr3rIh3fhn",
        "colab": {
          "base_uri": "https://localhost:8080/"
        },
        "outputId": "4610983f-2efc-4907-d859-12b0921acad0"
      },
      "execution_count": null,
      "outputs": [
        {
          "output_type": "stream",
          "name": "stdout",
          "text": [
            "13\n",
            "15\n",
            "15\n",
            "<__main__.Node object at 0x7c7292e52140>\n",
            "<__main__.Node object at 0x7c7292e53d00>\n",
            "<__main__.Node object at 0x7c7292e53d00>\n"
          ]
        }
      ]
    },
    {
      "cell_type": "code",
      "source": [
        "class Node:\n",
        "\n",
        "  def __init__(self, data):\n",
        "    self.data = data\n",
        "    self.next = None\n",
        "\n",
        "a=Node(13)\n",
        "b=Node(15)\n",
        "a.next = b\n",
        "\n",
        "\n",
        "print(b.next.data)\n"
      ],
      "metadata": {
        "colab": {
          "base_uri": "https://localhost:8080/",
          "height": 196
        },
        "id": "QI26DKZeUCQi",
        "outputId": "bbeece69-7533-4bb6-c029-f81ab5c00fc2"
      },
      "execution_count": null,
      "outputs": [
        {
          "output_type": "error",
          "ename": "AttributeError",
          "evalue": "'NoneType' object has no attribute 'data'",
          "traceback": [
            "\u001b[0;31m---------------------------------------------------------------------------\u001b[0m",
            "\u001b[0;31mAttributeError\u001b[0m                            Traceback (most recent call last)",
            "\u001b[0;32m<ipython-input-4-313ead9fe709>\u001b[0m in \u001b[0;36m<cell line: 12>\u001b[0;34m()\u001b[0m\n\u001b[1;32m     10\u001b[0m \u001b[0;34m\u001b[0m\u001b[0m\n\u001b[1;32m     11\u001b[0m \u001b[0;34m\u001b[0m\u001b[0m\n\u001b[0;32m---> 12\u001b[0;31m \u001b[0mprint\u001b[0m\u001b[0;34m(\u001b[0m\u001b[0mb\u001b[0m\u001b[0;34m.\u001b[0m\u001b[0mnext\u001b[0m\u001b[0;34m.\u001b[0m\u001b[0mdata\u001b[0m\u001b[0;34m)\u001b[0m\u001b[0;34m\u001b[0m\u001b[0;34m\u001b[0m\u001b[0m\n\u001b[0m",
            "\u001b[0;31mAttributeError\u001b[0m: 'NoneType' object has no attribute 'data'"
          ]
        }
      ]
    },
    {
      "cell_type": "code",
      "source": [
        "#Problem statement\n",
        "\n",
        "#What will be the output?\n",
        "\n",
        "class Node:\n",
        "    def __init__(self, data):\n",
        "        self.data = data\n",
        "        self.next = None\n",
        "def printLL(head):\n",
        "    while head is not None:\n",
        "        print(head.data,end=\" \")\n",
        "        head = head.next\n",
        "\n",
        "\n",
        "\n",
        "node1 = Node(10)\n",
        "node2 = Node(20)\n",
        "node3 = Node(30)\n",
        "node4 = Node(40)\n",
        "node1.next = node2\n",
        "node2.next = node3\n",
        "node3.next = node4\n",
        "printLL(node2)\n"
      ],
      "metadata": {
        "colab": {
          "base_uri": "https://localhost:8080/"
        },
        "id": "yg_6bcWXVXo4",
        "outputId": "98ea7064-7ab4-46be-8a11-78c865f7cc48"
      },
      "execution_count": null,
      "outputs": [
        {
          "output_type": "stream",
          "name": "stdout",
          "text": [
            "20 30 40 "
          ]
        }
      ]
    },
    {
      "cell_type": "markdown",
      "source": [
        "# Linked-List Input - 1"
      ],
      "metadata": {
        "id": "b4y2nIkonDi_"
      }
    },
    {
      "cell_type": "code",
      "source": [
        "class Node:\n",
        "    def __init__(self,data):\n",
        "        self.data=data\n",
        "        self.next=None\n",
        "    def takeInput():\n",
        "        inputList=[int (ele) for ele in input().split()]\n",
        "        head=None\n",
        "        for currData in inputList:\n",
        "            if currData==-1:\n",
        "                break\n",
        "            newNode=Node(currData)\n",
        "            if head is None:\n",
        "                head=newNode\n",
        "            else:\n",
        "                curr=head\n",
        "                while curr.next is not None:\n",
        "                    curr=curr.next\n",
        "                curr.next=newNode\n",
        "        return head\n",
        "head=takeInput()\n",
        "print(head.data)"
      ],
      "metadata": {
        "colab": {
          "base_uri": "https://localhost:8080/"
        },
        "id": "U23xtqCcqHaJ",
        "outputId": "3ba3523c-9001-4eca-bba4-9e9271130e34"
      },
      "execution_count": null,
      "outputs": [
        {
          "output_type": "stream",
          "name": "stdout",
          "text": [
            "1 2 3 4 5 -1\n",
            "1\n"
          ]
        }
      ]
    },
    {
      "cell_type": "markdown",
      "source": [
        "# Print Linked List"
      ],
      "metadata": {
        "id": "eTxNWqE4r41z"
      }
    },
    {
      "cell_type": "code",
      "source": [
        "class Node:\n",
        "  def __init__(self, data):\n",
        "    self.data = data\n",
        "    self.next = None\n",
        "\n",
        "def takeInput():\n",
        "  inputList = [int(ele) for ele in input().split()]\n",
        "  head = None\n",
        "  for currData in inputList:\n",
        "    if currData == -1:\n",
        "      break\n",
        "    newNode = Node(currData)\n",
        "    if head is None:\n",
        "      head = newNode\n",
        "    else:\n",
        "      curr = head\n",
        "      while curr.next is not None:\n",
        "        curr = curr.next\n",
        "      curr.next = newNode\n",
        "  return head\n",
        "\n",
        "def printLL(head):\n",
        "    while head is not None:\n",
        "        print(str(head.data),end=\"->\")\n",
        "        head = head.next\n",
        "    print(\"None\")\n",
        "    return\n",
        "\n",
        "head = takeInput()\n",
        "printLL(head)"
      ],
      "metadata": {
        "colab": {
          "base_uri": "https://localhost:8080/"
        },
        "id": "1GFIKK0Er8QO",
        "outputId": "644fde4f-7a4c-4453-d043-9165f0bc4d51"
      },
      "execution_count": null,
      "outputs": [
        {
          "output_type": "stream",
          "name": "stdout",
          "text": [
            "1 2 3 4 5 6 -1\n",
            "1->2->3->4->5->6->None\n"
          ]
        }
      ]
    },
    {
      "cell_type": "markdown",
      "source": [
        "# Time Complexity of taking input"
      ],
      "metadata": {
        "id": "SGd0K-SavRAc"
      }
    },
    {
      "cell_type": "markdown",
      "source": [
        "O(n2)\n",
        "\n"
      ],
      "metadata": {
        "id": "9kZ3t_-DzKC1"
      }
    },
    {
      "cell_type": "markdown",
      "source": [
        "# Linked List Input - 2"
      ],
      "metadata": {
        "id": "b9dHsHrfzDBP"
      }
    },
    {
      "cell_type": "code",
      "source": [
        "class Node:\n",
        "  def __init__(self, data):\n",
        "    self.data = data\n",
        "    self.next = None\n",
        "\n",
        "def takeInput():\n",
        "  inputList = [int(ele) for ele in input().split()]\n",
        "  head = None\n",
        "  tail = None\n",
        "  for currData in inputList:\n",
        "    if currData == -1:\n",
        "      break\n",
        "    newNode = Node(currData)\n",
        "    if head is None:\n",
        "      head = newNode\n",
        "      tail = newNode\n",
        "    else:\n",
        "      tail.next = newNode\n",
        "      tail = newNode\n",
        "  return head\n",
        "\n",
        "def printLL(head):\n",
        "    while head is not None:\n",
        "        print(str(head.data),end=\"->\")\n",
        "        head = head.next\n",
        "    print(\"None\")\n",
        "    return\n",
        "\n",
        "head = takeInput()\n",
        "printLL(head)"
      ],
      "metadata": {
        "colab": {
          "base_uri": "https://localhost:8080/"
        },
        "id": "wiNNR9dzvXHH",
        "outputId": "c0caffd2-ddbc-477f-93d3-6635b59277b8"
      },
      "execution_count": null,
      "outputs": [
        {
          "output_type": "stream",
          "name": "stdout",
          "text": [
            "1 2 3 4 5 6 -1\n",
            "1->2->3->4->5->6->None\n"
          ]
        }
      ]
    },
    {
      "cell_type": "code",
      "source": [
        "#Problem statement\n",
        "\n",
        "#What will be the output?\n",
        "\n",
        "class Node:\n",
        "    def __init__(self, data):\n",
        "        self.data = data\n",
        "        self.next = None\n",
        "\n",
        "def printLL(head):\n",
        "    while head is not None:\n",
        "        print(head.data,end=\" \")\n",
        "        head = head.next\n",
        "\n",
        "def increment(head):\n",
        "     temp = head\n",
        "     while temp is not None:\n",
        "        temp.data +=1\n",
        "        temp = temp.next\n",
        "\n",
        "\n",
        "\n",
        "node1 = Node(10)\n",
        "node2 = Node(20)\n",
        "node1.next = node2\n",
        "increment(node1)\n",
        "printLL(node1)\n"
      ],
      "metadata": {
        "colab": {
          "base_uri": "https://localhost:8080/"
        },
        "id": "gjAeMeLF1cZn",
        "outputId": "c4e9331a-98e5-4f6e-ceb2-bef33e0613cb"
      },
      "execution_count": null,
      "outputs": [
        {
          "output_type": "stream",
          "name": "stdout",
          "text": [
            "11 21 "
          ]
        }
      ]
    },
    {
      "cell_type": "markdown",
      "source": [
        "# Insert at ith position code - iteratively"
      ],
      "metadata": {
        "id": "YMHIaEQvoyk4"
      }
    },
    {
      "cell_type": "code",
      "source": [
        "class Node:\n",
        "  def __init__(self, data):\n",
        "    self.data = data\n",
        "    self.next = None\n",
        "\n",
        "def takeInput():\n",
        "  inputList = [int(ele) for ele in input().split()]\n",
        "  head = None\n",
        "  tail = None\n",
        "  for currData in inputList:\n",
        "    if currData == -1:\n",
        "      break\n",
        "    newNode = Node(currData)\n",
        "    if head is None:\n",
        "      head = newNode\n",
        "      tail = newNode\n",
        "    else:\n",
        "      tail.next = newNode\n",
        "      tail = newNode\n",
        "  return head\n",
        "\n",
        "def printLL(head):\n",
        "    while head is not None:\n",
        "        print(str(head.data),end=\"->\")\n",
        "        head = head.next\n",
        "    print(\"None\")\n",
        "    return\n",
        "\n",
        "def length(head):\n",
        "  count =0\n",
        "  while head is not None:\n",
        "    count+=1\n",
        "    head = head.next\n",
        "  return count\n",
        "\n",
        "def inserAtI(head, i, data):\n",
        "  if i<0 or i>length(head):\n",
        "    return head\n",
        "  count=0\n",
        "  curr = head\n",
        "  prev = None\n",
        "  while count<i:\n",
        "    prev = curr\n",
        "    curr = prev.next\n",
        "    count+=1\n",
        "  newNode = Node(data)\n",
        "  if prev is not None:\n",
        "    prev.next = newNode\n",
        "  else:\n",
        "    head = newNode\n",
        "  newNode.next = curr\n",
        "  return head\n",
        "\n",
        "head = takeInput()\n",
        "printLL(head)\n",
        "head = inserAtI(head, 2, 6)\n",
        "printLL(head)\n",
        "head = inserAtI(head, 0, 7)\n",
        "printLL(head)\n",
        "head = inserAtI(head, 6, 8)\n",
        "printLL(head)"
      ],
      "metadata": {
        "colab": {
          "base_uri": "https://localhost:8080/"
        },
        "id": "dm6TRGRjo42e",
        "outputId": "465623c1-d476-411a-9cea-df06ce9179b9"
      },
      "execution_count": null,
      "outputs": [
        {
          "output_type": "stream",
          "name": "stdout",
          "text": [
            "3 4 1 2 -1\n",
            "3->4->1->2->None\n",
            "3->4->6->1->2->None\n",
            "7->3->4->6->1->2->None\n",
            "7->3->4->6->1->2->8->None\n"
          ]
        }
      ]
    },
    {
      "cell_type": "code",
      "source": [
        "class Node:\n",
        "  def __init__(self, data):\n",
        "    self.data = data\n",
        "    self.next = None\n",
        "\n",
        "def takeInput():\n",
        "  inputList = [int(ele) for ele in input().split()]\n",
        "  head = None\n",
        "  tail = None\n",
        "  for currData in inputList:\n",
        "    if currData == -1:\n",
        "      break\n",
        "    newNode = Node(currData)\n",
        "    if head is None:\n",
        "      head = newNode\n",
        "      tail = newNode\n",
        "    else:\n",
        "      tail.next = newNode\n",
        "      tail = newNode\n",
        "  return head\n",
        "\n",
        "def printLL(head):\n",
        "    while head is not None:\n",
        "        print(str(head.data),end=\"->\")\n",
        "        head = head.next\n",
        "    print(\"None\")\n",
        "    return\n",
        "\n",
        "def length(head):\n",
        "  count =0\n",
        "  while head is not None:\n",
        "    count+=1\n",
        "    head = head.next\n",
        "  return count\n",
        "\n",
        "def inserAtI(head, i, data):\n",
        "  if i<0 or i>length(head):\n",
        "    return head\n",
        "  count=0\n",
        "  curr = head\n",
        "  prev = None\n",
        "  while count<i:\n",
        "    prev = curr\n",
        "    curr = prev.next\n",
        "    count+=1\n",
        "  newNode = Node(data)\n",
        "  if prev is not None:\n",
        "    prev.next = newNode\n",
        "  else:\n",
        "    head = newNode\n",
        "  newNode.next = curr\n",
        "  return head\n",
        "\n",
        "def deleteNode(head, pos) :\n",
        "    count =0\n",
        "    prev=None\n",
        "    curr=head\n",
        "    while head is not None:\n",
        "        if count ==i:\n",
        "        head=head.next\n",
        "\n",
        "        count+=1\n",
        "\n",
        "head = takeInput()\n",
        "printLL(head)\n",
        "head = inserAtI(head, 2, 6)\n",
        "printLL(head)\n",
        "head = inserAtI(head, 0, 7)\n",
        "printLL(head)\n",
        "head = inserAtI(head, 6, 8)\n",
        "printLL(head)"
      ],
      "metadata": {
        "id": "5DUrqmh3iIuX"
      },
      "execution_count": null,
      "outputs": []
    },
    {
      "cell_type": "markdown",
      "source": [
        "# Insertion at ith element Recursively"
      ],
      "metadata": {
        "id": "JEpQh2Nh91AB"
      }
    },
    {
      "cell_type": "code",
      "source": [
        "class Node:\n",
        "    def __init__(self,data):\n",
        "        self.data=data\n",
        "        self.next=None\n",
        "def printLL(head):\n",
        "    while head is not None:\n",
        "        print(str(head.data)+\"->\",end='')\n",
        "        head=head.next\n",
        "    print(\"None\")\n",
        "    return\n",
        "def length(head):\n",
        "    count=0\n",
        "    while head is not None:\n",
        "        count=count+1\n",
        "        head=head.next\n",
        "    return count\n",
        "def insertAtIR(head,i,data):\n",
        "    if i<0:\n",
        "        return head\n",
        "    if i==0:\n",
        "        newNode=Node(data)\n",
        "        newNode.next=head\n",
        "        return newNode\n",
        "    if head is None:\n",
        "        return None\n",
        "    smallHead=insertAtIR(head.next,i-1,data)\n",
        "    head.next=smallHead\n",
        "    return head\n",
        "def insertAtI(head,i,data):\n",
        "    if i<0 or i>length(head):\n",
        "        return head\n",
        "    count=0\n",
        "    prev=None\n",
        "    curr=head\n",
        "    while count<i:\n",
        "        prev=curr\n",
        "        curr=curr.next\n",
        "        count=count+1\n",
        "    newNode=Node(data)\n",
        "    if prev is not None:\n",
        "        prev.next=newNode\n",
        "    else:\n",
        "        head=newNode\n",
        "\n",
        "    newNode.next=curr\n",
        "    return head\n",
        "def takeInput():\n",
        "    inputList=[int (ele) for ele in input().split()]\n",
        "    head=None\n",
        "    tail=None\n",
        "    for currData in inputList:\n",
        "        if currData==-1:\n",
        "            break\n",
        "        newNode=Node(currData)\n",
        "        if head is None:\n",
        "            head=newNode\n",
        "            tail=newNode\n",
        "        else:\n",
        "            tail.next=newNode\n",
        "            tail=newNode\n",
        "    return head\n",
        "head=takeInput()\n",
        "printLL(head)\n",
        "head=insertAtI(head,2,6)\n",
        "printLL(head)\n",
        "head=insertAtI(head,0,9)\n",
        "printLL(head)\n",
        "head=insertAtI(head,7,10)\n",
        "printLL(head)"
      ],
      "metadata": {
        "colab": {
          "base_uri": "https://localhost:8080/"
        },
        "id": "U_n3nPe496QK",
        "outputId": "4da9d62a-7fbd-46dd-81b4-fbdbe78695a8"
      },
      "execution_count": null,
      "outputs": [
        {
          "output_type": "stream",
          "name": "stdout",
          "text": [
            "1 2 3 4 5 6 -1\n",
            "1->2->3->4->5->6->None\n",
            "1->2->6->3->4->5->6->None\n",
            "9->1->2->6->3->4->5->6->None\n",
            "9->1->2->6->3->4->5->10->6->None\n"
          ]
        }
      ]
    },
    {
      "cell_type": "code",
      "source": [
        "class Node:\n",
        "  def __init__(self, data):\n",
        "    self.data = data\n",
        "    self.next = None\n",
        "\n",
        "def takeInput():\n",
        "  inputList = [int(ele) for ele in input().split()]\n",
        "  head = None\n",
        "  tail = None\n",
        "  for currData in inputList:\n",
        "    if currData == -1:\n",
        "      break\n",
        "    newNode = Node(currData)\n",
        "    if head is None:\n",
        "      head = newNode\n",
        "      tail = newNode\n",
        "    else:\n",
        "      tail.next = newNode\n",
        "      tail = newNode\n",
        "  return head\n",
        "\n",
        "def printLL(head):\n",
        "    while head is not None:\n",
        "        print(str(head.data),end=\"->\")\n",
        "        head = head.next\n",
        "    print(\"None\")\n",
        "    return\n",
        "\n",
        "def length(head):\n",
        "  count =0\n",
        "  while head is not None:\n",
        "    count+=1\n",
        "    head = head.next\n",
        "  return count\n",
        "\n",
        "def inserAtI(head, i, data):\n",
        "  if i<0 or i>length(head):\n",
        "    return head\n",
        "  count=0\n",
        "  curr = head\n",
        "  prev = None\n",
        "  while count<i:\n",
        "    prev = curr\n",
        "    curr = prev.next\n",
        "    count+=1\n",
        "  newNode = Node(data)\n",
        "  if prev is not None:\n",
        "    prev.next = newNode\n",
        "  else:\n",
        "    head = newNode\n",
        "  newNode.next = curr\n",
        "  return head\n",
        "\n",
        "head = takeInput()\n",
        "printLL(head)\n",
        "head = inserAtI(head, 2, 6)\n",
        "printLL(head)\n",
        "head = inserAtI(head, 0, 7)\n",
        "printLL(head)\n",
        "head = inserAtI(head, 6, 8)\n",
        "printLL(head)"
      ],
      "metadata": {
        "id": "GNsYSZQmHH22"
      },
      "execution_count": null,
      "outputs": []
    },
    {
      "cell_type": "code",
      "source": [
        "class Node:\n",
        "  def __init__(self, data):\n",
        "    self.data = data\n",
        "    self.next = None\n",
        "\n",
        "def length(head):\n",
        "  count=0\n",
        "  while head is not None:\n",
        "    count+=1\n",
        "    head = head.next\n",
        "  return count\n",
        "\n",
        "def takeinput():\n",
        "  inputList = [int(ele) for ele in input().split()]\n",
        "  head=None\n",
        "  tail=None\n",
        "  for currData in inputList:\n",
        "    if currData == -1:\n",
        "      break\n",
        "    newNode = Node(currData)\n",
        "    if head is None:\n",
        "      head = newNode\n",
        "      tail = newNode\n",
        "    else:\n",
        "      tail.next = newNode\n",
        "      tail = newNode\n",
        "  return head\n",
        "\n",
        "def printLL(head):\n",
        "  while head is not None:\n",
        "    print(str(head.data)+\"->\",end=\"\")\n",
        "    head = head.next\n",
        "  print(\"None\")\n",
        "\n",
        "def insertatithposition(head, i, data):\n",
        "  if i<0 or i>length(head):\n",
        "    return head\n",
        "  count=0\n",
        "  curr=head\n",
        "  prev=None\n",
        "  while count<i:\n",
        "    prev=curr\n",
        "    curr=prev.next\n",
        "    count+=1\n",
        "  newNode = Node(data)\n",
        "  if prev is not None:\n",
        "    prev.next = newNode\n",
        "  else:\n",
        "    head = newNode\n",
        "  newNode.next = curr\n",
        "  return head\n",
        "\n",
        "def deleteithposition(head, i):\n",
        "  if i<0 or i>length(head):\n",
        "    return head\n",
        "  count=0\n",
        "  curr=head\n",
        "  prev=None\n",
        "  while count<i:\n",
        "    prev=curr\n",
        "    curr=prev.next\n",
        "    count+=1\n",
        "  if prev is not None:\n",
        "    prev.next = curr.next\n",
        "  else:\n",
        "    head = curr.next\n",
        "  return head\n",
        "\n",
        "def insertAtIR(head,i,data):\n",
        "    if i<0:\n",
        "      return head\n",
        "    if i==0:\n",
        "      newNode = Node(data)\n",
        "      newNode.next = head\n",
        "      return newNode\n",
        "    if head is None:\n",
        "      return None\n",
        "    smallHead = insertAtIR(head.next, i-1, data)\n",
        "    head.next = smallHead\n",
        "    return head\n",
        "\n",
        "def deleteAtIR(head, i):\n",
        "  if i<0:\n",
        "    return head\n",
        "  if i==0:\n",
        "    return head.next\n",
        "  if head is None:\n",
        "    return None\n",
        "  smallHead = deleteAtIR(head.next, i-1)\n",
        "  head.next = smallHead\n",
        "  return head\n",
        "\n",
        "head=takeinput()\n",
        "print(head.data)\n",
        "printLL(head)\n",
        "insertatithposition(head, 2, 8)\n",
        "printLL(head)\n",
        "deleteithposition(head, 2)\n",
        "printLL(head)\n",
        "deleteithposition(head, 4)\n",
        "printLL(head)\n",
        "insertAtIR(head, 2, 8)\n",
        "printLL(head)\n",
        "deleteAtIR(head, 2)\n",
        "printLL(head)"
      ],
      "metadata": {
        "colab": {
          "base_uri": "https://localhost:8080/"
        },
        "id": "_d92IgGxL-Rp",
        "outputId": "7b9746fc-9c9b-4d4d-94db-f6cebfe946b2"
      },
      "execution_count": null,
      "outputs": [
        {
          "output_type": "stream",
          "name": "stdout",
          "text": [
            "3 4 1 2 5 -1\n",
            "3\n",
            "3->4->1->2->5->None\n",
            "3->4->8->1->2->5->None\n",
            "3->4->1->2->5->None\n",
            "3->4->1->2->None\n",
            "3->4->8->1->2->None\n",
            "3->4->1->2->None\n"
          ]
        }
      ]
    },
    {
      "cell_type": "code",
      "source": [
        "class Node:\n",
        "  def __init__(self, data):\n",
        "    self.data = data\n",
        "    self.next = None\n",
        "\n",
        "def length_recursive(head):\n",
        "  if head is None:\n",
        "    return 0\n",
        "  count = 1+length_recursive(head.next)\n",
        "  return count\n",
        "\n",
        "def takeinput():\n",
        "  inputList = [int(ele) for ele in input().split()]\n",
        "  head=None\n",
        "  tail=None\n",
        "  for currData in inputList:\n",
        "    if currData == -1:\n",
        "      break\n",
        "    newNode = Node(currData)\n",
        "    if head is None:\n",
        "      head = newNode\n",
        "      tail = newNode\n",
        "    else:\n",
        "      tail.next = newNode\n",
        "      tail = newNode\n",
        "  return head\n",
        "\n",
        "def printLL(head):\n",
        "  while head is not None:\n",
        "    print(str(head.data)+\"->\",end=\"\")\n",
        "    head = head.next\n",
        "  print(\"None\")\n",
        "\n",
        "def insertatithposition(head, i, data):\n",
        "  if i<0 or i>length(head):\n",
        "    return head\n",
        "  count=0\n",
        "  curr=head\n",
        "  prev=None\n",
        "  while count<i:\n",
        "    prev=curr\n",
        "    curr=prev.next\n",
        "    count+=1\n",
        "  newNode = Node(data)\n",
        "  if prev is not None:\n",
        "    prev.next = newNode\n",
        "  else:\n",
        "    head = newNode\n",
        "  newNode.next = curr\n",
        "  return head\n",
        "\n",
        "def deleteithposition(head, i):\n",
        "  if i<0 or i>length(head):\n",
        "    return head\n",
        "  count=0\n",
        "  curr=head\n",
        "  prev=None\n",
        "  while count<i:\n",
        "    prev=curr\n",
        "    curr=prev.next\n",
        "    count+=1\n",
        "  if prev is not None:\n",
        "    prev.next = curr.next\n",
        "  else:\n",
        "    head = curr.next\n",
        "  return head\n",
        "\n",
        "def insertAtIR(head,i,data):\n",
        "    if i<0:\n",
        "      return head\n",
        "    if i==0:\n",
        "      newNode = Node(data)\n",
        "      newNode.next = head\n",
        "      return newNode\n",
        "    if head is None:\n",
        "      return None\n",
        "    smallHead = insertAtIR(head.next, i-1, data)\n",
        "    head.next = smallHead\n",
        "    return head\n",
        "\n",
        "def deleteAtIR(head, i):\n",
        "  if i<0:\n",
        "    return head\n",
        "  if i==0:\n",
        "    return head.next\n",
        "  if head is None:\n",
        "    return None\n",
        "  smallHead = deleteAtIR(head.next, i-1)\n",
        "  head.next = smallHead\n",
        "  return head\n",
        "\n",
        "head=takeinput()\n",
        "print(head.data)\n",
        "printLL(head)\n",
        "insertatithposition(head, 2, 8)\n",
        "printLL(head)\n",
        "deleteithposition(head, 2)\n",
        "printLL(head)\n",
        "deleteithposition(head, 4)\n",
        "printLL(head)\n",
        "insertAtIR(head, 2, 8)\n",
        "printLL(head)\n",
        "deleteAtIR(head, 2)\n",
        "printLL(head)\n",
        "print(length_recursive(head))"
      ],
      "metadata": {
        "colab": {
          "base_uri": "https://localhost:8080/"
        },
        "id": "Y2EWG_LZvUZI",
        "outputId": "c59c9da7-9d3f-46c6-8bda-7ae531e8e8c4"
      },
      "execution_count": null,
      "outputs": [
        {
          "output_type": "stream",
          "name": "stdout",
          "text": [
            "3 4 1 2 5 -1\n",
            "3\n",
            "3->4->1->2->5->None\n",
            "3->4->8->1->2->5->None\n",
            "3->4->1->2->5->None\n",
            "3->4->1->2->None\n",
            "3->4->8->1->2->None\n",
            "3->4->1->2->None\n",
            "4\n"
          ]
        }
      ]
    },
    {
      "cell_type": "markdown",
      "source": [
        "# Reverse Linked List"
      ],
      "metadata": {
        "id": "svb-V3XIWa4n"
      }
    },
    {
      "cell_type": "code",
      "source": [
        "class Node:\n",
        "  def __init__(self, data):\n",
        "    self.data = data\n",
        "    self.next = None\n",
        "\n",
        "def printLL(head):\n",
        "    while head is not None:\n",
        "        print(str(head.data)+\"->\",end='')\n",
        "        head=head.next\n",
        "    print(\"None\")\n",
        "    return\n",
        "\n",
        "def takeInput():\n",
        "    inputList=[int (ele) for ele in input().split()]\n",
        "    head=None\n",
        "    tail=None\n",
        "    for currData in inputList:\n",
        "        if currData==-1:\n",
        "            break\n",
        "        newNode=Node(currData)\n",
        "        if head is None:\n",
        "            head=newNode\n",
        "            tail=newNode\n",
        "        else:\n",
        "            tail.next=newNode\n",
        "            tail=newNode\n",
        "    return head\n",
        "\n",
        "def reverse1(head):\n",
        "    if head is None or head.next is None:\n",
        "        return head\n",
        "    smallHead=reverse1(head.next)\n",
        "    curr=smallHead\n",
        "    while curr.next is not None:\n",
        "        curr=curr.next\n",
        "    curr.next=head\n",
        "    head.next=None\n",
        "    return smallHead\n",
        "\n",
        "\n",
        "def reverse1(head):\n",
        "  if head is None or head.next is None:\n",
        "    return head\n",
        "  smallHead = reverse1(head.next)\n",
        "  curr = smallHead\n",
        "  while curr.next is not None:\n",
        "    curr = curr.next\n",
        "  curr.next = head\n",
        "  head.next = None\n",
        "  return smallHead\n",
        "\n",
        "head = takeInput()\n",
        "printLL(head)\n",
        "head = reverse1(head)\n",
        "printLL(head)"
      ],
      "metadata": {
        "colab": {
          "base_uri": "https://localhost:8080/"
        },
        "id": "PJORKHH-XpLU",
        "outputId": "107c089e-dae3-46c3-e269-ef61dfefa302"
      },
      "execution_count": null,
      "outputs": [
        {
          "output_type": "stream",
          "name": "stdout",
          "text": [
            "1 2 3 4 5 -1\n",
            "1->2->3->4->5->None\n",
            "5->4->3->2->1->None\n"
          ]
        }
      ]
    },
    {
      "cell_type": "markdown",
      "source": [
        "# Reverse Linked List - II"
      ],
      "metadata": {
        "id": "aOUcyH0pMtaf"
      }
    },
    {
      "cell_type": "code",
      "source": [
        "class Node:\n",
        "  def __init__(self, data):\n",
        "    self.data = data\n",
        "    self.next = None\n",
        "\n",
        "def printLL(head):\n",
        "    while head is not None:\n",
        "        print(str(head.data)+\"->\",end='')\n",
        "        head=head.next\n",
        "    print(\"None\")\n",
        "    return\n",
        "\n",
        "def takeInput():\n",
        "    inputList=[int (ele) for ele in input().split()]\n",
        "    head=None\n",
        "    tail=None\n",
        "    for currData in inputList:\n",
        "        if currData==-1:\n",
        "            break\n",
        "        newNode=Node(currData)\n",
        "        if head is None:\n",
        "            head=newNode\n",
        "            tail=newNode\n",
        "        else:\n",
        "            tail.next=newNode\n",
        "            tail=newNode\n",
        "    return head\n",
        "\n",
        "def reverse1(head):\n",
        "    if head is None or head.next is None:\n",
        "        return head\n",
        "    smallHead=reverse1(head.next)\n",
        "    curr=smallHead\n",
        "    while curr.next is not None:\n",
        "        curr=curr.next\n",
        "    curr.next=head\n",
        "    head.next=None\n",
        "    return smallHead\n",
        "\n",
        "\n",
        "def reverse1(head):\n",
        "  if head is None or head.next is None:\n",
        "    return head\n",
        "  smallHead = reverse1(head.next)\n",
        "  curr = smallHead\n",
        "  while curr.next is not None:\n",
        "    curr = curr.next\n",
        "  curr.next = head\n",
        "  head.next = None\n",
        "  return smallHead\n",
        "\n",
        "def reverse2(head):\n",
        "  if head is None or head.next is None:\n",
        "    return head, head\n",
        "  smallHead, smallTail = reverse2(head.next)\n",
        "  smallTail.next = head\n",
        "  head.next = None\n",
        "  return smallHead, head\n",
        "\n",
        "\n",
        "head = takeInput()\n",
        "printLL(head)\n",
        "# head = reverse1(head)\n",
        "# printLL(head)\n",
        "head, tail = reverse2(head)\n",
        "printLL(head)"
      ],
      "metadata": {
        "colab": {
          "base_uri": "https://localhost:8080/"
        },
        "id": "auYbcPgRf3nc",
        "outputId": "7f5c16af-ef23-4351-e2af-e1bacfe1bad3"
      },
      "execution_count": null,
      "outputs": [
        {
          "output_type": "stream",
          "name": "stdout",
          "text": [
            "1 2 3 4 5 -1\n",
            "1->2->3->4->5->None\n",
            "5->4->3->2->1->None\n"
          ]
        }
      ]
    },
    {
      "cell_type": "code",
      "source": [
        "class Node:\n",
        "  def __init__(self, data):\n",
        "    self.data = data\n",
        "    self.next = None\n",
        "\n",
        "def printLL(head):\n",
        "    while head is not None:\n",
        "        print(str(head.data)+\"->\",end='')\n",
        "        head=head.next\n",
        "    print(\"None\")\n",
        "    return\n",
        "\n",
        "def takeInput():\n",
        "    inputList=[int (ele) for ele in input().split()]\n",
        "    head=None\n",
        "    tail=None\n",
        "    for currData in inputList:\n",
        "        if currData==-1:\n",
        "            break\n",
        "        newNode=Node(currData)\n",
        "        if head is None:\n",
        "            head=newNode\n",
        "            tail=newNode\n",
        "        else:\n",
        "            tail.next=newNode\n",
        "            tail=newNode\n",
        "    return head\n",
        "\n",
        "def reverse1(head):\n",
        "    if head is None or head.next is None:\n",
        "        return head\n",
        "    smallHead=reverse1(head.next)\n",
        "    curr=smallHead\n",
        "    while curr.next is not None:\n",
        "        curr=curr.next\n",
        "    curr.next=head\n",
        "    head.next=None\n",
        "    return smallHead\n",
        "\n",
        "\n",
        "def reverse1(head):\n",
        "  if head is None or head.next is None:\n",
        "    return head\n",
        "  smallHead = reverse1(head.next)\n",
        "  curr = smallHead\n",
        "  while curr.next is not None:\n",
        "    curr = curr.next\n",
        "  curr.next = head\n",
        "  head.next = None\n",
        "  return smallHead\n",
        "\n",
        "def reverse2(head):\n",
        "  if head is None or head.next is None:\n",
        "    return head, head\n",
        "  smallHead, smallTail = reverse2(head.next)\n",
        "  smallTail.next = head\n",
        "  head.next = None\n",
        "  return smallHead, head\n",
        "\n",
        "\n",
        "def reverse3(head):\n",
        "  if head is None or head.next is None:\n",
        "    return head\n",
        "  smallHead = reverse3(head.next)\n",
        "  tail = head.next\n",
        "  tail.next = head\n",
        "  head.next = None\n",
        "  return smallHead\n",
        "\n",
        "head = takeInput()\n",
        "printLL(head)\n",
        "# head = reverse1(head)\n",
        "# printLL(head)\n",
        "head = reverse3(head)\n",
        "printLL(head)"
      ],
      "metadata": {
        "colab": {
          "base_uri": "https://localhost:8080/"
        },
        "id": "mnDbPLtv_0kd",
        "outputId": "50284339-fe1c-4ee7-9933-ace2766c089f"
      },
      "execution_count": null,
      "outputs": [
        {
          "output_type": "stream",
          "name": "stdout",
          "text": [
            "1 2 3 4 5 -1\n",
            "1->2->3->4->5->None\n",
            "5->4->3->2->1->None\n"
          ]
        }
      ]
    },
    {
      "cell_type": "code",
      "source": [
        "class Node:\n",
        "  def __init__(self, data):\n",
        "    self.data = data\n",
        "    self.next = None\n",
        "\n",
        "def printLL(head):\n",
        "    while head is not None:\n",
        "        print(str(head.data)+\"->\",end='')\n",
        "        head=head.next\n",
        "    print(\"None\")\n",
        "    return\n",
        "\n",
        "def takeInput():\n",
        "    inputList=[int (ele) for ele in input().split()]\n",
        "    head=None\n",
        "    tail=None\n",
        "    for currData in inputList:\n",
        "        if currData==-1:\n",
        "            break\n",
        "        newNode=Node(currData)\n",
        "        if head is None:\n",
        "            head=newNode\n",
        "            tail=newNode\n",
        "        else:\n",
        "            tail.next=newNode\n",
        "            tail=newNode\n",
        "    return head\n",
        "\n",
        "def reverse1(head):\n",
        "    if head is None or head.next is None:\n",
        "        return head\n",
        "    smallHead=reverse1(head.next)\n",
        "    curr=smallHead\n",
        "    while curr.next is not None:\n",
        "        curr=curr.next\n",
        "    curr.next=head\n",
        "    head.next=None\n",
        "    return smallHead\n",
        "\n",
        "\n",
        "def reverse1(head):\n",
        "  if head is None or head.next is None:\n",
        "    return head\n",
        "  smallHead = reverse1(head.next)\n",
        "  curr = smallHead\n",
        "  while curr.next is not None:\n",
        "    curr = curr.next\n",
        "  curr.next = head\n",
        "  head.next = None\n",
        "  return smallHead\n",
        "\n",
        "def reverse2(head):\n",
        "  if head is None or head.next is None:\n",
        "    return head, head\n",
        "  smallHead, smallTail = reverse2(head.next)\n",
        "  smallTail.next = head\n",
        "  head.next = None\n",
        "  return smallHead, head\n",
        "\n",
        "\n",
        "def reverse3(head):\n",
        "  if head is None or head.next is None:\n",
        "    return head\n",
        "  smallHead = reverse3(head.next)\n",
        "  tail = head.next\n",
        "  tail.next = head\n",
        "  head.next = None\n",
        "  return smallHead\n",
        "\n",
        "\n",
        "def reverseiteratively(head):\n",
        "  curr=head\n",
        "  prev = None\n",
        "  while curr is not None:\n",
        "    next = curr.next\n",
        "    curr.next = prev\n",
        "    prev = curr\n",
        "    curr = next\n",
        "  head = prev\n",
        "  return head\n",
        "\n",
        "head = takeInput()\n",
        "printLL(head)\n",
        "# head = reverse1(head)\n",
        "# printLL(head)\n",
        "head = reverseiteratively(head)\n",
        "printLL(head)"
      ],
      "metadata": {
        "colab": {
          "base_uri": "https://localhost:8080/"
        },
        "id": "oPhNFqQfaTpK",
        "outputId": "11072927-195c-4232-a267-75723aac2fd2"
      },
      "execution_count": null,
      "outputs": [
        {
          "output_type": "stream",
          "name": "stdout",
          "text": [
            "1 2 3 4 5 -1\n",
            "1->2->3->4->5->None\n",
            "5->4->3->2->1->None\n"
          ]
        }
      ]
    },
    {
      "cell_type": "code",
      "source": [
        "class Node:\n",
        "  def __init__(self, data):\n",
        "    self.data = data\n",
        "    self.next = None\n",
        "\n",
        "def printLL(head):\n",
        "    while head is not None:\n",
        "        print(str(head.data)+\"->\",end='')\n",
        "        head=head.next\n",
        "    print(\"None\")\n",
        "    return\n",
        "\n",
        "def takeInput():\n",
        "    inputList=[int (ele) for ele in input().split()]\n",
        "    head=None\n",
        "    tail=None\n",
        "    for currData in inputList:\n",
        "        if currData==-1:\n",
        "            break\n",
        "        newNode=Node(currData)\n",
        "        if head is None:\n",
        "            head=newNode\n",
        "            tail=newNode\n",
        "        else:\n",
        "            tail.next=newNode\n",
        "            tail=newNode\n",
        "    return head\n",
        "\n",
        "def reverse1(head):\n",
        "    if head is None or head.next is None:\n",
        "        return head\n",
        "    smallHead=reverse1(head.next)\n",
        "    curr=smallHead\n",
        "    while curr.next is not None:\n",
        "        curr=curr.next\n",
        "    curr.next=head\n",
        "    head.next=None\n",
        "    return smallHead\n",
        "\n",
        "\n",
        "def reverse1(head):\n",
        "  if head is None or head.next is None:\n",
        "    return head\n",
        "  smallHead = reverse1(head.next)\n",
        "  curr = smallHead\n",
        "  while curr.next is not None:\n",
        "    curr = curr.next\n",
        "  curr.next = head\n",
        "  head.next = None\n",
        "  return smallHead\n",
        "\n",
        "def reverse2(head):\n",
        "  if head is None or head.next is None:\n",
        "    return head, head\n",
        "  smallHead, smallTail = reverse2(head.next)\n",
        "  smallTail.next = head\n",
        "  head.next = None\n",
        "  return smallHead, head\n",
        "\n",
        "\n",
        "def reverse3(head):\n",
        "  if head is None or head.next is None:\n",
        "    return head\n",
        "  smallHead = reverse3(head.next)\n",
        "  tail = head.next\n",
        "  tail.next = head\n",
        "  head.next = None\n",
        "  return smallHead\n",
        "\n",
        "\n",
        "def reverseiteratively(head):\n",
        "  curr=head\n",
        "  prev = None\n",
        "  while curr is not None:\n",
        "    next = curr.next\n",
        "    curr.next = prev\n",
        "    prev = curr\n",
        "    curr = next\n",
        "  head = prev\n",
        "  return head\n",
        "\n",
        "#Mid point of LL\n",
        "def midpoint(head):\n",
        "  if head is None:\n",
        "    return\n",
        "  slow = head\n",
        "  fast = head\n",
        "  while fast.next is not None and fast.next.next is not None:\n",
        "    slow = slow.next\n",
        "    fast = fast.next.next\n",
        "  return slow\n",
        "\n",
        "head = takeInput()\n",
        "printLL(head)\n",
        "# head = reverse1(head)\n",
        "# printLL(head)\n",
        "head = midpoint(head)\n",
        "print(head.data)\n"
      ],
      "metadata": {
        "colab": {
          "base_uri": "https://localhost:8080/"
        },
        "id": "DeFqCk92dAaH",
        "outputId": "c3533d31-56f2-4665-ecc0-b45c3c64ef74"
      },
      "execution_count": null,
      "outputs": [
        {
          "output_type": "stream",
          "name": "stdout",
          "text": [
            "1 2 3 4 5 -1\n",
            "1->2->3->4->5->None\n",
            "3\n"
          ]
        }
      ]
    },
    {
      "cell_type": "markdown",
      "source": [
        "# Merge Two sorted Linked List"
      ],
      "metadata": {
        "id": "QXWCd9n9V26G"
      }
    },
    {
      "cell_type": "code",
      "source": [
        "'''\n",
        "Code: Merge Two Sorted LL\n",
        "\n",
        "You have been given two sorted(in ascending order) singly linked lists of integers.\n",
        "Write a function to merge them in such a way that the resulting singly linked list is also sorted(in ascending order) and return the new head to the list.\n",
        "Note :\n",
        "Try solving this in O(1) auxiliary space.\n",
        "\n",
        "No need to print the list, it has already been taken care.\n",
        "Input format :\n",
        "The first line contains an Integer 't' which denotes the number of test cases or queries to be run. Then the test cases follow.\n",
        "\n",
        "The first line of each test case or query contains the elements of the first sorted singly linked list separated by a single space.\n",
        "\n",
        "The second line of the input contains the elements of the second sorted singly linked list separated by a single space.\n",
        "Remember/Consider :\n",
        "While specifying the list elements for input, -1 indicates the end of the singly linked list and hence, would never be a list element\n",
        "Output :\n",
        "For each test case/query, print the resulting sorted singly linked list, separated by a single space.\n",
        "\n",
        "Output for every test case will be printed in a seperate line.\n",
        "Constraints :\n",
        "1 <= t = 10^2\n",
        "0 <= N <= 10 ^ 4\n",
        "0 <= M <= 10 ^ 4\n",
        "Where N and M denote the sizes of the singly linked lists.\n",
        "\n",
        "Time Limit: 1sec\n",
        "Sample Input 1 :\n",
        "1\n",
        "2 5 8 12 -1\n",
        "3 6 9 -1\n",
        "Sample Output 1 :\n",
        "2 3 5 6 8 9 12\n",
        "Sample Input 2 :\n",
        "2\n",
        "2 5 8 12 -1\n",
        "3 6 9 -1\n",
        "10 40 60 60 80 -1\n",
        "10 20 30 40 50 60 90 100 -1\n",
        "Sample Output 2 :\n",
        "2 3 5 6 8 9 12\n",
        "10 10 20 30 40 40 50 60 60 60 80 90 100\n",
        "'''\n",
        "\n",
        "class Node:\n",
        "    def __init__(self, data):\n",
        "        self.data = data\n",
        "        self.next = None\n",
        "\n",
        "def merge_sorted_lists(head1, head2):\n",
        "    merged_head = None\n",
        "    current = None\n",
        "\n",
        "    while head1 is not None and head2 is not None:\n",
        "        if head1.data <= head2.data:\n",
        "            if merged_head is None:\n",
        "                merged_head = head1\n",
        "                current = merged_head\n",
        "            else:\n",
        "                current.next = head1\n",
        "                current = current.next\n",
        "            head1 = head1.next\n",
        "        else:\n",
        "            if merged_head is None:\n",
        "                merged_head = head2\n",
        "                current = merged_head\n",
        "            else:\n",
        "                current.next = head2\n",
        "                current = current.next\n",
        "            head2 = head2.next\n",
        "\n",
        "    # If any list has remaining elements, append them\n",
        "    if head1 is not None:\n",
        "        if merged_head is None:\n",
        "            merged_head = head1\n",
        "        else:\n",
        "            current.next = head1\n",
        "\n",
        "    if head2 is not None:\n",
        "        if merged_head is None:\n",
        "            merged_head = head2\n",
        "        else:\n",
        "            current.next = head2\n",
        "\n",
        "    return merged_head\n",
        "\n",
        "# Function to take input for linked list\n",
        "def take_input():\n",
        "    elements = list(map(int, input().split()))\n",
        "    head = None\n",
        "    tail = None\n",
        "\n",
        "    for data in elements:\n",
        "        if data == -1:\n",
        "            break\n",
        "\n",
        "        new_node = Node(data)\n",
        "\n",
        "        if head is None:\n",
        "            head = new_node\n",
        "            tail = head\n",
        "        else:\n",
        "            tail.next = new_node\n",
        "            tail = new_node\n",
        "\n",
        "    return head\n",
        "\n",
        "# Input the number of test cases\n",
        "t = int(input())\n",
        "\n",
        "for _ in range(t):\n",
        "    # Take input for each sorted linked list\n",
        "    head1 = take_input()\n",
        "    head2 = take_input()\n",
        "\n",
        "    # Merge the sorted linked lists\n",
        "    merged_head = merge_sorted_lists(head1, head2)\n",
        "\n",
        "    # Print the resulting merged list\n",
        "    while merged_head is not None:\n",
        "        print(merged_head.data, end=\" \")\n",
        "        merged_head = merged_head.next\n",
        "    print()"
      ],
      "metadata": {
        "colab": {
          "base_uri": "https://localhost:8080/"
        },
        "id": "YP7rMF7iVUiq",
        "outputId": "e66cef1e-9ba4-4f50-eb6e-b121468dcc41"
      },
      "execution_count": null,
      "outputs": [
        {
          "output_type": "stream",
          "name": "stdout",
          "text": [
            "1\n",
            "1 3 5 7 -1\n",
            "2 4 6 8 -1\n",
            "1 2 3 4 5 6 7 8 \n"
          ]
        }
      ]
    },
    {
      "cell_type": "markdown",
      "source": [
        "# Merge two sorted Linked List"
      ],
      "metadata": {
        "id": "tuwbP14sUlGm"
      }
    },
    {
      "cell_type": "code",
      "source": [
        "class Node:\n",
        "    def __init__(self, data):\n",
        "        self.data = data\n",
        "        self.next = None\n",
        "\n",
        "# Function to merge two sorted linked lists\n",
        "def mergeTwoSortedLinkedLists(head1, head2):\n",
        "    # Handle edge cases where one of the lists is empty\n",
        "    if not head1:\n",
        "        return head2\n",
        "    if not head2:\n",
        "        return head1\n",
        "\n",
        "    # Initialize the merged list's head and tail\n",
        "    if head1.data < head2.data:\n",
        "        fH = head1  # fH is the head of the merged list\n",
        "        fT = head1  # fT is the tail of the merged list\n",
        "        head1 = head1.next  # Move head1 to the next element\n",
        "    else:\n",
        "        fH = head2\n",
        "        fT = head2\n",
        "        head2 = head2.next\n",
        "\n",
        "    # Traverse both lists and merge them\n",
        "    while head1 is not None and head2 is not None:\n",
        "        if head1.data < head2.data:\n",
        "            fT.next = head1  # Add head1 to merged list\n",
        "            fT = fT.next  # Move fT to the newly added node\n",
        "            head1 = head1.next  # Move head1 to next node\n",
        "        else:\n",
        "            fT.next = head2  # Add head2 to merged list\n",
        "            fT = fT.next  # Move fT to the newly added node\n",
        "            head2 = head2.next  # Move head2 to next node\n",
        "\n",
        "    # At this point, at least one of the lists is empty, so we attach the remainder of the non-empty list\n",
        "    if head1 is not None:\n",
        "        fT.next = head1\n",
        "    if head2 is not None:\n",
        "        fT.next = head2\n",
        "\n",
        "    return fH\n",
        "\n",
        "# Function to print the linked list for testing\n",
        "def printLinkedList(head):\n",
        "    while head:\n",
        "        print(head.data, end=\" -> \")\n",
        "        head = head.next\n",
        "    print(\"None\")\n",
        "\n",
        "# Function to create a linked list from a list of values\n",
        "def createLinkedList(values):\n",
        "    head = None\n",
        "    tail = None\n",
        "    for value in values:\n",
        "        new_node = Node(value)\n",
        "        if not head:\n",
        "            head = tail = new_node\n",
        "        else:\n",
        "            tail.next = new_node\n",
        "            tail = tail.next\n",
        "    return head\n",
        "\n",
        "# Test the merging function\n",
        "# Creating two sorted linked lists\n",
        "list1 = createLinkedList([1, 3, 5, 7])\n",
        "list2 = createLinkedList([2, 4, 6, 8])\n",
        "\n",
        "# Merging the two lists\n",
        "merged_list = mergeTwoSortedLinkedLists(list1, list2)\n",
        "\n",
        "# Print the merged list\n",
        "printLinkedList(merged_list)\n"
      ],
      "metadata": {
        "id": "LnrpWMI-o-b4",
        "colab": {
          "base_uri": "https://localhost:8080/"
        },
        "outputId": "b0a77ad1-8dbc-4fc6-e150-b570dd5ad0ad"
      },
      "execution_count": null,
      "outputs": [
        {
          "output_type": "stream",
          "name": "stdout",
          "text": [
            "1 -> 2 -> 3 -> 4 -> 5 -> 6 -> 7 -> 8 -> None\n"
          ]
        }
      ]
    },
    {
      "cell_type": "markdown",
      "source": [
        "# Merge Sort"
      ],
      "metadata": {
        "id": "UY8XE-FK6ymU"
      }
    },
    {
      "cell_type": "code",
      "source": [
        "from sys import stdin, setrecursionlimit\n",
        "setrecursionlimit(10 ** 6)\n",
        "\n",
        "#Following is the Node class already written for the Linked List\n",
        "class Node :\n",
        "    def __init__(self, data) :\n",
        "        self.data = data\n",
        "        self.next = None\n",
        "\n",
        "def get_mid(head):\n",
        "    if head is None:\n",
        "        return\n",
        "    slow=head\n",
        "    fast = head\n",
        "    while fast.next is not None and fast.next.next is not None:\n",
        "        slow=slow.next\n",
        "        fast = fast.next.next\n",
        "    return slow\n",
        "\n",
        "def merge(head1, head2):\n",
        "    if not head1:\n",
        "        return head2\n",
        "    if not head2:\n",
        "        return head1\n",
        "    if head1.data<head2.data:\n",
        "        fH=head1\n",
        "        fT=head1\n",
        "        head1=head1.next\n",
        "    else:\n",
        "        fH=head2\n",
        "        fT=head2\n",
        "        head2=head2.next\n",
        "    while head1 is not None and head2 is not None:\n",
        "        if head1.data<head2.data:\n",
        "            fT.next = head1\n",
        "            fT=fT.next\n",
        "            head1=head1.next\n",
        "        else:\n",
        "            fT.next=head2\n",
        "            fT=fT.next\n",
        "            head2=head2.next\n",
        "    if head1 is not None:\n",
        "        fT.next=head1\n",
        "    if head2 is not None:\n",
        "        fT.next=head2\n",
        "    return fH\n",
        "\n",
        "def mergeSort(head) :\n",
        "    if head is None or head.next is None:\n",
        "        return head\n",
        "    mid = get_mid(head)\n",
        "    left = head\n",
        "    right = mid.next\n",
        "    mid.next = None\n",
        "    left = mergeSort (left)\n",
        "    right = mergeSort(right)\n",
        "    return merge(left, right)"
      ],
      "metadata": {
        "id": "xh5yIq6obF4A"
      },
      "execution_count": null,
      "outputs": []
    },
    {
      "cell_type": "code",
      "source": [
        "from sys import stdin, setrecursionlimit\n",
        "setrecursionlimit(10 ** 6)\n",
        "\n",
        "# Following is the Node class already written for the Linked List\n",
        "class Node:\n",
        "    def __init__(self, data):\n",
        "        self.data = data\n",
        "        self.next = None\n",
        "\n",
        "# Function to print the linked list\n",
        "def print_list(head):\n",
        "    current = head\n",
        "    while current:\n",
        "        print(current.data, end=\" -> \")\n",
        "        current = current.next\n",
        "    print(\"None\")\n",
        "\n",
        "# Function to create a linked list from a list of values\n",
        "def create_linked_list(values):\n",
        "    head = None\n",
        "    for value in reversed(values):\n",
        "        new_node = Node(value)\n",
        "        new_node.next = head\n",
        "        head = new_node\n",
        "    return head\n",
        "\n",
        "# Your existing functions (get_mid, merge, mergeSort) will be included here as is\n",
        "\n",
        "# Example of testing:\n",
        "if __name__ == \"__main__\":\n",
        "    # Create a linked list\n",
        "    values = [5, 3, 8, 1, 2, 7, 4, 6]  # Sample unsorted values\n",
        "    head = create_linked_list(values)\n",
        "\n",
        "    print(\"Original linked list:\")\n",
        "    print_list(head)\n",
        "\n",
        "    # Apply merge sort\n",
        "    sorted_head = mergeSort(head)\n",
        "\n",
        "    print(\"Sorted linked list:\")\n",
        "    print_list(sorted_head)\n"
      ],
      "metadata": {
        "colab": {
          "base_uri": "https://localhost:8080/"
        },
        "id": "VA3__dA1bVHb",
        "outputId": "bddd8044-91c9-460d-8dfc-76c7a0888116"
      },
      "execution_count": null,
      "outputs": [
        {
          "output_type": "stream",
          "name": "stdout",
          "text": [
            "Original linked list:\n",
            "5 -> 3 -> 8 -> 1 -> 2 -> 7 -> 4 -> 6 -> None\n",
            "Sorted linked list:\n",
            "1 -> 2 -> 3 -> 4 -> 5 -> 6 -> 7 -> 8 -> None\n"
          ]
        }
      ]
    },
    {
      "cell_type": "markdown",
      "source": [
        "# Stack using Array - Code"
      ],
      "metadata": {
        "id": "Gmsk1KvEgt5f"
      }
    },
    {
      "cell_type": "code",
      "source": [
        "class Stack:\n",
        "  def __init__(self):\n",
        "    self.__data = []\n",
        "  def push(self,item):\n",
        "    self.__data.append(item)\n",
        "  def pop(self):\n",
        "    if self.isEmpty():\n",
        "      print(\"Hey!Stack is Empty!\")\n",
        "      return\n",
        "    return self.__data.pop()\n",
        "  def top(self):\n",
        "    if self.isEmpty():\n",
        "      print(\"Hey!Stack is Empty!\")\n",
        "      return\n",
        "    return self.__data[len(self.__data)-1]\n",
        "  def size(self):\n",
        "    return len(self.__data)\n",
        "  def isEmpty(self):\n",
        "    return self.size()==0\n",
        "\n",
        "s=Stack()\n",
        "s.push(10)\n",
        "s.push(20)\n",
        "s.push(30)\n",
        "\n",
        "while s.isEmpty() is False:\n",
        "  print(s.pop())\n",
        "s.top()\n"
      ],
      "metadata": {
        "colab": {
          "base_uri": "https://localhost:8080/"
        },
        "id": "-XGcNZCFg5zw",
        "outputId": "ac7aac47-3958-4503-ce94-67b54edad5fa"
      },
      "execution_count": null,
      "outputs": [
        {
          "output_type": "stream",
          "name": "stdout",
          "text": [
            "30\n",
            "20\n",
            "10\n",
            "Hey!Stack is Empty!\n"
          ]
        }
      ]
    },
    {
      "cell_type": "markdown",
      "source": [
        "## Stack using LL-Code"
      ],
      "metadata": {
        "id": "sQfSIGqIk3-y"
      }
    },
    {
      "cell_type": "code",
      "source": [
        "class Node:\n",
        "  def __init__(self, initData):\n",
        "    self.data = initData\n",
        "    self.next = None\n",
        "\n",
        "class Stack:\n",
        "\n",
        "  def __init__(self):\n",
        "    self.__head=None\n",
        "    self.__count=0\n",
        "\n",
        "  def push(self, element):\n",
        "    newNode=Node(element)\n",
        "    newNode.next=self.__head\n",
        "    self.__head=newNode\n",
        "    self.__count=self.__count+1\n",
        "\n",
        "  def pop(self):\n",
        "    if self.isEmpty() is True:\n",
        "      print(\"Hey!Stack is Empty!\")\n",
        "      return\n",
        "    data=self.__head.data\n",
        "    self.__head=self.__head.next\n",
        "    self.__count=self.__count-1\n",
        "    return data\n",
        "\n",
        "  def top(self):\n",
        "    if self.isEmpty() is True:\n",
        "      print(\"Hey! Stack is Empty!\")\n",
        "      return\n",
        "    data=self.__head.data\n",
        "    return data\n",
        "\n",
        "  def size(self):\n",
        "    return self.__count\n",
        "\n",
        "  def isEmpty(self):\n",
        "    return self.size()==0\n",
        "\n",
        "s=Stack()\n",
        "s.push(12)\n",
        "s.push(13)\n",
        "s.push(15)\n",
        "print(s.size())\n",
        "print(s.isEmpty())\n",
        "print(s.top())\n",
        "while s.isEmpty() is False:\n",
        "  print(s.pop())\n",
        "s.pop()\n"
      ],
      "metadata": {
        "colab": {
          "base_uri": "https://localhost:8080/"
        },
        "id": "T3cBJKqFCe2Q",
        "outputId": "0fef8db2-07ee-464c-9b5b-347796a3c766"
      },
      "execution_count": null,
      "outputs": [
        {
          "output_type": "stream",
          "name": "stdout",
          "text": [
            "3\n",
            "False\n",
            "15\n",
            "15\n",
            "13\n",
            "12\n",
            "Hey!Stack is Empty!\n"
          ]
        }
      ]
    },
    {
      "cell_type": "markdown",
      "source": [
        "# Balance Paranthesis-Code"
      ],
      "metadata": {
        "id": "FA7DM-W9EQSj"
      }
    },
    {
      "cell_type": "code",
      "source": [
        "def isBalanced(string):\n",
        "    s=[]\n",
        "    for char in string:\n",
        "        if char in '({[':\n",
        "            s.append(char)\n",
        "        elif char is ')':\n",
        "            if(not s or s[-1]!='('):\n",
        "                return False\n",
        "            s.pop()\n",
        "\n",
        "        elif char is '}':\n",
        "            if(not s or s[-1]!='{'):\n",
        "                return False\n",
        "            s.pop()\n",
        "        elif char is ']':\n",
        "            if(not s or s[-1]!='['):\n",
        "                return False\n",
        "            s.pop()\n",
        "    if(not s):\n",
        "        return True\n",
        "    return False\n",
        "\n",
        "string=input()\n",
        "ans=isBalanced(string)\n",
        "print(ans)\n",
        "\n"
      ],
      "metadata": {
        "id": "cUeAlOEMET4v",
        "colab": {
          "base_uri": "https://localhost:8080/"
        },
        "outputId": "5984424d-61eb-4483-b2dd-299bec05718c"
      },
      "execution_count": null,
      "outputs": [
        {
          "output_type": "stream",
          "name": "stderr",
          "text": [
            "<>:6: SyntaxWarning: \"is\" with a literal. Did you mean \"==\"?\n",
            "<>:11: SyntaxWarning: \"is\" with a literal. Did you mean \"==\"?\n",
            "<>:15: SyntaxWarning: \"is\" with a literal. Did you mean \"==\"?\n",
            "<>:6: SyntaxWarning: \"is\" with a literal. Did you mean \"==\"?\n",
            "<>:11: SyntaxWarning: \"is\" with a literal. Did you mean \"==\"?\n",
            "<>:15: SyntaxWarning: \"is\" with a literal. Did you mean \"==\"?\n",
            "<ipython-input-4-e2fd1acda145>:6: SyntaxWarning: \"is\" with a literal. Did you mean \"==\"?\n",
            "  elif char is ')':\n",
            "<ipython-input-4-e2fd1acda145>:11: SyntaxWarning: \"is\" with a literal. Did you mean \"==\"?\n",
            "  elif char is '}':\n",
            "<ipython-input-4-e2fd1acda145>:15: SyntaxWarning: \"is\" with a literal. Did you mean \"==\"?\n",
            "  elif char is ']':\n"
          ]
        },
        {
          "output_type": "stream",
          "name": "stdout",
          "text": [
            "[{()}]\n",
            "True\n"
          ]
        }
      ]
    },
    {
      "cell_type": "markdown",
      "source": [
        "# Reverse Stack Code"
      ],
      "metadata": {
        "id": "08mGkJOgEWbE"
      }
    },
    {
      "cell_type": "code",
      "source": [
        "def reverseStack(s1,s2):\n",
        "    if(len(s1)<=1):\n",
        "        return\n",
        "    while(len(s1)!=1):\n",
        "        ele=s1.pop()\n",
        "        s2.append(ele)\n",
        "    lastElement=s1.pop()\n",
        "    while(len(s2)!=0):\n",
        "        ele=s2.pop()\n",
        "        s1.append(ele)\n",
        "    reverseStack(s1,s2)\n",
        "    s1.append(lastElement)\n",
        "from sys import setrecursionlimit\n",
        "setrecursionlimit(11000)\n",
        "n=int(input())\n",
        "s1=[int(ele) for ele in input().split()]\n",
        "s2=[]\n",
        "reverseStack(s1,s2)\n",
        "print(s1)\n",
        "while(len(s1)!=0):\n",
        "    print(s1.pop(),end='')"
      ],
      "metadata": {
        "id": "L2PRHh21JfvM",
        "colab": {
          "base_uri": "https://localhost:8080/"
        },
        "outputId": "48c1e196-3f3d-45c6-910e-16bc3a0e046a"
      },
      "execution_count": null,
      "outputs": [
        {
          "output_type": "stream",
          "name": "stdout",
          "text": [
            "1\n",
            "2 4 7 8\n",
            "[8, 7, 4, 2]\n",
            "2478"
          ]
        }
      ]
    },
    {
      "cell_type": "code",
      "source": [
        "def reverseStack(s1,s2):\n",
        "  if len(s1)<=1:\n",
        "    return\n",
        "  while(len(s1)!=1):\n",
        "    ele=s1.pop()\n",
        "    s2.append(ele)\n",
        "  lastelement=s1.pop()\n",
        "  while(len(s2)!=0):\n",
        "    ele=s2.pop()\n",
        "    s1.append(ele)\n",
        "  reverseStack(s1, s2)\n",
        "  s1.append(lastelement)\n",
        "\n",
        "from sys import setrecursionlimit\n",
        "setrecursionlimit(11000)\n",
        "n=int(input())\n",
        "s1=[int(ele) for ele in input().split()]\n",
        "s2=[]\n",
        "reverseStack(s1,s2)\n",
        "print(s1)"
      ],
      "metadata": {
        "colab": {
          "base_uri": "https://localhost:8080/"
        },
        "id": "tY_aj1Ld08XO",
        "outputId": "8912ca66-1459-4267-bbe6-3495ac928341"
      },
      "execution_count": null,
      "outputs": [
        {
          "output_type": "stream",
          "name": "stdout",
          "text": [
            "1\n",
            "2 4 7 8\n",
            "[8, 7, 4, 2]\n"
          ]
        }
      ]
    },
    {
      "cell_type": "markdown",
      "source": [
        "# Queue using array - Code"
      ],
      "metadata": {
        "id": "Fg7wtJSC0eTM"
      }
    },
    {
      "cell_type": "code",
      "source": [
        "class QueueUsingArray:\n",
        "  def __init__(self):\n",
        "    self.__arr=[]\n",
        "    self.__count=0\n",
        "    self.__front=0\n",
        "  def enqueue(self, data):\n",
        "    self.__arr.append(data)\n",
        "    self.__count+=1\n",
        "  def dequeue(self):\n",
        "    if self.__count==0:\n",
        "      return -1\n",
        "    element=self.__arr[self.__front]\n",
        "    self.__count-=1\n",
        "    self.__front+=1\n",
        "    return element\n",
        "  def front(self):\n",
        "    if self.__count==0:\n",
        "      return -1\n",
        "    return self.__arr[self.__front]\n",
        "  def size(self):\n",
        "    return self.__count\n",
        "  def isEmpty(self):\n",
        "    return self.size()==0\n",
        "\n",
        "q=QueueUsingArray()\n",
        "q.enqueue(1)\n",
        "q.enqueue(3)\n",
        "q.enqueue(5)\n",
        "q.enqueue(7)\n",
        "while(q.isEmpty() is False):\n",
        "  print(q.front())\n",
        "  q.dequeue()\n",
        "print(q.dequeue())\n",
        "\n"
      ],
      "metadata": {
        "colab": {
          "base_uri": "https://localhost:8080/"
        },
        "id": "uXCsiyiQ11NF",
        "outputId": "f8ad3a2b-6ce2-4c97-c206-ab9b1fbca4d6"
      },
      "execution_count": null,
      "outputs": [
        {
          "output_type": "stream",
          "name": "stdout",
          "text": [
            "1\n",
            "3\n",
            "5\n",
            "7\n",
            "-1\n"
          ]
        }
      ]
    },
    {
      "cell_type": "markdown",
      "source": [
        "# Queue using Linked List - Code"
      ],
      "metadata": {
        "id": "tGWK2wVy8BUT"
      }
    },
    {
      "cell_type": "code",
      "source": [
        "class Node:\n",
        "  def __init__(self, data):\n",
        "    self.data=data\n",
        "    self.next=None\n",
        "\n",
        "class Queue:\n",
        "  def __init__(self):\n",
        "    self.__head=None\n",
        "    self.__tail=None\n",
        "    self.__count=0\n",
        "  def enqueue(self, element):\n",
        "    newNode=Node(element)\n",
        "    if self.__head is None:\n",
        "      self.__head=newNode\n",
        "    else:\n",
        "      self.__tail.next=newNode\n",
        "    self.__tail=newNode\n",
        "    self.__count=self.__count+1\n",
        "  def dequeue(self):\n",
        "    if self.__head is None:\n",
        "      print(\"Hey! Queue is Empty!\")\n",
        "      return\n",
        "    data=self.__head.data\n",
        "    self.__head=self.__head.next\n",
        "    self.__count=self.__count-1\n",
        "    return data\n",
        "  def front(self):\n",
        "    if self.__head is None:\n",
        "      print(\"Hey! Queue is Empty!\")\n",
        "      return\n",
        "    data=self.__head.data\n",
        "    return data\n",
        "  def size(self):\n",
        "    return self.__count\n",
        "  def isEmpty(self):\n",
        "    return self.size()==0\n",
        "\n",
        "q=Queue()\n",
        "q.enqueue(1)\n",
        "q.enqueue(2)\n",
        "q.enqueue(3)\n",
        "q.enqueue(4)\n",
        "while q.isEmpty() is False:\n",
        "  print(q.dequeue())\n",
        "q.front()"
      ],
      "metadata": {
        "colab": {
          "base_uri": "https://localhost:8080/"
        },
        "id": "_WflM4e_SE7b",
        "outputId": "39b7b4f8-3f3c-4176-85e7-f0a4ffc51c22"
      },
      "execution_count": null,
      "outputs": [
        {
          "output_type": "stream",
          "name": "stdout",
          "text": [
            "1\n",
            "2\n",
            "3\n",
            "4\n",
            "Hey! Queue is Empty!\n"
          ]
        }
      ]
    },
    {
      "cell_type": "markdown",
      "source": [
        "# Inbuilt Stack and Queues"
      ],
      "metadata": {
        "id": "AAghzQ4zaa2O"
      }
    },
    {
      "cell_type": "code",
      "source": [
        "#inbuilt stack as list\n",
        "s=[1,2,3]\n",
        "s.append(4)\n",
        "s.append(5)\n",
        "print(s.pop())\n",
        "print(s.pop())\n",
        "\n",
        "#inbuilt queue\n",
        "import queue\n",
        "q=queue.Queue()\n",
        "q.put(1)\n",
        "q.put(2)\n",
        "q.put(3)\n",
        "q.put(4)\n",
        "while not q.empty():\n",
        "    print(q.get())\n",
        "\n",
        "import queue\n",
        "q=queue.LifoQueue()\n",
        "q.put(1)\n",
        "q.put(2)\n",
        "q.put(3)\n",
        "while not q.empty():\n",
        "    print(q.get())"
      ],
      "metadata": {
        "colab": {
          "base_uri": "https://localhost:8080/"
        },
        "id": "FxixQF_VTQJc",
        "outputId": "316f7de1-4bcd-4ea2-f9ec-5a9a56a56335"
      },
      "execution_count": null,
      "outputs": [
        {
          "output_type": "stream",
          "name": "stdout",
          "text": [
            "5\n",
            "4\n",
            "1\n",
            "2\n",
            "3\n",
            "4\n",
            "3\n",
            "2\n",
            "1\n"
          ]
        }
      ]
    },
    {
      "cell_type": "markdown",
      "source": [
        "# Queue using Two Stacks"
      ],
      "metadata": {
        "id": "Fsj8xXrYb7-n"
      }
    },
    {
      "cell_type": "code",
      "source": [
        "class QueueUsingTwoStacks:\n",
        "    def __init__(self):\n",
        "        self.__s1=[]\n",
        "        self.__s2=[]\n",
        "    def enqueue(self,data):\n",
        "        #(O(n))\n",
        "        while(len(self.__s1)!=0):\n",
        "            self.__s2.append(self.__s1.pop())\n",
        "        self.__s1.append(data)\n",
        "\n",
        "        while(len(self.__s2)!=0):\n",
        "            self.__s1.append(self.__s2.pop())\n",
        "        return\n",
        "\n",
        "    def dequeue(self):\n",
        "        #O(1)\n",
        "        if len(self.__s1)==0:\n",
        "            return -1\n",
        "        return self.__s1.pop()\n",
        "\n",
        "    def front(self):\n",
        "        if len(self.__s1)==0:\n",
        "            return -1\n",
        "        return self.__s1[-1]\n",
        "\n",
        "    def size(self):\n",
        "        return len(self.__s1)\n",
        "\n",
        "    def isEmpty(self):\n",
        "        return self.size()==0\n",
        "\n",
        "q=QueueUsingTwoStacks()\n",
        "q.enqueue(1)\n",
        "q.enqueue(2)\n",
        "q.enqueue(3)\n",
        "q.enqueue(4)\n",
        "\n",
        "while(q.isEmpty() is False):\n",
        "    print(q.front())\n",
        "    q.dequeue()"
      ],
      "metadata": {
        "id": "kSKy_6v0b7Xb",
        "colab": {
          "base_uri": "https://localhost:8080/"
        },
        "outputId": "81b8457d-15b0-48e5-b160-02671af44561"
      },
      "execution_count": null,
      "outputs": [
        {
          "output_type": "stream",
          "name": "stdout",
          "text": [
            "1\n",
            "2\n",
            "3\n",
            "4\n"
          ]
        }
      ]
    },
    {
      "cell_type": "markdown",
      "source": [
        "# Stack using two Queues"
      ],
      "metadata": {
        "id": "FkAgkm3RF572"
      }
    },
    {
      "cell_type": "code",
      "source": [
        "from queue import Queue\n",
        "\n",
        "class Stack:\n",
        "    def __init__(self):\n",
        "        # Initialize two queues\n",
        "        self.q1 = Queue()\n",
        "        self.q2 = Queue()\n",
        "\n",
        "    # Push element onto the stack\n",
        "    def push(self, data):\n",
        "        # Push data to the first queue q1\n",
        "        self.q1.put(data)\n",
        "\n",
        "    # Pop element from the stack\n",
        "    def pop(self):\n",
        "        # If q1 is empty, the stack is empty\n",
        "        if self.q1.empty():\n",
        "            return -1\n",
        "\n",
        "        # Transfer all elements except the last from q1 to q2\n",
        "        while self.q1.qsize() > 1:\n",
        "            self.q2.put(self.q1.get())\n",
        "\n",
        "        # The last element in q1 is the element to pop\n",
        "        popped_element = self.q1.get()\n",
        "\n",
        "        # Swap the references of q1 and q2 for the next operation\n",
        "        self.q1, self.q2 = self.q2, self.q1\n",
        "\n",
        "        return popped_element\n",
        "\n",
        "    # Fetch the top element from the stack without popping it\n",
        "    def top(self):\n",
        "        # If q1 is empty, the stack is empty\n",
        "        if self.q1.empty():\n",
        "            return -1\n",
        "\n",
        "        # Transfer all elements except the last from q1 to q2\n",
        "        while self.q1.qsize() > 1:\n",
        "            self.q2.put(self.q1.get())\n",
        "\n",
        "        # The last element in q1 is the top element\n",
        "        top_element = self.q1.get()\n",
        "\n",
        "        # Put the element back to q2 to maintain the original order in q1\n",
        "        self.q2.put(top_element)\n",
        "\n",
        "        # Swap the references of q1 and q2 for the next operation\n",
        "        self.q1, self.q2 = self.q2, self.q1\n",
        "\n",
        "        return top_element\n",
        "\n",
        "    # Return the size of the stack\n",
        "    def getSize(self):\n",
        "        return self.q1.qsize()\n",
        "\n",
        "    # Check if the stack is empty\n",
        "    def isEmpty(self):\n",
        "        return self.q1.empty()\n",
        "\n",
        "# Main function to handle queries\n",
        "if __name__ == \"__main__\":\n",
        "    q = int(input())  # Read the number of queries\n",
        "    stack = Stack()   # Create the stack object\n",
        "\n",
        "    while q > 0:\n",
        "        query = input().split()  # Read each query\n",
        "        choice = int(query[0])\n",
        "\n",
        "        if choice == 1:\n",
        "            data = int(query[1])\n",
        "            stack.push(data)\n",
        "\n",
        "        elif choice == 2:\n",
        "            print(stack.pop())\n",
        "\n",
        "        elif choice == 3:\n",
        "            print(stack.top())\n",
        "\n",
        "        elif choice == 4:\n",
        "            print(stack.getSize())\n",
        "\n",
        "        elif choice == 5:\n",
        "            if stack.isEmpty():\n",
        "                print(\"true\")\n",
        "            else:\n",
        "                print(\"false\")\n",
        "\n",
        "        q -= 1\n"
      ],
      "metadata": {
        "id": "WzxBRNOmF_qj"
      },
      "execution_count": null,
      "outputs": []
    },
    {
      "cell_type": "markdown",
      "source": [
        "# How to create Binary Tree Node"
      ],
      "metadata": {
        "id": "lA1tJrsKuVgg"
      }
    },
    {
      "cell_type": "code",
      "source": [
        "class BinaryTreeNode:\n",
        "  def __init__(self,data):\n",
        "    self.data=data\n",
        "    self.left=None\n",
        "    self.right=None\n",
        "\n",
        "btn1=BinaryTreeNode(1)\n",
        "btn2=BinaryTreeNode(4)\n",
        "btn3=BinaryTreeNode(5)\n",
        "\n",
        "btn1.left=btn2\n",
        "btn1.right=btn3"
      ],
      "metadata": {
        "id": "BdMMaGuHugN1"
      },
      "execution_count": null,
      "outputs": []
    },
    {
      "cell_type": "markdown",
      "source": [
        "# Print Binary Tree"
      ],
      "metadata": {
        "id": "Ho9N1N6wy7jB"
      }
    },
    {
      "cell_type": "code",
      "source": [
        "class BinaryTreeNode:\n",
        "    def __init__(self,data):\n",
        "        self.data=data;\n",
        "        self.left=None\n",
        "        self.right=None\n",
        "\n",
        "def printTree(root):\n",
        "    if root==None:\n",
        "        return\n",
        "    print(root.data)\n",
        "    printTree(root.left)\n",
        "    printTree(root.right)\n",
        "\n",
        "def printTreeDetailed(root):\n",
        "    if root==None:\n",
        "        return\n",
        "    print(root.data,end=\":\")\n",
        "    if root.left!=None:\n",
        "        print(\"L\",root.left.data,end=\",\")\n",
        "    if root.right!=None:\n",
        "        print(\"R\",root.right.data,end=\"\")\n",
        "    print()\n",
        "    printTreeDetailed(root.left)\n",
        "    printTreeDetailed(root.right)\n",
        "\n",
        "btn1=BinaryTreeNode(1)\n",
        "btn2=BinaryTreeNode(2)\n",
        "btn3=BinaryTreeNode(3)\n",
        "btn4=BinaryTreeNode(4)\n",
        "btn5=BinaryTreeNode(5)\n",
        "\n",
        "btn1.left=btn2\n",
        "btn1.right=btn3\n",
        "btn2.left=btn4\n",
        "btn2.right=btn5\n",
        "\n",
        "printTreeDetailed(btn1)"
      ],
      "metadata": {
        "colab": {
          "base_uri": "https://localhost:8080/"
        },
        "id": "DveKEPBfy-q-",
        "outputId": "1047d9f9-581c-43ee-ad9c-a77fcea73a7a"
      },
      "execution_count": null,
      "outputs": [
        {
          "output_type": "stream",
          "name": "stdout",
          "text": [
            "1:L 2,R 3\n",
            "2:L 4,R 5\n",
            "4:\n",
            "5:\n",
            "3:\n"
          ]
        }
      ]
    },
    {
      "cell_type": "markdown",
      "source": [
        "# Input of Binary Tree"
      ],
      "metadata": {
        "id": "gNvtQVAaDfFb"
      }
    },
    {
      "cell_type": "code",
      "source": [
        "class BinaryTreeNode:\n",
        "    def __init__(self,data):\n",
        "        self.data=data;\n",
        "        self.left=None\n",
        "        self.right=None\n",
        "\n",
        "def printTree(root):\n",
        "    if root==None:\n",
        "        return\n",
        "    print(root.data)\n",
        "    printTree(root.left)\n",
        "    printTree(root.right)\n",
        "\n",
        "def printTreeDetailed(root):\n",
        "    if root==None:\n",
        "        return\n",
        "    print(root.data,end=\":\")\n",
        "    if root.left!=None:\n",
        "        print(\"L\",root.left.data,end=\",\")\n",
        "    if root.right!=None:\n",
        "        print(\"R\",root.right.data,end=\"\")\n",
        "    print()\n",
        "    printTreeDetailed(root.left)\n",
        "    printTreeDetailed(root.right)\n",
        "\n",
        "def treeInput():\n",
        "    rootData=int(input())\n",
        "    if rootData==-1:\n",
        "        return None\n",
        "    root=BinaryTreeNode(rootData)\n",
        "    leftTree=treeInput()\n",
        "    rightTree=treeInput()\n",
        "    root.left=leftTree\n",
        "    root.right=rightTree\n",
        "    return root\n",
        "\n",
        "root=treeInput()\n",
        "printTreeDetailed(root)"
      ],
      "metadata": {
        "id": "BKrshvLEDi-C"
      },
      "execution_count": null,
      "outputs": []
    },
    {
      "cell_type": "markdown",
      "source": [
        "# Node of Nodes in Binary Tree"
      ],
      "metadata": {
        "id": "tiFc1knnI5iU"
      }
    },
    {
      "cell_type": "code",
      "source": [
        "class BinaryTreeNode:\n",
        "    def __init__(self,data):\n",
        "        self.data=data;\n",
        "        self.left=None\n",
        "        self.right=None\n",
        "\n",
        "def printTree(root):\n",
        "    if root==None:\n",
        "        return\n",
        "    print(root.data)\n",
        "    printTree(root.left)\n",
        "    printTree(root.right)\n",
        "\n",
        "def printTreeDetailed(root):\n",
        "    if root==None:\n",
        "        return\n",
        "    print(root.data,end=\":\")\n",
        "    if root.left!=None:\n",
        "        print(\"L\",root.left.data,end=\",\")\n",
        "    if root.right!=None:\n",
        "        print(\"R\",root.right.data,end=\"\")\n",
        "    print()\n",
        "    printTreeDetailed(root.left)\n",
        "    printTreeDetailed(root.right)\n",
        "\n",
        "def treeInput():\n",
        "    rootData=int(input())\n",
        "    if rootData==-1:\n",
        "        return None\n",
        "    root=BinaryTreeNode(rootData)\n",
        "    leftTree=treeInput()\n",
        "    rightTree=treeInput()\n",
        "    root.left=leftTree\n",
        "    root.right=rightTree\n",
        "    return root\n",
        "\n",
        "def numNodes(root):\n",
        "    if root==None:\n",
        "        return 0\n",
        "    leftCount=numNodes(root.left)\n",
        "    rightCount=numNodes(root.right)\n",
        "    return leftCount+rightCount+1\n",
        "\n",
        "root=treeInput()\n",
        "printTreeDetailed(root)\n",
        "print(numNodes(root))"
      ],
      "metadata": {
        "id": "ClcKbBEhI6UJ"
      },
      "execution_count": null,
      "outputs": []
    },
    {
      "cell_type": "code",
      "source": [
        "N=int(input())"
      ],
      "metadata": {
        "colab": {
          "base_uri": "https://localhost:8080/"
        },
        "id": "t-o-bnkcWNim",
        "outputId": "1ad2268f-9176-48d3-ec60-4a3813f4c72a"
      },
      "execution_count": null,
      "outputs": [
        {
          "name": "stdout",
          "output_type": "stream",
          "text": [
            "00010204\n"
          ]
        }
      ]
    },
    {
      "cell_type": "code",
      "source": [
        "print(N)"
      ],
      "metadata": {
        "colab": {
          "base_uri": "https://localhost:8080/"
        },
        "id": "bwfAhcM2Wybv",
        "outputId": "c7fc3d35-d115-440c-b5b6-0de1cee6d3fc"
      },
      "execution_count": null,
      "outputs": [
        {
          "output_type": "stream",
          "name": "stdout",
          "text": [
            "10204\n"
          ]
        }
      ]
    },
    {
      "cell_type": "code",
      "source": [
        "count_of_zeroes=0\n",
        "for i in str(N):\n",
        "  if int(i)==0:\n",
        "    count_of_zeroes+=1\n",
        "print(count_of_zeroes)"
      ],
      "metadata": {
        "colab": {
          "base_uri": "https://localhost:8080/"
        },
        "id": "pguSMIRhXCfL",
        "outputId": "b7b3d075-a7f1-4552-bec2-8481b36f7abb"
      },
      "execution_count": null,
      "outputs": [
        {
          "output_type": "stream",
          "name": "stdout",
          "text": [
            "2\n"
          ]
        }
      ]
    },
    {
      "cell_type": "code",
      "source": [
        "def count_of_zeroes(n):\n",
        "  if\n",
        "\n",
        "  else:\n",
        "    k=str(n)\n",
        "    return 0 + count_of_zeroes(k[1:])\n",
        "\n",
        "count_of_zeroes(10035)\n",
        "\n"
      ],
      "metadata": {
        "colab": {
          "base_uri": "https://localhost:8080/",
          "height": 339
        },
        "id": "szqKxM-KXyVT",
        "outputId": "6b6ab921-923a-4bb6-c048-1147e4e24f0f"
      },
      "execution_count": null,
      "outputs": [
        {
          "output_type": "error",
          "ename": "ValueError",
          "evalue": "invalid literal for int() with base 10: ''",
          "traceback": [
            "\u001b[0;31m---------------------------------------------------------------------------\u001b[0m",
            "\u001b[0;31mValueError\u001b[0m                                Traceback (most recent call last)",
            "\u001b[0;32m<ipython-input-20-a6cd19d6037c>\u001b[0m in \u001b[0;36m<cell line: 0>\u001b[0;34m()\u001b[0m\n\u001b[1;32m      9\u001b[0m     \u001b[0;32mreturn\u001b[0m \u001b[0;36m0\u001b[0m \u001b[0;34m+\u001b[0m \u001b[0mcount_of_zeroes\u001b[0m\u001b[0;34m(\u001b[0m\u001b[0mk\u001b[0m\u001b[0;34m[\u001b[0m\u001b[0;36m1\u001b[0m\u001b[0;34m:\u001b[0m\u001b[0;34m]\u001b[0m\u001b[0;34m)\u001b[0m\u001b[0;34m\u001b[0m\u001b[0;34m\u001b[0m\u001b[0m\n\u001b[1;32m     10\u001b[0m \u001b[0;34m\u001b[0m\u001b[0m\n\u001b[0;32m---> 11\u001b[0;31m \u001b[0mcount_of_zeroes\u001b[0m\u001b[0;34m(\u001b[0m\u001b[0;36m10035\u001b[0m\u001b[0;34m)\u001b[0m\u001b[0;34m\u001b[0m\u001b[0;34m\u001b[0m\u001b[0m\n\u001b[0m\u001b[1;32m     12\u001b[0m \u001b[0;34m\u001b[0m\u001b[0m\n",
            "\u001b[0;32m<ipython-input-20-a6cd19d6037c>\u001b[0m in \u001b[0;36mcount_of_zeroes\u001b[0;34m(n)\u001b[0m\n\u001b[1;32m      7\u001b[0m   \u001b[0;32melse\u001b[0m\u001b[0;34m:\u001b[0m\u001b[0;34m\u001b[0m\u001b[0;34m\u001b[0m\u001b[0m\n\u001b[1;32m      8\u001b[0m     \u001b[0mk\u001b[0m\u001b[0;34m=\u001b[0m\u001b[0mstr\u001b[0m\u001b[0;34m(\u001b[0m\u001b[0mn\u001b[0m\u001b[0;34m)\u001b[0m\u001b[0;34m\u001b[0m\u001b[0;34m\u001b[0m\u001b[0m\n\u001b[0;32m----> 9\u001b[0;31m     \u001b[0;32mreturn\u001b[0m \u001b[0;36m0\u001b[0m \u001b[0;34m+\u001b[0m \u001b[0mcount_of_zeroes\u001b[0m\u001b[0;34m(\u001b[0m\u001b[0mk\u001b[0m\u001b[0;34m[\u001b[0m\u001b[0;36m1\u001b[0m\u001b[0;34m:\u001b[0m\u001b[0;34m]\u001b[0m\u001b[0;34m)\u001b[0m\u001b[0;34m\u001b[0m\u001b[0;34m\u001b[0m\u001b[0m\n\u001b[0m\u001b[1;32m     10\u001b[0m \u001b[0;34m\u001b[0m\u001b[0m\n\u001b[1;32m     11\u001b[0m \u001b[0mcount_of_zeroes\u001b[0m\u001b[0;34m(\u001b[0m\u001b[0;36m10035\u001b[0m\u001b[0;34m)\u001b[0m\u001b[0;34m\u001b[0m\u001b[0;34m\u001b[0m\u001b[0m\n",
            "\u001b[0;32m<ipython-input-20-a6cd19d6037c>\u001b[0m in \u001b[0;36mcount_of_zeroes\u001b[0;34m(n)\u001b[0m\n\u001b[1;32m      7\u001b[0m   \u001b[0;32melse\u001b[0m\u001b[0;34m:\u001b[0m\u001b[0;34m\u001b[0m\u001b[0;34m\u001b[0m\u001b[0m\n\u001b[1;32m      8\u001b[0m     \u001b[0mk\u001b[0m\u001b[0;34m=\u001b[0m\u001b[0mstr\u001b[0m\u001b[0;34m(\u001b[0m\u001b[0mn\u001b[0m\u001b[0;34m)\u001b[0m\u001b[0;34m\u001b[0m\u001b[0;34m\u001b[0m\u001b[0m\n\u001b[0;32m----> 9\u001b[0;31m     \u001b[0;32mreturn\u001b[0m \u001b[0;36m0\u001b[0m \u001b[0;34m+\u001b[0m \u001b[0mcount_of_zeroes\u001b[0m\u001b[0;34m(\u001b[0m\u001b[0mk\u001b[0m\u001b[0;34m[\u001b[0m\u001b[0;36m1\u001b[0m\u001b[0;34m:\u001b[0m\u001b[0;34m]\u001b[0m\u001b[0;34m)\u001b[0m\u001b[0;34m\u001b[0m\u001b[0;34m\u001b[0m\u001b[0m\n\u001b[0m\u001b[1;32m     10\u001b[0m \u001b[0;34m\u001b[0m\u001b[0m\n\u001b[1;32m     11\u001b[0m \u001b[0mcount_of_zeroes\u001b[0m\u001b[0;34m(\u001b[0m\u001b[0;36m10035\u001b[0m\u001b[0;34m)\u001b[0m\u001b[0;34m\u001b[0m\u001b[0;34m\u001b[0m\u001b[0m\n",
            "\u001b[0;32m<ipython-input-20-a6cd19d6037c>\u001b[0m in \u001b[0;36mcount_of_zeroes\u001b[0;34m(n)\u001b[0m\n\u001b[1;32m      7\u001b[0m   \u001b[0;32melse\u001b[0m\u001b[0;34m:\u001b[0m\u001b[0;34m\u001b[0m\u001b[0;34m\u001b[0m\u001b[0m\n\u001b[1;32m      8\u001b[0m     \u001b[0mk\u001b[0m\u001b[0;34m=\u001b[0m\u001b[0mstr\u001b[0m\u001b[0;34m(\u001b[0m\u001b[0mn\u001b[0m\u001b[0;34m)\u001b[0m\u001b[0;34m\u001b[0m\u001b[0;34m\u001b[0m\u001b[0m\n\u001b[0;32m----> 9\u001b[0;31m     \u001b[0;32mreturn\u001b[0m \u001b[0;36m0\u001b[0m \u001b[0;34m+\u001b[0m \u001b[0mcount_of_zeroes\u001b[0m\u001b[0;34m(\u001b[0m\u001b[0mk\u001b[0m\u001b[0;34m[\u001b[0m\u001b[0;36m1\u001b[0m\u001b[0;34m:\u001b[0m\u001b[0;34m]\u001b[0m\u001b[0;34m)\u001b[0m\u001b[0;34m\u001b[0m\u001b[0;34m\u001b[0m\u001b[0m\n\u001b[0m\u001b[1;32m     10\u001b[0m \u001b[0;34m\u001b[0m\u001b[0m\n\u001b[1;32m     11\u001b[0m \u001b[0mcount_of_zeroes\u001b[0m\u001b[0;34m(\u001b[0m\u001b[0;36m10035\u001b[0m\u001b[0;34m)\u001b[0m\u001b[0;34m\u001b[0m\u001b[0;34m\u001b[0m\u001b[0m\n",
            "\u001b[0;32m<ipython-input-20-a6cd19d6037c>\u001b[0m in \u001b[0;36mcount_of_zeroes\u001b[0;34m(n)\u001b[0m\n\u001b[1;32m      7\u001b[0m   \u001b[0;32melse\u001b[0m\u001b[0;34m:\u001b[0m\u001b[0;34m\u001b[0m\u001b[0;34m\u001b[0m\u001b[0m\n\u001b[1;32m      8\u001b[0m     \u001b[0mk\u001b[0m\u001b[0;34m=\u001b[0m\u001b[0mstr\u001b[0m\u001b[0;34m(\u001b[0m\u001b[0mn\u001b[0m\u001b[0;34m)\u001b[0m\u001b[0;34m\u001b[0m\u001b[0;34m\u001b[0m\u001b[0m\n\u001b[0;32m----> 9\u001b[0;31m     \u001b[0;32mreturn\u001b[0m \u001b[0;36m0\u001b[0m \u001b[0;34m+\u001b[0m \u001b[0mcount_of_zeroes\u001b[0m\u001b[0;34m(\u001b[0m\u001b[0mk\u001b[0m\u001b[0;34m[\u001b[0m\u001b[0;36m1\u001b[0m\u001b[0;34m:\u001b[0m\u001b[0;34m]\u001b[0m\u001b[0;34m)\u001b[0m\u001b[0;34m\u001b[0m\u001b[0;34m\u001b[0m\u001b[0m\n\u001b[0m\u001b[1;32m     10\u001b[0m \u001b[0;34m\u001b[0m\u001b[0m\n\u001b[1;32m     11\u001b[0m \u001b[0mcount_of_zeroes\u001b[0m\u001b[0;34m(\u001b[0m\u001b[0;36m10035\u001b[0m\u001b[0;34m)\u001b[0m\u001b[0;34m\u001b[0m\u001b[0;34m\u001b[0m\u001b[0m\n",
            "\u001b[0;32m<ipython-input-20-a6cd19d6037c>\u001b[0m in \u001b[0;36mcount_of_zeroes\u001b[0;34m(n)\u001b[0m\n\u001b[1;32m      7\u001b[0m   \u001b[0;32melse\u001b[0m\u001b[0;34m:\u001b[0m\u001b[0;34m\u001b[0m\u001b[0;34m\u001b[0m\u001b[0m\n\u001b[1;32m      8\u001b[0m     \u001b[0mk\u001b[0m\u001b[0;34m=\u001b[0m\u001b[0mstr\u001b[0m\u001b[0;34m(\u001b[0m\u001b[0mn\u001b[0m\u001b[0;34m)\u001b[0m\u001b[0;34m\u001b[0m\u001b[0;34m\u001b[0m\u001b[0m\n\u001b[0;32m----> 9\u001b[0;31m     \u001b[0;32mreturn\u001b[0m \u001b[0;36m0\u001b[0m \u001b[0;34m+\u001b[0m \u001b[0mcount_of_zeroes\u001b[0m\u001b[0;34m(\u001b[0m\u001b[0mk\u001b[0m\u001b[0;34m[\u001b[0m\u001b[0;36m1\u001b[0m\u001b[0;34m:\u001b[0m\u001b[0;34m]\u001b[0m\u001b[0;34m)\u001b[0m\u001b[0;34m\u001b[0m\u001b[0;34m\u001b[0m\u001b[0m\n\u001b[0m\u001b[1;32m     10\u001b[0m \u001b[0;34m\u001b[0m\u001b[0m\n\u001b[1;32m     11\u001b[0m \u001b[0mcount_of_zeroes\u001b[0m\u001b[0;34m(\u001b[0m\u001b[0;36m10035\u001b[0m\u001b[0;34m)\u001b[0m\u001b[0;34m\u001b[0m\u001b[0;34m\u001b[0m\u001b[0m\n",
            "\u001b[0;32m<ipython-input-20-a6cd19d6037c>\u001b[0m in \u001b[0;36mcount_of_zeroes\u001b[0;34m(n)\u001b[0m\n\u001b[1;32m      1\u001b[0m \u001b[0;32mdef\u001b[0m \u001b[0mcount_of_zeroes\u001b[0m\u001b[0;34m(\u001b[0m\u001b[0mn\u001b[0m\u001b[0;34m)\u001b[0m\u001b[0;34m:\u001b[0m\u001b[0;34m\u001b[0m\u001b[0;34m\u001b[0m\u001b[0m\n\u001b[0;32m----> 2\u001b[0;31m   \u001b[0;32mif\u001b[0m \u001b[0mint\u001b[0m\u001b[0;34m(\u001b[0m\u001b[0mn\u001b[0m\u001b[0;34m)\u001b[0m\u001b[0;34m==\u001b[0m\u001b[0;32mNone\u001b[0m\u001b[0;34m:\u001b[0m\u001b[0;34m\u001b[0m\u001b[0;34m\u001b[0m\u001b[0m\n\u001b[0m\u001b[1;32m      3\u001b[0m     \u001b[0;32mreturn\u001b[0m\u001b[0;34m\u001b[0m\u001b[0;34m\u001b[0m\u001b[0m\n\u001b[1;32m      4\u001b[0m   \u001b[0;32melif\u001b[0m \u001b[0mint\u001b[0m\u001b[0;34m(\u001b[0m\u001b[0mn\u001b[0m\u001b[0;34m)\u001b[0m\u001b[0;34m==\u001b[0m\u001b[0;36m0\u001b[0m\u001b[0;34m:\u001b[0m\u001b[0;34m\u001b[0m\u001b[0;34m\u001b[0m\u001b[0m\n\u001b[1;32m      5\u001b[0m     \u001b[0;32mreturn\u001b[0m \u001b[0;36m1\u001b[0m\u001b[0;34m\u001b[0m\u001b[0;34m\u001b[0m\u001b[0m\n",
            "\u001b[0;31mValueError\u001b[0m: invalid literal for int() with base 10: ''"
          ]
        }
      ]
    },
    {
      "cell_type": "code",
      "source": [
        "n=10035\n",
        "n=n//10\n",
        "print(n)\n",
        "n=n//10\n",
        "print(n)"
      ],
      "metadata": {
        "colab": {
          "base_uri": "https://localhost:8080/"
        },
        "id": "hqSA2zKvyUzM",
        "outputId": "e7631dba-c042-458b-ee80-ae3883ec2726"
      },
      "execution_count": null,
      "outputs": [
        {
          "output_type": "stream",
          "name": "stdout",
          "text": [
            "1003\n",
            "100\n"
          ]
        }
      ]
    },
    {
      "cell_type": "code",
      "source": [
        "def count_of_zeroes(n):\n",
        "  k=n%10\n",
        "  if k==0:\n",
        "    return 1+count_of_zeroes(n//10)\n",
        "  else:\n",
        "    return count_of_zeroes(n//10)\n",
        "\n",
        "count_of_zeroes(10035)"
      ],
      "metadata": {
        "colab": {
          "base_uri": "https://localhost:8080/",
          "height": 356
        },
        "id": "KzoIc0UhyqRZ",
        "outputId": "cf0af15f-aa43-4704-f523-1f17f0af180a"
      },
      "execution_count": null,
      "outputs": [
        {
          "output_type": "error",
          "ename": "RecursionError",
          "evalue": "maximum recursion depth exceeded",
          "traceback": [
            "\u001b[0;31m---------------------------------------------------------------------------\u001b[0m",
            "\u001b[0;31mRecursionError\u001b[0m                            Traceback (most recent call last)",
            "\u001b[0;32m<ipython-input-23-29e943c03edb>\u001b[0m in \u001b[0;36m<cell line: 0>\u001b[0;34m()\u001b[0m\n\u001b[1;32m      6\u001b[0m     \u001b[0;32mreturn\u001b[0m \u001b[0mcount_of_zeroes\u001b[0m\u001b[0;34m(\u001b[0m\u001b[0mn\u001b[0m\u001b[0;34m//\u001b[0m\u001b[0;36m10\u001b[0m\u001b[0;34m)\u001b[0m\u001b[0;34m\u001b[0m\u001b[0;34m\u001b[0m\u001b[0m\n\u001b[1;32m      7\u001b[0m \u001b[0;34m\u001b[0m\u001b[0m\n\u001b[0;32m----> 8\u001b[0;31m \u001b[0mcount_of_zeroes\u001b[0m\u001b[0;34m(\u001b[0m\u001b[0;36m10035\u001b[0m\u001b[0;34m)\u001b[0m\u001b[0;34m\u001b[0m\u001b[0;34m\u001b[0m\u001b[0m\n\u001b[0m",
            "\u001b[0;32m<ipython-input-23-29e943c03edb>\u001b[0m in \u001b[0;36mcount_of_zeroes\u001b[0;34m(n)\u001b[0m\n\u001b[1;32m      4\u001b[0m     \u001b[0;32mreturn\u001b[0m \u001b[0;36m1\u001b[0m\u001b[0;34m+\u001b[0m\u001b[0mcount_of_zeroes\u001b[0m\u001b[0;34m(\u001b[0m\u001b[0mn\u001b[0m\u001b[0;34m//\u001b[0m\u001b[0;36m10\u001b[0m\u001b[0;34m)\u001b[0m\u001b[0;34m\u001b[0m\u001b[0;34m\u001b[0m\u001b[0m\n\u001b[1;32m      5\u001b[0m   \u001b[0;32melse\u001b[0m\u001b[0;34m:\u001b[0m\u001b[0;34m\u001b[0m\u001b[0;34m\u001b[0m\u001b[0m\n\u001b[0;32m----> 6\u001b[0;31m     \u001b[0;32mreturn\u001b[0m \u001b[0mcount_of_zeroes\u001b[0m\u001b[0;34m(\u001b[0m\u001b[0mn\u001b[0m\u001b[0;34m//\u001b[0m\u001b[0;36m10\u001b[0m\u001b[0;34m)\u001b[0m\u001b[0;34m\u001b[0m\u001b[0;34m\u001b[0m\u001b[0m\n\u001b[0m\u001b[1;32m      7\u001b[0m \u001b[0;34m\u001b[0m\u001b[0m\n\u001b[1;32m      8\u001b[0m \u001b[0mcount_of_zeroes\u001b[0m\u001b[0;34m(\u001b[0m\u001b[0;36m10035\u001b[0m\u001b[0;34m)\u001b[0m\u001b[0;34m\u001b[0m\u001b[0;34m\u001b[0m\u001b[0m\n",
            "\u001b[0;32m<ipython-input-23-29e943c03edb>\u001b[0m in \u001b[0;36mcount_of_zeroes\u001b[0;34m(n)\u001b[0m\n\u001b[1;32m      4\u001b[0m     \u001b[0;32mreturn\u001b[0m \u001b[0;36m1\u001b[0m\u001b[0;34m+\u001b[0m\u001b[0mcount_of_zeroes\u001b[0m\u001b[0;34m(\u001b[0m\u001b[0mn\u001b[0m\u001b[0;34m//\u001b[0m\u001b[0;36m10\u001b[0m\u001b[0;34m)\u001b[0m\u001b[0;34m\u001b[0m\u001b[0;34m\u001b[0m\u001b[0m\n\u001b[1;32m      5\u001b[0m   \u001b[0;32melse\u001b[0m\u001b[0;34m:\u001b[0m\u001b[0;34m\u001b[0m\u001b[0;34m\u001b[0m\u001b[0m\n\u001b[0;32m----> 6\u001b[0;31m     \u001b[0;32mreturn\u001b[0m \u001b[0mcount_of_zeroes\u001b[0m\u001b[0;34m(\u001b[0m\u001b[0mn\u001b[0m\u001b[0;34m//\u001b[0m\u001b[0;36m10\u001b[0m\u001b[0;34m)\u001b[0m\u001b[0;34m\u001b[0m\u001b[0;34m\u001b[0m\u001b[0m\n\u001b[0m\u001b[1;32m      7\u001b[0m \u001b[0;34m\u001b[0m\u001b[0m\n\u001b[1;32m      8\u001b[0m \u001b[0mcount_of_zeroes\u001b[0m\u001b[0;34m(\u001b[0m\u001b[0;36m10035\u001b[0m\u001b[0;34m)\u001b[0m\u001b[0;34m\u001b[0m\u001b[0;34m\u001b[0m\u001b[0m\n",
            "\u001b[0;32m<ipython-input-23-29e943c03edb>\u001b[0m in \u001b[0;36mcount_of_zeroes\u001b[0;34m(n)\u001b[0m\n\u001b[1;32m      2\u001b[0m   \u001b[0mk\u001b[0m\u001b[0;34m=\u001b[0m\u001b[0mn\u001b[0m\u001b[0;34m%\u001b[0m\u001b[0;36m10\u001b[0m\u001b[0;34m\u001b[0m\u001b[0;34m\u001b[0m\u001b[0m\n\u001b[1;32m      3\u001b[0m   \u001b[0;32mif\u001b[0m \u001b[0mk\u001b[0m\u001b[0;34m==\u001b[0m\u001b[0;36m0\u001b[0m\u001b[0;34m:\u001b[0m\u001b[0;34m\u001b[0m\u001b[0;34m\u001b[0m\u001b[0m\n\u001b[0;32m----> 4\u001b[0;31m     \u001b[0;32mreturn\u001b[0m \u001b[0;36m1\u001b[0m\u001b[0;34m+\u001b[0m\u001b[0mcount_of_zeroes\u001b[0m\u001b[0;34m(\u001b[0m\u001b[0mn\u001b[0m\u001b[0;34m//\u001b[0m\u001b[0;36m10\u001b[0m\u001b[0;34m)\u001b[0m\u001b[0;34m\u001b[0m\u001b[0;34m\u001b[0m\u001b[0m\n\u001b[0m\u001b[1;32m      5\u001b[0m   \u001b[0;32melse\u001b[0m\u001b[0;34m:\u001b[0m\u001b[0;34m\u001b[0m\u001b[0;34m\u001b[0m\u001b[0m\n\u001b[1;32m      6\u001b[0m     \u001b[0;32mreturn\u001b[0m \u001b[0mcount_of_zeroes\u001b[0m\u001b[0;34m(\u001b[0m\u001b[0mn\u001b[0m\u001b[0;34m//\u001b[0m\u001b[0;36m10\u001b[0m\u001b[0;34m)\u001b[0m\u001b[0;34m\u001b[0m\u001b[0;34m\u001b[0m\u001b[0m\n",
            "\u001b[0;32m<ipython-input-23-29e943c03edb>\u001b[0m in \u001b[0;36mcount_of_zeroes\u001b[0;34m(n)\u001b[0m\n\u001b[1;32m      2\u001b[0m   \u001b[0mk\u001b[0m\u001b[0;34m=\u001b[0m\u001b[0mn\u001b[0m\u001b[0;34m%\u001b[0m\u001b[0;36m10\u001b[0m\u001b[0;34m\u001b[0m\u001b[0;34m\u001b[0m\u001b[0m\n\u001b[1;32m      3\u001b[0m   \u001b[0;32mif\u001b[0m \u001b[0mk\u001b[0m\u001b[0;34m==\u001b[0m\u001b[0;36m0\u001b[0m\u001b[0;34m:\u001b[0m\u001b[0;34m\u001b[0m\u001b[0;34m\u001b[0m\u001b[0m\n\u001b[0;32m----> 4\u001b[0;31m     \u001b[0;32mreturn\u001b[0m \u001b[0;36m1\u001b[0m\u001b[0;34m+\u001b[0m\u001b[0mcount_of_zeroes\u001b[0m\u001b[0;34m(\u001b[0m\u001b[0mn\u001b[0m\u001b[0;34m//\u001b[0m\u001b[0;36m10\u001b[0m\u001b[0;34m)\u001b[0m\u001b[0;34m\u001b[0m\u001b[0;34m\u001b[0m\u001b[0m\n\u001b[0m\u001b[1;32m      5\u001b[0m   \u001b[0;32melse\u001b[0m\u001b[0;34m:\u001b[0m\u001b[0;34m\u001b[0m\u001b[0;34m\u001b[0m\u001b[0m\n\u001b[1;32m      6\u001b[0m     \u001b[0;32mreturn\u001b[0m \u001b[0mcount_of_zeroes\u001b[0m\u001b[0;34m(\u001b[0m\u001b[0mn\u001b[0m\u001b[0;34m//\u001b[0m\u001b[0;36m10\u001b[0m\u001b[0;34m)\u001b[0m\u001b[0;34m\u001b[0m\u001b[0;34m\u001b[0m\u001b[0m\n",
            "\u001b[0;32m<ipython-input-23-29e943c03edb>\u001b[0m in \u001b[0;36mcount_of_zeroes\u001b[0;34m(n)\u001b[0m\n\u001b[1;32m      4\u001b[0m     \u001b[0;32mreturn\u001b[0m \u001b[0;36m1\u001b[0m\u001b[0;34m+\u001b[0m\u001b[0mcount_of_zeroes\u001b[0m\u001b[0;34m(\u001b[0m\u001b[0mn\u001b[0m\u001b[0;34m//\u001b[0m\u001b[0;36m10\u001b[0m\u001b[0;34m)\u001b[0m\u001b[0;34m\u001b[0m\u001b[0;34m\u001b[0m\u001b[0m\n\u001b[1;32m      5\u001b[0m   \u001b[0;32melse\u001b[0m\u001b[0;34m:\u001b[0m\u001b[0;34m\u001b[0m\u001b[0;34m\u001b[0m\u001b[0m\n\u001b[0;32m----> 6\u001b[0;31m     \u001b[0;32mreturn\u001b[0m \u001b[0mcount_of_zeroes\u001b[0m\u001b[0;34m(\u001b[0m\u001b[0mn\u001b[0m\u001b[0;34m//\u001b[0m\u001b[0;36m10\u001b[0m\u001b[0;34m)\u001b[0m\u001b[0;34m\u001b[0m\u001b[0;34m\u001b[0m\u001b[0m\n\u001b[0m\u001b[1;32m      7\u001b[0m \u001b[0;34m\u001b[0m\u001b[0m\n\u001b[1;32m      8\u001b[0m \u001b[0mcount_of_zeroes\u001b[0m\u001b[0;34m(\u001b[0m\u001b[0;36m10035\u001b[0m\u001b[0;34m)\u001b[0m\u001b[0;34m\u001b[0m\u001b[0;34m\u001b[0m\u001b[0m\n",
            "\u001b[0;32m<ipython-input-23-29e943c03edb>\u001b[0m in \u001b[0;36mcount_of_zeroes\u001b[0;34m(n)\u001b[0m\n\u001b[1;32m      2\u001b[0m   \u001b[0mk\u001b[0m\u001b[0;34m=\u001b[0m\u001b[0mn\u001b[0m\u001b[0;34m%\u001b[0m\u001b[0;36m10\u001b[0m\u001b[0;34m\u001b[0m\u001b[0;34m\u001b[0m\u001b[0m\n\u001b[1;32m      3\u001b[0m   \u001b[0;32mif\u001b[0m \u001b[0mk\u001b[0m\u001b[0;34m==\u001b[0m\u001b[0;36m0\u001b[0m\u001b[0;34m:\u001b[0m\u001b[0;34m\u001b[0m\u001b[0;34m\u001b[0m\u001b[0m\n\u001b[0;32m----> 4\u001b[0;31m     \u001b[0;32mreturn\u001b[0m \u001b[0;36m1\u001b[0m\u001b[0;34m+\u001b[0m\u001b[0mcount_of_zeroes\u001b[0m\u001b[0;34m(\u001b[0m\u001b[0mn\u001b[0m\u001b[0;34m//\u001b[0m\u001b[0;36m10\u001b[0m\u001b[0;34m)\u001b[0m\u001b[0;34m\u001b[0m\u001b[0;34m\u001b[0m\u001b[0m\n\u001b[0m\u001b[1;32m      5\u001b[0m   \u001b[0;32melse\u001b[0m\u001b[0;34m:\u001b[0m\u001b[0;34m\u001b[0m\u001b[0;34m\u001b[0m\u001b[0m\n\u001b[1;32m      6\u001b[0m     \u001b[0;32mreturn\u001b[0m \u001b[0mcount_of_zeroes\u001b[0m\u001b[0;34m(\u001b[0m\u001b[0mn\u001b[0m\u001b[0;34m//\u001b[0m\u001b[0;36m10\u001b[0m\u001b[0;34m)\u001b[0m\u001b[0;34m\u001b[0m\u001b[0;34m\u001b[0m\u001b[0m\n",
            "... last 1 frames repeated, from the frame below ...\n",
            "\u001b[0;32m<ipython-input-23-29e943c03edb>\u001b[0m in \u001b[0;36mcount_of_zeroes\u001b[0;34m(n)\u001b[0m\n\u001b[1;32m      2\u001b[0m   \u001b[0mk\u001b[0m\u001b[0;34m=\u001b[0m\u001b[0mn\u001b[0m\u001b[0;34m%\u001b[0m\u001b[0;36m10\u001b[0m\u001b[0;34m\u001b[0m\u001b[0;34m\u001b[0m\u001b[0m\n\u001b[1;32m      3\u001b[0m   \u001b[0;32mif\u001b[0m \u001b[0mk\u001b[0m\u001b[0;34m==\u001b[0m\u001b[0;36m0\u001b[0m\u001b[0;34m:\u001b[0m\u001b[0;34m\u001b[0m\u001b[0;34m\u001b[0m\u001b[0m\n\u001b[0;32m----> 4\u001b[0;31m     \u001b[0;32mreturn\u001b[0m \u001b[0;36m1\u001b[0m\u001b[0;34m+\u001b[0m\u001b[0mcount_of_zeroes\u001b[0m\u001b[0;34m(\u001b[0m\u001b[0mn\u001b[0m\u001b[0;34m//\u001b[0m\u001b[0;36m10\u001b[0m\u001b[0;34m)\u001b[0m\u001b[0;34m\u001b[0m\u001b[0;34m\u001b[0m\u001b[0m\n\u001b[0m\u001b[1;32m      5\u001b[0m   \u001b[0;32melse\u001b[0m\u001b[0;34m:\u001b[0m\u001b[0;34m\u001b[0m\u001b[0;34m\u001b[0m\u001b[0m\n\u001b[1;32m      6\u001b[0m     \u001b[0;32mreturn\u001b[0m \u001b[0mcount_of_zeroes\u001b[0m\u001b[0;34m(\u001b[0m\u001b[0mn\u001b[0m\u001b[0;34m//\u001b[0m\u001b[0;36m10\u001b[0m\u001b[0;34m)\u001b[0m\u001b[0;34m\u001b[0m\u001b[0;34m\u001b[0m\u001b[0m\n",
            "\u001b[0;31mRecursionError\u001b[0m: maximum recursion depth exceeded"
          ]
        }
      ]
    },
    {
      "cell_type": "code",
      "source": [
        "def count_of_zeroes(n):\n",
        "  if n == 0:  # Base case: Stop when n becomes 0\n",
        "    return 0\n",
        "  k = n % 10\n",
        "  if k == 0:\n",
        "    return 1 + count_of_zeroes(n // 10)\n",
        "  else:\n",
        "    return count_of_zeroes(n // 10)\n",
        "n=int(input())\n",
        "print(count_of_zeroes(n))"
      ],
      "metadata": {
        "colab": {
          "base_uri": "https://localhost:8080/"
        },
        "id": "lpMxkrA9zoqo",
        "outputId": "10c77f3f-50db-4ebe-d111-5524e3384675"
      },
      "execution_count": null,
      "outputs": [
        {
          "output_type": "stream",
          "name": "stdout",
          "text": [
            "00\n",
            "0\n"
          ]
        }
      ]
    },
    {
      "cell_type": "code",
      "source": [
        "def count_of_zeroes(n):\n",
        "    if n == 0:  # Special case for 0, return 1 instead of 0\n",
        "        return 1\n",
        "    k = n % 10\n",
        "    if k == 0:\n",
        "        return 1 + count_of_zeroes(n // 10)\n",
        "    else:\n",
        "        return count_of_zeroes(n // 10)\n",
        "\n",
        "n = int(input())\n",
        "print(count_of_zeroes(n))\n"
      ],
      "metadata": {
        "colab": {
          "base_uri": "https://localhost:8080/"
        },
        "id": "XAfY1WL14xP1",
        "outputId": "c4888311-7dbd-4dda-a117-f191584825cd"
      },
      "execution_count": null,
      "outputs": [
        {
          "output_type": "stream",
          "name": "stdout",
          "text": [
            "0035\n",
            "1\n"
          ]
        }
      ]
    },
    {
      "cell_type": "code",
      "source": [
        "def count_of_zeroes(n):\n",
        "    if n == 0:  # Special case for 0\n",
        "        return 1\n",
        "    elif n < 10:  # If the number is a single digit and not zero, no zeros\n",
        "        return 0\n",
        "\n",
        "    k = n % 10\n",
        "    if k == 0:\n",
        "        return 1 + count_of_zeroes(n // 10)\n",
        "    else:\n",
        "        return count_of_zeroes(n // 10)\n",
        "\n",
        "n = int(input())\n",
        "print(count_of_zeroes(n))\n"
      ],
      "metadata": {
        "id": "uWSk51fL5NJA",
        "outputId": "07f40754-4a9e-4ac4-c25f-248e511f8a92",
        "colab": {
          "base_uri": "https://localhost:8080/"
        }
      },
      "execution_count": null,
      "outputs": [
        {
          "output_type": "stream",
          "name": "stdout",
          "text": [
            "0030405\n",
            "2\n"
          ]
        }
      ]
    }
  ],
  "metadata": {
    "colab": {
      "provenance": []
    },
    "kernelspec": {
      "display_name": "Python 3",
      "name": "python3"
    },
    "language_info": {
      "name": "python"
    }
  },
  "nbformat": 4,
  "nbformat_minor": 0
}