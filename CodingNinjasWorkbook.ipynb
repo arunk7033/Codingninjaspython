{
 "cells": [
  {
   "cell_type": "code",
   "execution_count": 1,
   "id": "ead48bb8",
   "metadata": {},
   "outputs": [
    {
     "name": "stdout",
     "output_type": "stream",
     "text": [
      "Hello World!!!\n"
     ]
    }
   ],
   "source": [
    "print(\"Hello World!!!\")"
   ]
  },
  {
   "cell_type": "markdown",
   "id": "21309603",
   "metadata": {},
   "source": [
    "print('your's truly)"
   ]
  },
  {
   "cell_type": "code",
   "execution_count": 2,
   "id": "8b385384",
   "metadata": {},
   "outputs": [
    {
     "name": "stdout",
     "output_type": "stream",
     "text": [
      "your's truly\n"
     ]
    }
   ],
   "source": [
    "print(\"your's truly\")"
   ]
  },
  {
   "cell_type": "markdown",
   "id": "106a2701",
   "metadata": {},
   "source": [
    "# Varibles in Python"
   ]
  },
  {
   "cell_type": "code",
   "execution_count": 3,
   "id": "32e29917",
   "metadata": {},
   "outputs": [],
   "source": [
    "age=10"
   ]
  },
  {
   "cell_type": "code",
   "execution_count": 4,
   "id": "e0254f49",
   "metadata": {},
   "outputs": [],
   "source": [
    "name=\"Sanket singh\""
   ]
  },
  {
   "cell_type": "code",
   "execution_count": 5,
   "id": "5334f739",
   "metadata": {},
   "outputs": [
    {
     "data": {
      "text/plain": [
       "10"
      ]
     },
     "execution_count": 5,
     "metadata": {},
     "output_type": "execute_result"
    }
   ],
   "source": [
    "age"
   ]
  },
  {
   "cell_type": "code",
   "execution_count": 6,
   "id": "1d6deb1a",
   "metadata": {},
   "outputs": [
    {
     "data": {
      "text/plain": [
       "'Sanket singh'"
      ]
     },
     "execution_count": 6,
     "metadata": {},
     "output_type": "execute_result"
    }
   ],
   "source": [
    "name"
   ]
  },
  {
   "cell_type": "code",
   "execution_count": 7,
   "id": "89737075",
   "metadata": {},
   "outputs": [
    {
     "name": "stdout",
     "output_type": "stream",
     "text": [
      "Sanket singh\n"
     ]
    }
   ],
   "source": [
    "print(name)"
   ]
  },
  {
   "cell_type": "code",
   "execution_count": 8,
   "id": "042321a7",
   "metadata": {},
   "outputs": [
    {
     "name": "stdout",
     "output_type": "stream",
     "text": [
      "Sanket singh 10\n"
     ]
    }
   ],
   "source": [
    "print(name,age)"
   ]
  },
  {
   "cell_type": "code",
   "execution_count": 9,
   "id": "617d08bf",
   "metadata": {},
   "outputs": [],
   "source": [
    "x,y,z=4,50.6,\"something\""
   ]
  },
  {
   "cell_type": "code",
   "execution_count": 10,
   "id": "8f57e1b5",
   "metadata": {},
   "outputs": [
    {
     "name": "stdout",
     "output_type": "stream",
     "text": [
      "4 50.6 something\n"
     ]
    }
   ],
   "source": [
    "print(x,y,z)"
   ]
  },
  {
   "cell_type": "markdown",
   "id": "4b4c1fc4",
   "metadata": {},
   "source": [
    "# Rules for declaring variable names"
   ]
  },
  {
   "cell_type": "code",
   "execution_count": 11,
   "id": "673ef9d2",
   "metadata": {},
   "outputs": [],
   "source": [
    "age,AGE,Age=1,2,3"
   ]
  },
  {
   "cell_type": "code",
   "execution_count": 12,
   "id": "4e4b562a",
   "metadata": {},
   "outputs": [
    {
     "name": "stdout",
     "output_type": "stream",
     "text": [
      "1 2 3\n"
     ]
    }
   ],
   "source": [
    "print(age,AGE,Age)"
   ]
  },
  {
   "cell_type": "code",
   "execution_count": 13,
   "id": "7af848be",
   "metadata": {},
   "outputs": [],
   "source": [
    "first_name=\"sanket\""
   ]
  },
  {
   "cell_type": "code",
   "execution_count": 14,
   "id": "b6718938",
   "metadata": {},
   "outputs": [
    {
     "name": "stdout",
     "output_type": "stream",
     "text": [
      "sanket\n"
     ]
    }
   ],
   "source": [
    "print(first_name)"
   ]
  },
  {
   "cell_type": "code",
   "execution_count": 15,
   "id": "65a479da",
   "metadata": {},
   "outputs": [
    {
     "ename": "SyntaxError",
     "evalue": "invalid syntax (2556043088.py, line 1)",
     "output_type": "error",
     "traceback": [
      "\u001b[1;36m  File \u001b[1;32m\"C:\\Users\\arunk\\AppData\\Local\\Temp\\ipykernel_19412\\2556043088.py\"\u001b[1;36m, line \u001b[1;32m1\u001b[0m\n\u001b[1;33m    3num=3\u001b[0m\n\u001b[1;37m     ^\u001b[0m\n\u001b[1;31mSyntaxError\u001b[0m\u001b[1;31m:\u001b[0m invalid syntax\n"
     ]
    }
   ],
   "source": [
    "3num=3"
   ]
  },
  {
   "cell_type": "code",
   "execution_count": null,
   "id": "30b653e6",
   "metadata": {},
   "outputs": [],
   "source": [
    "num3=3"
   ]
  },
  {
   "cell_type": "code",
   "execution_count": null,
   "id": "a0efded6",
   "metadata": {},
   "outputs": [],
   "source": [
    "first-name=\"Sanket\""
   ]
  },
  {
   "cell_type": "code",
   "execution_count": null,
   "id": "a0752d33",
   "metadata": {},
   "outputs": [],
   "source": [
    "first_name=\"Sanket\""
   ]
  },
  {
   "cell_type": "code",
   "execution_count": null,
   "id": "2dbb272c",
   "metadata": {},
   "outputs": [],
   "source": [
    "for=10"
   ]
  },
  {
   "cell_type": "markdown",
   "id": "7c2c2cfa",
   "metadata": {},
   "source": [
    "# Data Types"
   ]
  },
  {
   "cell_type": "code",
   "execution_count": null,
   "id": "94f9ce2a",
   "metadata": {},
   "outputs": [],
   "source": [
    "product_name=\"LG 2836 LCD monitor\"\n",
    "print(product_name)"
   ]
  },
  {
   "cell_type": "code",
   "execution_count": null,
   "id": "7072c859",
   "metadata": {},
   "outputs": [],
   "source": [
    "product_price=9999"
   ]
  },
  {
   "cell_type": "code",
   "execution_count": null,
   "id": "3bb44369",
   "metadata": {},
   "outputs": [],
   "source": [
    "print(product_price)"
   ]
  },
  {
   "cell_type": "code",
   "execution_count": null,
   "id": "90bf2f48",
   "metadata": {},
   "outputs": [],
   "source": [
    "length_of_monitor=15.5\n",
    "print(length_of_monitor)"
   ]
  },
  {
   "cell_type": "code",
   "execution_count": null,
   "id": "d522a858",
   "metadata": {},
   "outputs": [],
   "source": [
    "is_product_available=False\n",
    "print(is_product_available)"
   ]
  },
  {
   "cell_type": "code",
   "execution_count": null,
   "id": "a2e524a7",
   "metadata": {},
   "outputs": [],
   "source": [
    "complex_number=3+8j"
   ]
  },
  {
   "cell_type": "code",
   "execution_count": null,
   "id": "475515ea",
   "metadata": {},
   "outputs": [],
   "source": [
    "print(complex_number)"
   ]
  },
  {
   "cell_type": "code",
   "execution_count": null,
   "id": "89553ec2",
   "metadata": {},
   "outputs": [],
   "source": [
    "print(type(complex_number))"
   ]
  },
  {
   "cell_type": "code",
   "execution_count": null,
   "id": "9d5ddd55",
   "metadata": {},
   "outputs": [],
   "source": [
    "print(type(is_product_available))"
   ]
  },
  {
   "cell_type": "markdown",
   "id": "1b963480",
   "metadata": {},
   "source": [
    "# Dynamic Data Types and literals"
   ]
  },
  {
   "cell_type": "code",
   "execution_count": null,
   "id": "773bb998",
   "metadata": {},
   "outputs": [],
   "source": [
    "x=10"
   ]
  },
  {
   "cell_type": "code",
   "execution_count": null,
   "id": "45b655ac",
   "metadata": {},
   "outputs": [],
   "source": [
    "print(type(x))"
   ]
  },
  {
   "cell_type": "code",
   "execution_count": null,
   "id": "27b4eb88",
   "metadata": {},
   "outputs": [],
   "source": [
    "x=False"
   ]
  },
  {
   "cell_type": "code",
   "execution_count": null,
   "id": "e2fbce21",
   "metadata": {},
   "outputs": [],
   "source": [
    "print(type(x))"
   ]
  },
  {
   "cell_type": "code",
   "execution_count": null,
   "id": "fcc9e62c",
   "metadata": {},
   "outputs": [],
   "source": [
    "x=\"Something in text\""
   ]
  },
  {
   "cell_type": "code",
   "execution_count": null,
   "id": "bd918356",
   "metadata": {},
   "outputs": [],
   "source": [
    "print(type(x))"
   ]
  },
  {
   "cell_type": "markdown",
   "id": "7b963fc2",
   "metadata": {},
   "source": [
    "# Taking input"
   ]
  },
  {
   "cell_type": "code",
   "execution_count": null,
   "id": "c9d03a70",
   "metadata": {},
   "outputs": [],
   "source": [
    "print(\"Collecting User Phone No\")\n",
    "user_phone_number=input()\n",
    "print(\"User Phone number is\",user_phone_number)"
   ]
  },
  {
   "cell_type": "code",
   "execution_count": null,
   "id": "32b1b9b3",
   "metadata": {},
   "outputs": [],
   "source": [
    "print(type(user_phone_number))"
   ]
  },
  {
   "cell_type": "code",
   "execution_count": null,
   "id": "d077c148",
   "metadata": {},
   "outputs": [],
   "source": [
    "print(\"Collecting User Phone No\")\n",
    "user_phone_number_int=int(input())\n",
    "print(\"User Phone number is\",user_phone_number_int)"
   ]
  },
  {
   "cell_type": "code",
   "execution_count": null,
   "id": "c51eba0e",
   "metadata": {},
   "outputs": [],
   "source": [
    "print(type(user_phone_number_int))"
   ]
  },
  {
   "cell_type": "code",
   "execution_count": null,
   "id": "e431a292",
   "metadata": {},
   "outputs": [],
   "source": [
    "discount=float(input())\n",
    "print(discount)\n",
    "print(type(discount))"
   ]
  },
  {
   "cell_type": "code",
   "execution_count": null,
   "id": "69af04c0",
   "metadata": {},
   "outputs": [],
   "source": [
    "x=float(\"19.89\")"
   ]
  },
  {
   "cell_type": "code",
   "execution_count": null,
   "id": "34cac1a4",
   "metadata": {},
   "outputs": [],
   "source": [
    "print(type(x))"
   ]
  },
  {
   "cell_type": "code",
   "execution_count": null,
   "id": "b041ad9c",
   "metadata": {},
   "outputs": [],
   "source": [
    "print(x)"
   ]
  },
  {
   "cell_type": "markdown",
   "id": "4e6ed1d3",
   "metadata": {},
   "source": [
    "# Arithmetic Operations I"
   ]
  },
  {
   "cell_type": "code",
   "execution_count": null,
   "id": "3300a992",
   "metadata": {},
   "outputs": [],
   "source": [
    "x=10\n",
    "y=8"
   ]
  },
  {
   "cell_type": "code",
   "execution_count": null,
   "id": "b1d0bc66",
   "metadata": {},
   "outputs": [],
   "source": [
    "print(x+y)"
   ]
  },
  {
   "cell_type": "code",
   "execution_count": null,
   "id": "0d6ea409",
   "metadata": {},
   "outputs": [],
   "source": [
    "print(x-y)"
   ]
  },
  {
   "cell_type": "code",
   "execution_count": null,
   "id": "63019d45",
   "metadata": {},
   "outputs": [],
   "source": [
    "print(y-x)"
   ]
  },
  {
   "cell_type": "code",
   "execution_count": null,
   "id": "ef1ddec3",
   "metadata": {},
   "outputs": [],
   "source": [
    "print(x*y)"
   ]
  },
  {
   "cell_type": "code",
   "execution_count": null,
   "id": "f600eea1",
   "metadata": {},
   "outputs": [],
   "source": [
    "print(x/y)"
   ]
  },
  {
   "cell_type": "code",
   "execution_count": null,
   "id": "93880684",
   "metadata": {},
   "outputs": [],
   "source": [
    "print(x//y)"
   ]
  },
  {
   "cell_type": "code",
   "execution_count": null,
   "id": "f2fe392c",
   "metadata": {},
   "outputs": [],
   "source": [
    "print(5/2)"
   ]
  },
  {
   "cell_type": "code",
   "execution_count": null,
   "id": "7a2e0bd4",
   "metadata": {},
   "outputs": [],
   "source": [
    "print(5//2)"
   ]
  },
  {
   "cell_type": "code",
   "execution_count": null,
   "id": "3100260e",
   "metadata": {},
   "outputs": [],
   "source": [
    "print(x%y)"
   ]
  },
  {
   "cell_type": "code",
   "execution_count": null,
   "id": "c63fbc52",
   "metadata": {},
   "outputs": [],
   "source": [
    "print(2**3)"
   ]
  },
  {
   "cell_type": "code",
   "execution_count": null,
   "id": "b2d21d57",
   "metadata": {},
   "outputs": [],
   "source": [
    "print(x+y) # This is addition operation"
   ]
  },
  {
   "cell_type": "code",
   "execution_count": null,
   "id": "86d2ea79",
   "metadata": {},
   "outputs": [],
   "source": [
    "\"\"\"\n",
    "Write your comments here\n",
    "line 1\n",
    "line 2\n",
    "line 3\n",
    "\n",
    "\"\"\""
   ]
  },
  {
   "cell_type": "code",
   "execution_count": null,
   "id": "93223ee6",
   "metadata": {},
   "outputs": [],
   "source": [
    "\"Sanket\"+\"Singh\""
   ]
  },
  {
   "cell_type": "code",
   "execution_count": null,
   "id": "0324af4f",
   "metadata": {},
   "outputs": [],
   "source": [
    "\"Sanket\"-\"Singh\""
   ]
  },
  {
   "cell_type": "code",
   "execution_count": null,
   "id": "9c6de52f",
   "metadata": {},
   "outputs": [],
   "source": [
    "\"Sanket\"*\"Singh\""
   ]
  },
  {
   "cell_type": "code",
   "execution_count": null,
   "id": "b73c7376",
   "metadata": {},
   "outputs": [],
   "source": [
    "\"Sanket\"*(2**5)"
   ]
  },
  {
   "cell_type": "markdown",
   "id": "62908b54",
   "metadata": {},
   "source": [
    "# Average"
   ]
  },
  {
   "cell_type": "code",
   "execution_count": null,
   "id": "082af379",
   "metadata": {},
   "outputs": [],
   "source": [
    "x=int(input())\n",
    "y=int(input())"
   ]
  },
  {
   "cell_type": "code",
   "execution_count": null,
   "id": "551a269a",
   "metadata": {},
   "outputs": [],
   "source": [
    "sumofnumbers=x+y"
   ]
  },
  {
   "cell_type": "code",
   "execution_count": null,
   "id": "fe31ef83",
   "metadata": {},
   "outputs": [],
   "source": [
    "avgofnumbers=sumofnumbers/2"
   ]
  },
  {
   "cell_type": "code",
   "execution_count": null,
   "id": "8b1a16e4",
   "metadata": {},
   "outputs": [],
   "source": [
    "print(avgofnumbers)"
   ]
  },
  {
   "cell_type": "code",
   "execution_count": null,
   "id": "7ae14bc2",
   "metadata": {},
   "outputs": [],
   "source": [
    "avg=(x+y)/2"
   ]
  },
  {
   "cell_type": "code",
   "execution_count": null,
   "id": "74a44cd9",
   "metadata": {},
   "outputs": [],
   "source": [
    "print(avg)"
   ]
  },
  {
   "cell_type": "code",
   "execution_count": null,
   "id": "115f7b37",
   "metadata": {},
   "outputs": [],
   "source": [
    "x=int(input())\n",
    "y=int(input())\n",
    "z=int(input())\n",
    "avg=(x+y+z)/3\n",
    "print(avg)"
   ]
  },
  {
   "cell_type": "markdown",
   "id": "857158cb",
   "metadata": {},
   "source": [
    "# Area of right angled Triangle"
   ]
  },
  {
   "cell_type": "code",
   "execution_count": null,
   "id": "0b5afe12",
   "metadata": {},
   "outputs": [],
   "source": [
    "b=int(input(\"Enter the length of base \"))\n",
    "h=int(input(\"Enter the length of height \"))\n",
    "#Approach1\n",
    "area1=0.5*b*h\n",
    "print(area1)"
   ]
  },
  {
   "cell_type": "code",
   "execution_count": null,
   "id": "0532f7a8",
   "metadata": {},
   "outputs": [],
   "source": [
    "#Approach2\n",
    "area2=(b*h)/2\n",
    "print(area2)"
   ]
  },
  {
   "cell_type": "code",
   "execution_count": null,
   "id": "e3012f16",
   "metadata": {},
   "outputs": [],
   "source": [
    "20//40"
   ]
  },
  {
   "cell_type": "code",
   "execution_count": null,
   "id": "4ec8f35a",
   "metadata": {},
   "outputs": [],
   "source": [
    "10//2"
   ]
  },
  {
   "cell_type": "markdown",
   "id": "6dae7753",
   "metadata": {},
   "source": [
    "# Type Conversion"
   ]
  },
  {
   "cell_type": "code",
   "execution_count": null,
   "id": "c14b041d",
   "metadata": {},
   "outputs": [],
   "source": [
    "num1=input(\"Enter the first number\")\n",
    "num2=input(\"Enter the second number\")\n",
    "print(num1+num2)"
   ]
  },
  {
   "cell_type": "code",
   "execution_count": null,
   "id": "4ff44c8c",
   "metadata": {},
   "outputs": [],
   "source": [
    "x=bool(4)\n",
    "print(x)"
   ]
  },
  {
   "cell_type": "code",
   "execution_count": null,
   "id": "2ab31232",
   "metadata": {},
   "outputs": [],
   "source": [
    "x=bool(-4)\n",
    "print(x)"
   ]
  },
  {
   "cell_type": "code",
   "execution_count": null,
   "id": "7c3c7d11",
   "metadata": {},
   "outputs": [],
   "source": [
    "x=bool(0)\n",
    "print(x)"
   ]
  },
  {
   "cell_type": "code",
   "execution_count": null,
   "id": "4c790276",
   "metadata": {},
   "outputs": [],
   "source": [
    "y=bool(9.0)\n",
    "print(y)"
   ]
  },
  {
   "cell_type": "code",
   "execution_count": null,
   "id": "059caec8",
   "metadata": {},
   "outputs": [],
   "source": [
    "y=bool(-9.0)\n",
    "print(y)"
   ]
  },
  {
   "cell_type": "code",
   "execution_count": null,
   "id": "a18af61e",
   "metadata": {},
   "outputs": [],
   "source": [
    "y=bool(0.0)\n",
    "print(y)"
   ]
  },
  {
   "cell_type": "code",
   "execution_count": null,
   "id": "0535fb5f",
   "metadata": {},
   "outputs": [],
   "source": [
    "z=bool(\"abc\")\n",
    "print(z)"
   ]
  },
  {
   "cell_type": "code",
   "execution_count": null,
   "id": "efc6e040",
   "metadata": {},
   "outputs": [],
   "source": [
    "z=bool(\"\")\n",
    "print(z)"
   ]
  },
  {
   "cell_type": "code",
   "execution_count": null,
   "id": "a94e5863",
   "metadata": {},
   "outputs": [],
   "source": [
    "z=bool(\"    \")\n",
    "print(z)"
   ]
  },
  {
   "cell_type": "code",
   "execution_count": null,
   "id": "253a0840",
   "metadata": {},
   "outputs": [],
   "source": [
    "z=bool(\"True\")\n",
    "print(z)"
   ]
  },
  {
   "cell_type": "code",
   "execution_count": null,
   "id": "b4e242a8",
   "metadata": {},
   "outputs": [],
   "source": [
    "z=bool(\"False\")\n",
    "print(z)"
   ]
  },
  {
   "cell_type": "markdown",
   "id": "945264d1",
   "metadata": {},
   "source": [
    "# Assignment Operator"
   ]
  },
  {
   "cell_type": "code",
   "execution_count": null,
   "id": "6144d91f",
   "metadata": {},
   "outputs": [],
   "source": [
    "product_name=\"iphone\""
   ]
  },
  {
   "cell_type": "code",
   "execution_count": null,
   "id": "2b321873",
   "metadata": {},
   "outputs": [],
   "source": [
    "print(product_name)"
   ]
  },
  {
   "cell_type": "code",
   "execution_count": null,
   "id": "9485a3f2",
   "metadata": {},
   "outputs": [],
   "source": [
    "price=1000\n",
    "discount=200\n",
    "price=price-discount\n",
    "print(price)"
   ]
  },
  {
   "cell_type": "code",
   "execution_count": null,
   "id": "6751ea30",
   "metadata": {},
   "outputs": [],
   "source": [
    "price=1000\n",
    "discount=200\n",
    "price-=discount\n",
    "print(price)"
   ]
  },
  {
   "cell_type": "code",
   "execution_count": null,
   "id": "51870425",
   "metadata": {},
   "outputs": [],
   "source": [
    "marks=300\n",
    "grace=5\n",
    "marks+=grace\n",
    "print(marks)"
   ]
  },
  {
   "cell_type": "code",
   "execution_count": null,
   "id": "92308014",
   "metadata": {},
   "outputs": [],
   "source": [
    "x=10\n",
    "x=x**2\n",
    "print(x)"
   ]
  },
  {
   "cell_type": "code",
   "execution_count": null,
   "id": "3b5dc980",
   "metadata": {},
   "outputs": [],
   "source": [
    "x=10\n",
    "x**=2\n",
    "print(x)"
   ]
  },
  {
   "cell_type": "markdown",
   "id": "a1b68ef9",
   "metadata": {},
   "source": [
    "# Comparison Operator"
   ]
  },
  {
   "cell_type": "code",
   "execution_count": null,
   "id": "468642c8",
   "metadata": {},
   "outputs": [],
   "source": [
    "y=4"
   ]
  },
  {
   "cell_type": "code",
   "execution_count": null,
   "id": "a3cad934",
   "metadata": {},
   "outputs": [],
   "source": [
    "print(y)"
   ]
  },
  {
   "cell_type": "code",
   "execution_count": null,
   "id": "9e631eaf",
   "metadata": {},
   "outputs": [],
   "source": [
    "print(y<5)"
   ]
  },
  {
   "cell_type": "code",
   "execution_count": null,
   "id": "068bc750",
   "metadata": {},
   "outputs": [],
   "source": [
    "print(y>5)"
   ]
  },
  {
   "cell_type": "code",
   "execution_count": null,
   "id": "8b2f1912",
   "metadata": {},
   "outputs": [],
   "source": [
    "print(y==5)"
   ]
  },
  {
   "cell_type": "code",
   "execution_count": null,
   "id": "3aacf519",
   "metadata": {},
   "outputs": [],
   "source": [
    "x=4"
   ]
  },
  {
   "cell_type": "code",
   "execution_count": null,
   "id": "3b093255",
   "metadata": {},
   "outputs": [],
   "source": [
    "print(y==x)  #checks if y equals to x"
   ]
  },
  {
   "cell_type": "code",
   "execution_count": null,
   "id": "a3dcf08b",
   "metadata": {},
   "outputs": [],
   "source": [
    "print(y!=6)"
   ]
  },
  {
   "cell_type": "markdown",
   "id": "fde23316",
   "metadata": {},
   "source": [
    "# Logical operator"
   ]
  },
  {
   "cell_type": "code",
   "execution_count": null,
   "id": "b0abe8bc",
   "metadata": {},
   "outputs": [],
   "source": [
    "print(False and False)\n",
    "print(False and True)\n",
    "print(True and False)\n",
    "print(True and True)"
   ]
  },
  {
   "cell_type": "code",
   "execution_count": null,
   "id": "56390d1b",
   "metadata": {},
   "outputs": [],
   "source": [
    "print(False or False)\n",
    "print(False or True)\n",
    "print(True or False)\n",
    "print(True or True)"
   ]
  },
  {
   "cell_type": "code",
   "execution_count": null,
   "id": "8639c08f",
   "metadata": {},
   "outputs": [],
   "source": [
    "print(not True)\n",
    "print(not False)"
   ]
  },
  {
   "cell_type": "code",
   "execution_count": null,
   "id": "d4fe0d7e",
   "metadata": {},
   "outputs": [],
   "source": [
    "is_logged_in=True\n",
    "is_address_available=True\n",
    "name_of_customer=\"Sanket\"\n",
    "address_of_customer=\"105 Delhi\""
   ]
  },
  {
   "cell_type": "code",
   "execution_count": null,
   "id": "437d2bb9",
   "metadata": {},
   "outputs": [],
   "source": [
    "print((is_logged_in==True) and (is_address_available==True) and (name_of_customer==\"Sanket\"))"
   ]
  },
  {
   "cell_type": "markdown",
   "id": "0a246c6a",
   "metadata": {},
   "source": [
    "# Bitwise operators"
   ]
  },
  {
   "cell_type": "code",
   "execution_count": null,
   "id": "0ac54be9",
   "metadata": {},
   "outputs": [],
   "source": [
    "print(5 and 3)"
   ]
  },
  {
   "cell_type": "code",
   "execution_count": null,
   "id": "822326cc",
   "metadata": {},
   "outputs": [],
   "source": [
    "print(5 or 3)"
   ]
  },
  {
   "cell_type": "code",
   "execution_count": null,
   "id": "3ae700d2",
   "metadata": {},
   "outputs": [],
   "source": [
    "print(0 and 5)"
   ]
  },
  {
   "cell_type": "code",
   "execution_count": null,
   "id": "5dbd8c50",
   "metadata": {},
   "outputs": [],
   "source": [
    "print(0 or 5)"
   ]
  },
  {
   "cell_type": "code",
   "execution_count": null,
   "id": "693f8ba8",
   "metadata": {},
   "outputs": [],
   "source": [
    "print(5 & 3) # bitwise and operator"
   ]
  },
  {
   "cell_type": "code",
   "execution_count": null,
   "id": "6e330a48",
   "metadata": {},
   "outputs": [],
   "source": [
    "print(5 | 3) #bitwise or operatorr"
   ]
  },
  {
   "cell_type": "code",
   "execution_count": null,
   "id": "fb2d2076",
   "metadata": {},
   "outputs": [],
   "source": [
    "print(~5) # bitwise not operator"
   ]
  },
  {
   "cell_type": "code",
   "execution_count": null,
   "id": "3fd74548",
   "metadata": {},
   "outputs": [],
   "source": [
    "print(5 ^ 3) # bitwise XOR operator"
   ]
  },
  {
   "cell_type": "code",
   "execution_count": null,
   "id": "63e3c40b",
   "metadata": {},
   "outputs": [],
   "source": [
    "print(5 ^ 5) # bitwise XOR operator"
   ]
  },
  {
   "cell_type": "code",
   "execution_count": null,
   "id": "2e51bbe5",
   "metadata": {},
   "outputs": [],
   "source": [
    "print(5 >> 1) # bitwise right shift"
   ]
  },
  {
   "cell_type": "code",
   "execution_count": null,
   "id": "808e3c0f",
   "metadata": {},
   "outputs": [],
   "source": [
    "print(2 << 2) # bitwise left shift"
   ]
  },
  {
   "cell_type": "code",
   "execution_count": null,
   "id": "d3ae2743",
   "metadata": {},
   "outputs": [],
   "source": [
    "print(3 >> 2) # bitwise right shift"
   ]
  },
  {
   "cell_type": "code",
   "execution_count": null,
   "id": "c6e28de7",
   "metadata": {},
   "outputs": [],
   "source": [
    "print(7 >> 2) # bitwise right shift"
   ]
  },
  {
   "cell_type": "code",
   "execution_count": null,
   "id": "6db1a4e1",
   "metadata": {},
   "outputs": [],
   "source": [
    "print(3 << 2) # bitwise left shift"
   ]
  },
  {
   "cell_type": "code",
   "execution_count": null,
   "id": "bc3e1398",
   "metadata": {},
   "outputs": [],
   "source": [
    "print(7 << 2) # bitwise left shift"
   ]
  },
  {
   "cell_type": "markdown",
   "id": "1db65b24",
   "metadata": {},
   "source": [
    "# Precedence"
   ]
  },
  {
   "cell_type": "code",
   "execution_count": null,
   "id": "58ae3061",
   "metadata": {},
   "outputs": [],
   "source": [
    "print((2**3+4)/2)"
   ]
  },
  {
   "cell_type": "code",
   "execution_count": null,
   "id": "71f29fdf",
   "metadata": {},
   "outputs": [],
   "source": [
    "print(2***3)"
   ]
  },
  {
   "cell_type": "code",
   "execution_count": null,
   "id": "cae01c35",
   "metadata": {},
   "outputs": [],
   "source": [
    "print(2+3*5)"
   ]
  },
  {
   "cell_type": "code",
   "execution_count": null,
   "id": "0de98bd1",
   "metadata": {},
   "outputs": [],
   "source": [
    "print(2+3-6+8)"
   ]
  },
  {
   "cell_type": "code",
   "execution_count": null,
   "id": "5986a4ef",
   "metadata": {},
   "outputs": [],
   "source": [
    "print(2**3**4)"
   ]
  },
  {
   "cell_type": "code",
   "execution_count": null,
   "id": "ab0b49d7",
   "metadata": {},
   "outputs": [],
   "source": [
    "print(2+3^5)"
   ]
  },
  {
   "cell_type": "markdown",
   "id": "23da14aa",
   "metadata": {},
   "source": [
    "# Introduction to conditionals"
   ]
  },
  {
   "cell_type": "code",
   "execution_count": null,
   "id": "0599bf90",
   "metadata": {},
   "outputs": [],
   "source": [
    "print(\"Starting the program\")\n",
    "if 10>2:\n",
    "    print(\"Statement 1\")\n",
    "    print(\"Statement 2\")\n",
    "    print(\"Statement 3\")\n",
    "print(\"end\")"
   ]
  },
  {
   "cell_type": "code",
   "execution_count": null,
   "id": "00c12dca",
   "metadata": {},
   "outputs": [],
   "source": [
    "print(\"Starting the program\")\n",
    "if 10<2:\n",
    "    print(\"Statement 1\")\n",
    "    print(\"Statement 2\")\n",
    "    print(\"Statement 3\")\n",
    "print(\"end\")"
   ]
  },
  {
   "cell_type": "markdown",
   "id": "a0c2b3bb",
   "metadata": {},
   "source": [
    "# Even or Odd"
   ]
  },
  {
   "cell_type": "code",
   "execution_count": null,
   "id": "bc413999",
   "metadata": {},
   "outputs": [],
   "source": [
    "x=int(input())\n",
    "if x%2==0:\n",
    "    print(\"The given number is even\")\n",
    "else:\n",
    "    print(\"The given number is odd\")"
   ]
  },
  {
   "cell_type": "markdown",
   "id": "fda8133c",
   "metadata": {},
   "source": [
    "# elif"
   ]
  },
  {
   "cell_type": "code",
   "execution_count": null,
   "id": "7b6d20ce",
   "metadata": {},
   "outputs": [],
   "source": [
    "marks=int(input())\n",
    "if marks>=90 and marks<=100:\n",
    "    print(\"A\")\n",
    "elif marks>=80 and marks<=89:\n",
    "    print(\"B\")\n",
    "elif marks>=70 and marks<=79:\n",
    "    print(\"C\")\n",
    "else:\n",
    "    print(\"D\")"
   ]
  },
  {
   "cell_type": "markdown",
   "id": "1504a5f1",
   "metadata": {},
   "source": [
    "# Nested ifs"
   ]
  },
  {
   "cell_type": "code",
   "execution_count": null,
   "id": "b5691da7",
   "metadata": {},
   "outputs": [],
   "source": [
    "x=int(input())\n",
    "if x>=0:\n",
    "    if x==0:\n",
    "        print(\"zero\")\n",
    "    else:\n",
    "        print(\"positive integer\")\n",
    "else:\n",
    "    print(\"negative integer\")"
   ]
  },
  {
   "cell_type": "code",
   "execution_count": null,
   "id": "cc277933",
   "metadata": {},
   "outputs": [],
   "source": [
    "x=int(input())\n",
    "if x>=0:\n",
    "    if x==0:\n",
    "        print(\"zero\")\n",
    "    else:\n",
    "        print(\"positive integer\")\n",
    "else:\n",
    "    if x<-500:\n",
    "        print(\"Too much negative\")\n",
    "    else:\n",
    "        print(\"just negative\")"
   ]
  },
  {
   "cell_type": "markdown",
   "id": "5ef8b09a",
   "metadata": {},
   "source": [
    "# Ternary Operator"
   ]
  },
  {
   "cell_type": "code",
   "execution_count": null,
   "id": "68966de9",
   "metadata": {},
   "outputs": [],
   "source": [
    "print(\"hello\") if 10>2 else print(\"No Hello\")"
   ]
  },
  {
   "cell_type": "code",
   "execution_count": null,
   "id": "a47bc5c9",
   "metadata": {},
   "outputs": [],
   "source": [
    "print(\"hello\") if 10<2 else print(\"No Hello\")"
   ]
  },
  {
   "cell_type": "markdown",
   "id": "2f7f703a",
   "metadata": {},
   "source": [
    "# Switch Case"
   ]
  },
  {
   "cell_type": "code",
   "execution_count": 1,
   "id": "b66db3f3",
   "metadata": {},
   "outputs": [
    {
     "name": "stdout",
     "output_type": "stream",
     "text": [
      "Value of x is 2\n"
     ]
    }
   ],
   "source": [
    "x = 2\n",
    "\n",
    "match x:\n",
    "    case 1:\n",
    "        print(\"Value of x is 1\")\n",
    "    case 2:\n",
    "        print(\"Value of x is 2\")\n",
    "    case 3:\n",
    "        print(\"Value of x is 3\")\n",
    "    case _:\n",
    "        print(\"Invalid\")"
   ]
  },
  {
   "cell_type": "code",
   "execution_count": 2,
   "id": "8e5fce47",
   "metadata": {},
   "outputs": [
    {
     "name": "stdout",
     "output_type": "stream",
     "text": [
      "Invalid\n"
     ]
    }
   ],
   "source": [
    "x = 22\n",
    "\n",
    "match x:\n",
    "    case 1:\n",
    "        print(\"Value of x is 1\")\n",
    "    case 2:\n",
    "        print(\"Value of x is 2\")\n",
    "    case 3:\n",
    "        print(\"Value of x is 3\")\n",
    "    case _:\n",
    "        print(\"Invalid\")"
   ]
  },
  {
   "cell_type": "code",
   "execution_count": 9,
   "id": "c17ecf33",
   "metadata": {},
   "outputs": [
    {
     "name": "stdin",
     "output_type": "stream",
     "text": [
      " xxx\n"
     ]
    },
    {
     "name": "stdout",
     "output_type": "stream",
     "text": [
      "Maybe Youtube\n"
     ]
    }
   ],
   "source": [
    "x = input()\n",
    "\n",
    "match x:\n",
    "    case \"Amazon\":\n",
    "        print(\"This is Amazon\")\n",
    "    case \"Netflix\":\n",
    "        print(\"This is Amazon\")\n",
    "    case \"Ullu\":\n",
    "        print(\"This is Ullu\")\n",
    "    case _:\n",
    "        print(\"Maybe Youtube\")"
   ]
  },
  {
   "cell_type": "code",
   "execution_count": 11,
   "id": "fda05bb8-53eb-4955-be11-f52767d1a15a",
   "metadata": {},
   "outputs": [
    {
     "name": "stdin",
     "output_type": "stream",
     "text": [
      "Enter the first number:  25\n",
      "Enter the Second number:  0\n",
      "Enter the operator + - * / %   /\n"
     ]
    },
    {
     "name": "stdout",
     "output_type": "stream",
     "text": [
      "Divison by zero not possible\n"
     ]
    }
   ],
   "source": [
    "num1 = int(input(\"Enter the first number: \"))\n",
    "num2 = int(input(\"Enter the Second number: \"))\n",
    "operator=input(\"Enter the operator + - * / %  \")\n",
    "\n",
    "match operator:\n",
    "    case \"+\":\n",
    "        result=num1+num2\n",
    "        print(\"This result is\",result)\n",
    "    case \"-\":\n",
    "        result=num1-num2\n",
    "        print(\"This result is\",result)\n",
    "    case \"*\":\n",
    "        result=num1*num2\n",
    "        print(\"This result is\",result)\n",
    "    case \"/\":\n",
    "        if num2==0:\n",
    "            print(\"Divison by zero not possible\")\n",
    "        else:\n",
    "            result=num1/num2\n",
    "            print(\"This result is\",result)\n",
    "    case \"%\":\n",
    "        if num2==0:\n",
    "            print(\"Divison by zero not possible\")\n",
    "        else:\n",
    "            result=num1%num2\n",
    "            print(\"This result is\",result)\n",
    "    case _:\n",
    "        print(\"Invalid input\")"
   ]
  },
  {
   "cell_type": "markdown",
   "id": "a5dcf959-75fd-424a-b599-5dbe64da8375",
   "metadata": {},
   "source": [
    "# While Loop"
   ]
  },
  {
   "cell_type": "code",
   "execution_count": 12,
   "id": "597e6806-e96d-4045-b428-b4e7d70179c6",
   "metadata": {},
   "outputs": [
    {
     "name": "stdout",
     "output_type": "stream",
     "text": [
      "1\n",
      "2\n",
      "3\n",
      "4\n",
      "5\n",
      "6\n",
      "7\n",
      "8\n",
      "9\n",
      "10\n"
     ]
    }
   ],
   "source": [
    "# Printing first 10 natural numbers\n",
    "num=1\n",
    "while num<=10:\n",
    "    print(num)\n",
    "    num+=1"
   ]
  },
  {
   "cell_type": "code",
   "execution_count": 13,
   "id": "ca4c15bb-3db6-4d50-88fe-d40ea45374aa",
   "metadata": {},
   "outputs": [
    {
     "name": "stdout",
     "output_type": "stream",
     "text": [
      "3\n",
      "6\n",
      "9\n",
      "12\n",
      "15\n",
      "18\n",
      "21\n",
      "24\n",
      "27\n",
      "30\n"
     ]
    }
   ],
   "source": [
    "# Printing Table of 3\n",
    "num=3\n",
    "i=1\n",
    "while i<=10:\n",
    "    print(num*i)\n",
    "    i+=1"
   ]
  },
  {
   "cell_type": "markdown",
   "id": "a3ee86cd-abf4-4ed1-8015-fe850029737e",
   "metadata": {},
   "source": [
    "# Sum of numbers"
   ]
  },
  {
   "cell_type": "code",
   "execution_count": 15,
   "id": "284d4ea9-a21a-4193-a02d-fc12b426abbf",
   "metadata": {},
   "outputs": [
    {
     "name": "stdin",
     "output_type": "stream",
     "text": [
      " 5\n"
     ]
    },
    {
     "name": "stdout",
     "output_type": "stream",
     "text": [
      "15\n"
     ]
    }
   ],
   "source": [
    "N=int(input())\n",
    "num=1\n",
    "s=0\n",
    "while num<=N:\n",
    "    s+=num\n",
    "    num+=1\n",
    "print(s)"
   ]
  },
  {
   "cell_type": "code",
   "execution_count": 16,
   "id": "e077f6bb-0ad0-42a4-802e-6afafbae0a0d",
   "metadata": {},
   "outputs": [
    {
     "name": "stdin",
     "output_type": "stream",
     "text": [
      " 5\n"
     ]
    },
    {
     "name": "stdout",
     "output_type": "stream",
     "text": [
      "1 0\n",
      "2 1\n",
      "3 3\n",
      "4 6\n",
      "5 10\n",
      "15\n"
     ]
    }
   ],
   "source": [
    "N=int(input())\n",
    "num=1\n",
    "s=0\n",
    "while num<=N:\n",
    "    print(num,s) #can help in checking in case of wrong input\n",
    "    s+=num\n",
    "    num+=1\n",
    "print(s)"
   ]
  },
  {
   "cell_type": "code",
   "execution_count": 17,
   "id": "1f72f21a-9047-4673-b3b6-cce199a5179d",
   "metadata": {},
   "outputs": [
    {
     "name": "stdin",
     "output_type": "stream",
     "text": [
      " 10\n"
     ]
    },
    {
     "name": "stdout",
     "output_type": "stream",
     "text": [
      "1 0\n",
      "2 0\n",
      "3 2\n",
      "4 2\n",
      "5 6\n",
      "6 6\n",
      "7 12\n",
      "8 12\n",
      "9 20\n",
      "10 20\n",
      "30\n"
     ]
    }
   ],
   "source": [
    "N=int(input())\n",
    "num=1\n",
    "s=0\n",
    "while num<=N:\n",
    "    print(num,s) #can help in checking in case of wrong input\n",
    "    if num%2==0:\n",
    "        s+=num\n",
    "    num+=1\n",
    "print(s)"
   ]
  },
  {
   "cell_type": "markdown",
   "id": "59cf1bc8-3b5f-4bfb-b41b-597a3b7ff758",
   "metadata": {},
   "source": [
    "# Break Continue and Pass"
   ]
  },
  {
   "cell_type": "code",
   "execution_count": 6,
   "id": "b54aefd6-dfa9-4aec-ad8a-961772c68bf6",
   "metadata": {},
   "outputs": [
    {
     "name": "stdout",
     "output_type": "stream",
     "text": [
      "2\n",
      "4\n",
      "6\n",
      "8\n",
      "10\n"
     ]
    }
   ],
   "source": [
    "num=1\n",
    "while num<=10:\n",
    "    if num%2!=0:\n",
    "        num=num+1\n",
    "        continue\n",
    "    print(num)\n",
    "    num+=1"
   ]
  },
  {
   "cell_type": "code",
   "execution_count": 7,
   "id": "bf0974b1-4cfb-43c7-9e08-71f4503a814e",
   "metadata": {},
   "outputs": [
    {
     "name": "stdout",
     "output_type": "stream",
     "text": [
      "1\n",
      "2\n",
      "3\n",
      "4\n",
      "5\n",
      "6\n",
      "7\n",
      "8\n",
      "9\n",
      "10\n",
      "11\n",
      "12\n",
      "Stopping the loop\n"
     ]
    }
   ],
   "source": [
    "num=1\n",
    "while num<=20:\n",
    "    if num==13:\n",
    "        print(\"Stopping the loop\")\n",
    "        break\n",
    "    print(num)\n",
    "    num+=1"
   ]
  },
  {
   "cell_type": "code",
   "execution_count": 8,
   "id": "e8e7383c-a290-4a1a-befb-eacc19ee2fe7",
   "metadata": {},
   "outputs": [
    {
     "name": "stdout",
     "output_type": "stream",
     "text": [
      "1\n",
      "2\n",
      "3\n",
      "4\n",
      "5\n",
      "6\n",
      "7\n",
      "8\n",
      "9\n",
      "10\n",
      "11\n",
      "12\n",
      "13\n",
      "14\n",
      "15\n",
      "16\n",
      "17\n",
      "18\n",
      "19\n",
      "20\n"
     ]
    }
   ],
   "source": [
    "num=1\n",
    "while num<=20:\n",
    "    if num==13:\n",
    "        pass\n",
    "    print(num)\n",
    "    num+=1"
   ]
  },
  {
   "cell_type": "markdown",
   "id": "7c489dc9-309e-49f3-8dd8-2bd696c7d73a",
   "metadata": {},
   "source": [
    "# Prime or Not"
   ]
  },
  {
   "cell_type": "code",
   "execution_count": 10,
   "id": "9fba9974-491d-45ff-acb1-d2fcfe90ea45",
   "metadata": {},
   "outputs": [
    {
     "name": "stdin",
     "output_type": "stream",
     "text": [
      " 10\n"
     ]
    },
    {
     "name": "stdout",
     "output_type": "stream",
     "text": [
      "Composite No\n"
     ]
    }
   ],
   "source": [
    "num=2\n",
    "N=int(input())\n",
    "is_prime=True\n",
    "while num<=N-1:\n",
    "    if N%num==0:\n",
    "        is_prime=False\n",
    "        break\n",
    "    num+=1\n",
    "if is_prime:\n",
    "    print(\"Prime No\")\n",
    "else:\n",
    "    print(\"Composite No\")"
   ]
  },
  {
   "cell_type": "markdown",
   "id": "f7130f6b-e3e4-4605-9173-3e61c7b3f664",
   "metadata": {},
   "source": [
    "# Introduction to for loop"
   ]
  },
  {
   "cell_type": "code",
   "execution_count": 11,
   "id": "e801491a-deaa-4209-b79f-b24dda8ee6b2",
   "metadata": {},
   "outputs": [
    {
     "name": "stdout",
     "output_type": "stream",
     "text": [
      "3\n",
      "4\n",
      "5\n",
      "6\n",
      "7\n",
      "8\n",
      "9\n",
      "10\n"
     ]
    }
   ],
   "source": [
    "for num in range(3,11):\n",
    "    print(num)"
   ]
  },
  {
   "cell_type": "code",
   "execution_count": 12,
   "id": "91d7e43c-e304-40b2-a4f2-8112f09bffde",
   "metadata": {},
   "outputs": [
    {
     "name": "stdout",
     "output_type": "stream",
     "text": [
      "0\n",
      "1\n",
      "2\n",
      "3\n",
      "4\n",
      "5\n",
      "6\n",
      "7\n",
      "8\n",
      "9\n"
     ]
    }
   ],
   "source": [
    "for num in range(10):\n",
    "    print(num)"
   ]
  },
  {
   "cell_type": "code",
   "execution_count": 14,
   "id": "a5f54aa8-d3e3-4882-bbfa-ff89dda1c542",
   "metadata": {},
   "outputs": [
    {
     "name": "stdout",
     "output_type": "stream",
     "text": [
      "1\n",
      "3\n",
      "5\n",
      "7\n",
      "9\n",
      "11\n",
      "13\n",
      "15\n",
      "17\n",
      "19\n"
     ]
    }
   ],
   "source": [
    "for i in range(1,20,2):\n",
    "    print(i)"
   ]
  },
  {
   "cell_type": "code",
   "execution_count": 15,
   "id": "fedc4cf9-1d7b-4627-ba3d-1f31f842ce73",
   "metadata": {},
   "outputs": [
    {
     "name": "stdout",
     "output_type": "stream",
     "text": [
      "20\n",
      "18\n",
      "16\n",
      "14\n",
      "12\n",
      "10\n",
      "8\n",
      "6\n",
      "4\n",
      "2\n"
     ]
    }
   ],
   "source": [
    "for i in range(20,1,-2):\n",
    "    print(i)"
   ]
  },
  {
   "cell_type": "code",
   "execution_count": 17,
   "id": "f2241aa4-d47f-4322-853a-4eb0f9f37d4d",
   "metadata": {},
   "outputs": [
    {
     "name": "stdout",
     "output_type": "stream",
     "text": [
      "20\n",
      "19\n",
      "18\n",
      "17\n",
      "16\n",
      "15\n",
      "14\n",
      "13\n",
      "12\n",
      "11\n",
      "10\n",
      "9\n",
      "8\n",
      "7\n",
      "6\n",
      "5\n",
      "4\n",
      "3\n",
      "2\n",
      "1\n"
     ]
    }
   ],
   "source": [
    "i=20\n",
    "while i>=1:\n",
    "    print(i)\n",
    "    i-=1"
   ]
  },
  {
   "cell_type": "markdown",
   "id": "c65e26d9-2201-4a97-b431-22c81cadda27",
   "metadata": {},
   "source": [
    "# Factors"
   ]
  },
  {
   "cell_type": "code",
   "execution_count": 21,
   "id": "35c19cb7-d68b-4fd5-be94-40dcc87787e1",
   "metadata": {},
   "outputs": [
    {
     "name": "stdin",
     "output_type": "stream",
     "text": [
      " 12\n"
     ]
    },
    {
     "name": "stdout",
     "output_type": "stream",
     "text": [
      "2,3,4,6,"
     ]
    }
   ],
   "source": [
    "N=int(input())\n",
    "is_prime=True\n",
    "for i in range(2,N):\n",
    "    if N%i==0:\n",
    "        print(i, end=\",\")\n",
    "        is_prime=False\n",
    "if is_prime:\n",
    "    print(-1)\n"
   ]
  },
  {
   "cell_type": "markdown",
   "id": "59c2e891-34d0-4e17-b92e-3f2673ca3e51",
   "metadata": {},
   "source": [
    "# Printing individual no in reverse order"
   ]
  },
  {
   "cell_type": "code",
   "execution_count": 24,
   "id": "1a3b2d89-058f-4c59-88a3-583152d5b170",
   "metadata": {},
   "outputs": [
    {
     "name": "stdin",
     "output_type": "stream",
     "text": [
      " 456008\n"
     ]
    },
    {
     "name": "stdout",
     "output_type": "stream",
     "text": [
      "8 0 0 6 5 4 "
     ]
    }
   ],
   "source": [
    "n=int(input())\n",
    "while n>0:\n",
    "    rem=n%10\n",
    "    print(rem,end=\" \")\n",
    "    n//=10"
   ]
  },
  {
   "cell_type": "markdown",
   "id": "6c062850-2437-4a68-bbb0-8c12c010156e",
   "metadata": {},
   "source": [
    "# Fibonacci Series"
   ]
  },
  {
   "cell_type": "code",
   "execution_count": 29,
   "id": "76b02fc2-b5b7-4b64-b0d9-c52f82e36d84",
   "metadata": {},
   "outputs": [
    {
     "name": "stdin",
     "output_type": "stream",
     "text": [
      " 6\n"
     ]
    },
    {
     "name": "stdout",
     "output_type": "stream",
     "text": [
      "0\n",
      "1\n",
      "1\n",
      "2\n",
      "3\n",
      "5\n",
      "8\n"
     ]
    }
   ],
   "source": [
    "n=int(input())\n",
    "second_last_num=0\n",
    "last_num=1\n",
    "print(second_last_num)\n",
    "print(last_num)\n",
    "count=2\n",
    "while count<=n:\n",
    "    next_fib_num=second_last_num+last_num\n",
    "    print(next_fib_num)\n",
    "    second_last_num=last_num\n",
    "    last_num=next_fib_num\n",
    "    count+=1\n",
    "    "
   ]
  },
  {
   "cell_type": "markdown",
   "id": "27162417-5ad8-4b33-8db0-f27b010793fd",
   "metadata": {},
   "source": [
    "# Nth Fibonacci number"
   ]
  },
  {
   "cell_type": "code",
   "execution_count": 31,
   "id": "0b3dc43e-bc5e-448f-8085-8fc15589d503",
   "metadata": {},
   "outputs": [
    {
     "name": "stdin",
     "output_type": "stream",
     "text": [
      " 6\n"
     ]
    },
    {
     "name": "stdout",
     "output_type": "stream",
     "text": [
      "8\n"
     ]
    }
   ],
   "source": [
    "n=int(input())\n",
    "second_last_num=0\n",
    "last_num=1\n",
    "# print(second_last_num)\n",
    "# print(last_num)\n",
    "count=2\n",
    "while count<=n:\n",
    "    next_fib_num=second_last_num+last_num\n",
    "    # print(next_fib_num)\n",
    "    second_last_num=last_num\n",
    "    last_num=next_fib_num\n",
    "    count+=1\n",
    "print(next_fib_num)"
   ]
  },
  {
   "cell_type": "markdown",
   "id": "89d19e51-26f5-48d1-825b-fbfad31db44d",
   "metadata": {},
   "source": [
    "# Decimal to Binary"
   ]
  },
  {
   "cell_type": "code",
   "execution_count": 32,
   "id": "b662d9bb-75e3-4fbc-a395-b3e34e097fb9",
   "metadata": {},
   "outputs": [
    {
     "name": "stdin",
     "output_type": "stream",
     "text": [
      " 13\n"
     ]
    },
    {
     "name": "stdout",
     "output_type": "stream",
     "text": [
      "1101\n"
     ]
    }
   ],
   "source": [
    "ans=\"\"\n",
    "n=int(input())\n",
    "while n>0:\n",
    "    if n%2==0:\n",
    "        ans=\"0\"+ans\n",
    "    else:\n",
    "        ans=\"1\"+ans\n",
    "    n//=2\n",
    "print(ans)"
   ]
  },
  {
   "cell_type": "markdown",
   "id": "97b50b72-1c89-43ea-82b1-67e29117fca3",
   "metadata": {},
   "source": [
    "# Binary to Decimal"
   ]
  },
  {
   "cell_type": "code",
   "execution_count": 37,
   "id": "f5a82f3f-0bef-4064-86a0-7b3f2a1cfa4d",
   "metadata": {},
   "outputs": [
    {
     "name": "stdin",
     "output_type": "stream",
     "text": [
      " 0\n"
     ]
    },
    {
     "name": "stdout",
     "output_type": "stream",
     "text": [
      "0\n"
     ]
    }
   ],
   "source": [
    "n=int(input())\n",
    "count=0\n",
    "ans=0\n",
    "while n>0:\n",
    "    rem=n%10\n",
    "    ans=ans+rem*(2**(count))\n",
    "    count+=1\n",
    "    n//=10\n",
    "print(ans)\n",
    "    "
   ]
  },
  {
   "cell_type": "code",
   "execution_count": 38,
   "id": "1c69583e-9bf4-42c5-9a41-1a7cd88d2b76",
   "metadata": {},
   "outputs": [
    {
     "name": "stdin",
     "output_type": "stream",
     "text": [
      " 1101\n"
     ]
    },
    {
     "name": "stdout",
     "output_type": "stream",
     "text": [
      "13\n"
     ]
    }
   ],
   "source": [
    "#Approach 2\n",
    "n=int(input())\n",
    "count=1\n",
    "ans=0\n",
    "while n>0:\n",
    "    rem=n%10\n",
    "    ans=ans+rem*(count)\n",
    "    count*=2\n",
    "    n//=10\n",
    "print(ans)\n",
    "    "
   ]
  },
  {
   "cell_type": "markdown",
   "id": "3d16a7f9-c46a-4655-bcbd-3bca7b3d5aaa",
   "metadata": {},
   "source": [
    "# Nested Loops"
   ]
  },
  {
   "cell_type": "code",
   "execution_count": 40,
   "id": "e5c5152e-64c4-402a-a081-70f63a708c33",
   "metadata": {},
   "outputs": [
    {
     "name": "stdout",
     "output_type": "stream",
     "text": [
      "2 4 6 8 10 12 14 16 18 20 "
     ]
    }
   ],
   "source": [
    "value=2\n",
    "for i in range(1,11):\n",
    "    print(value*i,end=\" \")"
   ]
  },
  {
   "cell_type": "code",
   "execution_count": 47,
   "id": "34379b8e-cce9-4395-9640-b99d06a4a712",
   "metadata": {},
   "outputs": [
    {
     "name": "stdout",
     "output_type": "stream",
     "text": [
      "Starting the Table of 1\n",
      "1 2 3 4 5 6 7 8 9 10 \n",
      "==============================\n",
      "Starting the Table of 2\n",
      "2 4 6 8 10 12 14 16 18 20 \n",
      "==============================\n",
      "Starting the Table of 3\n",
      "3 6 9 12 15 18 21 24 27 30 \n",
      "==============================\n",
      "Starting the Table of 4\n",
      "4 8 12 16 20 24 28 32 36 40 \n",
      "==============================\n",
      "Starting the Table of 5\n",
      "5 10 15 20 25 30 35 40 45 50 \n",
      "==============================\n",
      "Starting the Table of 6\n",
      "6 12 18 24 30 36 42 48 54 60 \n",
      "==============================\n",
      "Starting the Table of 7\n",
      "7 14 21 28 35 42 49 56 63 70 \n",
      "==============================\n",
      "Starting the Table of 8\n",
      "8 16 24 32 40 48 56 64 72 80 \n",
      "==============================\n",
      "Starting the Table of 9\n",
      "9 18 27 36 45 54 63 72 81 90 \n",
      "==============================\n",
      "Starting the Table of 10\n",
      "10 20 30 40 50 60 70 80 90 100 \n",
      "==============================\n"
     ]
    }
   ],
   "source": [
    "for value in range(1,11):\n",
    "    print(\"Starting the Table of\",value)\n",
    "    for i in range(1,11):\n",
    "        print(value*i,end=\" \")\n",
    "    print()\n",
    "    print(\"==============================\")"
   ]
  },
  {
   "cell_type": "code",
   "execution_count": null,
   "id": "c872dfe0-c114-4e15-b058-a60601cbea39",
   "metadata": {},
   "outputs": [],
   "source": [
    "n=1\n",
    "while n<=10:\n",
    "    i=1\n",
    "    while i<=10:\n",
    "        print(n*i,end=\" \")\n",
    "        i+=1\n",
    "    print()\n",
    "    n+=1\n",
    "    "
   ]
  },
  {
   "cell_type": "markdown",
   "id": "0b790812-0ef0-45ac-a2be-359141507b65",
   "metadata": {},
   "source": [
    "# First Pattern"
   ]
  },
  {
   "cell_type": "code",
   "execution_count": null,
   "id": "acd31316-03a6-4d6c-8693-8dc5a3893c28",
   "metadata": {},
   "outputs": [],
   "source": [
    "****\n",
    "****\n",
    "****\n",
    "****"
   ]
  },
  {
   "cell_type": "code",
   "execution_count": 2,
   "id": "556b3abc-01e9-444c-b07f-b7439a382c32",
   "metadata": {},
   "outputs": [
    {
     "name": "stdin",
     "output_type": "stream",
     "text": [
      " 4\n"
     ]
    },
    {
     "name": "stdout",
     "output_type": "stream",
     "text": [
      "****\n",
      "****\n",
      "****\n",
      "****\n"
     ]
    }
   ],
   "source": [
    "n=int(input())\n",
    "i=1\n",
    "while i<=n:\n",
    "    j=1\n",
    "    while j<=n:\n",
    "        print(\"*\",end=\"\")\n",
    "        j+=1\n",
    "    print()\n",
    "    i+=1"
   ]
  },
  {
   "cell_type": "code",
   "execution_count": 3,
   "id": "a772aa88-25db-4244-9787-3930f57f18b6",
   "metadata": {},
   "outputs": [
    {
     "name": "stdin",
     "output_type": "stream",
     "text": [
      " 5\n"
     ]
    },
    {
     "name": "stdout",
     "output_type": "stream",
     "text": [
      "11111\n",
      "22222\n",
      "33333\n",
      "44444\n",
      "55555\n"
     ]
    }
   ],
   "source": [
    "n=int(input())\n",
    "i=1\n",
    "while i<=n:\n",
    "    j=1\n",
    "    while j<=n:\n",
    "        print(i,end=\"\")\n",
    "        j+=1\n",
    "    print()\n",
    "    i+=1"
   ]
  },
  {
   "cell_type": "code",
   "execution_count": 4,
   "id": "3d9a04de-7182-4943-a91f-605e2bd5dccd",
   "metadata": {},
   "outputs": [
    {
     "name": "stdin",
     "output_type": "stream",
     "text": [
      " 5\n"
     ]
    },
    {
     "name": "stdout",
     "output_type": "stream",
     "text": [
      "12345\n",
      "12345\n",
      "12345\n",
      "12345\n",
      "12345\n"
     ]
    }
   ],
   "source": [
    "n=int(input())\n",
    "i=1\n",
    "while i<=n:\n",
    "    j=1\n",
    "    while j<=n:\n",
    "        print(j,end=\"\")\n",
    "        j+=1\n",
    "    print()\n",
    "    i+=1"
   ]
  },
  {
   "cell_type": "code",
   "execution_count": 1,
   "id": "c09bebc8-e798-404a-8ac0-101d2de8a5ea",
   "metadata": {},
   "outputs": [
    {
     "name": "stdin",
     "output_type": "stream",
     "text": [
      " 5\n"
     ]
    },
    {
     "name": "stdout",
     "output_type": "stream",
     "text": [
      "54321\n",
      "54321\n",
      "54321\n",
      "54321\n",
      "54321\n"
     ]
    }
   ],
   "source": [
    "n=int(input())\n",
    "i=1\n",
    "while i<=n:\n",
    "    j=1\n",
    "    while j<=n:\n",
    "        print(n+1-j,end=\"\")\n",
    "        j+=1\n",
    "    print()\n",
    "    i+=1"
   ]
  },
  {
   "cell_type": "markdown",
   "id": "46f9a0d3-d455-469b-b0d6-dda229acd039",
   "metadata": {},
   "source": [
    "1\n",
    "12\n",
    "123\n",
    "1234"
   ]
  },
  {
   "cell_type": "code",
   "execution_count": 16,
   "id": "bfb0e627-4ab1-4973-b51a-81a089d876aa",
   "metadata": {},
   "outputs": [
    {
     "name": "stdin",
     "output_type": "stream",
     "text": [
      " 4\n"
     ]
    },
    {
     "name": "stdout",
     "output_type": "stream",
     "text": [
      "1\n",
      "12\n",
      "123\n",
      "1234\n"
     ]
    }
   ],
   "source": [
    "n=int(input())\n",
    "i=1\n",
    "while i<=n:\n",
    "    j=1\n",
    "    while j<=i:\n",
    "        print(j,end=\"\")\n",
    "        j+=1\n",
    "    print()\n",
    "    i+=1"
   ]
  },
  {
   "cell_type": "code",
   "execution_count": null,
   "id": "c3c7b831-d54c-4cdb-9e58-e6759f857a1b",
   "metadata": {},
   "outputs": [],
   "source": [
    "1\n",
    "23\n",
    "345\n",
    "4567"
   ]
  },
  {
   "cell_type": "code",
   "execution_count": 18,
   "id": "984e4c0f-73b3-43c0-a9a2-a7d0badf0934",
   "metadata": {},
   "outputs": [
    {
     "name": "stdin",
     "output_type": "stream",
     "text": [
      " 4\n"
     ]
    },
    {
     "name": "stdout",
     "output_type": "stream",
     "text": [
      "1\n",
      "23\n",
      "345\n",
      "4567\n"
     ]
    }
   ],
   "source": [
    "n=int(input())\n",
    "i=1\n",
    "while i<=n:\n",
    "    j=1\n",
    "    p=i\n",
    "    while j<=i:\n",
    "        print(p,end=\"\")\n",
    "        j+=1\n",
    "        p+=1\n",
    "    print()\n",
    "    i+=1"
   ]
  },
  {
   "cell_type": "markdown",
   "id": "ede2b81f-d9b9-4391-9cc5-ba148d466fd4",
   "metadata": {},
   "source": [
    "1\n",
    "23\n",
    "456\n",
    "78910"
   ]
  },
  {
   "cell_type": "code",
   "execution_count": 19,
   "id": "93b9a218-d5ef-4359-a248-fbb7ae5d3137",
   "metadata": {},
   "outputs": [
    {
     "name": "stdin",
     "output_type": "stream",
     "text": [
      " 4\n"
     ]
    },
    {
     "name": "stdout",
     "output_type": "stream",
     "text": [
      "1\n",
      "23\n",
      "456\n",
      "78910\n"
     ]
    }
   ],
   "source": [
    "n=int(input())\n",
    "i=1\n",
    "p=1\n",
    "while i<=n:\n",
    "    j=1\n",
    "    while j<=i:\n",
    "        print(p,end=\"\")\n",
    "        j+=1\n",
    "        p+=1\n",
    "    print()\n",
    "    i+=1"
   ]
  },
  {
   "cell_type": "markdown",
   "id": "21d429c4-35b4-474d-b633-8cbfe0ab3ff0",
   "metadata": {},
   "source": [
    "# Printing the kth alphabet"
   ]
  },
  {
   "cell_type": "code",
   "execution_count": 32,
   "id": "d328e4b7-5e77-4031-b137-d1daf70aadf7",
   "metadata": {},
   "outputs": [
    {
     "name": "stdin",
     "output_type": "stream",
     "text": [
      " 4\n"
     ]
    },
    {
     "name": "stdout",
     "output_type": "stream",
     "text": [
      "D\n"
     ]
    }
   ],
   "source": [
    "k=int(input())\n",
    "# 'A'+k-1\n",
    "x=ord('A')\n",
    "ascii_target=x+k-1\n",
    "target_char=chr(ascii_target)\n",
    "print(target_char)"
   ]
  },
  {
   "cell_type": "code",
   "execution_count": 26,
   "id": "df728ac0-64a1-4182-95a0-87f6f7f786a0",
   "metadata": {},
   "outputs": [
    {
     "data": {
      "text/plain": [
       "98"
      ]
     },
     "execution_count": 26,
     "metadata": {},
     "output_type": "execute_result"
    }
   ],
   "source": [
    "ord('b')"
   ]
  },
  {
   "cell_type": "code",
   "execution_count": 27,
   "id": "39c02938-b28d-4c01-a5d5-4bfaab9c1ac2",
   "metadata": {},
   "outputs": [
    {
     "data": {
      "text/plain": [
       "'A'"
      ]
     },
     "execution_count": 27,
     "metadata": {},
     "output_type": "execute_result"
    }
   ],
   "source": [
    "chr(65)"
   ]
  },
  {
   "cell_type": "code",
   "execution_count": 28,
   "id": "c27714b9-2b21-4fd2-b328-9eb79f5bf20e",
   "metadata": {},
   "outputs": [
    {
     "data": {
      "text/plain": [
       "'B'"
      ]
     },
     "execution_count": 28,
     "metadata": {},
     "output_type": "execute_result"
    }
   ],
   "source": [
    "chr(66)"
   ]
  },
  {
   "cell_type": "code",
   "execution_count": 29,
   "id": "a70d83cc-3862-4466-a919-4a72c8c7e9c4",
   "metadata": {},
   "outputs": [
    {
     "data": {
      "text/plain": [
       "'C'"
      ]
     },
     "execution_count": 29,
     "metadata": {},
     "output_type": "execute_result"
    }
   ],
   "source": [
    "chr(67)"
   ]
  },
  {
   "cell_type": "code",
   "execution_count": 30,
   "id": "228a3770-ff1c-47f5-bd8b-1a18dfdf42fc",
   "metadata": {},
   "outputs": [
    {
     "data": {
      "text/plain": [
       "'D'"
      ]
     },
     "execution_count": 30,
     "metadata": {},
     "output_type": "execute_result"
    }
   ],
   "source": [
    "chr(68)"
   ]
  },
  {
   "cell_type": "markdown",
   "id": "2ab1b390-d850-45ad-b4be-618ebc6fd454",
   "metadata": {},
   "source": [
    "#Printing the pattern:\n",
    "\n",
    "ABCD\n",
    "ABCD\n",
    "ABCD\n",
    "ABCD"
   ]
  },
  {
   "cell_type": "code",
   "execution_count": 35,
   "id": "479f2bf2-998f-4e7d-9ec3-60b208f8b012",
   "metadata": {},
   "outputs": [
    {
     "name": "stdin",
     "output_type": "stream",
     "text": [
      " 4\n"
     ]
    },
    {
     "name": "stdout",
     "output_type": "stream",
     "text": [
      "ABCD\n",
      "ABCD\n",
      "ABCD\n",
      "ABCD\n"
     ]
    }
   ],
   "source": [
    "n=int(input())\n",
    "i=1\n",
    "while i<=n:\n",
    "    j=1\n",
    "    while j<=n:\n",
    "        charP=chr(ord('A')+j-1)\n",
    "        print(charP,end=\"\")\n",
    "        j+=1\n",
    "    print()\n",
    "    i+=1"
   ]
  },
  {
   "cell_type": "markdown",
   "id": "0a979318-c861-4877-9052-6b680924dc12",
   "metadata": {},
   "source": [
    "#Printing the pattern:\n",
    "\n",
    "ABCD\n",
    "BCDE\n",
    "CDEF\n",
    "DEFG"
   ]
  },
  {
   "cell_type": "code",
   "execution_count": 34,
   "id": "4775a928-8ba6-4d57-8122-e0b28df7f8f4",
   "metadata": {},
   "outputs": [
    {
     "name": "stdin",
     "output_type": "stream",
     "text": [
      " 4\n"
     ]
    },
    {
     "name": "stdout",
     "output_type": "stream",
     "text": [
      "ABCD\n",
      "BCDE\n",
      "CDEF\n",
      "DEFG\n"
     ]
    }
   ],
   "source": [
    "n=int(input())\n",
    "i=1\n",
    "while i<=n:\n",
    "    j=1\n",
    "    start_char=chr(ord('A')+i-1)\n",
    "    while j<=n:\n",
    "        charP=chr(ord(start_char)+j-1)\n",
    "        print(charP,end=\"\")\n",
    "        j+=1\n",
    "    print()\n",
    "    i+=1"
   ]
  },
  {
   "cell_type": "markdown",
   "id": "5696d3bf-ff2f-4589-8cbb-eca79a58018b",
   "metadata": {},
   "source": [
    "# Inverted Triangle"
   ]
  },
  {
   "cell_type": "markdown",
   "id": "a8d68eb0-e45f-4bb1-ad6e-616d7e5c724b",
   "metadata": {},
   "source": [
    "****\n",
    "***\n",
    "**\n",
    "*"
   ]
  },
  {
   "cell_type": "code",
   "execution_count": 36,
   "id": "5b3709d7-ff34-4aed-ac55-25ffd9e8229a",
   "metadata": {},
   "outputs": [
    {
     "name": "stdin",
     "output_type": "stream",
     "text": [
      " 4\n"
     ]
    },
    {
     "name": "stdout",
     "output_type": "stream",
     "text": [
      "****\n",
      "***\n",
      "**\n",
      "*\n"
     ]
    }
   ],
   "source": [
    "n=int(input())\n",
    "i=1\n",
    "while i<=n:\n",
    "    j=1\n",
    "    while j<=n-i+1:\n",
    "        print(\"*\",end=\"\")\n",
    "        j+=1\n",
    "    print()\n",
    "    i+=1"
   ]
  },
  {
   "cell_type": "markdown",
   "id": "8430cd40-a261-4042-9926-527e3af5bbbe",
   "metadata": {},
   "source": [
    "   *\n",
    "  **\n",
    " ***\n",
    "****"
   ]
  },
  {
   "cell_type": "code",
   "execution_count": 41,
   "id": "653da794-9f2c-451d-896e-05f28b77736c",
   "metadata": {
    "scrolled": true
   },
   "outputs": [
    {
     "name": "stdin",
     "output_type": "stream",
     "text": [
      " 4\n"
     ]
    },
    {
     "name": "stdout",
     "output_type": "stream",
     "text": [
      "   *\n",
      "  **\n",
      " ***\n",
      "****\n"
     ]
    }
   ],
   "source": [
    "n=int(input())\n",
    "i=1\n",
    "while i<=n:\n",
    "    spaces=1\n",
    "    while spaces<=(n-i):\n",
    "        print(\" \",end=\"\")\n",
    "        spaces=spaces+1\n",
    "    stars=1\n",
    "    while stars<=i:\n",
    "        print(\"*\",end=\"\")\n",
    "        stars=stars+1\n",
    "    print()\n",
    "    i+=1"
   ]
  },
  {
   "cell_type": "markdown",
   "id": "058c226e-9cbf-4e3b-9fc9-6fd1594831fe",
   "metadata": {},
   "source": [
    "   1\n",
    "  121\n",
    " 12321\n",
    "1234321"
   ]
  },
  {
   "cell_type": "code",
   "execution_count": 44,
   "id": "86cd1d34-d537-4619-b72a-b237936de252",
   "metadata": {},
   "outputs": [
    {
     "name": "stdin",
     "output_type": "stream",
     "text": [
      " 4\n"
     ]
    },
    {
     "name": "stdout",
     "output_type": "stream",
     "text": [
      "   1\n",
      "  121\n",
      " 12321\n",
      "1234321\n"
     ]
    }
   ],
   "source": [
    "n=int(input())\n",
    "i=1\n",
    "while i<=n:\n",
    "    #printing spaces\n",
    "    spaces=1\n",
    "    while spaces<=n-i:\n",
    "        print(\" \",end=\"\")\n",
    "        spaces=spaces+1\n",
    "    #printing increasing numbers\n",
    "    numbers=1\n",
    "    while numbers<=i:\n",
    "        print(numbers,end=\"\")\n",
    "        numbers=numbers+1\n",
    "    #printing decreasing numbers\n",
    "    p=i-1\n",
    "    while p>=1:\n",
    "        print(p,end=\"\")\n",
    "        p=p-1\n",
    "    print()\n",
    "    i+=1"
   ]
  },
  {
   "cell_type": "markdown",
   "id": "e948480b-d66d-4423-8e11-15b5978bee36",
   "metadata": {},
   "source": [
    "1        1\n",
    "12      21\n",
    "123    321\n",
    "1234  4321\n",
    "1234554321"
   ]
  },
  {
   "cell_type": "code",
   "execution_count": 24,
   "id": "f6657b28-9ea5-4969-81ee-5cec29fcf3cd",
   "metadata": {},
   "outputs": [
    {
     "name": "stdin",
     "output_type": "stream",
     "text": [
      " 5\n"
     ]
    },
    {
     "name": "stdout",
     "output_type": "stream",
     "text": [
      "1        1\n",
      "12      21\n",
      "123    321\n",
      "1234  4321\n",
      "1234554321\n"
     ]
    }
   ],
   "source": [
    "n=int(input())\n",
    "i=1\n",
    "while i<=n:\n",
    "    j=1\n",
    "    while j<=i:\n",
    "        print(j,end=\"\")\n",
    "        j+=1\n",
    "    spaces=i\n",
    "    p=2*n-2*i\n",
    "    while spaces<=i:\n",
    "        print(p*\" \",end=\"\")\n",
    "        spaces+=1\n",
    "    k=1\n",
    "    q=i\n",
    "    while k<=i:\n",
    "        print(q,end=\"\")\n",
    "        k+=1\n",
    "        q-=1\n",
    "    print()    \n",
    "    i+=1"
   ]
  },
  {
   "cell_type": "code",
   "execution_count": null,
   "id": "8ff8cb10-a744-48b7-88ff-21aa299b5262",
   "metadata": {},
   "outputs": [],
   "source": [
    "   1\n",
    "  212\n",
    " 32123\n",
    "4321234"
   ]
  },
  {
   "cell_type": "code",
   "execution_count": 42,
   "id": "b32e7e82-de47-491b-8898-7bf91f622a0a",
   "metadata": {},
   "outputs": [
    {
     "name": "stdin",
     "output_type": "stream",
     "text": [
      " 5\n"
     ]
    },
    {
     "name": "stdout",
     "output_type": "stream",
     "text": [
      "    1\n",
      "   212\n",
      "  32123\n",
      " 4321234\n",
      "543212345\n"
     ]
    }
   ],
   "source": [
    "n=int(input())\n",
    "i=1\n",
    "while i<=n:\n",
    "    spaces=1\n",
    "    while spaces<=n-i:\n",
    "        print(\" \",end=\"\")\n",
    "        spaces+=1\n",
    "    k=1\n",
    "    q=i\n",
    "    while k<=i:\n",
    "        print(q,end=\"\")\n",
    "        q-=1\n",
    "        k+=1\n",
    "    l=2\n",
    "    while l<=i:\n",
    "        print(l,end=\"\")\n",
    "        l+=1\n",
    "    print()\n",
    "    i+=1    "
   ]
  },
  {
   "cell_type": "markdown",
   "id": "dbcffb0a-a095-4088-bf69-a345f8b20fd0",
   "metadata": {},
   "source": [
    "N=4\n",
    "*000*000*\n",
    "0*00*00*0\n",
    "00*0*0*00\n",
    "000***000"
   ]
  },
  {
   "cell_type": "code",
   "execution_count": 50,
   "id": "153b8f65-2a81-46ef-81dc-16e5aa572f6b",
   "metadata": {},
   "outputs": [
    {
     "name": "stdin",
     "output_type": "stream",
     "text": [
      " 5\n"
     ]
    },
    {
     "name": "stdout",
     "output_type": "stream",
     "text": [
      "*0000*0000*\n",
      "0*000*000*0\n",
      "00*00*00*00\n",
      "000*0*0*000\n",
      "0000***0000\n"
     ]
    }
   ],
   "source": [
    "n=int(input())\n",
    "i=1\n",
    "while i<=n:\n",
    "    j=1\n",
    "    while j<=i-1:\n",
    "        print(0,end=\"\")\n",
    "        j+=1\n",
    "    k=i\n",
    "    while k<=i:\n",
    "        print(\"*\",end=\"\")\n",
    "        k+=1\n",
    "    l=1\n",
    "    while l<=n-i:\n",
    "        print(0,end=\"\")\n",
    "        l+=1\n",
    "    m=i\n",
    "    while m<=i:\n",
    "        print(\"*\",end=\"\")\n",
    "        m+=1\n",
    "    p=1\n",
    "    while p<=n-i:\n",
    "        print(0,end=\"\")\n",
    "        p+=1\n",
    "    q=i\n",
    "    while q<=i:\n",
    "        print(\"*\",end=\"\")\n",
    "        q+=1\n",
    "    r=1\n",
    "    while r<=i-1:\n",
    "        print(0,end=\"\")\n",
    "        r+=1\n",
    "    print()\n",
    "    i+=1"
   ]
  },
  {
   "cell_type": "markdown",
   "id": "f6a0c292-06eb-4ad5-958d-cf349b544264",
   "metadata": {},
   "source": [
    "N=5\n",
    "__*\n",
    "_***\n",
    "*****\n",
    "_***\n",
    "__*"
   ]
  },
  {
   "cell_type": "code",
   "execution_count": 18,
   "id": "2f9354e1-04e9-4e7e-8c85-0bf8900796d2",
   "metadata": {},
   "outputs": [
    {
     "name": "stdin",
     "output_type": "stream",
     "text": [
      " 5\n"
     ]
    },
    {
     "name": "stdout",
     "output_type": "stream",
     "text": [
      "  *\n",
      " ***\n",
      "*****\n",
      " ***\n",
      "  *\n"
     ]
    }
   ],
   "source": [
    "n=int(input())\n",
    "i=1\n",
    "p=1\n",
    "while i<=n:\n",
    "    spaces=1\n",
    "    while spaces<=n-i-2:\n",
    "        print(\" \",end=\"\")\n",
    "        spaces+=1\n",
    "    j=1\n",
    "    while j<=i and i<=3:\n",
    "        print(\"*\",end=\"\")\n",
    "        j+=1\n",
    "    k=1\n",
    "    while k<=i-1 and i<=3:\n",
    "        print(\"*\",end=\"\")\n",
    "        k+=1\n",
    "    l=i\n",
    "    while l<=i and i>3:\n",
    "        print(p*\" \",end=\"\")\n",
    "        l+=1\n",
    "        p+=1\n",
    "    m=1\n",
    "    while m<=n-i+1 and i>3:\n",
    "        print(\"*\",end=\"\")\n",
    "        m+=1\n",
    "    q=1\n",
    "    while q>=i-3 and i<5 and i>3:\n",
    "        print(\"*\",end=\"\")\n",
    "        q-=1\n",
    "    print()\n",
    "    i+=1"
   ]
  },
  {
   "cell_type": "code",
   "execution_count": 41,
   "id": "ac98f459-3bbc-4cbe-a09d-47fee4b8a426",
   "metadata": {},
   "outputs": [
    {
     "name": "stdin",
     "output_type": "stream",
     "text": [
      " 9\n"
     ]
    },
    {
     "name": "stdout",
     "output_type": "stream",
     "text": [
      "    *\n",
      "   ***\n",
      "  *****\n",
      " *******\n",
      "*********\n",
      " *******\n",
      "  *****\n",
      "   ***\n",
      "    *\n"
     ]
    }
   ],
   "source": [
    "n=int(input())\n",
    "i=1\n",
    "p=1\n",
    "while i<=n:\n",
    "    spaces=1\n",
    "    while spaces<=n-i-(n-1)//2:\n",
    "        print(\" \",end=\"\")\n",
    "        spaces+=1\n",
    "    j=1\n",
    "    while j<=i and i<=(n+1)//2:\n",
    "        print(\"*\",end=\"\")\n",
    "        j+=1\n",
    "    k=1\n",
    "    while k<=i-1 and i<=(n+1)//2:\n",
    "        print(\"*\",end=\"\")\n",
    "        k+=1\n",
    "    l=i\n",
    "    while l<=i and i>(n+1)//2:\n",
    "        print(p*\" \",end=\"\")\n",
    "        l+=1\n",
    "        p+=1\n",
    "    m=1\n",
    "    while m<=n-i+1 and i>(n+1)//2:\n",
    "        print(\"*\",end=\"\")\n",
    "        m+=1\n",
    "    q=1\n",
    "    while q<=n-i and i<n and i>(n+1)//2:\n",
    "        print(\"*\",end=\"\")\n",
    "        q+=1\n",
    "    print()\n",
    "    i+=1"
   ]
  },
  {
   "cell_type": "markdown",
   "id": "6d399fec-9495-44d6-b21c-a468b7078709",
   "metadata": {},
   "source": [
    "*-\n",
    "-*-*-\n",
    "--*-*-*-\n",
    "---*-*-*-*\n",
    "--*-*-*-\n",
    "-*-*-\n",
    "*-"
   ]
  },
  {
   "cell_type": "code",
   "execution_count": 74,
   "id": "b181df9a-16ab-465c-8c14-be59405c3521",
   "metadata": {},
   "outputs": [
    {
     "name": "stdin",
     "output_type": "stream",
     "text": [
      " 11\n"
     ]
    },
    {
     "name": "stdout",
     "output_type": "stream",
     "text": [
      "*\n",
      " * * \n",
      "  * * * \n",
      "   * * * * \n",
      "    * * * * * \n",
      "     * * * * * * \n",
      "    * * * * * \n",
      "   * * * * \n",
      "  * * * \n",
      " * * \n",
      "* \n"
     ]
    }
   ],
   "source": [
    "n=int(input())\n",
    "i=1\n",
    "while i<=n:\n",
    "    if i==1:\n",
    "        print(\"*\",end=\"\")   \n",
    "    j=1\n",
    "    while j<=(i-1) and i<=(n+1)//2:\n",
    "        print(\" \",end=\"\")\n",
    "        j+=1\n",
    "    k=1\n",
    "    while k<=i and i>1 and i<=(n+1)//2:\n",
    "        print(\"* \",end=\"\")\n",
    "        k+=1\n",
    "    l=1\n",
    "    while l<=n-i and i>(n+1)//2:\n",
    "        print(\" \",end=\"\")\n",
    "        l+=1\n",
    "    m=1\n",
    "    while m<=n-i+1 and i>(n+1)//2:\n",
    "        print(\"* \",end=\"\")\n",
    "        m+=1\n",
    "        \n",
    "    print()\n",
    "    i+=1"
   ]
  },
  {
   "cell_type": "markdown",
   "id": "8e78339b-0498-4db3-9dfa-e419fed2c6f8",
   "metadata": {},
   "source": [
    "# Functions"
   ]
  },
  {
   "cell_type": "code",
   "execution_count": 85,
   "id": "0461e57b-c39e-4954-9a5d-b2f8f539840e",
   "metadata": {},
   "outputs": [
    {
     "name": "stdin",
     "output_type": "stream",
     "text": [
      " 5\n",
      " 2\n"
     ]
    },
    {
     "name": "stdout",
     "output_type": "stream",
     "text": [
      "10.0\n"
     ]
    }
   ],
   "source": [
    "n=int(input())\n",
    "r=int(input())\n",
    "n_fact=1\n",
    "for i in range(1,n+1):\n",
    "    n_fact*=i\n",
    "r_fact=1\n",
    "for i in range(1,r+1):\n",
    "    r_fact*=i\n",
    "n_r_fact=1\n",
    "for i in range(1,(n-r)+1):\n",
    "    n_r_fact*=i\n",
    "n_c_r=n_fact/(r_fact*n_r_fact)\n",
    "print(n_c_r)"
   ]
  },
  {
   "cell_type": "code",
   "execution_count": 89,
   "id": "83686d1d-8745-4b76-a185-35bcf5b2eb60",
   "metadata": {},
   "outputs": [
    {
     "name": "stdin",
     "output_type": "stream",
     "text": [
      " 4\n",
      " 2\n"
     ]
    },
    {
     "name": "stdout",
     "output_type": "stream",
     "text": [
      "6\n"
     ]
    }
   ],
   "source": [
    "def fact(a):\n",
    "    n_fact=1\n",
    "    for i in range(1,a+1):\n",
    "        n_fact*=i\n",
    "    return n_fact\n",
    "n=int(input())\n",
    "r=int(input())\n",
    "n_c_r=fact(n)//(fact(r)*fact(n-r))\n",
    "print(n_c_r)"
   ]
  },
  {
   "cell_type": "markdown",
   "id": "70a8dcae-8d1f-4af2-8615-638b32af38b5",
   "metadata": {},
   "source": [
    "# Function Examples"
   ]
  },
  {
   "cell_type": "code",
   "execution_count": 90,
   "id": "4cde74dd-6cad-48e5-8e36-bb98cdd1372c",
   "metadata": {},
   "outputs": [],
   "source": [
    "# def isprime(n):\n",
    "#     for i in range(2,n):\n",
    "#         if n%i==0:\n",
    "#             break\n",
    "#     else:\n",
    "#         return True\n",
    "#     return False"
   ]
  },
  {
   "cell_type": "code",
   "execution_count": 91,
   "id": "81dc835a-9c09-48ef-9b00-efc61306d6ab",
   "metadata": {},
   "outputs": [
    {
     "data": {
      "text/plain": [
       "True"
      ]
     },
     "execution_count": 91,
     "metadata": {},
     "output_type": "execute_result"
    }
   ],
   "source": [
    "isprime(17)"
   ]
  },
  {
   "cell_type": "code",
   "execution_count": 92,
   "id": "49babac7-36b0-482f-85e4-8d07355f8d35",
   "metadata": {},
   "outputs": [
    {
     "data": {
      "text/plain": [
       "False"
      ]
     },
     "execution_count": 92,
     "metadata": {},
     "output_type": "execute_result"
    }
   ],
   "source": [
    "isprime(4)"
   ]
  },
  {
   "cell_type": "code",
   "execution_count": 109,
   "id": "bd243e4f-5c14-47a3-9f65-41b0739ca5ee",
   "metadata": {},
   "outputs": [],
   "source": [
    "def isprime(n):\n",
    "    for i in range(2,n):\n",
    "        if n%i==0:\n",
    "            break\n",
    "    else:\n",
    "        return True\n",
    "    return False\n",
    "def prime2toN(n):\n",
    "    for j in range(2,n+1):\n",
    "        if isprime(j):\n",
    "            print(j)"
   ]
  },
  {
   "cell_type": "code",
   "execution_count": 112,
   "id": "7f2be50e-ed6e-41b2-b1fc-99006771b685",
   "metadata": {},
   "outputs": [
    {
     "name": "stdout",
     "output_type": "stream",
     "text": [
      "2\n",
      "3\n",
      "5\n",
      "7\n",
      "11\n",
      "13\n",
      "17\n",
      "19\n",
      "23\n",
      "29\n",
      "31\n",
      "37\n",
      "41\n",
      "43\n",
      "47\n"
     ]
    }
   ],
   "source": [
    "prime2toN(50)"
   ]
  },
  {
   "cell_type": "markdown",
   "id": "c9dd6c9e-7b4a-4665-824e-2066b1239fd8",
   "metadata": {},
   "source": [
    "# Scope of Variables"
   ]
  },
  {
   "cell_type": "code",
   "execution_count": 114,
   "id": "443893c2-0dcb-43fd-8a29-d9511ae6c789",
   "metadata": {},
   "outputs": [
    {
     "name": "stdout",
     "output_type": "stream",
     "text": [
      "10\n"
     ]
    },
    {
     "ename": "NameError",
     "evalue": "name 'b1' is not defined",
     "output_type": "error",
     "traceback": [
      "\u001b[1;31m---------------------------------------------------------------------------\u001b[0m",
      "\u001b[1;31mNameError\u001b[0m                                 Traceback (most recent call last)",
      "Cell \u001b[1;32mIn[114], line 6\u001b[0m\n\u001b[0;32m      4\u001b[0m \u001b[38;5;28mprint\u001b[39m(a1)\n\u001b[0;32m      5\u001b[0m f1()\n\u001b[1;32m----> 6\u001b[0m \u001b[38;5;28mprint\u001b[39m(\u001b[43mb1\u001b[49m)\n",
      "\u001b[1;31mNameError\u001b[0m: name 'b1' is not defined"
     ]
    }
   ],
   "source": [
    "a1=10 #global variable\n",
    "def f1():\n",
    "    b1=12 #loocal variable\n",
    "print(a1)\n",
    "f1()\n",
    "print(b1)   #b1 is not accessible outside of function"
   ]
  },
  {
   "cell_type": "code",
   "execution_count": 115,
   "id": "af541eca-c995-41da-9839-e463b3010f7c",
   "metadata": {},
   "outputs": [
    {
     "name": "stdout",
     "output_type": "stream",
     "text": [
      "10\n",
      "12\n"
     ]
    }
   ],
   "source": [
    "a1=10 #global variable\n",
    "def f1():\n",
    "    b1=12 #loocal variable\n",
    "    print(b1)\n",
    "print(a1)\n",
    "f1()\n",
    "# print(b1)   #b1 is not accessible outside of function"
   ]
  },
  {
   "cell_type": "code",
   "execution_count": 117,
   "id": "7834a3aa-0c24-48b2-b3ca-7a2136aa47bf",
   "metadata": {},
   "outputs": [
    {
     "name": "stdout",
     "output_type": "stream",
     "text": [
      "10\n",
      "12\n",
      "10\n"
     ]
    }
   ],
   "source": [
    "a2=10 #global variable\n",
    "def f2():\n",
    "    b1=12 #loocal variable\n",
    "    print(b1)\n",
    "    print(a2)\n",
    "print(a2)\n",
    "f2()"
   ]
  },
  {
   "cell_type": "code",
   "execution_count": 118,
   "id": "3e3c46e8-89e2-467f-89e2-9d5fb974da1f",
   "metadata": {},
   "outputs": [
    {
     "name": "stdout",
     "output_type": "stream",
     "text": [
      "10\n",
      "12\n",
      "10\n"
     ]
    },
    {
     "ename": "NameError",
     "evalue": "name 'c3' is not defined",
     "output_type": "error",
     "traceback": [
      "\u001b[1;31m---------------------------------------------------------------------------\u001b[0m",
      "\u001b[1;31mNameError\u001b[0m                                 Traceback (most recent call last)",
      "Cell \u001b[1;32mIn[118], line 8\u001b[0m\n\u001b[0;32m      6\u001b[0m     \u001b[38;5;28mprint\u001b[39m(c3)\n\u001b[0;32m      7\u001b[0m \u001b[38;5;28mprint\u001b[39m(a2)\n\u001b[1;32m----> 8\u001b[0m \u001b[43mf2\u001b[49m\u001b[43m(\u001b[49m\u001b[43m)\u001b[49m\n\u001b[0;32m      9\u001b[0m c3\u001b[38;5;241m=\u001b[39m\u001b[38;5;241m20\u001b[39m\n",
      "Cell \u001b[1;32mIn[118], line 6\u001b[0m, in \u001b[0;36mf2\u001b[1;34m()\u001b[0m\n\u001b[0;32m      4\u001b[0m \u001b[38;5;28mprint\u001b[39m(b1)\n\u001b[0;32m      5\u001b[0m \u001b[38;5;28mprint\u001b[39m(a2)\n\u001b[1;32m----> 6\u001b[0m \u001b[38;5;28mprint\u001b[39m(\u001b[43mc3\u001b[49m)\n",
      "\u001b[1;31mNameError\u001b[0m: name 'c3' is not defined"
     ]
    }
   ],
   "source": [
    "#We can access global variable only if defined before the function call\n",
    "a2=10 #global variable\n",
    "def f2():\n",
    "    b1=12 #loocal variable\n",
    "    print(b1)\n",
    "    print(a2)\n",
    "    print(c3)\n",
    "print(a2)\n",
    "f2()\n",
    "c3=20"
   ]
  },
  {
   "cell_type": "code",
   "execution_count": 119,
   "id": "eb1e3bdd-dc5a-4580-876d-caeafea84a7c",
   "metadata": {},
   "outputs": [
    {
     "name": "stdout",
     "output_type": "stream",
     "text": [
      "13\n",
      "12\n",
      "2016451887696\n",
      "13\n",
      "2016451887728\n"
     ]
    }
   ],
   "source": [
    "a4=13 #global variable\n",
    "def f4():\n",
    "    a4=12\n",
    "    print(a4)\n",
    "    print(id(a4))\n",
    "print(a4)\n",
    "f4()\n",
    "print(a4)\n",
    "print(id(a4))"
   ]
  },
  {
   "cell_type": "code",
   "execution_count": 120,
   "id": "c463ad9f-aa61-4e8b-b7a8-f3cbe76c730a",
   "metadata": {},
   "outputs": [
    {
     "name": "stdout",
     "output_type": "stream",
     "text": [
      "13\n",
      "12\n",
      "2016451887696\n",
      "12\n",
      "2016451887696\n"
     ]
    }
   ],
   "source": [
    "a4=13 #global variable\n",
    "def f4():\n",
    "    global a4\n",
    "    a4=12\n",
    "    print(a4)\n",
    "    print(id(a4))\n",
    "print(a4)\n",
    "f4()\n",
    "print(a4)\n",
    "print(id(a4))"
   ]
  },
  {
   "cell_type": "markdown",
   "id": "458608ad-64f5-4834-9ced-92e564fd5b26",
   "metadata": {},
   "source": [
    "# Default parameters in function"
   ]
  },
  {
   "cell_type": "code",
   "execution_count": 1,
   "id": "e7cd51c7-345b-4fe2-84cf-9bde40f70dc9",
   "metadata": {},
   "outputs": [
    {
     "ename": "TypeError",
     "evalue": "f() missing 1 required positional argument: 'n'",
     "output_type": "error",
     "traceback": [
      "\u001b[1;31m---------------------------------------------------------------------------\u001b[0m",
      "\u001b[1;31mTypeError\u001b[0m                                 Traceback (most recent call last)",
      "Cell \u001b[1;32mIn[1], line 3\u001b[0m\n\u001b[0;32m      1\u001b[0m \u001b[38;5;28;01mdef\u001b[39;00m \u001b[38;5;21mf\u001b[39m(n):\n\u001b[0;32m      2\u001b[0m     \u001b[38;5;28mprint\u001b[39m(n)\n\u001b[1;32m----> 3\u001b[0m \u001b[43mf\u001b[49m\u001b[43m(\u001b[49m\u001b[43m)\u001b[49m\n",
      "\u001b[1;31mTypeError\u001b[0m: f() missing 1 required positional argument: 'n'"
     ]
    }
   ],
   "source": [
    "# Minimum 1 argument is required to call the function\n",
    "def f(n):\n",
    "    print(n)\n",
    "f()"
   ]
  },
  {
   "cell_type": "code",
   "execution_count": 2,
   "id": "7d1ea8c2-ca51-4970-b349-a53f55728031",
   "metadata": {},
   "outputs": [
    {
     "ename": "TypeError",
     "evalue": "f() takes 1 positional argument but 2 were given",
     "output_type": "error",
     "traceback": [
      "\u001b[1;31m---------------------------------------------------------------------------\u001b[0m",
      "\u001b[1;31mTypeError\u001b[0m                                 Traceback (most recent call last)",
      "Cell \u001b[1;32mIn[2], line 4\u001b[0m\n\u001b[0;32m      2\u001b[0m \u001b[38;5;28;01mdef\u001b[39;00m \u001b[38;5;21mf\u001b[39m(n):\n\u001b[0;32m      3\u001b[0m     \u001b[38;5;28mprint\u001b[39m(n)\n\u001b[1;32m----> 4\u001b[0m \u001b[43mf\u001b[49m\u001b[43m(\u001b[49m\u001b[38;5;241;43m2\u001b[39;49m\u001b[43m,\u001b[49m\u001b[38;5;241;43m3\u001b[39;49m\u001b[43m)\u001b[49m\n",
      "\u001b[1;31mTypeError\u001b[0m: f() takes 1 positional argument but 2 were given"
     ]
    }
   ],
   "source": [
    "# Equal no of arguments required in fuction call and function definition to call the function  \n",
    "def f(n):\n",
    "    print(n)\n",
    "f(2,3)"
   ]
  },
  {
   "cell_type": "code",
   "execution_count": null,
   "id": "f9636c1e-6ec9-4677-9edf-f32d457ab29c",
   "metadata": {},
   "outputs": [],
   "source": [
    "def sum(a,b):\n",
    "    return a+b\n",
    "\n",
    "def sum1(a,b,c):\n",
    "    return a+b+c"
   ]
  },
  {
   "cell_type": "code",
   "execution_count": 6,
   "id": "ec4b311e-3f5d-48c4-84ae-ab5c7a3f8fe4",
   "metadata": {},
   "outputs": [],
   "source": [
    "\n",
    "def sum2(a,b,c=0):\n",
    "    print(c)\n",
    "    return a+b+c"
   ]
  },
  {
   "cell_type": "code",
   "execution_count": 7,
   "id": "456f6c80-5cf1-45a0-9694-36a6b9580f9b",
   "metadata": {},
   "outputs": [
    {
     "name": "stdout",
     "output_type": "stream",
     "text": [
      "0\n",
      "3\n",
      "4\n",
      "7\n"
     ]
    }
   ],
   "source": [
    "print(sum2(1,2))\n",
    "print(sum2(1,2,4))"
   ]
  },
  {
   "cell_type": "code",
   "execution_count": 8,
   "id": "a6bc75a9-0421-4474-bc36-266cb6c025e1",
   "metadata": {},
   "outputs": [
    {
     "ename": "SyntaxError",
     "evalue": "non-default argument follows default argument (2000578618.py, line 1)",
     "output_type": "error",
     "traceback": [
      "\u001b[1;36m  Cell \u001b[1;32mIn[8], line 1\u001b[1;36m\u001b[0m\n\u001b[1;33m    def sum3(a=0,b,c):\u001b[0m\n\u001b[1;37m                 ^\u001b[0m\n\u001b[1;31mSyntaxError\u001b[0m\u001b[1;31m:\u001b[0m non-default argument follows default argument\n"
     ]
    }
   ],
   "source": [
    "# Non default arguments must be defined first then default arguments\n",
    "def sum3(a=0,b,c)\n",
    "    return a+b+c\n",
    "sum3(1,2)"
   ]
  },
  {
   "cell_type": "code",
   "execution_count": 16,
   "id": "ee328bbe-ed9e-4f15-9239-588c4159c650",
   "metadata": {},
   "outputs": [
    {
     "name": "stdout",
     "output_type": "stream",
     "text": [
      "7\n",
      "9\n",
      "10\n",
      "12\n",
      "10\n"
     ]
    }
   ],
   "source": [
    "def f1(a,b,c=1,d=3):\n",
    "    return a+b+c+d\n",
    "print(f1(1,2))\n",
    "print(f1(1,2,3))           # takes d=3 as defult argument\n",
    "print(f1(1,2,3,4))        # takes all non default arguments\n",
    "print(f1(1,2,c=4,d=5))   # c and d value defined in function call\n",
    "print(f1(d=1,c=2,a=4,b=3)) #order doesn't matter"
   ]
  },
  {
   "cell_type": "code",
   "execution_count": 11,
   "id": "0ca2479c-4b56-4ad5-a92f-c30b4377dcba",
   "metadata": {},
   "outputs": [
    {
     "ename": "SyntaxError",
     "evalue": "non-default argument follows default argument (1531461578.py, line 1)",
     "output_type": "error",
     "traceback": [
      "\u001b[1;36m  Cell \u001b[1;32mIn[11], line 1\u001b[1;36m\u001b[0m\n\u001b[1;33m    def f2(a=1,b=2,c,d):\u001b[0m\n\u001b[1;37m                   ^\u001b[0m\n\u001b[1;31mSyntaxError\u001b[0m\u001b[1;31m:\u001b[0m non-default argument follows default argument\n"
     ]
    }
   ],
   "source": [
    "#confusing for computer to understand\n",
    "def f2(a=1,b=2,c,d):\n",
    "    return a+b+c+d\n",
    "print(f1(1,2))"
   ]
  },
  {
   "cell_type": "markdown",
   "id": "a4732d40-13f9-41e9-ba20-88746f80860d",
   "metadata": {},
   "source": [
    "# Creating an array"
   ]
  },
  {
   "cell_type": "code",
   "execution_count": 1,
   "id": "99223cb0-2c8a-407a-a751-87174a18713f",
   "metadata": {},
   "outputs": [],
   "source": [
    "import array"
   ]
  },
  {
   "cell_type": "code",
   "execution_count": 5,
   "id": "e3df06b6-42cf-4631-8390-ccd881e6b0c5",
   "metadata": {},
   "outputs": [],
   "source": [
    "numbers=array.array('i',[1,2,3,4])"
   ]
  },
  {
   "cell_type": "code",
   "execution_count": 6,
   "id": "961393ee-f693-48ef-8844-38424dd89be3",
   "metadata": {},
   "outputs": [
    {
     "name": "stdout",
     "output_type": "stream",
     "text": [
      "array('i', [1, 2, 3, 4])\n"
     ]
    }
   ],
   "source": [
    "print(numbers)"
   ]
  },
  {
   "cell_type": "code",
   "execution_count": 7,
   "id": "619c9fd9-dc63-4776-a6e0-2973cd7c76dd",
   "metadata": {},
   "outputs": [],
   "source": [
    "numbers.append(10)"
   ]
  },
  {
   "cell_type": "code",
   "execution_count": 8,
   "id": "86a93fcc-6b05-499d-b6a1-ea92dfdcd294",
   "metadata": {},
   "outputs": [
    {
     "name": "stdout",
     "output_type": "stream",
     "text": [
      "array('i', [1, 2, 3, 4, 10])\n"
     ]
    }
   ],
   "source": [
    "print(numbers)"
   ]
  },
  {
   "cell_type": "code",
   "execution_count": 9,
   "id": "47defd01-010b-4e0e-a3b6-8faa2dadd3bf",
   "metadata": {},
   "outputs": [
    {
     "name": "stdout",
     "output_type": "stream",
     "text": [
      "first number:1\n"
     ]
    }
   ],
   "source": [
    "print(f\"first number:{numbers[0]}\")"
   ]
  },
  {
   "cell_type": "code",
   "execution_count": 11,
   "id": "b77b8f7d-6a3c-457d-8a79-9d2b7b960309",
   "metadata": {},
   "outputs": [
    {
     "name": "stdout",
     "output_type": "stream",
     "text": [
      "first number:1\n"
     ]
    }
   ],
   "source": [
    "print(f\"first number:\"+str(numbers[0]))"
   ]
  },
  {
   "cell_type": "code",
   "execution_count": 12,
   "id": "86931259-f92a-4399-9926-c42d921a9e39",
   "metadata": {},
   "outputs": [
    {
     "name": "stdout",
     "output_type": "stream",
     "text": [
      "Second number:2\n"
     ]
    }
   ],
   "source": [
    "print(f\"Second number:{numbers[1]}\")"
   ]
  },
  {
   "cell_type": "code",
   "execution_count": 14,
   "id": "b9a450ed-8ad1-40a4-b74b-c583d1f91c62",
   "metadata": {},
   "outputs": [
    {
     "name": "stdout",
     "output_type": "stream",
     "text": [
      "array('i', [1, 2, 3, 4])\n",
      "array('i', [1, 2, 3])\n",
      "array('i', [1, 3])\n"
     ]
    }
   ],
   "source": [
    "# Removes last element in the array\n",
    "print(numbers)\n",
    "numbers.pop()\n",
    "print(numbers)\n",
    "# Removes element at index 1\n",
    "numbers.pop(1)\n",
    "print(numbers)"
   ]
  },
  {
   "cell_type": "code",
   "execution_count": 15,
   "id": "c55285a7-1308-46ec-b794-91c516d34f8e",
   "metadata": {},
   "outputs": [],
   "source": [
    "arr=array.array('i',[1,2,3,4])"
   ]
  },
  {
   "cell_type": "code",
   "execution_count": 16,
   "id": "7861c37b-6b99-43ee-a889-3e976d66bc24",
   "metadata": {},
   "outputs": [
    {
     "name": "stdout",
     "output_type": "stream",
     "text": [
      "1\n",
      "2\n",
      "3\n",
      "4\n"
     ]
    }
   ],
   "source": [
    "for item in arr:\n",
    "    print(item)"
   ]
  },
  {
   "cell_type": "code",
   "execution_count": 17,
   "id": "b6a07e14-887a-47df-9642-d9532f554eb2",
   "metadata": {},
   "outputs": [
    {
     "name": "stdout",
     "output_type": "stream",
     "text": [
      "10\n"
     ]
    }
   ],
   "source": [
    "#Sum of elements of an array\n",
    "sum=0\n",
    "for item in arr:\n",
    "    sum=sum+item\n",
    "print(sum)"
   ]
  },
  {
   "cell_type": "code",
   "execution_count": 18,
   "id": "0415aba0-c96c-4712-815c-96fcf3c403fb",
   "metadata": {},
   "outputs": [
    {
     "name": "stdout",
     "output_type": "stream",
     "text": [
      "array('d', [80.23, 90.12, 60.21, 58.4])\n"
     ]
    }
   ],
   "source": [
    "# Storing double values in array\n",
    "percentages=array.array('d',[80.23,90.12,60.21,58.40])\n",
    "print(percentages)"
   ]
  },
  {
   "cell_type": "markdown",
   "id": "c99563ce-33a4-4c3f-86c2-b5ecb0776d2e",
   "metadata": {},
   "source": [
    "# List Operations"
   ]
  },
  {
   "cell_type": "code",
   "execution_count": 19,
   "id": "bced3bd0-5a3d-4932-90a0-7fcce9f44a18",
   "metadata": {},
   "outputs": [
    {
     "name": "stdout",
     "output_type": "stream",
     "text": [
      "[1, 2, 3, 4]\n",
      "<class 'list'>\n"
     ]
    }
   ],
   "source": [
    "nums=[1,2,3,4]\n",
    "print(nums)\n",
    "print(type(nums))"
   ]
  },
  {
   "cell_type": "code",
   "execution_count": 21,
   "id": "ba1ea470-3672-4714-a8c7-40a1383b9e8a",
   "metadata": {},
   "outputs": [
    {
     "name": "stdout",
     "output_type": "stream",
     "text": [
      "array('i', [1, 2, 3]) <class 'array.array'>\n",
      "[1, 2, 3] <class 'list'>\n"
     ]
    }
   ],
   "source": [
    "import array as arr\n",
    "my_array=arr.array(\"i\",[1,2,3])\n",
    "print(my_array, type(my_array))\n",
    "my_list=list(my_array)\n",
    "print(my_list, type(my_list))"
   ]
  },
  {
   "cell_type": "code",
   "execution_count": 22,
   "id": "207b59a9-9553-49e0-b259-6df8d8110e7d",
   "metadata": {},
   "outputs": [
    {
     "name": "stdout",
     "output_type": "stream",
     "text": [
      "[1, 2, 3, 4, 5]\n"
     ]
    }
   ],
   "source": [
    "nums=[1,2,3,4]\n",
    "nums.append(5)\n",
    "print(nums)"
   ]
  },
  {
   "cell_type": "code",
   "execution_count": 29,
   "id": "34282314-0915-43b3-93d2-391f5b16cb4a",
   "metadata": {},
   "outputs": [
    {
     "name": "stdout",
     "output_type": "stream",
     "text": [
      "[1, 2, 3, 4, 5]\n",
      "[1, 2, 3, 4]\n",
      "[1, 3, 4]\n"
     ]
    }
   ],
   "source": [
    "print(nums)\n",
    "nums.pop()\n",
    "print(nums)\n",
    "nums.pop(1)\n",
    "print(nums)"
   ]
  },
  {
   "cell_type": "code",
   "execution_count": 24,
   "id": "8cd2dba1-4256-4562-8031-ecc16f841349",
   "metadata": {},
   "outputs": [
    {
     "name": "stdout",
     "output_type": "stream",
     "text": [
      "first element is: 1\n"
     ]
    }
   ],
   "source": [
    "print(f\"first element is: {nums[0]}\")"
   ]
  },
  {
   "cell_type": "code",
   "execution_count": null,
   "id": "1402df04-0217-4e12-8330-996ef456ac7d",
   "metadata": {},
   "outputs": [],
   "source": [
    "# Positive indexing: 0,1,2,3,...n-1\n",
    "# Negative indexing: -1,-2,-3,...-n"
   ]
  },
  {
   "cell_type": "code",
   "execution_count": 25,
   "id": "2c9aa88e-ba5f-4b9c-b539-ed033e13751b",
   "metadata": {},
   "outputs": [
    {
     "name": "stdout",
     "output_type": "stream",
     "text": [
      "Last element is: 5\n"
     ]
    }
   ],
   "source": [
    "print(f\"Last element is: {nums[-1]}\")"
   ]
  },
  {
   "cell_type": "code",
   "execution_count": 28,
   "id": "8ffdfc9e-2da6-4780-846e-7302a852e2e9",
   "metadata": {},
   "outputs": [
    {
     "name": "stdout",
     "output_type": "stream",
     "text": [
      "[1, 2, 'ram', 'soham', 2.34]\n",
      "2.34\n",
      "soham\n"
     ]
    }
   ],
   "source": [
    "random_number=[1,2,\"ram\",\"soham\",2.34]\n",
    "print(random_number)\n",
    "print(random_number[-1])\n",
    "print(random_number[-2])"
   ]
  },
  {
   "cell_type": "code",
   "execution_count": 31,
   "id": "1179ace6-8c65-46d0-a747-958551d78f38",
   "metadata": {},
   "outputs": [
    {
     "name": "stdout",
     "output_type": "stream",
     "text": [
      "14\n"
     ]
    }
   ],
   "source": [
    "total=0\n",
    "marks=[2,3,4,5]\n",
    "for i in marks:\n",
    "    total+=i\n",
    "print(total)"
   ]
  },
  {
   "cell_type": "code",
   "execution_count": 33,
   "id": "ed62d905-f8d9-4f1d-a252-af81f1101580",
   "metadata": {},
   "outputs": [
    {
     "name": "stdout",
     "output_type": "stream",
     "text": [
      "14\n"
     ]
    }
   ],
   "source": [
    "# Approach 2\n",
    "total=0\n",
    "marks=[2,3,4,5]\n",
    "for i in range(len(marks)):\n",
    "    total+=marks[i]\n",
    "print(total)"
   ]
  },
  {
   "cell_type": "markdown",
   "id": "ea48b63f-66ea-43de-a11b-f1caea7fe8f9",
   "metadata": {},
   "source": [
    "# Adding, Removing and Searching in a list"
   ]
  },
  {
   "cell_type": "code",
   "execution_count": null,
   "id": "83d1fb5c-eaab-4764-a7ce-01fb3173480d",
   "metadata": {},
   "outputs": [],
   "source": [
    "\"\"\"\n",
    "Adding:\n",
    "append - Adds an element at the end of the list\n",
    "insert - Insert at any position in the list\n",
    "extend - concatenation of two lists\n",
    "\n",
    "Removing:\n",
    "pop- removes by default the last element, if index is passed removes value at that index\n",
    "remove- remmoves the first occurence of element and raises a value error if that value is not present\n",
    "clear- clears the list remove all elements\n",
    "\n",
    "Others:\n",
    "copy-creates a copy of the list\n",
    "index-finds index where element occurs for the first time and raises a value error when index is not there\n",
    "reverse-reverse a list\n",
    "sort-sort the list in ascending order by default\n",
    "+ -\n",
    "* -\n",
    "\n",
    "\n",
    "\n",
    "\"\"\""
   ]
  },
  {
   "cell_type": "code",
   "execution_count": 39,
   "id": "c7fd408b-e95d-470b-b743-c5ce41bf34f4",
   "metadata": {},
   "outputs": [
    {
     "name": "stdout",
     "output_type": "stream",
     "text": [
      "[1, 2, 3]\n"
     ]
    }
   ],
   "source": [
    "nums=[1,2]\n",
    "nums.append(3)\n",
    "print(nums)"
   ]
  },
  {
   "cell_type": "code",
   "execution_count": 40,
   "id": "b15ba791-5ec5-483c-8042-bcb62af55cbe",
   "metadata": {},
   "outputs": [
    {
     "name": "stdout",
     "output_type": "stream",
     "text": [
      "[1, 5, 2, 3]\n"
     ]
    }
   ],
   "source": [
    "nums.insert(1,5)  # index 1 value 5\n",
    "print(nums)"
   ]
  },
  {
   "cell_type": "code",
   "execution_count": 41,
   "id": "bba5fbdc-273b-4dd8-8e60-b39db1c62be4",
   "metadata": {},
   "outputs": [
    {
     "name": "stdout",
     "output_type": "stream",
     "text": [
      "[1, 5, 2, 3, 10, 13, 12]\n"
     ]
    }
   ],
   "source": [
    "nums.extend([10,13,12])\n",
    "print(nums)"
   ]
  },
  {
   "cell_type": "code",
   "execution_count": 42,
   "id": "c3dc2f05-ba79-4070-af71-7231c4902d3d",
   "metadata": {},
   "outputs": [
    {
     "name": "stdout",
     "output_type": "stream",
     "text": [
      "[1, 2, 3, 4]\n",
      "[1, 2, 4]\n"
     ]
    }
   ],
   "source": [
    "nums=[1,2,3,4,5]\n",
    "nums.pop()\n",
    "print(nums)\n",
    "nums.pop(2)\n",
    "print(nums)"
   ]
  },
  {
   "cell_type": "code",
   "execution_count": 43,
   "id": "14231a3e-0c5a-4f57-98ab-3f02ddc2c8a6",
   "metadata": {},
   "outputs": [
    {
     "name": "stdout",
     "output_type": "stream",
     "text": [
      "[2, 3, 4, 1, 5, 6, 2]\n"
     ]
    }
   ],
   "source": [
    "nums=[2,1,3,4,1,5,6,2]\n",
    "nums.remove(1)\n",
    "print(nums)"
   ]
  },
  {
   "cell_type": "code",
   "execution_count": 44,
   "id": "7c526f6d-50c4-4e88-bbe2-6a9ef878a559",
   "metadata": {},
   "outputs": [
    {
     "ename": "ValueError",
     "evalue": "list.remove(x): x not in list",
     "output_type": "error",
     "traceback": [
      "\u001b[1;31m---------------------------------------------------------------------------\u001b[0m",
      "\u001b[1;31mValueError\u001b[0m                                Traceback (most recent call last)",
      "Cell \u001b[1;32mIn[44], line 1\u001b[0m\n\u001b[1;32m----> 1\u001b[0m \u001b[43mnums\u001b[49m\u001b[38;5;241;43m.\u001b[39;49m\u001b[43mremove\u001b[49m\u001b[43m(\u001b[49m\u001b[38;5;241;43m10\u001b[39;49m\u001b[43m)\u001b[49m\n\u001b[0;32m      2\u001b[0m \u001b[38;5;28mprint\u001b[39m(nums)\n",
      "\u001b[1;31mValueError\u001b[0m: list.remove(x): x not in list"
     ]
    }
   ],
   "source": [
    "nums.remove(10)\n",
    "print(nums)"
   ]
  },
  {
   "cell_type": "code",
   "execution_count": 45,
   "id": "15686b52-45de-4525-bef7-871442b8de84",
   "metadata": {},
   "outputs": [
    {
     "name": "stdout",
     "output_type": "stream",
     "text": [
      "[]\n"
     ]
    }
   ],
   "source": [
    "nums=[2,1,3,4,1,5,6,2]\n",
    "nums.clear()\n",
    "print(nums)"
   ]
  },
  {
   "cell_type": "code",
   "execution_count": 54,
   "id": "46bfbf6d-dfcc-4a0e-81b9-98c784108c04",
   "metadata": {},
   "outputs": [
    {
     "name": "stdout",
     "output_type": "stream",
     "text": [
      "[1, 2, 3, 4]\n"
     ]
    }
   ],
   "source": [
    "nums=[1,2,3,4]\n",
    "nums2=nums   #just creates a different name for nums\n",
    "print(nums2)"
   ]
  },
  {
   "cell_type": "code",
   "execution_count": 55,
   "id": "648630a2-f56e-4026-a842-6cffb2bfe907",
   "metadata": {},
   "outputs": [
    {
     "data": {
      "text/plain": [
       "4"
      ]
     },
     "execution_count": 55,
     "metadata": {},
     "output_type": "execute_result"
    }
   ],
   "source": [
    "nums.pop()"
   ]
  },
  {
   "cell_type": "code",
   "execution_count": 56,
   "id": "545ae5f7-4d13-4705-aaa6-49df4b2cf6dc",
   "metadata": {},
   "outputs": [
    {
     "name": "stdout",
     "output_type": "stream",
     "text": [
      "[1, 2, 3]\n"
     ]
    }
   ],
   "source": [
    "print(nums2)"
   ]
  },
  {
   "cell_type": "code",
   "execution_count": 57,
   "id": "fe036dfe-b2e1-4086-8833-ddab8e64c5e4",
   "metadata": {},
   "outputs": [
    {
     "name": "stdout",
     "output_type": "stream",
     "text": [
      "[1, 2, 3]\n"
     ]
    }
   ],
   "source": [
    "print(nums)"
   ]
  },
  {
   "cell_type": "code",
   "execution_count": 58,
   "id": "33323d57-a66a-4038-87e2-e5605c84ce1b",
   "metadata": {},
   "outputs": [
    {
     "name": "stdout",
     "output_type": "stream",
     "text": [
      "[1, 2, 3]\n",
      "[1, 2, 3, 4]\n"
     ]
    }
   ],
   "source": [
    "nums=[1,2,3,4]\n",
    "nums2=nums.copy()\n",
    "nums2.pop()\n",
    "print(nums2)\n",
    "print(nums)"
   ]
  },
  {
   "cell_type": "code",
   "execution_count": null,
   "id": "e0057b57-85ae-460d-9ab0-688bfda4df77",
   "metadata": {},
   "outputs": [],
   "source": [
    "\"\"\"\n",
    "equal to operation\n",
    "nums=[1,2,3,4]  address ----> 1000\n",
    "nums2  address---> 1000\n",
    "\n",
    "copy operation\n",
    "nums=[1,2,3,4]  address ----> 1000\n",
    "nums2  address---> 4000\n",
    "\n",
    "\"\"\""
   ]
  },
  {
   "cell_type": "code",
   "execution_count": 59,
   "id": "017b81c2-be6b-4d64-be8e-f7701afbb429",
   "metadata": {},
   "outputs": [
    {
     "data": {
      "text/plain": [
       "1"
      ]
     },
     "execution_count": 59,
     "metadata": {},
     "output_type": "execute_result"
    }
   ],
   "source": [
    "nums=[1,2,3,2,4]\n",
    "nums.index(2)"
   ]
  },
  {
   "cell_type": "code",
   "execution_count": 60,
   "id": "aeb9879b-9d7b-4144-9fc4-ca0c19bf4662",
   "metadata": {},
   "outputs": [
    {
     "ename": "ValueError",
     "evalue": "5 is not in list",
     "output_type": "error",
     "traceback": [
      "\u001b[1;31m---------------------------------------------------------------------------\u001b[0m",
      "\u001b[1;31mValueError\u001b[0m                                Traceback (most recent call last)",
      "Cell \u001b[1;32mIn[60], line 1\u001b[0m\n\u001b[1;32m----> 1\u001b[0m \u001b[43mnums\u001b[49m\u001b[38;5;241;43m.\u001b[39;49m\u001b[43mindex\u001b[49m\u001b[43m(\u001b[49m\u001b[38;5;241;43m5\u001b[39;49m\u001b[43m)\u001b[49m\n",
      "\u001b[1;31mValueError\u001b[0m: 5 is not in list"
     ]
    }
   ],
   "source": [
    "nums.index(5)"
   ]
  },
  {
   "cell_type": "code",
   "execution_count": 61,
   "id": "1a19e1a4-716d-4008-9bcd-29cc5357c6ef",
   "metadata": {},
   "outputs": [
    {
     "name": "stdout",
     "output_type": "stream",
     "text": [
      "[4, 2, 3, 2, 1]\n"
     ]
    }
   ],
   "source": [
    "nums=[1,2,3,2,4]\n",
    "nums.reverse()\n",
    "print(nums)"
   ]
  },
  {
   "cell_type": "code",
   "execution_count": 62,
   "id": "1597b61c-8233-4722-ace8-d7df954101ab",
   "metadata": {},
   "outputs": [],
   "source": [
    "nums.sort()"
   ]
  },
  {
   "cell_type": "code",
   "execution_count": 63,
   "id": "3886099b-a63b-4bc0-9243-a6d9abbc061f",
   "metadata": {},
   "outputs": [
    {
     "name": "stdout",
     "output_type": "stream",
     "text": [
      "[1, 2, 2, 3, 4]\n"
     ]
    }
   ],
   "source": [
    "print(nums)"
   ]
  },
  {
   "cell_type": "code",
   "execution_count": 66,
   "id": "308aeed4-6a66-41b1-af01-d8e3925c373b",
   "metadata": {},
   "outputs": [
    {
     "name": "stdout",
     "output_type": "stream",
     "text": [
      "[1, 2, 3]\n",
      "[1, 2, 3, 1, 2, 3, 1, 2, 3]\n"
     ]
    }
   ],
   "source": [
    "nums=[1,2,3]\n",
    "nums2=nums*3\n",
    "print(nums)\n",
    "print(nums2)"
   ]
  },
  {
   "cell_type": "code",
   "execution_count": 67,
   "id": "1ab242dd-6c0f-4027-930a-ad2be2b4aca1",
   "metadata": {},
   "outputs": [
    {
     "name": "stdout",
     "output_type": "stream",
     "text": [
      "[1, 2, 3, 4]\n"
     ]
    }
   ],
   "source": [
    "nums1=[1,2]\n",
    "nums2=[3,4]\n",
    "nums=nums1+nums2\n",
    "print(nums)"
   ]
  },
  {
   "cell_type": "code",
   "execution_count": 68,
   "id": "3e382012-2c6e-4d83-abdc-e17f5f6e208e",
   "metadata": {},
   "outputs": [
    {
     "name": "stdout",
     "output_type": "stream",
     "text": [
      "[1, 2, 3, 4, 3, 4, 3, 4]\n"
     ]
    }
   ],
   "source": [
    "nums1=[1,2]\n",
    "nums2=[3,4]\n",
    "nums=nums1+3*nums2\n",
    "print(nums)"
   ]
  },
  {
   "cell_type": "markdown",
   "id": "391a9448-c19d-45ca-ae45-4fcd16f386d8",
   "metadata": {},
   "source": [
    "# Slicing"
   ]
  },
  {
   "cell_type": "code",
   "execution_count": 69,
   "id": "2649e32a-1dd9-43d2-b771-0975bb955a27",
   "metadata": {},
   "outputs": [
    {
     "name": "stdout",
     "output_type": "stream",
     "text": [
      "[2, 3]\n"
     ]
    }
   ],
   "source": [
    "# We want to keep only elements except first and last element\n",
    "nums=[1,2,3,4]\n",
    "nums2=[]\n",
    "for i in range(1,len(nums)-1):\n",
    "    nums2.append(nums[i])\n",
    "print(nums2)"
   ]
  },
  {
   "cell_type": "code",
   "execution_count": 70,
   "id": "f17b7674-90d4-4257-ab07-75ed4eea6684",
   "metadata": {},
   "outputs": [
    {
     "name": "stdout",
     "output_type": "stream",
     "text": [
      "[2, 3]\n"
     ]
    }
   ],
   "source": [
    "nums=[1,2,3,4]\n",
    "nums2=nums[1:len(nums)-1]\n",
    "print(nums2)"
   ]
  },
  {
   "cell_type": "code",
   "execution_count": 71,
   "id": "bde7f2a4-c8fd-4f4d-9394-6897d99a027e",
   "metadata": {},
   "outputs": [],
   "source": [
    "nums2=nums[1:4]"
   ]
  },
  {
   "cell_type": "code",
   "execution_count": 72,
   "id": "d3ac1f7b-ec4e-4fa2-ba60-9283b080e584",
   "metadata": {},
   "outputs": [
    {
     "name": "stdout",
     "output_type": "stream",
     "text": [
      "[2, 3, 4]\n"
     ]
    }
   ],
   "source": [
    "print(nums2)"
   ]
  },
  {
   "cell_type": "code",
   "execution_count": null,
   "id": "315a762a-a124-4d71-987f-23ebb05eb989",
   "metadata": {},
   "outputs": [],
   "source": [
    "# [i:j]----> [i,i+1,i+2....j-1]"
   ]
  },
  {
   "cell_type": "code",
   "execution_count": 73,
   "id": "5eb07be5-e789-4e06-8578-ca01b5adac9c",
   "metadata": {},
   "outputs": [
    {
     "name": "stdout",
     "output_type": "stream",
     "text": [
      "[1, 2, 3, 4]\n"
     ]
    }
   ],
   "source": [
    "nums=[1,2,3,4,5,6]\n",
    "nums2=nums[:-2] #removes last two elements\n",
    "print(nums2)"
   ]
  },
  {
   "cell_type": "code",
   "execution_count": 74,
   "id": "a6fb1dc6-fc20-47c2-8eb5-c6e6b4c27aab",
   "metadata": {},
   "outputs": [],
   "source": [
    "nums3=nums[2:] #removes starting  two elements"
   ]
  },
  {
   "cell_type": "code",
   "execution_count": 76,
   "id": "95fce8af-5b85-4c53-8c05-80b6fd79c8fb",
   "metadata": {},
   "outputs": [
    {
     "name": "stdout",
     "output_type": "stream",
     "text": [
      "[3, 4, 5, 6]\n"
     ]
    }
   ],
   "source": [
    "print(nums3)"
   ]
  },
  {
   "cell_type": "markdown",
   "id": "0daf914f-22e9-40c5-b848-d458c082fd81",
   "metadata": {},
   "source": [
    "# Largest element in a list"
   ]
  },
  {
   "cell_type": "code",
   "execution_count": 78,
   "id": "26d86280-7334-4f08-8fa1-d42f4f78b929",
   "metadata": {},
   "outputs": [
    {
     "name": "stdin",
     "output_type": "stream",
     "text": [
      " 1 3 5 7\n"
     ]
    },
    {
     "name": "stdout",
     "output_type": "stream",
     "text": [
      "1 3 5 7\n",
      "<class 'str'>\n"
     ]
    }
   ],
   "source": [
    "n=input()\n",
    "print(n)\n",
    "print(type(n))"
   ]
  },
  {
   "cell_type": "code",
   "execution_count": 79,
   "id": "eadf70ee-5866-4e6f-b3e7-c72def0ed782",
   "metadata": {},
   "outputs": [
    {
     "name": "stdin",
     "output_type": "stream",
     "text": [
      " 1 2 3 4 5\n"
     ]
    }
   ],
   "source": [
    "marks=map(int,input().split(\" \"))"
   ]
  },
  {
   "cell_type": "code",
   "execution_count": 80,
   "id": "e685766d-9334-442d-a7f4-7e155fc453a4",
   "metadata": {},
   "outputs": [
    {
     "name": "stdout",
     "output_type": "stream",
     "text": [
      "<map object at 0x0000022DA3929EA0>\n",
      "<class 'map'>\n"
     ]
    }
   ],
   "source": [
    "print(marks)\n",
    "print(type(marks))"
   ]
  },
  {
   "cell_type": "code",
   "execution_count": 83,
   "id": "4f2102a4-1e77-41c7-90a5-0b78fab9c025",
   "metadata": {},
   "outputs": [
    {
     "name": "stdin",
     "output_type": "stream",
     "text": [
      " 85 15 27 91\n"
     ]
    },
    {
     "name": "stdout",
     "output_type": "stream",
     "text": [
      "91\n"
     ]
    }
   ],
   "source": [
    "marks=list(map(int,input().split( ))  # Taking list of elements as an input\n",
    "max_marks=marks[0]\n",
    "for m in marks:\n",
    "    max_marks=max(m,max_marks)\n",
    "print(max_marks)"
   ]
  },
  {
   "cell_type": "markdown",
   "id": "ed8f2534-b83d-4ca6-a39f-6539344205e8",
   "metadata": {},
   "source": [
    "# Palindrome"
   ]
  },
  {
   "cell_type": "code",
   "execution_count": 5,
   "id": "3f6ea3c1-bbea-421e-afda-9218f1d7e049",
   "metadata": {},
   "outputs": [
    {
     "name": "stdin",
     "output_type": "stream",
     "text": [
      " 1 2 3 4\n"
     ]
    }
   ],
   "source": [
    "nums=list(map(int,input().split(\" \")))"
   ]
  },
  {
   "cell_type": "code",
   "execution_count": 7,
   "id": "0fc0e06c-9f22-4134-99fb-1be74d29c8c3",
   "metadata": {},
   "outputs": [],
   "source": [
    "nums_reverse=nums.copy()"
   ]
  },
  {
   "cell_type": "code",
   "execution_count": 8,
   "id": "043501e9-be29-4e41-ae6a-1a4ed267fcaf",
   "metadata": {},
   "outputs": [],
   "source": [
    "nums_reverse.reverse()"
   ]
  },
  {
   "cell_type": "code",
   "execution_count": 10,
   "id": "8577c640-277d-49c8-8d40-abfb0449795d",
   "metadata": {},
   "outputs": [
    {
     "name": "stdout",
     "output_type": "stream",
     "text": [
      "String is not palindrome\n"
     ]
    }
   ],
   "source": [
    "is_palindrome=True\n",
    "for i in range(len(nums)):\n",
    "    if nums[i]!=nums_reverse[i]:\n",
    "        is_palindrome=False\n",
    "        break\n",
    "if is_palindrome:\n",
    "    print(\"String is palindrome\")\n",
    "else:\n",
    "    print(\"String is not palindrome\")"
   ]
  },
  {
   "cell_type": "code",
   "execution_count": 11,
   "id": "113fb8ec-a43d-4370-8125-1d83fbb9481e",
   "metadata": {},
   "outputs": [
    {
     "name": "stdin",
     "output_type": "stream",
     "text": [
      " 1 2 3 2 1\n"
     ]
    },
    {
     "name": "stdout",
     "output_type": "stream",
     "text": [
      "String is palindrome\n"
     ]
    }
   ],
   "source": [
    "# Approach 2\n",
    "nums=list(map(int,input().split(\" \")))\n",
    "n=len(nums)\n",
    "l_ptr=0\n",
    "r_ptr=len(nums)-1\n",
    "is_palindrome=True\n",
    "while l_ptr<=n/2:\n",
    "    if nums[l_ptr]!=nums[r_ptr]:\n",
    "        is_palindrome=False\n",
    "        break\n",
    "    l_ptr+=1\n",
    "    r_ptr-=1\n",
    "\n",
    "if is_palindrome:\n",
    "    print(\"String is palindrome\")\n",
    "else:\n",
    "    print(\"String is not palindrome\")"
   ]
  },
  {
   "cell_type": "markdown",
   "id": "366645ac-f38d-4873-9170-1f717a5ca965",
   "metadata": {},
   "source": [
    "# Rearrange numbers code"
   ]
  },
  {
   "cell_type": "code",
   "execution_count": 12,
   "id": "362451dc-e428-406a-a948-720ce67bc638",
   "metadata": {},
   "outputs": [
    {
     "name": "stdin",
     "output_type": "stream",
     "text": [
      " 1 2 4 3 3 5 6 7 4 2 9 11 16\n"
     ]
    },
    {
     "name": "stdout",
     "output_type": "stream",
     "text": [
      "[2, 4, 6, 4, 2, 16, 1, 7, 3, 3, 9, 11, 5]\n"
     ]
    }
   ],
   "source": [
    "# Rearranging even number at one place and odd numbers after that\n",
    "arr=list(map(int,input().split(\" \")))\n",
    "def arrange_even_odd(arr1):\n",
    "    first_odd_index=0\n",
    "    for i in range(len(arr1)):\n",
    "        if arr1[i]%2==0:\n",
    "            arr1[i],arr1[first_odd_index]=arr1[first_odd_index],arr1[i]\n",
    "            first_odd_index+=1\n",
    "    return arr1\n",
    "print(arrange_even_odd(arr))"
   ]
  },
  {
   "cell_type": "code",
   "execution_count": 13,
   "id": "49fd65b8-0c6e-4451-a6ab-5aedb1f952ea",
   "metadata": {},
   "outputs": [
    {
     "name": "stdin",
     "output_type": "stream",
     "text": [
      " 1 2 4 5 7 8 9 5\n"
     ]
    },
    {
     "name": "stdout",
     "output_type": "stream",
     "text": [
      "[1, 5, 7, 9, 5, 8, 2, 4]\n"
     ]
    }
   ],
   "source": [
    "arr=list(map(int,input().split(\" \")))\n",
    "def arrange_even_odd(arr1):\n",
    "    first_even_index=0\n",
    "    for i in range(len(arr1)):\n",
    "        if arr1[i]%2!=0:\n",
    "            arr1[i],arr1[first_even_index]=arr1[first_even_index],arr1[i]\n",
    "            first_even_index+=1\n",
    "    return arr1\n",
    "print(arrange_even_odd(arr))"
   ]
  },
  {
   "cell_type": "markdown",
   "id": "f47d0882-1b5a-4da7-9884-2706996ef0a5",
   "metadata": {},
   "source": [
    "# Pair Sum"
   ]
  },
  {
   "cell_type": "code",
   "execution_count": 7,
   "id": "4687fda8-7c4a-4c4a-a518-0b7191ad5194",
   "metadata": {},
   "outputs": [
    {
     "name": "stdout",
     "output_type": "stream",
     "text": [
      "7\n"
     ]
    }
   ],
   "source": [
    "arr=[1,3,6,2,5,4,3,2,4]\n",
    "count=0\n",
    "x=7\n",
    "for i in range(len(arr)):\n",
    "    for j in range(i+1, len(arr)):\n",
    "        if arr[j]+arr[i]==x:\n",
    "            count+=1\n",
    "print(count)"
   ]
  },
  {
   "cell_type": "code",
   "execution_count": 25,
   "id": "6746acf9-1841-421c-83e7-1db54003c991",
   "metadata": {},
   "outputs": [
    {
     "name": "stdout",
     "output_type": "stream",
     "text": [
      "7\n"
     ]
    }
   ],
   "source": [
    "a=[3,7,4,3,4]\n",
    "def sum_of_array(arr):\n",
    "    total=0\n",
    "    for i in arr:\n",
    "        total+=i\n",
    "    return total\n",
    "print((2*sum_of_array(set(a)))-sum_of_array(a))"
   ]
  },
  {
   "cell_type": "code",
   "execution_count": 13,
   "id": "ada35bf4-d01c-4c33-a96f-bf801c620dda",
   "metadata": {},
   "outputs": [
    {
     "name": "stdout",
     "output_type": "stream",
     "text": [
      "[2, 4, 3]\n",
      "[2, 4, 3]\n"
     ]
    }
   ],
   "source": [
    "arr3=[]\n",
    "arr1=[2,6,8,5,4,3]\n",
    "arr2=[2,3,4,7]\n",
    "for i in arr1:\n",
    "    for j in arr2:\n",
    "        if i==j:\n",
    "            arr3.append(i)\n",
    "print(arr3)\n",
    "list(set(arr2) & set(arr1))\n",
    "result = [i for i in arr1 if i in arr2]\n",
    "print(result)"
   ]
  },
  {
   "cell_type": "markdown",
   "id": "2a607b11-b188-4279-8301-66c50f4136f1",
   "metadata": {},
   "source": [
    "## Binary Search"
   ]
  },
  {
   "cell_type": "code",
   "execution_count": 14,
   "id": "9645f43c-f40c-450d-be53-c5cc264cf7b8",
   "metadata": {},
   "outputs": [],
   "source": [
    "def binary_search(array,element,debug=False):\n",
    "    lower_bound=0\n",
    "    upper_bound=len(array)-1\n",
    "    while lower_bound<=upper_bound:\n",
    "        middle=(lower_bound+upper_bound)//2 #integer\n",
    "        if debug:\n",
    "            print(\"Lower Bound\",lower_bound)\n",
    "            print(\"upper Bound\",upper_bound)\n",
    "            print(\"Middle\",middle)\n",
    "        if element==array[middle]:\n",
    "            return \"Your Value is found at middle at index\",middle\n",
    "        elif element<array[middle]: #Lesser condition\n",
    "            #no change in lower bound\n",
    "            upper_bound=middle-1\n",
    "        else:#greater condition\n",
    "            #upper bound remains same\n",
    "            lower_bound=middle+1 \n",
    "    return \"Your element isn't available in the array\""
   ]
  },
  {
   "cell_type": "code",
   "execution_count": 15,
   "id": "006cbadc-33dd-4816-bb54-360036c1866a",
   "metadata": {},
   "outputs": [
    {
     "name": "stdout",
     "output_type": "stream",
     "text": [
      "Lower Bound 0\n",
      "upper Bound 5\n",
      "Middle 2\n",
      "Lower Bound 3\n",
      "upper Bound 5\n",
      "Middle 4\n",
      "Lower Bound 3\n",
      "upper Bound 3\n",
      "Middle 3\n"
     ]
    },
    {
     "data": {
      "text/plain": [
       "('Your Value is found at middle at index', 3)"
      ]
     },
     "execution_count": 15,
     "metadata": {},
     "output_type": "execute_result"
    }
   ],
   "source": [
    "array=[12,34,45,56,67,89]\n",
    "x1=56\n",
    "x2=57\n",
    "binary_search(array,x1,debug=True)"
   ]
  },
  {
   "cell_type": "code",
   "execution_count": 16,
   "id": "976a9e74-dc36-4197-a590-7d065ee1cbc8",
   "metadata": {},
   "outputs": [
    {
     "name": "stdout",
     "output_type": "stream",
     "text": [
      "Lower Bound 0\n",
      "upper Bound 9\n",
      "Middle 4\n"
     ]
    },
    {
     "data": {
      "text/plain": [
       "('Your Value is found at middle at index', 4)"
      ]
     },
     "execution_count": 16,
     "metadata": {},
     "output_type": "execute_result"
    }
   ],
   "source": [
    "array=[12,34,45,56,56,56,56,56,67,89]\n",
    "x1=56\n",
    "x2=57\n",
    "binary_search(array,x1,debug=True)"
   ]
  },
  {
   "cell_type": "code",
   "execution_count": 27,
   "id": "4c808e27-22fa-45d8-826e-9344e1b8fd7c",
   "metadata": {},
   "outputs": [
    {
     "name": "stdout",
     "output_type": "stream",
     "text": [
      "[1, 1, 2, 3, 3, 4, 6]\n"
     ]
    }
   ],
   "source": [
    "ats=[2,1,3,4,1,3,6]\n",
    "for i in range(len(ats)):\n",
    "    min=ats[i]\n",
    "    j=i+1\n",
    "    while j<(len(ats)):\n",
    "        if ats[j]<min:\n",
    "            min=ats[j]\n",
    "            ats[i],ats[j]=ats[j],ats[i]\n",
    "        j+=1\n",
    "print(ats)"
   ]
  },
  {
   "cell_type": "markdown",
   "id": "b9ee737d-c726-4374-adf0-5822306ddd5a",
   "metadata": {},
   "source": [
    "# Selection Sort"
   ]
  },
  {
   "cell_type": "code",
   "execution_count": null,
   "id": "991348e4-8bb5-4e3e-8940-3c67381b163d",
   "metadata": {},
   "outputs": [],
   "source": [
    "def selection_sort(A):\n",
    "    for i in range(len(A)):\n",
    "        min_index=i\n",
    "        for j in range(i+1,len(A)):\n",
    "            if A[j]<A[min_index]:\n",
    "                min_index=j\n",
    "        A[i],A[min_index]=A[min_index],A[i]\n",
    "    return A\n",
    "\n",
    "selection_sort([13,4,9,5,3])"
   ]
  },
  {
   "cell_type": "markdown",
   "id": "bfb44aeb-9ef2-4faf-8c92-4a324c08cc30",
   "metadata": {},
   "source": [
    "## Bubble Sort"
   ]
  },
  {
   "cell_type": "code",
   "execution_count": 30,
   "id": "2f4dcbc1-60b7-4dde-b224-2e82500bd024",
   "metadata": {},
   "outputs": [
    {
     "name": "stdout",
     "output_type": "stream",
     "text": [
      "This is pass - 0\n",
      "The pair is 8 and  5\n",
      "The pair is 8 and  3\n",
      "The pair is 8 and  1\n",
      "This is pass - 1\n",
      "The pair is 5 and  3\n",
      "The pair is 5 and  1\n",
      "This is pass - 2\n",
      "The pair is 3 and  1\n",
      "This is pass - 3\n"
     ]
    },
    {
     "data": {
      "text/plain": [
       "[1, 3, 5, 8]"
      ]
     },
     "execution_count": 30,
     "metadata": {},
     "output_type": "execute_result"
    }
   ],
   "source": [
    "def bubble_sort(a):\n",
    "    for i in range(len(a)):\n",
    "        print(\"This is pass -\",i)\n",
    "        for j in range(len(a)-1):\n",
    "            if a[j]>a[j+1]:\n",
    "                print(\"The pair is\",a[j],\"and \",a[j+1])\n",
    "                a[j],a[j+1]=a[j+1],a[j]\n",
    "    return a\n",
    "\n",
    "bubble_sort([8,5,3,1])"
   ]
  },
  {
   "cell_type": "markdown",
   "id": "b74a33ca-06d0-4c15-9aa7-ae3f136a7d22",
   "metadata": {},
   "source": [
    "## Optimised Bubble sort"
   ]
  },
  {
   "cell_type": "code",
   "execution_count": 31,
   "id": "05f97178-adba-4ce6-8273-841cc318d288",
   "metadata": {},
   "outputs": [
    {
     "data": {
      "text/plain": [
       "[1, 3, 4, 5, 7, 9]"
      ]
     },
     "execution_count": 31,
     "metadata": {},
     "output_type": "execute_result"
    }
   ],
   "source": [
    "def bubble_sort(array):\n",
    "    for i in range(len(array)-1):\n",
    "        for j in range(len(array)-1-i):\n",
    "            if array[j]>array[j+1]:\n",
    "                array[j],array[j+1]=array[j+1],array[j]\n",
    "    return array\n",
    "bubble_sort([9,5,7,3,1,4])"
   ]
  },
  {
   "cell_type": "code",
   "execution_count": null,
   "id": "61582177-6485-4211-b293-cbeffb1d01ea",
   "metadata": {},
   "outputs": [],
   "source": [
    "def bubble_sort(array):\n",
    "    for i in range(len(array)-1):\n",
    "        for j in range(len(array-1-i)):\n",
    "            if arr[j]>z"
   ]
  },
  {
   "cell_type": "markdown",
   "id": "99db6e25-334d-46d5-b585-15c8c906923d",
   "metadata": {},
   "source": [
    "# Insertion Sort"
   ]
  },
  {
   "cell_type": "code",
   "execution_count": 2,
   "id": "44388cfb-d805-4166-9d6c-02d7f7cbc413",
   "metadata": {},
   "outputs": [
    {
     "name": "stdout",
     "output_type": "stream",
     "text": [
      "[1, 3, 5, 8]\n"
     ]
    }
   ],
   "source": [
    "arr=[8,5,3,1]\n",
    "i=1\n",
    "while i<=len(arr)-1:\n",
    "    j=1\n",
    "    while j<=i:\n",
    "        if arr[i-j+1]<arr[i-j]:\n",
    "            arr[i-j+1],arr[i-j]=arr[i-j],arr[i-j+1]\n",
    "        j+=1\n",
    "    i+=1\n",
    "print(arr)"
   ]
  },
  {
   "cell_type": "markdown",
   "id": "851f4258-e03b-4524-a23c-47ed783922e3",
   "metadata": {},
   "source": [
    "# Merging two Sorted arrays"
   ]
  },
  {
   "cell_type": "code",
   "execution_count": 2,
   "id": "43887458-28f7-48b9-a5fe-0412c9545c64",
   "metadata": {},
   "outputs": [
    {
     "name": "stdout",
     "output_type": "stream",
     "text": [
      "[1, 3, 4, 4, 7, 9, 11, 11, 13]\n"
     ]
    }
   ],
   "source": [
    "a1=[1,3,4,7,11]\n",
    "a2=[4,9,11,13]\n",
    "a3=[]\n",
    "i,j=0,0\n",
    "while i<len(a1) and j<len(a2):\n",
    "    if a1[i]<a2[j]:\n",
    "        a3.append(a1[i])\n",
    "        i+=1\n",
    "    else:\n",
    "        a3.append(a2[j])\n",
    "        j+=1\n",
    "while j<len(a2):\n",
    "    a3.append(a2[j])\n",
    "    j+=1\n",
    "while i<len(a1):\n",
    "    a3.append(a1[i])\n",
    "    i+=1\n",
    "print(a3)     "
   ]
  },
  {
   "cell_type": "code",
   "execution_count": 3,
   "id": "df7a7877-24d2-4599-8ab5-9d8ce4c65bfb",
   "metadata": {},
   "outputs": [
    {
     "data": {
      "text/plain": [
       "[1, 3, 4, 4, 7, 9, 11, 11, 13]"
      ]
     },
     "execution_count": 3,
     "metadata": {},
     "output_type": "execute_result"
    }
   ],
   "source": [
    "def mergetwoarray(a1,a2,debug=False):\n",
    "    i,j=0,0\n",
    "    len1,len2=len(a1),len(a2)\n",
    "    new_array=[]\n",
    "    while(i<len1 and j<len2):\n",
    "        if a1[i]<a2[j]:\n",
    "            new_array.append(a1[i])\n",
    "            i=i+1\n",
    "        else:\n",
    "            new_array.append(a2[j])\n",
    "            j=j+1\n",
    "    while(i<len1):\n",
    "        new_array.append(a1[i])\n",
    "        i=i+1\n",
    "    while(j<len2):\n",
    "        new_array.append(a2[j])\n",
    "        j=j+1\n",
    "    return new_array\n",
    "\n",
    "a1=[1,3,4,7,11]\n",
    "a2=[4,9,11,13]\n",
    "mergetwoarray(a1,a2,debug=False)"
   ]
  },
  {
   "cell_type": "code",
   "execution_count": 19,
   "id": "dce2e22d",
   "metadata": {},
   "outputs": [
    {
     "name": "stdout",
     "output_type": "stream",
     "text": [
      "[3, 4, 5, 6, 7, 1, 2]\n"
     ]
    }
   ],
   "source": [
    "b=[1,2,3,4,5,6,7]\n",
    "d=2\n",
    "i=0\n",
    "while i<d:\n",
    "    b.append(b[0])\n",
    "    b.pop(0)\n",
    "    i+=1\n",
    "# j=0\n",
    "# while j<d:\n",
    "#     b.pop(0)\n",
    "#     j+=1\n",
    "print(b)"
   ]
  },
  {
   "cell_type": "code",
   "execution_count": 20,
   "id": "2f190703",
   "metadata": {},
   "outputs": [
    {
     "data": {
      "text/plain": [
       "[6, 7, 1, 2]"
      ]
     },
     "execution_count": 20,
     "metadata": {},
     "output_type": "execute_result"
    }
   ],
   "source": [
    "b[3:]"
   ]
  },
  {
   "cell_type": "code",
   "execution_count": 25,
   "id": "228f1a02",
   "metadata": {},
   "outputs": [],
   "source": [
    "b=[1,2,3,4,5,6,7]\n",
    "d=2"
   ]
  },
  {
   "cell_type": "code",
   "execution_count": 24,
   "id": "a10f5184",
   "metadata": {},
   "outputs": [
    {
     "data": {
      "text/plain": [
       "[3, 4, 5, 6, 7, 1, 2]"
      ]
     },
     "execution_count": 24,
     "metadata": {},
     "output_type": "execute_result"
    }
   ],
   "source": [
    "b[d:]+b[:d]"
   ]
  },
  {
   "cell_type": "code",
   "execution_count": 36,
   "id": "32d15867",
   "metadata": {},
   "outputs": [
    {
     "name": "stdout",
     "output_type": "stream",
     "text": [
      "[4, 3, 2, 1]\n"
     ]
    }
   ],
   "source": [
    "def rev(a):\n",
    "    for i in range(len(a)//2):\n",
    "        n=len(a)\n",
    "        a[i],a[n-i-1]=a[n-i-1],a[i]\n",
    "    return a\n",
    "print(rev([1,2,3,4]))"
   ]
  },
  {
   "cell_type": "code",
   "execution_count": 34,
   "id": "507030f0",
   "metadata": {},
   "outputs": [
    {
     "data": {
      "text/plain": [
       "2"
      ]
     },
     "execution_count": 34,
     "metadata": {},
     "output_type": "execute_result"
    }
   ],
   "source": [
    "5//2"
   ]
  },
  {
   "cell_type": "markdown",
   "id": "8ee2364a",
   "metadata": {},
   "source": [
    "## Rotation of array"
   ]
  },
  {
   "cell_type": "code",
   "execution_count": 37,
   "id": "4f72e91f",
   "metadata": {},
   "outputs": [],
   "source": [
    "def rotate(arr, n, d):\n",
    "    if n!=0:\n",
    "        d=d%n\n",
    "    # Reversing the entire list\n",
    "    for i in range(n//2):\n",
    "        arr[i],arr[n-i-1]=arr[n-i-1],arr[i]\n",
    "    # Reversing 1&t part n-d elements\n",
    "    for i in range((n-d)//2):\n",
    "        arr[i],arr[n-d-i-1]=arr[n-d-i-1],arr[i]\n",
    "    # Reversing 2nd part d elements\n",
    "    for i in range(d//2):\n",
    "        arr[n-d+i],arr[n-i-1]=arr[n-i-1],arr[n-d+i]\n",
    "    return arr"
   ]
  },
  {
   "cell_type": "code",
   "execution_count": 38,
   "id": "1c434166",
   "metadata": {},
   "outputs": [
    {
     "data": {
      "text/plain": [
       "[12, 17, 1, 3, 6, 11]"
      ]
     },
     "execution_count": 38,
     "metadata": {},
     "output_type": "execute_result"
    }
   ],
   "source": [
    "rotate([1,3,6,11,12,17],6,4)"
   ]
  },
  {
   "cell_type": "markdown",
   "id": "c7c734af-97ef-4507-b40b-93c9902d5eeb",
   "metadata": {},
   "source": [
    "## Strings"
   ]
  },
  {
   "cell_type": "code",
   "execution_count": 1,
   "id": "5eb9beeb-619b-4fdb-96a4-72394cc240dc",
   "metadata": {},
   "outputs": [
    {
     "name": "stdout",
     "output_type": "stream",
     "text": [
      "Parikh\n"
     ]
    }
   ],
   "source": [
    "s=\"Parikh\"\n",
    "print(s)"
   ]
  },
  {
   "cell_type": "code",
   "execution_count": 2,
   "id": "c4fd6484-868c-49e8-a890-bc88dc0ae5c7",
   "metadata": {},
   "outputs": [
    {
     "name": "stdout",
     "output_type": "stream",
     "text": [
      "Parikh\n"
     ]
    }
   ],
   "source": [
    "s='Parikh'\n",
    "s='''Parikh'''\n",
    "print(s)"
   ]
  },
  {
   "cell_type": "code",
   "execution_count": 3,
   "id": "6a0ebd05-edd3-46fb-a344-9567d42b663c",
   "metadata": {},
   "outputs": [
    {
     "ename": "SyntaxError",
     "evalue": "unterminated string literal (detected at line 1) (2004380269.py, line 1)",
     "output_type": "error",
     "traceback": [
      "\u001b[1;36m  Cell \u001b[1;32mIn[3], line 1\u001b[1;36m\u001b[0m\n\u001b[1;33m    s=\"My\u001b[0m\n\u001b[1;37m      ^\u001b[0m\n\u001b[1;31mSyntaxError\u001b[0m\u001b[1;31m:\u001b[0m unterminated string literal (detected at line 1)\n"
     ]
    }
   ],
   "source": [
    "s=\"My\n",
    "Name Is Parikh\"\n",
    "print(s)"
   ]
  },
  {
   "cell_type": "code",
   "execution_count": 4,
   "id": "49624b7a-5628-48bd-b60b-0a8096e0fa38",
   "metadata": {},
   "outputs": [
    {
     "name": "stdout",
     "output_type": "stream",
     "text": [
      "My\n",
      "Name Is Parikh\n",
      "\n"
     ]
    }
   ],
   "source": [
    "s='''My\n",
    "Name Is Parikh\n",
    "'''\n",
    "print(s)"
   ]
  },
  {
   "cell_type": "code",
   "execution_count": 8,
   "id": "4e714e00-0f84-49d6-b54f-eb8a1d4d8ff0",
   "metadata": {},
   "outputs": [
    {
     "name": "stdout",
     "output_type": "stream",
     "text": [
      "P\n",
      "a\n"
     ]
    }
   ],
   "source": [
    "s=\"Parikh\"\n",
    "print(s[0])\n",
    "print(s[1])"
   ]
  },
  {
   "cell_type": "code",
   "execution_count": 9,
   "id": "030967e1-81e8-41f0-8265-4a265f25729d",
   "metadata": {},
   "outputs": [
    {
     "ename": "IndexError",
     "evalue": "string index out of range",
     "output_type": "error",
     "traceback": [
      "\u001b[1;31m---------------------------------------------------------------------------\u001b[0m",
      "\u001b[1;31mIndexError\u001b[0m                                Traceback (most recent call last)",
      "Cell \u001b[1;32mIn[9], line 1\u001b[0m\n\u001b[1;32m----> 1\u001b[0m \u001b[38;5;28mprint\u001b[39m(\u001b[43ms\u001b[49m\u001b[43m[\u001b[49m\u001b[38;5;241;43m9\u001b[39;49m\u001b[43m]\u001b[49m)\n",
      "\u001b[1;31mIndexError\u001b[0m: string index out of range"
     ]
    }
   ],
   "source": [
    "print(s[9])"
   ]
  },
  {
   "cell_type": "code",
   "execution_count": 11,
   "id": "1cb398a8-4a31-4892-823f-175e89932bee",
   "metadata": {},
   "outputs": [
    {
     "name": "stdout",
     "output_type": "stream",
     "text": [
      "h\n",
      "k\n"
     ]
    }
   ],
   "source": [
    "print(s[-1])\n",
    "print(s[-2])"
   ]
  },
  {
   "cell_type": "code",
   "execution_count": 12,
   "id": "9efa91d5-4c70-4a23-a52e-3ac167794771",
   "metadata": {},
   "outputs": [
    {
     "ename": "IndexError",
     "evalue": "string index out of range",
     "output_type": "error",
     "traceback": [
      "\u001b[1;31m---------------------------------------------------------------------------\u001b[0m",
      "\u001b[1;31mIndexError\u001b[0m                                Traceback (most recent call last)",
      "Cell \u001b[1;32mIn[12], line 1\u001b[0m\n\u001b[1;32m----> 1\u001b[0m \u001b[38;5;28mprint\u001b[39m(\u001b[43ms\u001b[49m\u001b[43m[\u001b[49m\u001b[38;5;241;43m-\u001b[39;49m\u001b[38;5;241;43m9\u001b[39;49m\u001b[43m]\u001b[49m)\n",
      "\u001b[1;31mIndexError\u001b[0m: string index out of range"
     ]
    }
   ],
   "source": [
    "print(s[-9])"
   ]
  },
  {
   "cell_type": "code",
   "execution_count": 13,
   "id": "17a938b2-4d04-4f86-9362-0b9b41fc2093",
   "metadata": {},
   "outputs": [],
   "source": [
    "s='''My\n",
    "Name Is Parikh\n",
    "'''"
   ]
  },
  {
   "cell_type": "code",
   "execution_count": 16,
   "id": "5365f3dd-f495-4e51-a24f-d9a799cb1cf1",
   "metadata": {},
   "outputs": [
    {
     "name": "stdout",
     "output_type": "stream",
     "text": [
      "M\n",
      "\n",
      "\n",
      "My\n",
      "Name Is Parikh\n",
      "\n"
     ]
    }
   ],
   "source": [
    "print(s[0])\n",
    "print(s[2])  #space\n",
    "print(s)"
   ]
  },
  {
   "cell_type": "markdown",
   "id": "115fd427-da84-4d90-9f12-e23320529e01",
   "metadata": {},
   "source": [
    "## How strings are stored "
   ]
  },
  {
   "cell_type": "code",
   "execution_count": 17,
   "id": "a0a917e8-1d13-4f4e-9172-e11a5ea10c53",
   "metadata": {},
   "outputs": [],
   "source": [
    "s=\"parikh\""
   ]
  },
  {
   "cell_type": "code",
   "execution_count": 18,
   "id": "8f3f2ced-3ef7-4af6-9a2f-44e365d34f5d",
   "metadata": {},
   "outputs": [
    {
     "data": {
      "text/plain": [
       "1680333897456"
      ]
     },
     "execution_count": 18,
     "metadata": {},
     "output_type": "execute_result"
    }
   ],
   "source": [
    "id(s)"
   ]
  },
  {
   "cell_type": "code",
   "execution_count": 21,
   "id": "5624e755-05a7-4f60-a05e-ca1900d220ac",
   "metadata": {},
   "outputs": [],
   "source": [
    "a=\"rohan\""
   ]
  },
  {
   "cell_type": "code",
   "execution_count": 22,
   "id": "17056b2a-1687-4de7-8391-9d4eaf511fdb",
   "metadata": {},
   "outputs": [
    {
     "data": {
      "text/plain": [
       "1680334064624"
      ]
     },
     "execution_count": 22,
     "metadata": {},
     "output_type": "execute_result"
    }
   ],
   "source": [
    "id(a)"
   ]
  },
  {
   "cell_type": "code",
   "execution_count": 23,
   "id": "a77da5a1-4fde-4de2-9c70-39c559cd3b3b",
   "metadata": {},
   "outputs": [],
   "source": [
    "a=\"parikh\""
   ]
  },
  {
   "cell_type": "code",
   "execution_count": 24,
   "id": "c35177a8-0d3a-4dba-8121-8d58e7388a93",
   "metadata": {},
   "outputs": [
    {
     "data": {
      "text/plain": [
       "1680333897456"
      ]
     },
     "execution_count": 24,
     "metadata": {},
     "output_type": "execute_result"
    }
   ],
   "source": [
    "id(a)"
   ]
  },
  {
   "cell_type": "code",
   "execution_count": 25,
   "id": "265e7f61-4377-4366-a419-c99d8406a557",
   "metadata": {},
   "outputs": [
    {
     "data": {
      "text/plain": [
       "1680333897456"
      ]
     },
     "execution_count": 25,
     "metadata": {},
     "output_type": "execute_result"
    }
   ],
   "source": [
    "id(s)"
   ]
  },
  {
   "cell_type": "markdown",
   "id": "d03a2a64-605f-4779-b727-4deb324f2805",
   "metadata": {},
   "source": [
    "# Strings are immutable in python"
   ]
  },
  {
   "cell_type": "code",
   "execution_count": 27,
   "id": "cd12264f-870e-48db-803c-574f60b2ddb4",
   "metadata": {},
   "outputs": [],
   "source": [
    "a=\"Parikh\""
   ]
  },
  {
   "cell_type": "code",
   "execution_count": 29,
   "id": "dd6d85e7-60f3-46ed-8f82-50cba8ec3f07",
   "metadata": {},
   "outputs": [
    {
     "ename": "TypeError",
     "evalue": "'str' object does not support item assignment",
     "output_type": "error",
     "traceback": [
      "\u001b[1;31m---------------------------------------------------------------------------\u001b[0m",
      "\u001b[1;31mTypeError\u001b[0m                                 Traceback (most recent call last)",
      "Cell \u001b[1;32mIn[29], line 1\u001b[0m\n\u001b[1;32m----> 1\u001b[0m a[\u001b[38;5;241m0\u001b[39m]\u001b[38;5;241m=\u001b[39m\u001b[38;5;124m'\u001b[39m\u001b[38;5;124mk\u001b[39m\u001b[38;5;124m'\u001b[39m\n",
      "\u001b[1;31mTypeError\u001b[0m: 'str' object does not support item assignment"
     ]
    }
   ],
   "source": [
    "a[0]='k'"
   ]
  },
  {
   "cell_type": "code",
   "execution_count": 30,
   "id": "c6995872-4042-4b9a-af42-ef6fd5346a72",
   "metadata": {},
   "outputs": [],
   "source": [
    "a=\"karikh\" #possible"
   ]
  },
  {
   "cell_type": "markdown",
   "id": "90554347-54ba-4856-8aab-ebb4b830cf4f",
   "metadata": {},
   "source": [
    "## Concatenation of string"
   ]
  },
  {
   "cell_type": "code",
   "execution_count": 32,
   "id": "be402b9c-5414-4905-9ae9-8786c46c8091",
   "metadata": {},
   "outputs": [
    {
     "data": {
      "text/plain": [
       "'red'"
      ]
     },
     "execution_count": 32,
     "metadata": {},
     "output_type": "execute_result"
    }
   ],
   "source": [
    "a=\"red\"\n",
    "a"
   ]
  },
  {
   "cell_type": "code",
   "execution_count": 33,
   "id": "960e8e68-f626-4b1f-a142-3bdd9dda32a3",
   "metadata": {},
   "outputs": [
    {
     "data": {
      "text/plain": [
       "'redblue'"
      ]
     },
     "execution_count": 33,
     "metadata": {},
     "output_type": "execute_result"
    }
   ],
   "source": [
    "a=a+ \"blue\"\n",
    "a"
   ]
  },
  {
   "cell_type": "code",
   "execution_count": 34,
   "id": "04818843-9cf4-4c6f-8ef1-617f8fe20499",
   "metadata": {},
   "outputs": [
    {
     "data": {
      "text/plain": [
       "'redbluebluegreen'"
      ]
     },
     "execution_count": 34,
     "metadata": {},
     "output_type": "execute_result"
    }
   ],
   "source": [
    "a=a+\"blue\"+\"green\"\n",
    "a"
   ]
  },
  {
   "cell_type": "code",
   "execution_count": 35,
   "id": "402bd828-47ab-4901-a321-01b211fab4e6",
   "metadata": {},
   "outputs": [
    {
     "data": {
      "text/plain": [
       "'redbluebluegreenred'"
      ]
     },
     "execution_count": 35,
     "metadata": {},
     "output_type": "execute_result"
    }
   ],
   "source": [
    "a+=\"red\"\n",
    "a"
   ]
  },
  {
   "cell_type": "code",
   "execution_count": 36,
   "id": "521e3584-7ef9-4fb9-81ad-b8790f5ba597",
   "metadata": {},
   "outputs": [
    {
     "data": {
      "text/plain": [
       "1680334466832"
      ]
     },
     "execution_count": 36,
     "metadata": {},
     "output_type": "execute_result"
    }
   ],
   "source": [
    "id(a)"
   ]
  },
  {
   "cell_type": "code",
   "execution_count": 37,
   "id": "6d37bef8-f1f1-4820-9a41-d9f1481ff662",
   "metadata": {},
   "outputs": [
    {
     "data": {
      "text/plain": [
       "1680303744512"
      ]
     },
     "execution_count": 37,
     "metadata": {},
     "output_type": "execute_result"
    }
   ],
   "source": [
    "a+=\"yellow\"\n",
    "id(a)"
   ]
  },
  {
   "cell_type": "code",
   "execution_count": 38,
   "id": "d38095b3-7d5a-4029-8a8d-190ecf2b44e8",
   "metadata": {},
   "outputs": [
    {
     "data": {
      "text/plain": [
       "'blueblueblue'"
      ]
     },
     "execution_count": 38,
     "metadata": {},
     "output_type": "execute_result"
    }
   ],
   "source": [
    "a=\"blue\"\n",
    "a=a*3\n",
    "a"
   ]
  },
  {
   "cell_type": "code",
   "execution_count": 39,
   "id": "a7b1723c-edd6-4661-9a5e-8ec525df94a0",
   "metadata": {},
   "outputs": [
    {
     "data": {
      "text/plain": [
       "'blueblueblueblueblueblueblueblueblue'"
      ]
     },
     "execution_count": 39,
     "metadata": {},
     "output_type": "execute_result"
    }
   ],
   "source": [
    "a=a*3\n",
    "a"
   ]
  },
  {
   "cell_type": "code",
   "execution_count": 40,
   "id": "a6379fa0-3644-41ff-85fb-7cd6cacc3449",
   "metadata": {},
   "outputs": [
    {
     "data": {
      "text/plain": [
       "'blueblueblueblueblueblueblueblueblue'"
      ]
     },
     "execution_count": 40,
     "metadata": {},
     "output_type": "execute_result"
    }
   ],
   "source": [
    "a=a*1\n",
    "a"
   ]
  },
  {
   "cell_type": "code",
   "execution_count": 41,
   "id": "5bde1279-b1aa-47d3-b052-f5f7f3ae29ad",
   "metadata": {},
   "outputs": [
    {
     "data": {
      "text/plain": [
       "'blueblueblueblueblueblueblueblueblueblueblueblueblueblueblueblueblueblue'"
      ]
     },
     "execution_count": 41,
     "metadata": {},
     "output_type": "execute_result"
    }
   ],
   "source": [
    "a=a*2\n",
    "a"
   ]
  },
  {
   "cell_type": "code",
   "execution_count": 42,
   "id": "9c3847d0-b53c-4ba0-ae39-85522ce82cf5",
   "metadata": {},
   "outputs": [
    {
     "data": {
      "text/plain": [
       "1680334105008"
      ]
     },
     "execution_count": 42,
     "metadata": {},
     "output_type": "execute_result"
    }
   ],
   "source": [
    "id(a)"
   ]
  },
  {
   "cell_type": "code",
   "execution_count": 43,
   "id": "d1a32e26-a2f8-48ce-a1c6-48f767af489b",
   "metadata": {},
   "outputs": [
    {
     "ename": "TypeError",
     "evalue": "can only concatenate str (not \"int\") to str",
     "output_type": "error",
     "traceback": [
      "\u001b[1;31m---------------------------------------------------------------------------\u001b[0m",
      "\u001b[1;31mTypeError\u001b[0m                                 Traceback (most recent call last)",
      "Cell \u001b[1;32mIn[43], line 2\u001b[0m\n\u001b[0;32m      1\u001b[0m a\u001b[38;5;241m=\u001b[39m\u001b[38;5;124m\"\u001b[39m\u001b[38;5;124mred\u001b[39m\u001b[38;5;124m\"\u001b[39m\n\u001b[1;32m----> 2\u001b[0m a\u001b[38;5;241m=\u001b[39m\u001b[43ma\u001b[49m\u001b[38;5;241;43m+\u001b[39;49m\u001b[38;5;241;43m3\u001b[39;49m\n",
      "\u001b[1;31mTypeError\u001b[0m: can only concatenate str (not \"int\") to str"
     ]
    }
   ],
   "source": [
    "a=\"red\"\n",
    "a=a+3"
   ]
  },
  {
   "cell_type": "code",
   "execution_count": 44,
   "id": "f1220808-268d-4748-bfba-af53fd6f12e8",
   "metadata": {},
   "outputs": [
    {
     "data": {
      "text/plain": [
       "'red3'"
      ]
     },
     "execution_count": 44,
     "metadata": {},
     "output_type": "execute_result"
    }
   ],
   "source": [
    "a=a+str(3)\n",
    "a"
   ]
  },
  {
   "cell_type": "markdown",
   "id": "7d3db290-a9e5-4657-8e58-2e76840ed324",
   "metadata": {},
   "source": [
    "## Slicing of strings"
   ]
  },
  {
   "cell_type": "code",
   "execution_count": 45,
   "id": "45ae6633-25df-469b-8cd7-b90ab7d4e23f",
   "metadata": {},
   "outputs": [],
   "source": [
    "s=\"Parikh\""
   ]
  },
  {
   "cell_type": "code",
   "execution_count": 46,
   "id": "2684c904-1df7-48df-ad45-ac0b6add3786",
   "metadata": {},
   "outputs": [
    {
     "data": {
      "text/plain": [
       "'ari'"
      ]
     },
     "execution_count": 46,
     "metadata": {},
     "output_type": "execute_result"
    }
   ],
   "source": [
    "s[1:4]"
   ]
  },
  {
   "cell_type": "code",
   "execution_count": 47,
   "id": "5909098f-1e9c-4221-b90a-7c38c6edb794",
   "metadata": {},
   "outputs": [
    {
     "data": {
      "text/plain": [
       "'ai'"
      ]
     },
     "execution_count": 47,
     "metadata": {},
     "output_type": "execute_result"
    }
   ],
   "source": [
    "s[1:4:2]"
   ]
  },
  {
   "cell_type": "code",
   "execution_count": 48,
   "id": "98fdec55-9fbc-4025-8497-e6e43ea75bb0",
   "metadata": {},
   "outputs": [
    {
     "data": {
      "text/plain": [
       "''"
      ]
     },
     "execution_count": 48,
     "metadata": {},
     "output_type": "execute_result"
    }
   ],
   "source": [
    "s[6:4]"
   ]
  },
  {
   "cell_type": "code",
   "execution_count": 49,
   "id": "13aea96f-77a8-496f-899e-c266ab182640",
   "metadata": {},
   "outputs": [
    {
     "data": {
      "text/plain": [
       "'h'"
      ]
     },
     "execution_count": 49,
     "metadata": {},
     "output_type": "execute_result"
    }
   ],
   "source": [
    "s[-1]"
   ]
  },
  {
   "cell_type": "code",
   "execution_count": 50,
   "id": "c2264ba5-9e61-4164-8896-bd16ca3883e3",
   "metadata": {},
   "outputs": [
    {
     "data": {
      "text/plain": [
       "'ar'"
      ]
     },
     "execution_count": 50,
     "metadata": {},
     "output_type": "execute_result"
    }
   ],
   "source": [
    "s[-5:-3]"
   ]
  },
  {
   "cell_type": "code",
   "execution_count": 51,
   "id": "033638f6-7cdb-4d6a-8ebd-17b21524d786",
   "metadata": {},
   "outputs": [
    {
     "data": {
      "text/plain": [
       "'Pari'"
      ]
     },
     "execution_count": 51,
     "metadata": {},
     "output_type": "execute_result"
    }
   ],
   "source": [
    "s[:4]"
   ]
  },
  {
   "cell_type": "code",
   "execution_count": 52,
   "id": "05b08f2b-f6af-408c-9462-c18104aed627",
   "metadata": {},
   "outputs": [
    {
     "data": {
      "text/plain": [
       "'arikh'"
      ]
     },
     "execution_count": 52,
     "metadata": {},
     "output_type": "execute_result"
    }
   ],
   "source": [
    "s[1:9]"
   ]
  },
  {
   "cell_type": "code",
   "execution_count": 53,
   "id": "15d56476-6bc7-44a0-a689-fa449e82b3b1",
   "metadata": {},
   "outputs": [
    {
     "data": {
      "text/plain": [
       "'kir'"
      ]
     },
     "execution_count": 53,
     "metadata": {},
     "output_type": "execute_result"
    }
   ],
   "source": [
    "s[4:1:-1]"
   ]
  },
  {
   "cell_type": "code",
   "execution_count": 54,
   "id": "b627d575-19f0-44da-8ef0-ca52d0d9a802",
   "metadata": {},
   "outputs": [
    {
     "data": {
      "text/plain": [
       "'hkiraP'"
      ]
     },
     "execution_count": 54,
     "metadata": {},
     "output_type": "execute_result"
    }
   ],
   "source": [
    "s[5::-1]"
   ]
  },
  {
   "cell_type": "code",
   "execution_count": 55,
   "id": "ef166702-d5c3-4ec8-871e-0843e2408f28",
   "metadata": {},
   "outputs": [
    {
     "data": {
      "text/plain": [
       "'hki'"
      ]
     },
     "execution_count": 55,
     "metadata": {},
     "output_type": "execute_result"
    }
   ],
   "source": [
    "s[:2:-1]"
   ]
  },
  {
   "cell_type": "code",
   "execution_count": 56,
   "id": "d8835123-ef1d-4968-ad19-a4f623aa3a26",
   "metadata": {},
   "outputs": [
    {
     "data": {
      "text/plain": [
       "'hkiraP'"
      ]
     },
     "execution_count": 56,
     "metadata": {},
     "output_type": "execute_result"
    }
   ],
   "source": [
    "s=s[5::-1]\n",
    "s"
   ]
  },
  {
   "cell_type": "code",
   "execution_count": 57,
   "id": "b038d1f7-7e70-46ae-b5a5-ed09488bb5b9",
   "metadata": {},
   "outputs": [
    {
     "data": {
      "text/plain": [
       "'hkiraP'"
      ]
     },
     "execution_count": 57,
     "metadata": {},
     "output_type": "execute_result"
    }
   ],
   "source": [
    "s[5:2:-2]\n",
    "s"
   ]
  },
  {
   "cell_type": "markdown",
   "id": "dfc76771",
   "metadata": {},
   "source": [
    "## Iterating on strings"
   ]
  },
  {
   "cell_type": "code",
   "execution_count": 1,
   "id": "b4edcef9",
   "metadata": {},
   "outputs": [
    {
     "name": "stdout",
     "output_type": "stream",
     "text": [
      "3\n"
     ]
    }
   ],
   "source": [
    "str=\"Hello World\"\n",
    "count=0\n",
    "for letter in str:#on each character of string\n",
    "    if letter=='l':\n",
    "        count=count+1\n",
    "print(count)"
   ]
  },
  {
   "cell_type": "code",
   "execution_count": 2,
   "id": "824ae0c6",
   "metadata": {},
   "outputs": [
    {
     "name": "stdout",
     "output_type": "stream",
     "text": [
      "3\n"
     ]
    }
   ],
   "source": [
    "count=0\n",
    "for i in range(len(str)):#index wise\n",
    "    if(str[i]=='l'):\n",
    "        count=count+1\n",
    "print(count)"
   ]
  },
  {
   "cell_type": "code",
   "execution_count": 3,
   "id": "383cc540",
   "metadata": {},
   "outputs": [
    {
     "name": "stdout",
     "output_type": "stream",
     "text": [
      "Yes it is a substring\n"
     ]
    }
   ],
   "source": [
    "str=\"hello\"\n",
    "\n",
    "if 'hel' in str:\n",
    "    print(\"Yes it is a substring\")\n",
    "else:\n",
    "    print(\"Not a substring\")"
   ]
  },
  {
   "cell_type": "code",
   "execution_count": 4,
   "id": "da707a9d",
   "metadata": {},
   "outputs": [
    {
     "name": "stdout",
     "output_type": "stream",
     "text": [
      "Not a substring\n"
     ]
    }
   ],
   "source": [
    "if 'heo' in str:\n",
    "    print(\"Yes it is a substring\")\n",
    "else:\n",
    "    print(\"Not a substring\")"
   ]
  },
  {
   "cell_type": "code",
   "execution_count": 5,
   "id": "b0d301f0",
   "metadata": {},
   "outputs": [
    {
     "name": "stdout",
     "output_type": "stream",
     "text": [
      "Yes it is not a substring\n"
     ]
    }
   ],
   "source": [
    "if 'heo' not in str:\n",
    "    print(\"Yes it is not a substring\")\n",
    "else:\n",
    "    print(\"Not a substring\")"
   ]
  },
  {
   "cell_type": "markdown",
   "id": "1fc785d7",
   "metadata": {},
   "source": [
    "## Comparision operator on strings"
   ]
  },
  {
   "cell_type": "markdown",
   "id": "011775ae",
   "metadata": {},
   "source": [
    "### Compared based on ASCII values"
   ]
  },
  {
   "cell_type": "code",
   "execution_count": 7,
   "id": "31bc7f44",
   "metadata": {},
   "outputs": [
    {
     "data": {
      "text/plain": [
       "True"
      ]
     },
     "execution_count": 7,
     "metadata": {},
     "output_type": "execute_result"
    }
   ],
   "source": [
    "a=\"Parikh\" == \"Parikh\"\n",
    "a"
   ]
  },
  {
   "cell_type": "code",
   "execution_count": 9,
   "id": "4ccee2fa",
   "metadata": {},
   "outputs": [
    {
     "data": {
      "text/plain": [
       "True"
      ]
     },
     "execution_count": 9,
     "metadata": {},
     "output_type": "execute_result"
    }
   ],
   "source": [
    "a=\"Rarikh\" >= \"Parikh\"\n",
    "a"
   ]
  },
  {
   "cell_type": "code",
   "execution_count": 10,
   "id": "e28e2aac",
   "metadata": {},
   "outputs": [
    {
     "data": {
      "text/plain": [
       "True"
      ]
     },
     "execution_count": 10,
     "metadata": {},
     "output_type": "execute_result"
    }
   ],
   "source": [
    "a=\"Pbrikh\" >=\"Parikh\"\n",
    "a"
   ]
  },
  {
   "cell_type": "code",
   "execution_count": 11,
   "id": "bc37cf09",
   "metadata": {},
   "outputs": [
    {
     "data": {
      "text/plain": [
       "True"
      ]
     },
     "execution_count": 11,
     "metadata": {},
     "output_type": "execute_result"
    }
   ],
   "source": [
    "a=\"parikh\" >= \"parikh\"\n",
    "a"
   ]
  },
  {
   "cell_type": "code",
   "execution_count": 12,
   "id": "447db921",
   "metadata": {},
   "outputs": [
    {
     "data": {
      "text/plain": [
       "False"
      ]
     },
     "execution_count": 12,
     "metadata": {},
     "output_type": "execute_result"
    }
   ],
   "source": [
    "a=\"par\" >= \"parikh\"\n",
    "a"
   ]
  },
  {
   "cell_type": "code",
   "execution_count": 13,
   "id": "6d9d20a3",
   "metadata": {},
   "outputs": [
    {
     "data": {
      "text/plain": [
       "True"
      ]
     },
     "execution_count": 13,
     "metadata": {},
     "output_type": "execute_result"
    }
   ],
   "source": [
    "\"parikh\" >= \"par\""
   ]
  },
  {
   "cell_type": "code",
   "execution_count": 14,
   "id": "b5e13854",
   "metadata": {},
   "outputs": [
    {
     "data": {
      "text/plain": [
       "True"
      ]
     },
     "execution_count": 14,
     "metadata": {},
     "output_type": "execute_result"
    }
   ],
   "source": [
    "\"parikh\" >= \"parikh\""
   ]
  },
  {
   "cell_type": "code",
   "execution_count": 15,
   "id": "5d2dbf22",
   "metadata": {},
   "outputs": [
    {
     "data": {
      "text/plain": [
       "False"
      ]
     },
     "execution_count": 15,
     "metadata": {},
     "output_type": "execute_result"
    }
   ],
   "source": [
    "\"parikh\" > \"parikh\""
   ]
  },
  {
   "cell_type": "code",
   "execution_count": 16,
   "id": "e2d7b26d",
   "metadata": {},
   "outputs": [
    {
     "data": {
      "text/plain": [
       "False"
      ]
     },
     "execution_count": 16,
     "metadata": {},
     "output_type": "execute_result"
    }
   ],
   "source": [
    "\"parikh\" != \"parikh\""
   ]
  },
  {
   "cell_type": "code",
   "execution_count": 17,
   "id": "672661eb",
   "metadata": {},
   "outputs": [
    {
     "data": {
      "text/plain": [
       "True"
      ]
     },
     "execution_count": 17,
     "metadata": {},
     "output_type": "execute_result"
    }
   ],
   "source": [
    "\"par\" != \"parikh\""
   ]
  },
  {
   "cell_type": "markdown",
   "id": "aeb02e1a",
   "metadata": {},
   "source": [
    "## Operations on strings"
   ]
  },
  {
   "cell_type": "code",
   "execution_count": 18,
   "id": "7c6a6fc0",
   "metadata": {},
   "outputs": [
    {
     "name": "stdout",
     "output_type": "stream",
     "text": [
      "['My', 'Name', 'Is', 'Parikh']\n"
     ]
    }
   ],
   "source": [
    "str=\"My Name Is Parikh\"\n",
    "li=str.split()#Return a list of strings\n",
    "print(li)"
   ]
  },
  {
   "cell_type": "code",
   "execution_count": 19,
   "id": "26d8a5fc",
   "metadata": {},
   "outputs": [
    {
     "name": "stdout",
     "output_type": "stream",
     "text": [
      "['My', 'Name', ' Is', ' Parikh']\n"
     ]
    }
   ],
   "source": [
    "str=\"My,Name, Is, Parikh\"\n",
    "li=str.split(',')#delimiter\n",
    "print(li)"
   ]
  },
  {
   "cell_type": "code",
   "execution_count": 20,
   "id": "bf0c09c4",
   "metadata": {},
   "outputs": [
    {
     "name": "stdout",
     "output_type": "stream",
     "text": [
      "['My', 'Name, Is, Parikh']\n"
     ]
    }
   ],
   "source": [
    "str=\"My,Name, Is, Parikh\"\n",
    "li=str.split(',',1)\n",
    "print(li)"
   ]
  },
  {
   "cell_type": "code",
   "execution_count": 21,
   "id": "42c4c6c5",
   "metadata": {},
   "outputs": [
    {
     "name": "stdout",
     "output_type": "stream",
     "text": [
      "['My', 'Name', ' Is, Parikh']\n"
     ]
    }
   ],
   "source": [
    "str=\"My,Name, Is, Parikh\"\n",
    "li=str.split(',',2)\n",
    "print(li)"
   ]
  },
  {
   "cell_type": "code",
   "execution_count": 22,
   "id": "187a6ed5",
   "metadata": {},
   "outputs": [
    {
     "name": "stdout",
     "output_type": "stream",
     "text": [
      "My Name Is Rohan\n"
     ]
    }
   ],
   "source": [
    "str=\"My Name Is Parikh\"\n",
    "str=str.replace(\"Parikh\",\"Rohan\")\n",
    "print(str)"
   ]
  },
  {
   "cell_type": "code",
   "execution_count": 23,
   "id": "ffe2a614",
   "metadata": {},
   "outputs": [
    {
     "name": "stdout",
     "output_type": "stream",
     "text": [
      "My Name Is Parikh\n"
     ]
    }
   ],
   "source": [
    "str=\"My Name Is Parikh\"\n",
    "str=str.replace(\"Which\",\"Rohan\")\n",
    "print(str)"
   ]
  },
  {
   "cell_type": "code",
   "execution_count": 24,
   "id": "7f23688f",
   "metadata": {},
   "outputs": [
    {
     "name": "stdout",
     "output_type": "stream",
     "text": [
      "My Name Is Rohan Rohan Parikh\n"
     ]
    }
   ],
   "source": [
    "str=\"My Name Is Parikh Parikh Parikh\"\n",
    "str=str.replace(\"Parikh\",\"Rohan\",2)\n",
    "print(str)"
   ]
  },
  {
   "cell_type": "code",
   "execution_count": 25,
   "id": "06bdcb3e",
   "metadata": {},
   "outputs": [
    {
     "name": "stdout",
     "output_type": "stream",
     "text": [
      "My Name Is Rohan Rohan Parikh\n"
     ]
    }
   ],
   "source": [
    "str=\"My Name Is Parikh Parikh Parikh\"\n",
    "str=str.replace(\"Parikh\",\"Rohan\",2)\n",
    "print(str)"
   ]
  },
  {
   "cell_type": "code",
   "execution_count": 26,
   "id": "be6bb221",
   "metadata": {},
   "outputs": [
    {
     "name": "stdout",
     "output_type": "stream",
     "text": [
      "3\n"
     ]
    }
   ],
   "source": [
    "str=\"My Name Is Parikh\"\n",
    "index=str.find(\"Na\")\n",
    "print(index)"
   ]
  },
  {
   "cell_type": "code",
   "execution_count": 27,
   "id": "61b9b41a",
   "metadata": {},
   "outputs": [
    {
     "name": "stdout",
     "output_type": "stream",
     "text": [
      "-1\n"
     ]
    }
   ],
   "source": [
    "str=\"My Name Is Parikh\"\n",
    "index=str.find(\"Nae\")\n",
    "print(index)"
   ]
  },
  {
   "cell_type": "code",
   "execution_count": 28,
   "id": "987073d8",
   "metadata": {},
   "outputs": [
    {
     "name": "stdout",
     "output_type": "stream",
     "text": [
      "11\n"
     ]
    }
   ],
   "source": [
    "str=\"My Name Is Parikh Parikh\"\n",
    "index=str.find(\"Par\")\n",
    "print(index)"
   ]
  },
  {
   "cell_type": "code",
   "execution_count": 29,
   "id": "170a25a6",
   "metadata": {},
   "outputs": [
    {
     "name": "stdout",
     "output_type": "stream",
     "text": [
      "18\n"
     ]
    }
   ],
   "source": [
    "str=\"My Name Is Parikh Parikh\"\n",
    "index=str.find(\"Par\",16,21)\n",
    "print(index)"
   ]
  },
  {
   "cell_type": "code",
   "execution_count": 30,
   "id": "70a30a98",
   "metadata": {},
   "outputs": [
    {
     "name": "stdout",
     "output_type": "stream",
     "text": [
      "my name is parikh\n",
      "MY NAME IS PARIKH\n"
     ]
    }
   ],
   "source": [
    "str=\"My Name Is Parikh\"\n",
    "str=str.lower()\n",
    "print(str)\n",
    "str=str.upper()\n",
    "print(str)"
   ]
  },
  {
   "cell_type": "code",
   "execution_count": 31,
   "id": "8605818c",
   "metadata": {},
   "outputs": [
    {
     "name": "stdout",
     "output_type": "stream",
     "text": [
      "True\n"
     ]
    }
   ],
   "source": [
    "str=\"My Name Is Parikh\"\n",
    "ans=str.startswith(\"My Na\")\n",
    "print(ans)"
   ]
  },
  {
   "cell_type": "code",
   "execution_count": 32,
   "id": "7aeec86a",
   "metadata": {},
   "outputs": [
    {
     "name": "stdout",
     "output_type": "stream",
     "text": [
      "False\n"
     ]
    }
   ],
   "source": [
    "str=\"My Name Is Parikh\"\n",
    "ans=str.startswith(\"My Nae\")\n",
    "print(ans)"
   ]
  },
  {
   "cell_type": "code",
   "execution_count": 33,
   "id": "5e381d5f",
   "metadata": {},
   "outputs": [
    {
     "name": "stdout",
     "output_type": "stream",
     "text": [
      "False\n"
     ]
    }
   ],
   "source": [
    "str=\"My Name Is Parikh\"\n",
    "ans=str.startswith(\"Pae\",11,25)\n",
    "print(ans)"
   ]
  },
  {
   "cell_type": "code",
   "execution_count": 34,
   "id": "3ddf3cb6",
   "metadata": {},
   "outputs": [
    {
     "name": "stdout",
     "output_type": "stream",
     "text": [
      "True\n"
     ]
    }
   ],
   "source": [
    "str=\"My Name Is Parikh\"\n",
    "ans=str.startswith(\"Pa\",11,25)\n",
    "print(ans)"
   ]
  },
  {
   "cell_type": "code",
   "execution_count": 35,
   "id": "a35e06f5",
   "metadata": {},
   "outputs": [
    {
     "name": "stdout",
     "output_type": "stream",
     "text": [
      "True\n"
     ]
    }
   ],
   "source": [
    "str=\"My Name Is Parikh\"\n",
    "ans=str.endswith(\"ikh\")\n",
    "print(ans)"
   ]
  },
  {
   "cell_type": "markdown",
   "id": "545bb956",
   "metadata": {},
   "source": [
    "## Replacing character in a string"
   ]
  },
  {
   "cell_type": "code",
   "execution_count": 36,
   "id": "bd7ad607",
   "metadata": {},
   "outputs": [
    {
     "name": "stdout",
     "output_type": "stream",
     "text": [
      "fdafdavxz\n"
     ]
    }
   ],
   "source": [
    "def replace(str,char1,char2):\n",
    "    \n",
    "    newStr=\"\"\n",
    "    for char in str:\n",
    "        if(char==char1):\n",
    "            newStr+=char2\n",
    "        else:\n",
    "            newStr+=char\n",
    "    return newStr\n",
    "    \n",
    "str=\"fsafsavxz\"\n",
    "str=replace(str,'s','d')\n",
    "print(str)"
   ]
  },
  {
   "cell_type": "markdown",
   "id": "9a185e76",
   "metadata": {},
   "source": [
    "## Counting vowels,constants,digits and special characters"
   ]
  },
  {
   "cell_type": "code",
   "execution_count": 37,
   "id": "8b5c85ce",
   "metadata": {},
   "outputs": [
    {
     "name": "stdout",
     "output_type": "stream",
     "text": [
      "9 14 10 3\n"
     ]
    }
   ],
   "source": [
    "def countInString(str):\n",
    "    v,c,d,s=0,0,0,0\n",
    "    for char in str:\n",
    "        if((char>='a' and char<='z')or (char>='A' and char<='Z')):\n",
    "            char=char.lower()\n",
    "            if(char=='a' or char=='e' or char=='i' or char=='o' or char=='u'):\n",
    "                v+=1\n",
    "            else:\n",
    "                c+=1\n",
    "        elif(char>='0' and char<='9'):\n",
    "            d+=1\n",
    "        else:\n",
    "            s+=1\n",
    "    return v,c,d,s\n",
    "str='sfsaAFsawurioq2412141dsafd!@ afsa421'\n",
    "type(str[0])\n",
    "v,c,d,s=countInString(str)\n",
    "print(v,c,d,s)"
   ]
  },
  {
   "cell_type": "code",
   "execution_count": 41,
   "id": "d69d6433",
   "metadata": {},
   "outputs": [
    {
     "name": "stdout",
     "output_type": "stream",
     "text": [
      "true\n"
     ]
    }
   ],
   "source": [
    "string1=\"abcdef\"\n",
    "string2=\"efdabc\"\n",
    "if len(string1)!=len(string2):\n",
    "    print(\"false\")\n",
    "else:\n",
    "    for i in string1:\n",
    "        if i not in string2:\n",
    "            print(\"false\")\n",
    "    else:\n",
    "        print(\"true\")"
   ]
  },
  {
   "cell_type": "code",
   "execution_count": 50,
   "id": "b35c719a",
   "metadata": {},
   "outputs": [
    {
     "name": "stdout",
     "output_type": "stream",
     "text": [
      "1\n",
      "x\n",
      "y\n"
     ]
    }
   ],
   "source": [
    "str=\"abbbbcddef\"\n",
    "def char_count(str,ch):\n",
    "    count=0\n",
    "    for i in str:\n",
    "        if i==ch:\n",
    "            count+=1\n",
    "    return count\n",
    "lst=[]\n",
    "for i in str:\n",
    "    if i not in lst:\n",
    "        lst.append(i)\n",
    "chr_count_lst=[]\n",
    "for i in lst:\n",
    "    chr_count_lst.append(char_count(str,i))\n",
    "max_count=max(chr_count_lst)\n",
    "print(max_count)\n",
    "for i in range(len(chr_count_lst)):\n",
    "    if chr_count_lst[i]==max_count:\n",
    "        print(lst[i])"
   ]
  },
  {
   "cell_type": "code",
   "execution_count": 52,
   "id": "6e8dd727",
   "metadata": {},
   "outputs": [
    {
     "data": {
      "text/plain": [
       "4"
      ]
     },
     "execution_count": 52,
     "metadata": {},
     "output_type": "execute_result"
    }
   ],
   "source": [
    "str=\"abbbbcddef\"\n",
    "str.count(\"b\")"
   ]
  },
  {
   "cell_type": "code",
   "execution_count": 53,
   "id": "4f2d68db",
   "metadata": {},
   "outputs": [
    {
     "name": "stdout",
     "output_type": "stream",
     "text": [
      "991\n"
     ]
    }
   ],
   "source": [
    "count=0\n",
    "for i in str:\n",
    "    count+=ord(i)\n",
    "print(count)  "
   ]
  },
  {
   "cell_type": "markdown",
   "id": "af70e8e3",
   "metadata": {},
   "source": [
    "## 2D Arrays/Lists"
   ]
  },
  {
   "cell_type": "markdown",
   "id": "472723d0",
   "metadata": {},
   "source": [
    "### Creating a 2D array"
   ]
  },
  {
   "cell_type": "code",
   "execution_count": 2,
   "id": "fe8bebd7",
   "metadata": {},
   "outputs": [
    {
     "data": {
      "text/plain": [
       "7"
      ]
     },
     "execution_count": 2,
     "metadata": {},
     "output_type": "execute_result"
    }
   ],
   "source": [
    "# arr=[1,2,3,4]\n",
    "matrix=[[1,2,3,4],[1,2,7,10],[3,2,5,6]]\n",
    "matrix[1][2]"
   ]
  },
  {
   "cell_type": "code",
   "execution_count": 3,
   "id": "a5db5bc1",
   "metadata": {},
   "outputs": [],
   "source": [
    "n=4\n",
    "m=3\n",
    "matrix=[[0 for _ in range(m)] for _ in range(n)]"
   ]
  },
  {
   "cell_type": "code",
   "execution_count": 4,
   "id": "652b8170",
   "metadata": {},
   "outputs": [
    {
     "data": {
      "text/plain": [
       "[[0, 0, 0], [0, 0, 0], [0, 0, 0], [0, 0, 0]]"
      ]
     },
     "execution_count": 4,
     "metadata": {},
     "output_type": "execute_result"
    }
   ],
   "source": [
    "matrix"
   ]
  },
  {
   "cell_type": "code",
   "execution_count": 5,
   "id": "fc46d917",
   "metadata": {},
   "outputs": [
    {
     "data": {
      "text/plain": [
       "266"
      ]
     },
     "execution_count": 5,
     "metadata": {},
     "output_type": "execute_result"
    }
   ],
   "source": [
    "60+120+39+47"
   ]
  },
  {
   "cell_type": "markdown",
   "id": "73180689",
   "metadata": {},
   "source": [
    "### Jugged lists and list comprehension"
   ]
  },
  {
   "cell_type": "code",
   "execution_count": 6,
   "id": "3295ae03",
   "metadata": {},
   "outputs": [
    {
     "data": {
      "text/plain": [
       "[[1, 2, 3], [4, 5, 6, 7, 8], [9], [10, 11, 12, 13]]"
      ]
     },
     "execution_count": 6,
     "metadata": {},
     "output_type": "execute_result"
    }
   ],
   "source": [
    "# 3*3 n*n n*m (4*5)\n",
    "#\n",
    "# 0-->3 , 1-->5, 2-->1 , 3-->4\n",
    "matrix=[[1,2,3],[4,5,6,7,8],[9],[10,11,12,13]]\n",
    "matrix"
   ]
  },
  {
   "cell_type": "code",
   "execution_count": null,
   "id": "20696fbe",
   "metadata": {},
   "outputs": [],
   "source": [
    "# [transform(el) for el in anotherarray if condition]"
   ]
  },
  {
   "cell_type": "code",
   "execution_count": 7,
   "id": "005f9835",
   "metadata": {},
   "outputs": [
    {
     "data": {
      "text/plain": [
       "[4, 16, 36]"
      ]
     },
     "execution_count": 7,
     "metadata": {},
     "output_type": "execute_result"
    }
   ],
   "source": [
    "numbers=[1,2,3,4,5,6,7]\n",
    "square_of_even_numbers = [num**2 for num in numbers if num%2==0]\n",
    "square_of_even_numbers"
   ]
  },
  {
   "cell_type": "code",
   "execution_count": 8,
   "id": "ece4d7d6",
   "metadata": {},
   "outputs": [
    {
     "data": {
      "text/plain": [
       "[15, 20]"
      ]
     },
     "execution_count": 8,
     "metadata": {},
     "output_type": "execute_result"
    }
   ],
   "source": [
    "numbers =[5,10,12, 16,22,28]\n",
    "# Add 10 to all the numbers that are divisible by 5 and create a new list\n",
    "new_lst=[nums+10 for nums in numbers if nums%5==0]\n",
    "new_lst"
   ]
  },
  {
   "cell_type": "code",
   "execution_count": 10,
   "id": "7e301a7e",
   "metadata": {},
   "outputs": [
    {
     "name": "stdout",
     "output_type": "stream",
     "text": [
      "[[0, 1, 2, 3, 4, 5], [0, 1, 2, 3, 4, 5], [0, 1, 2, 3, 4, 5], [0, 1, 2, 3, 4, 5]]\n"
     ]
    }
   ],
   "source": [
    "n=4\n",
    "m=6\n",
    "row =[i for i in range(m)]\n",
    "matrix =[row for _ in range(n)]\n",
    "print(matrix)"
   ]
  },
  {
   "cell_type": "code",
   "execution_count": 13,
   "id": "741fcdf7",
   "metadata": {},
   "outputs": [
    {
     "name": "stdout",
     "output_type": "stream",
     "text": [
      "[[0, 0], [0, 0, 0], [0, 0, 0, 0], [0], [0, 0]]\n"
     ]
    }
   ],
   "source": [
    "num_cols=[2,3,4,1,2]\n",
    "matrix=[[0 for _ in range(num_cols[i])] for i in range(len(num_cols))]\n",
    "print(matrix)"
   ]
  },
  {
   "cell_type": "markdown",
   "id": "2f948737",
   "metadata": {},
   "source": []
  }
 ],
 "metadata": {
  "kernelspec": {
   "display_name": "Python 3 (ipykernel)",
   "language": "python",
   "name": "python3"
  },
  "language_info": {
   "codemirror_mode": {
    "name": "ipython",
    "version": 3
   },
   "file_extension": ".py",
   "mimetype": "text/x-python",
   "name": "python",
   "nbconvert_exporter": "python",
   "pygments_lexer": "ipython3",
   "version": "3.9.13"
  }
 },
 "nbformat": 4,
 "nbformat_minor": 5
}
